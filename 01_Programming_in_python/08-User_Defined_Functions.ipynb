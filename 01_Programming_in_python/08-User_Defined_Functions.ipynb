{
  "cells": [
    {
      "cell_type": "markdown",
      "metadata": {
        "id": "view-in-github",
        "colab_type": "text"
      },
      "source": [
        "<a href=\"https://colab.research.google.com/github/jbpost2/ST-554-Big-Data-with-Python/blob/main/01_Programming_in_python/08-User_Defined_Functions.ipynb\" target=\"_parent\"><img src=\"https://colab.research.google.com/assets/colab-badge.svg\" alt=\"Open In Colab\"/></a>"
      ]
    },
    {
      "cell_type": "markdown",
      "source": [
        "# User Defined Functions\n",
        "\n",
        "> Justin Post\n",
        "\n",
        "Quick recap - This course is split into a few topics\n",
        "\n",
        "- Programming in `python`\n",
        "- Dealing with data in `python`\n",
        "- Basics of Predictive Modeling\n",
        "- Big Data Management\n",
        "- Modeling Big Data (with `Spark` via `pyspark`)\n",
        "- Streaming Data\n",
        "\n",
        "We're working through learning how to program in `python`. We've seen\n",
        "- how to program through Google Colab\n",
        "- how to bring in modules\n",
        "- common data types: strings, lists, numeric types (and booleans)\n",
        "\n",
        "We've also seen a bit about how to think about data. Now, we'll focus on improving our programs a bit before we get back to handling data!\n",
        "\n",
        "In order to get the most out of any programming language, we need to understand how to write our own functions. User-Defined functions allow us to streamline our code, simplify large sections of code, and make our code easier to generalize to other situations.\n",
        "\n",
        "Note: These types of webpages are built from Jupyter notebooks (`.ipynb` files). You can access your own versions of them by [clicking here](https://colab.research.google.com/github/jbpost2/ST-554-Big-Data-with-Python/blob/main/01_Programming_in_python/08-User_Defined_Functions.ipynb). **It is highly recommended that you go through and run the notebooks yourself, modifying and rerunning things where you'd like!**\n",
        "\n",
        "---"
      ],
      "metadata": {
        "id": "5E93pmQVaJOd"
      },
      "id": "5E93pmQVaJOd"
    },
    {
      "cell_type": "markdown",
      "source": [
        "## Function Creation Syntax\n",
        "\n",
        "To create our own functions, we just need to\n",
        "\n",
        "- use the keyword `def` and give the function name with arguments\n",
        "- tab in (four spaces) our function body (code that the function runs).\n",
        "- at the top of the function body we usually add a multi-line string (via triple quotes) explaining the function purpose and arguments (called a *doc string*)\n",
        "- we use `return` to return an object"
      ],
      "metadata": {
        "id": "anr_U2Nx8zF5"
      },
      "id": "anr_U2Nx8zF5"
    },
    {
      "cell_type": "markdown",
      "source": [
        "```\n",
        "def function_name(arg1, arg2, arg3 = default_arg3):\n",
        "    \"\"\"\n",
        "    Documentation string\n",
        "    \"\"\"\n",
        "    Function body\n",
        "    return object\n",
        "```"
      ],
      "metadata": {
        "id": "bb27aa7c"
      },
      "id": "bb27aa7c"
    },
    {
      "cell_type": "markdown",
      "id": "b7a7bfc5",
      "metadata": {
        "id": "b7a7bfc5"
      },
      "source": [
        "## Write Our Own Mean Function\n",
        "\n",
        "We discussed common tasks for data. Of course one was simply describing a data set that we have. One way to describe the center of a numeric variable's distribution is through the sample mean.\n",
        "\n",
        "- Given data points labeled as $y_1, y_2, ..., y_n$ ($n$ is the number of observations), the sample mean is\n",
        "\n",
        "$$\\bar{y}=\\frac{1}{n}\\sum_{i=1}^{n}y_i$$\n",
        "\n",
        "Let's write a function to calculate the mean of a `list` of numbers using the `sum()` and `len()` functions.\n"
      ]
    },
    {
      "cell_type": "code",
      "execution_count": null,
      "id": "e83abe21",
      "metadata": {
        "lines_to_next_cell": 2,
        "id": "e83abe21"
      },
      "outputs": [],
      "source": [
        "def find_mean(y):\n",
        "    \"\"\"\n",
        "    Quick function to find the mean of a list\n",
        "    Assumes we have a list with individual numeric type data elements\n",
        "    \"\"\"\n",
        "    return sum(y)/len(y)"
      ]
    },
    {
      "cell_type": "markdown",
      "id": "c821081c",
      "metadata": {
        "id": "c821081c"
      },
      "source": [
        "Now let's apply our function to a `list` of numeric values. We can create a sequence of values using the `range()` function. This function takes two arguments, the starting point and the ending point (which isn't included).\n",
        "\n",
        "`range()` itself is an immutable *iterable* type object. It isn't the values themselves but an object that can be used to create the values. In the case of `range()` it [can be described as a *lazy* list](https://stackoverflow.com/questions/13092267/if-range-is-a-generator-in-python-3-3-why-can-i-not-call-next-on-a-range). We'll discuss iterators more shortly.\n",
        "\n",
        "One way to get the `range()` object to create its values is by running `list()` on it. This tells python to iterate over the `range()` object and produce the numbers."
      ]
    },
    {
      "cell_type": "code",
      "execution_count": null,
      "id": "393334fa",
      "metadata": {
        "lines_to_next_cell": 2,
        "id": "393334fa",
        "outputId": "9ae6d006-1e3b-4cd0-f642-0c5beac527e6",
        "colab": {
          "base_uri": "https://localhost:8080/"
        }
      },
      "outputs": [
        {
          "output_type": "execute_result",
          "data": {
            "text/plain": [
              "range(0, 11)"
            ]
          },
          "metadata": {},
          "execution_count": 2
        }
      ],
      "source": [
        "seq = range(0,11) #same as range(11)\n",
        "seq #doesn't show values"
      ]
    },
    {
      "cell_type": "code",
      "source": [
        "list(seq)"
      ],
      "metadata": {
        "id": "sLtljCqD-7uc",
        "outputId": "810132da-a304-473c-f448-243a60c3e0a9",
        "colab": {
          "base_uri": "https://localhost:8080/"
        }
      },
      "id": "sLtljCqD-7uc",
      "execution_count": null,
      "outputs": [
        {
          "output_type": "execute_result",
          "data": {
            "text/plain": [
              "[0, 1, 2, 3, 4, 5, 6, 7, 8, 9, 10]"
            ]
          },
          "metadata": {},
          "execution_count": 3
        }
      ]
    },
    {
      "cell_type": "code",
      "source": [
        "find_mean(list(seq))"
      ],
      "metadata": {
        "id": "YEDAWUkFAL4y",
        "outputId": "852672cf-becf-4271-c8e8-3284b8f2f0d8",
        "colab": {
          "base_uri": "https://localhost:8080/"
        }
      },
      "id": "YEDAWUkFAL4y",
      "execution_count": null,
      "outputs": [
        {
          "output_type": "execute_result",
          "data": {
            "text/plain": [
              "5.0"
            ]
          },
          "metadata": {},
          "execution_count": 4
        }
      ]
    },
    {
      "cell_type": "markdown",
      "source": [
        "Iterators (and iterator type objects) are often used to save memory as you often don't need the entire sequence, but do want to use them in some kind of order.\n",
        "\n",
        "By iterating across the elements and not saving the entire object, we can save memory. We only need to know where we are on the iteration and how the iteration should be done!"
      ],
      "metadata": {
        "id": "876gEwbZ_ioD"
      },
      "id": "876gEwbZ_ioD"
    },
    {
      "cell_type": "markdown",
      "id": "38813607",
      "metadata": {
        "id": "38813607"
      },
      "source": [
        "---\n",
        "\n",
        "## Add a Default Argument\n",
        "\n",
        "Often we want to give default arguments to our function. That is, arguments that are used unless the user specifies something else.\n",
        "\n",
        "- Suppose we want to add in a **trimmed mean** functionality\n",
        "- This is a mean where we first remove the smallest p% of values and the largest p% of values. We then take the mean of the remaining numbers.\n",
        "- A trimmed mean is more **robust** to outliers. For instance,"
      ]
    },
    {
      "cell_type": "code",
      "source": [
        "find_mean([1,2,3,4,5,100]) #the mean is greatly affected by the large value"
      ],
      "metadata": {
        "id": "Nq6aDj-R-7C8",
        "outputId": "17131054-5be9-4f82-f34d-3917968ec40f",
        "colab": {
          "base_uri": "https://localhost:8080/"
        }
      },
      "id": "Nq6aDj-R-7C8",
      "execution_count": null,
      "outputs": [
        {
          "output_type": "execute_result",
          "data": {
            "text/plain": [
              "19.166666666666668"
            ]
          },
          "metadata": {},
          "execution_count": 5
        }
      ]
    },
    {
      "cell_type": "code",
      "source": [
        "find_mean([1,2,3,4,5]) #remove the large value to get a better idea about 'most' of the data values"
      ],
      "metadata": {
        "id": "wYJFC06Y-6lt",
        "outputId": "764d44c5-2aec-4136-dae5-d95d2839b4b0",
        "colab": {
          "base_uri": "https://localhost:8080/"
        }
      },
      "id": "wYJFC06Y-6lt",
      "execution_count": null,
      "outputs": [
        {
          "output_type": "execute_result",
          "data": {
            "text/plain": [
              "3.0"
            ]
          },
          "metadata": {},
          "execution_count": 6
        }
      ]
    },
    {
      "cell_type": "markdown",
      "source": [
        "To create a trimmed mean function (or option at least), we need to do the following:\n",
        "\n",
        "- Sort the observations\n",
        "- Remove the lowest p% and highest p%\n",
        "- Find mean on the remaining values\n"
      ],
      "metadata": {
        "id": "j0WuJVffA0EI"
      },
      "id": "j0WuJVffA0EI"
    },
    {
      "cell_type": "code",
      "execution_count": null,
      "id": "509b168c",
      "metadata": {
        "id": "509b168c",
        "outputId": "3f1f4d52-c614-465c-babc-a3cd61f6f563",
        "colab": {
          "base_uri": "https://localhost:8080/"
        }
      },
      "outputs": [
        {
          "output_type": "execute_result",
          "data": {
            "text/plain": [
              "[0.345584192064786,\n",
              " 0.8216181435011584,\n",
              " 0.33043707618338714,\n",
              " -1.303157231604361,\n",
              " 0.9053558666731177,\n",
              " 0.4463745723640113,\n",
              " -0.5369532353602852,\n",
              " 0.5811181041963531,\n",
              " 0.36457239618607573,\n",
              " 0.294132496655526]"
            ]
          },
          "metadata": {},
          "execution_count": 7
        }
      ],
      "source": [
        "#can pull in the floor and sqrt functions from math to help us out\n",
        "from math import floor, sqrt\n",
        "#generate 50 random values from the standard normal distribution (covered shortly)\n",
        "import numpy as np\n",
        "y = np.random.default_rng(1).standard_normal(50)\n",
        "#convert to a list just so we are working with an object we've studied\n",
        "y = list(y)\n",
        "y[0:10]"
      ]
    },
    {
      "cell_type": "markdown",
      "id": "95f70e69",
      "metadata": {
        "id": "95f70e69"
      },
      "source": [
        "Note that lists have a `.sort()` method but this modifies the list in place. Instead we can use the `sorted()` function which returns a new sorted version of the list."
      ]
    },
    {
      "cell_type": "code",
      "execution_count": null,
      "id": "eb2af224",
      "metadata": {
        "lines_to_next_cell": 2,
        "id": "eb2af224",
        "outputId": "34482bcc-edc3-404a-f8b7-f913ec49b1bd",
        "colab": {
          "base_uri": "https://localhost:8080/"
        }
      },
      "outputs": [
        {
          "output_type": "stream",
          "name": "stdout",
          "text": [
            "[-2.7111624789659685, -1.8890132459676727, -1.6480751708556527, -1.303157231604361, -1.2273520542445742, -1.1120207626922813, -0.9447516230607774, -0.7819084623568421, -0.7364540870016669, -0.6832266617805622]\n"
          ]
        }
      ],
      "source": [
        "sort_y = sorted(y)\n",
        "print(sort_y[0:10])"
      ]
    },
    {
      "cell_type": "markdown",
      "source": [
        "Now, given a value of p, we can remove the lowest and high p% of values. We can do this with the `floor()` function. This gives us the largest interger below a given value."
      ],
      "metadata": {
        "id": "JACNnUTKCCPr"
      },
      "id": "JACNnUTKCCPr"
    },
    {
      "cell_type": "code",
      "source": [
        "print(floor(4))\n",
        "print(floor(4.2))\n",
        "print(floor(4.9))"
      ],
      "metadata": {
        "id": "g-ATQJSkChz8",
        "outputId": "69b9b98f-a767-43a2-f53c-8705a75ff27d",
        "colab": {
          "base_uri": "https://localhost:8080/"
        }
      },
      "id": "g-ATQJSkChz8",
      "execution_count": null,
      "outputs": [
        {
          "output_type": "stream",
          "name": "stdout",
          "text": [
            "4\n",
            "4\n",
            "4\n"
          ]
        }
      ]
    },
    {
      "cell_type": "markdown",
      "source": [
        "Given a p (for proportion) we can determine the number of observations corresponding to that proportion using the length of `y`."
      ],
      "metadata": {
        "id": "XUvjYNhzCjDj"
      },
      "id": "XUvjYNhzCjDj"
    },
    {
      "cell_type": "code",
      "execution_count": null,
      "id": "1c800c3c",
      "metadata": {
        "id": "1c800c3c",
        "outputId": "460e9bb7-6d26-4571-fa1e-296c0ba13a99",
        "colab": {
          "base_uri": "https://localhost:8080/"
        }
      },
      "outputs": [
        {
          "output_type": "stream",
          "name": "stdout",
          "text": [
            "5.5\n"
          ]
        },
        {
          "output_type": "execute_result",
          "data": {
            "text/plain": [
              "5"
            ]
          },
          "metadata": {},
          "execution_count": 11
        }
      ],
      "source": [
        "p = 0.11\n",
        "print(p*len(sort_y))\n",
        "to_remove = floor(p*len(sort_y))\n",
        "to_remove"
      ]
    },
    {
      "cell_type": "markdown",
      "id": "cf06aec0",
      "metadata": {
        "lines_to_next_cell": 0,
        "id": "cf06aec0"
      },
      "source": [
        "We can remove observations by simply subsetting our list using the `:` operator we studied (slicing). Remember that this operator doesn't include the **last** value. (i.e. `2:5` gives the `2`, `3`, and `4` values)"
      ]
    },
    {
      "cell_type": "code",
      "execution_count": null,
      "id": "556a600d",
      "metadata": {
        "lines_to_next_cell": 2,
        "id": "556a600d",
        "outputId": "c1d28506-ef62-45fe-bc9d-6247648d1178",
        "colab": {
          "base_uri": "https://localhost:8080/"
        }
      },
      "outputs": [
        {
          "output_type": "stream",
          "name": "stdout",
          "text": [
            "[5, 45]\n"
          ]
        }
      ],
      "source": [
        "print([to_remove, len(sort_y)-to_remove])#values we want to keep are between these"
      ]
    },
    {
      "cell_type": "markdown",
      "source": [
        "- Remember, counting starts at 0\n",
        "- We want the remove the first 5 values so we should start with the 5th index (the 6th actual value!)\n",
        "- With a length 50 list, we want to remove the 46-50th elements which correspond to the 45-49 indices\n",
        "- Since we don't include our last index, we can end on 45"
      ],
      "metadata": {
        "id": "4s_8GnF4LxZx"
      },
      "id": "4s_8GnF4LxZx"
    },
    {
      "cell_type": "code",
      "source": [
        "#elements we want for a 11% trimmed mean\n",
        "sort_y[to_remove:(len(sort_y)-to_remove)]"
      ],
      "metadata": {
        "id": "qE_F12_rL5Q3",
        "outputId": "cbb2ba74-3c10-4784-c278-26f78a217a15",
        "colab": {
          "base_uri": "https://localhost:8080/"
        }
      },
      "id": "qE_F12_rL5Q3",
      "execution_count": null,
      "outputs": [
        {
          "output_type": "execute_result",
          "data": {
            "text/plain": [
              "[-1.1120207626922813,\n",
              " -0.9447516230607774,\n",
              " -0.7819084623568421,\n",
              " -0.7364540870016669,\n",
              " -0.6832266617805622,\n",
              " -0.5369532353602852,\n",
              " -0.5140063716874629,\n",
              " -0.5062916583143148,\n",
              " -0.48211931267997826,\n",
              " -0.42219041157635356,\n",
              " -0.37760500712699807,\n",
              " -0.2924567509650886,\n",
              " -0.2756029052993704,\n",
              " -0.2571922406188707,\n",
              " -0.17477209205516195,\n",
              " -0.16290994799305278,\n",
              " -0.09826996785221727,\n",
              " -0.07204367972722743,\n",
              " 0.008142180518343508,\n",
              " 0.02842224131579679,\n",
              " 0.03558623705548571,\n",
              " 0.03972210748165899,\n",
              " 0.09548302746945433,\n",
              " 0.10901408782154753,\n",
              " 0.16746474422274113,\n",
              " 0.2136429974986111,\n",
              " 0.21732193102256359,\n",
              " 0.294132496655526,\n",
              " 0.33043707618338714,\n",
              " 0.345584192064786,\n",
              " 0.36457239618607573,\n",
              " 0.4463745723640113,\n",
              " 0.5467129866124469,\n",
              " 0.5811181041963531,\n",
              " 0.5937480717858228,\n",
              " 0.5988462126346276,\n",
              " 0.6467029962018469,\n",
              " 0.6630633723762617,\n",
              " 0.8216181435011584,\n",
              " 0.8911669542823284]"
            ]
          },
          "metadata": {},
          "execution_count": 13
        }
      ]
    },
    {
      "cell_type": "markdown",
      "id": "49618f24",
      "metadata": {
        "id": "49618f24"
      },
      "source": [
        "### Modify the function arguments\n",
        "\n",
        "Now that we have the process down (this is a good way to write functions by the way, write them outside of a function first and then put the pieces into the function), we can add our arguments/calculations.\n",
        "\n",
        "We'll add a\n",
        "- `method =` argument with a default value of `None`. `None` is a special name that defines no value in `python`\n",
        "    + If this argument takes on `Trim`, we'll do a trimmed mean.\n",
        "    + This can be done using `if Boolean:` with the resulting code to execute tabbed in four spaces (covered shortly!)\n",
        "- a `p =` argument to specify the proportion to remove with a default value set to 0.\n"
      ]
    },
    {
      "cell_type": "code",
      "execution_count": null,
      "id": "28d27010",
      "metadata": {
        "id": "28d27010"
      },
      "outputs": [],
      "source": [
        "def find_mean(y, method = None, p = 0):\n",
        "    \"\"\"\n",
        "    Quick function to find the mean\n",
        "    Assumes we have a list with only numeric type data\n",
        "    If method is set to Trim, will remove outer most p values off the data\n",
        "    before finding the mean\n",
        "    \"\"\"\n",
        "    if method == \"Trim\": #we'll cover if shortly! The indented code only runs if this condition is met\n",
        "      sort_y = sorted(y)\n",
        "      to_remove = floor(p*len(sort_y))\n",
        "      y = sort_y[to_remove:(len(sort_y)-to_remove)] #replace y with the modified version\n",
        "    return sum(y)/len(y)"
      ]
    },
    {
      "cell_type": "markdown",
      "id": "c6cc298d",
      "metadata": {
        "id": "c6cc298d"
      },
      "source": [
        "Let's test the function!"
      ]
    },
    {
      "cell_type": "code",
      "source": [
        "find_mean(y, method = \"Trim\", p = 0) #usual mean"
      ],
      "metadata": {
        "id": "3A3SGZspEd2o",
        "outputId": "f39b7417-0c72-413e-ce55-24e90d135d32",
        "colab": {
          "base_uri": "https://localhost:8080/"
        }
      },
      "id": "3A3SGZspEd2o",
      "execution_count": null,
      "outputs": [
        {
          "output_type": "execute_result",
          "data": {
            "text/plain": [
              "-0.03607807742830818"
            ]
          },
          "metadata": {},
          "execution_count": 15
        }
      ]
    },
    {
      "cell_type": "code",
      "source": [
        "find_mean(y, method = \"Trim\", p = 0.05) #5% trimmed mean"
      ],
      "metadata": {
        "id": "hTdHKb0FEzUG",
        "outputId": "db002812-eae9-47f1-c1a7-07d8cc773e93",
        "colab": {
          "base_uri": "https://localhost:8080/"
        }
      },
      "id": "hTdHKb0FEzUG",
      "execution_count": null,
      "outputs": [
        {
          "output_type": "execute_result",
          "data": {
            "text/plain": [
              "-0.029659532804894563"
            ]
          },
          "metadata": {},
          "execution_count": 16
        }
      ]
    },
    {
      "cell_type": "code",
      "source": [
        "find_mean(y, method = \"trim\", p = 0.05) #usual mean not trimmed if method is not set correctly"
      ],
      "metadata": {
        "id": "h_Ri3pEpEsdY",
        "outputId": "2c9005f5-1efb-4f16-e067-c8822572266e",
        "colab": {
          "base_uri": "https://localhost:8080/"
        }
      },
      "id": "h_Ri3pEpEsdY",
      "execution_count": null,
      "outputs": [
        {
          "output_type": "execute_result",
          "data": {
            "text/plain": [
              "-0.03607807742830817"
            ]
          },
          "metadata": {},
          "execution_count": 18
        }
      ]
    },
    {
      "cell_type": "markdown",
      "id": "be5e0d67",
      "metadata": {
        "id": "be5e0d67"
      },
      "source": [
        "---\n",
        "\n",
        "## Positional vs Named Arguments\n",
        "\n",
        "- A function can be called using positional or named args"
      ]
    },
    {
      "cell_type": "code",
      "execution_count": null,
      "id": "d4e0b529",
      "metadata": {
        "id": "d4e0b529",
        "outputId": "0cb835d4-0642-4a59-8313-710e02b48e46",
        "colab": {
          "base_uri": "https://localhost:8080/"
        }
      },
      "outputs": [
        {
          "output_type": "stream",
          "name": "stdout",
          "text": [
            "-0.03607807742830817\n",
            "-0.009797451217442077\n",
            "-0.009797451217442077\n"
          ]
        }
      ],
      "source": [
        "#def find_mean(y, method = None, p = 0):\n",
        "print(find_mean(y, None))\n",
        "print(find_mean(method = \"Trim\", p = 0.1, y = y))\n",
        "print(find_mean(y, \"Trim\", 0.1))"
      ]
    },
    {
      "cell_type": "markdown",
      "id": "bd14b3c4",
      "metadata": {
        "id": "bd14b3c4"
      },
      "source": [
        "- You can't place positional args after a keyword though!"
      ]
    },
    {
      "cell_type": "code",
      "execution_count": null,
      "id": "b1cc77d7",
      "metadata": {
        "eval": false,
        "lines_to_next_cell": 0,
        "id": "b1cc77d7",
        "outputId": "bcf9353b-1646-41fb-dcc3-56d7b31d587c",
        "colab": {
          "base_uri": "https://localhost:8080/",
          "height": 126
        }
      },
      "outputs": [
        {
          "output_type": "error",
          "ename": "SyntaxError",
          "evalue": "positional argument follows keyword argument (<ipython-input-20-39dc4eceb262>, line 1)",
          "traceback": [
            "\u001b[0;36m  File \u001b[0;32m\"<ipython-input-20-39dc4eceb262>\"\u001b[0;36m, line \u001b[0;32m1\u001b[0m\n\u001b[0;31m    find_mean(y = x, \"Trim\")\u001b[0m\n\u001b[0m                           ^\u001b[0m\n\u001b[0;31mSyntaxError\u001b[0m\u001b[0;31m:\u001b[0m positional argument follows keyword argument\n"
          ]
        }
      ],
      "source": [
        "find_mean(y = x, \"Trim\") #throws an error"
      ]
    },
    {
      "cell_type": "markdown",
      "id": "a7d0067f",
      "metadata": {
        "id": "a7d0067f"
      },
      "source": [
        "## Defining the Type of Argument\n",
        "\n",
        "- A function definition may look like:\n",
        "```\n",
        "def f(pos1, pos2, /, pos_or_kwd, *, kwd1, kwd2):\n",
        "           -----------    ----------     ----------\n",
        "           |              |                  |\n",
        "           |         Positional or keyword   |\n",
        "           |                                 - Keyword only\n",
        "           -- Positional only\n",
        "```"
      ]
    },
    {
      "cell_type": "code",
      "execution_count": null,
      "id": "e5e5f87b",
      "metadata": {
        "eval": false,
        "lines_to_next_cell": 2,
        "id": "e5e5f87b"
      },
      "outputs": [],
      "source": [
        "def print_it(x, y, /):\n",
        "    print(\"Must pass x and y positionally!\" + x + y)\n",
        "\n",
        "def print_it(x, /, y):\n",
        "    print(\"x must be passed positionally.  y can be positional or named\" + x + y)\n",
        "\n",
        "def print_it(x, /, y, *, z):\n",
        "    print(\"Now z must be passed as a named argument\" + x + y + z)"
      ]
    },
    {
      "cell_type": "markdown",
      "source": [
        "Let's modify our mean function and show this."
      ],
      "metadata": {
        "id": "EqdrMDIgFvKj"
      },
      "id": "EqdrMDIgFvKj"
    },
    {
      "cell_type": "code",
      "source": [
        "#with this, y must be passes positionally!\n",
        "def find_mean(y, /, method = None, p = 0):\n",
        "    \"\"\"\n",
        "    Quick function to find the mean\n",
        "    Assumes we have a list with only numeric type data\n",
        "    If method is set to Trim, will remove outer most p values off the data\n",
        "    before finding the mean\n",
        "    \"\"\"\n",
        "    if method == \"Trim\": #we'll cover if shortly! The indented code only runs if this condition is met\n",
        "      sort_y = sorted(y)\n",
        "      to_remove = floor(p*len(sort_y))\n",
        "      y = sort_y[to_remove:(len(sort_y)-to_remove)] #replace y with the modified version\n",
        "    return sum(y)/len(y)"
      ],
      "metadata": {
        "id": "oSvagJuyFzN1"
      },
      "id": "oSvagJuyFzN1",
      "execution_count": null,
      "outputs": []
    },
    {
      "cell_type": "code",
      "source": [
        "find_mean(y, \"Trim\", p = 0.1)"
      ],
      "metadata": {
        "id": "Qzy_Cmh9F5dU",
        "outputId": "85854e1c-6bd6-4aaf-880a-2aacf4f3d4c2",
        "colab": {
          "base_uri": "https://localhost:8080/"
        }
      },
      "id": "Qzy_Cmh9F5dU",
      "execution_count": null,
      "outputs": [
        {
          "output_type": "execute_result",
          "data": {
            "text/plain": [
              "-0.009797451217442077"
            ]
          },
          "metadata": {},
          "execution_count": 23
        }
      ]
    },
    {
      "cell_type": "code",
      "source": [
        "find_mean(y = y, method = \"Trim\", p = 0.1) #this won't work!"
      ],
      "metadata": {
        "id": "A2hl5vN7F-30",
        "outputId": "83e7a772-9281-474d-c062-d17b9854b36e",
        "colab": {
          "base_uri": "https://localhost:8080/",
          "height": 161
        }
      },
      "id": "A2hl5vN7F-30",
      "execution_count": null,
      "outputs": [
        {
          "output_type": "error",
          "ename": "TypeError",
          "evalue": "find_mean() got some positional-only arguments passed as keyword arguments: 'y'",
          "traceback": [
            "\u001b[0;31m---------------------------------------------------------------------------\u001b[0m",
            "\u001b[0;31mTypeError\u001b[0m                                 Traceback (most recent call last)",
            "\u001b[0;32m<ipython-input-24-665a7ded1b54>\u001b[0m in \u001b[0;36m<cell line: 1>\u001b[0;34m()\u001b[0m\n\u001b[0;32m----> 1\u001b[0;31m \u001b[0mfind_mean\u001b[0m\u001b[0;34m(\u001b[0m\u001b[0my\u001b[0m \u001b[0;34m=\u001b[0m \u001b[0my\u001b[0m\u001b[0;34m,\u001b[0m \u001b[0mmethod\u001b[0m \u001b[0;34m=\u001b[0m \u001b[0;34m\"Trim\"\u001b[0m\u001b[0;34m,\u001b[0m \u001b[0mp\u001b[0m \u001b[0;34m=\u001b[0m \u001b[0;36m0.1\u001b[0m\u001b[0;34m)\u001b[0m \u001b[0;31m#this won't work!\u001b[0m\u001b[0;34m\u001b[0m\u001b[0;34m\u001b[0m\u001b[0m\n\u001b[0m",
            "\u001b[0;31mTypeError\u001b[0m: find_mean() got some positional-only arguments passed as keyword arguments: 'y'"
          ]
        }
      ]
    },
    {
      "cell_type": "markdown",
      "id": "98bfddde",
      "metadata": {
        "id": "98bfddde"
      },
      "source": [
        "---\n",
        "\n",
        "## Write Our Own Correlation Function\n",
        "\n",
        "Just to demonstrate something more complicated, let's write our own function to compute the (usual) sample correlation between two variables, call them `x` and `y`.\n",
        "\n",
        "- Pearson's correlation:\n",
        "\n",
        "$$r = \\frac{\\sum_{i=1}^{n}(x_i-\\bar{x})(y_i-\\bar{y})}{\\sqrt{\\sum_{i=1}^n(x_i-\\bar{x})^2\\sum_{i=1}^{n}(y_i-\\bar{y})^2}}$$\n",
        "\n",
        "where\n",
        "- $(x_i, y_i)$ are numeric variables observed on the same $n$ units, $i=1,...,n$\n",
        "\n",
        "### Plan\n",
        "\n",
        "Function inputs:\n",
        "- $x$, $y$, **lists** with numeric entries only\n",
        "\n",
        "Function body:\n",
        "- Find sample means for $x$ and $y$\n",
        "- Compute numerator sum and denominator sums\n",
        "- Find quotient and return that value\n"
      ]
    },
    {
      "cell_type": "markdown",
      "id": "685163f0",
      "metadata": {
        "id": "685163f0"
      },
      "source": [
        "#### Finding Means\n",
        "\n",
        "Let's create some example data. $x$ and $y$ won't be related here so the sample correlation shoudl be near 0!"
      ]
    },
    {
      "cell_type": "code",
      "execution_count": null,
      "id": "eabd1726",
      "metadata": {
        "id": "eabd1726",
        "outputId": "693e526f-eee0-46f9-c929-b2b9ab64ab96",
        "colab": {
          "base_uri": "https://localhost:8080/"
        }
      },
      "outputs": [
        {
          "output_type": "stream",
          "name": "stdout",
          "text": [
            "[2, 3, 4, 5, 6, 7, 8, 9, 10]\n"
          ]
        },
        {
          "output_type": "execute_result",
          "data": {
            "text/plain": [
              "25.5"
            ]
          },
          "metadata": {},
          "execution_count": 25
        }
      ],
      "source": [
        "x = list(range(1,51))\n",
        "print(x[1:10])\n",
        "xbar = find_mean(x)\n",
        "xbar"
      ]
    },
    {
      "cell_type": "code",
      "execution_count": null,
      "id": "53cabf06",
      "metadata": {
        "lines_to_next_cell": 2,
        "id": "53cabf06",
        "outputId": "d80c4535-16ac-4070-e1b0-e311cd201342",
        "colab": {
          "base_uri": "https://localhost:8080/"
        }
      },
      "outputs": [
        {
          "output_type": "stream",
          "name": "stdout",
          "text": [
            "[0.8216181435011584, 0.33043707618338714, -1.303157231604361, 0.9053558666731177, 0.4463745723640113, -0.5369532353602852, 0.5811181041963531, 0.36457239618607573, 0.294132496655526]\n"
          ]
        },
        {
          "output_type": "execute_result",
          "data": {
            "text/plain": [
              "-0.03607807742830817"
            ]
          },
          "metadata": {},
          "execution_count": 26
        }
      ],
      "source": [
        "#use same y as before\n",
        "y = list(np.random.default_rng(1).standard_normal(50))\n",
        "print(y[1:10])\n",
        "ybar = find_mean(y)\n",
        "ybar"
      ]
    },
    {
      "cell_type": "markdown",
      "source": [
        "Agiain, these two vectors are not related and should have a near 0 correlation!\n",
        "\n",
        "Next, we need to find the numerator and denominator sums. Finding the sums will be easier once we learn arrays, but for now we'll peak at a `for` loop and the `zip()` function.\n",
        "\n",
        "Let's start with computation of\n",
        "$$\\sum_{i=1}^n(x_i-\\bar{x})^2$$\n"
      ],
      "metadata": {
        "id": "YDwA1D6XG3Ny"
      },
      "id": "YDwA1D6XG3Ny"
    },
    {
      "cell_type": "code",
      "execution_count": null,
      "id": "d99f4bd8",
      "metadata": {
        "lines_to_next_cell": 2,
        "id": "d99f4bd8",
        "outputId": "62e22d9f-8242-4555-a4e5-e86367b9df43",
        "colab": {
          "base_uri": "https://localhost:8080/"
        }
      },
      "outputs": [
        {
          "output_type": "execute_result",
          "data": {
            "text/plain": [
              "600.25"
            ]
          },
          "metadata": {},
          "execution_count": 27
        }
      ],
      "source": [
        "#computation in one of our sums (we want this across all 50 values, then added up)\n",
        "(x[0]-xbar)**2"
      ]
    },
    {
      "cell_type": "markdown",
      "source": [
        "So really we want to find all of these values:\n",
        "```\n",
        "(x[0]-xbar)**2\n",
        "(x[1]-xbar)**2\n",
        "...\n",
        "(x[49]-xbar)**2\n",
        "```\n",
        "We can use `for` to iterate over the values of 0, 1, ..., 49. Similar to function definitions and `if` statements, we just tab in (four spaces) the code to be executed at each iteration of the for loop."
      ],
      "metadata": {
        "id": "nbmSaFb0HnBH"
      },
      "id": "nbmSaFb0HnBH"
    },
    {
      "cell_type": "code",
      "source": [
        "#initialize a value to store the sum in\n",
        "den_x = 0\n",
        "#use a for loop to iterate across values (studies more later!)\n",
        "for i in x:\n",
        "    den_x += (i-xbar)**2\n",
        "den_x"
      ],
      "metadata": {
        "id": "jFHhCM1iHKCZ",
        "outputId": "94287de4-8359-42ed-ffa7-c8acf4af2f00",
        "colab": {
          "base_uri": "https://localhost:8080/"
        }
      },
      "id": "jFHhCM1iHKCZ",
      "execution_count": null,
      "outputs": [
        {
          "output_type": "execute_result",
          "data": {
            "text/plain": [
              "10412.5"
            ]
          },
          "metadata": {},
          "execution_count": 28
        }
      ]
    },
    {
      "cell_type": "markdown",
      "source": [
        "We can very easily get a similar computation for $y$'s portion of the denominator.\n",
        "\n",
        "To get the numerator, that's a bit more work. We really need to find\n",
        "```\n",
        "(x[0]-xbar)(y[0]-ybar)\n",
        "(x[1]-xbar)(y[1]-ybar)\n",
        "...\n",
        "(x[49]-xbar)(y[49]-ybar)\n",
        "```\n",
        "\n",
        "We can `zip()` the $x$ and $y$ lists together. This essentially just pairs the 0th elements, the 1st elements, etc.  Then we can iterate over the values together."
      ],
      "metadata": {
        "id": "hZXEQw3WIXsO"
      },
      "id": "hZXEQw3WIXsO"
    },
    {
      "cell_type": "code",
      "source": [
        "num = 0\n",
        "for i, j in zip(x, y): #i corresponds to the x elements and j the y elements\n",
        "    num += (i-xbar)*(j-ybar)\n",
        "num"
      ],
      "metadata": {
        "id": "d4Sj3iPPIzQG",
        "outputId": "c5c30dc9-6214-4e97-bf1e-44e6b8cd8cc4",
        "colab": {
          "base_uri": "https://localhost:8080/"
        }
      },
      "id": "d4Sj3iPPIzQG",
      "execution_count": null,
      "outputs": [
        {
          "output_type": "execute_result",
          "data": {
            "text/plain": [
              "-51.69981003655184"
            ]
          },
          "metadata": {},
          "execution_count": 29
        }
      ]
    },
    {
      "cell_type": "markdown",
      "id": "0a9abdfc",
      "metadata": {
        "id": "0a9abdfc"
      },
      "source": [
        "Ok, now we are ready to put these together and calculate our correlation!\n"
      ]
    },
    {
      "cell_type": "code",
      "execution_count": null,
      "id": "8dcd746b",
      "metadata": {
        "lines_to_next_cell": 2,
        "id": "8dcd746b"
      },
      "outputs": [],
      "source": [
        "def find_corr(x, y):\n",
        "    \"\"\"\n",
        "    Compute Pearson's Correlation Coefficient\n",
        "    x and y are assumed to be lists with numeric values\n",
        "    Data is assumed to have no missing values\n",
        "    \"\"\"\n",
        "    xbar = find_mean(x)\n",
        "    ybar = find_mean(y)\n",
        "    num = 0\n",
        "    den_x = 0\n",
        "    den_y = 0\n",
        "    for i, j in zip(x, y):\n",
        "        num +=(i-xbar)*(j-ybar)\n",
        "        den_x +=(i-xbar)**2\n",
        "        den_y +=(j-ybar)**2\n",
        "    return num/sqrt(den_x*den_y)"
      ]
    },
    {
      "cell_type": "markdown",
      "id": "a7ffa7d0",
      "metadata": {
        "id": "a7ffa7d0"
      },
      "source": [
        "Let's test our function on our data!"
      ]
    },
    {
      "cell_type": "code",
      "execution_count": null,
      "id": "2ff6ce99",
      "metadata": {
        "lines_to_next_cell": 2,
        "id": "2ff6ce99",
        "outputId": "ff136843-4575-4be0-d6ed-d1ac565f4e00",
        "colab": {
          "base_uri": "https://localhost:8080/"
        }
      },
      "outputs": [
        {
          "output_type": "execute_result",
          "data": {
            "text/plain": [
              "-0.0813179110596017"
            ]
          },
          "metadata": {},
          "execution_count": 31
        }
      ],
      "source": [
        "find_corr(x, y) #near 0!"
      ]
    },
    {
      "cell_type": "markdown",
      "source": [
        "Note that all functions with a doc string have a `.__doc__` **attribute** that you can look at to understand that function (assuming the doc string is useful!)."
      ],
      "metadata": {
        "id": "bI68FCMqJULN"
      },
      "id": "bI68FCMqJULN"
    },
    {
      "cell_type": "code",
      "source": [
        "print(find_corr.__doc__)"
      ],
      "metadata": {
        "id": "L9WmUgl1JdPU",
        "outputId": "ec59f08c-d454-473e-a1ad-3cf350cf798c",
        "colab": {
          "base_uri": "https://localhost:8080/"
        }
      },
      "id": "L9WmUgl1JdPU",
      "execution_count": null,
      "outputs": [
        {
          "output_type": "stream",
          "name": "stdout",
          "text": [
            "\n",
            "    Compute Pearson's Correlation Coefficient\n",
            "    x and y are assumed to be lists with numeric values\n",
            "    Data is assumed to have no missing values\n",
            "    \n"
          ]
        }
      ]
    },
    {
      "cell_type": "code",
      "source": [
        "print(len.__doc__) #another example on a common function"
      ],
      "metadata": {
        "id": "kvQNp6W_Jd_8",
        "outputId": "463d79a5-59dd-49e1-9fcf-abbedafa31e9",
        "colab": {
          "base_uri": "https://localhost:8080/"
        }
      },
      "id": "kvQNp6W_Jd_8",
      "execution_count": null,
      "outputs": [
        {
          "output_type": "stream",
          "name": "stdout",
          "text": [
            "Return the number of items in a container.\n"
          ]
        }
      ]
    },
    {
      "cell_type": "code",
      "source": [
        "print(np.random.default_rng.__doc__) #another example"
      ],
      "metadata": {
        "id": "rex_HZMEJk2l",
        "outputId": "42dbd349-2214-42d6-953f-5962fecfe0d4",
        "colab": {
          "base_uri": "https://localhost:8080/"
        }
      },
      "id": "rex_HZMEJk2l",
      "execution_count": null,
      "outputs": [
        {
          "output_type": "stream",
          "name": "stdout",
          "text": [
            "default_rng(seed=None)\n",
            "Construct a new Generator with the default BitGenerator (PCG64).\n",
            "\n",
            "    Parameters\n",
            "    ----------\n",
            "    seed : {None, int, array_like[ints], SeedSequence, BitGenerator, Generator}, optional\n",
            "        A seed to initialize the `BitGenerator`. If None, then fresh,\n",
            "        unpredictable entropy will be pulled from the OS. If an ``int`` or\n",
            "        ``array_like[ints]`` is passed, then it will be passed to\n",
            "        `SeedSequence` to derive the initial `BitGenerator` state. One may also\n",
            "        pass in a `SeedSequence` instance.\n",
            "        Additionally, when passed a `BitGenerator`, it will be wrapped by\n",
            "        `Generator`. If passed a `Generator`, it will be returned unaltered.\n",
            "\n",
            "    Returns\n",
            "    -------\n",
            "    Generator\n",
            "        The initialized generator object.\n",
            "\n",
            "    Notes\n",
            "    -----\n",
            "    If ``seed`` is not a `BitGenerator` or a `Generator`, a new `BitGenerator`\n",
            "    is instantiated. This function does not manage a default global instance.\n",
            "\n",
            "    See :ref:`seeding_and_entropy` for more information about seeding.\n",
            "    \n",
            "    Examples\n",
            "    --------\n",
            "    ``default_rng`` is the recommended constructor for the random number class\n",
            "    ``Generator``. Here are several ways we can construct a random \n",
            "    number generator using ``default_rng`` and the ``Generator`` class. \n",
            "    \n",
            "    Here we use ``default_rng`` to generate a random float:\n",
            " \n",
            "    >>> import numpy as np\n",
            "    >>> rng = np.random.default_rng(12345)\n",
            "    >>> print(rng)\n",
            "    Generator(PCG64)\n",
            "    >>> rfloat = rng.random()\n",
            "    >>> rfloat\n",
            "    0.22733602246716966\n",
            "    >>> type(rfloat)\n",
            "    <class 'float'>\n",
            "     \n",
            "    Here we use ``default_rng`` to generate 3 random integers between 0 \n",
            "    (inclusive) and 10 (exclusive):\n",
            "        \n",
            "    >>> import numpy as np\n",
            "    >>> rng = np.random.default_rng(12345)\n",
            "    >>> rints = rng.integers(low=0, high=10, size=3)\n",
            "    >>> rints\n",
            "    array([6, 2, 7])\n",
            "    >>> type(rints[0])\n",
            "    <class 'numpy.int64'>\n",
            "    \n",
            "    Here we specify a seed so that we have reproducible results:\n",
            "    \n",
            "    >>> import numpy as np\n",
            "    >>> rng = np.random.default_rng(seed=42)\n",
            "    >>> print(rng)\n",
            "    Generator(PCG64)\n",
            "    >>> arr1 = rng.random((3, 3))\n",
            "    >>> arr1\n",
            "    array([[0.77395605, 0.43887844, 0.85859792],\n",
            "           [0.69736803, 0.09417735, 0.97562235],\n",
            "           [0.7611397 , 0.78606431, 0.12811363]])\n",
            "\n",
            "    If we exit and restart our Python interpreter, we'll see that we\n",
            "    generate the same random numbers again:\n",
            "\n",
            "    >>> import numpy as np\n",
            "    >>> rng = np.random.default_rng(seed=42)\n",
            "    >>> arr2 = rng.random((3, 3))\n",
            "    >>> arr2\n",
            "    array([[0.77395605, 0.43887844, 0.85859792],\n",
            "           [0.69736803, 0.09417735, 0.97562235],\n",
            "           [0.7611397 , 0.78606431, 0.12811363]])\n",
            "\n",
            "    \n"
          ]
        }
      ]
    },
    {
      "cell_type": "markdown",
      "source": [
        "Attributes are another important thing we'll learn about, especially when we get into `pyspark`. We now have\n",
        "\n",
        "- `functions()` which go prior to the object\n",
        "- `.methods()` that go on the end of the object\n",
        "\n",
        "and\n",
        "\n",
        "- `.attributes` that also go on the end of an object just with no `()`."
      ],
      "metadata": {
        "id": "HBsEob9EN3Jt"
      },
      "id": "HBsEob9EN3Jt"
    },
    {
      "cell_type": "markdown",
      "id": "f1d2dd98",
      "metadata": {
        "id": "f1d2dd98"
      },
      "source": [
        "## Other Things to Note\n",
        "\n",
        "- When executing a function, a new symbol table is used for the local variables\n",
        "- This keeps us from accidentally overwriting something"
      ]
    },
    {
      "cell_type": "code",
      "execution_count": null,
      "id": "90484fbc",
      "metadata": {
        "id": "90484fbc",
        "outputId": "ca728e21-f543-4e7c-cb86-43484ce15da3",
        "colab": {
          "base_uri": "https://localhost:8080/"
        }
      },
      "outputs": [
        {
          "output_type": "stream",
          "name": "stdout",
          "text": [
            "In the function environment, z = [ 1  2  3  4  5  6  7  8  9 10] and y = [  1   4   9  16  25  36  49  64  81 100]\n",
            "[  1   4   9  16  25  36  49  64  81 100]\n",
            "[ 1  2  3  4  5  6  7  8  9 10]\n"
          ]
        }
      ],
      "source": [
        "import numpy as np\n",
        "y = np.array(range(1,11))\n",
        "\n",
        "def square(z):\n",
        "    y = z**2\n",
        "    print(\"In the function environment, z = \" + str(z) + \" and y = \" + str(y))\n",
        "    return(y)\n",
        "\n",
        "print(square(y))\n",
        "print(y) #y is not changed"
      ]
    },
    {
      "cell_type": "code",
      "execution_count": null,
      "id": "f186e177",
      "metadata": {
        "error": true,
        "lines_to_next_cell": 2,
        "id": "f186e177",
        "outputId": "a9afc7d4-6f5b-4db5-c80f-2b5f97714008",
        "colab": {
          "base_uri": "https://localhost:8080/",
          "height": 161
        }
      },
      "outputs": [
        {
          "output_type": "error",
          "ename": "NameError",
          "evalue": "name 'z' is not defined",
          "traceback": [
            "\u001b[0;31m---------------------------------------------------------------------------\u001b[0m",
            "\u001b[0;31mNameError\u001b[0m                                 Traceback (most recent call last)",
            "\u001b[0;32m<ipython-input-36-7d7ac3dfdf36>\u001b[0m in \u001b[0;36m<cell line: 1>\u001b[0;34m()\u001b[0m\n\u001b[0;32m----> 1\u001b[0;31m \u001b[0mprint\u001b[0m\u001b[0;34m(\u001b[0m\u001b[0mz\u001b[0m\u001b[0;34m)\u001b[0m \u001b[0;31m#z isn't defined outside the function call! error\u001b[0m\u001b[0;34m\u001b[0m\u001b[0;34m\u001b[0m\u001b[0m\n\u001b[0m",
            "\u001b[0;31mNameError\u001b[0m: name 'z' is not defined"
          ]
        }
      ],
      "source": [
        "print(z) #z isn't defined outside the function call! error"
      ]
    },
    {
      "cell_type": "markdown",
      "id": "3d1d7be5",
      "metadata": {
        "id": "3d1d7be5"
      },
      "source": [
        "- You can define global variables from within a function using `global`"
      ]
    },
    {
      "cell_type": "code",
      "execution_count": null,
      "id": "111f7d9e",
      "metadata": {
        "lines_to_next_cell": 0,
        "id": "111f7d9e",
        "outputId": "001d1c96-06b0-4490-c483-074fea558628",
        "colab": {
          "base_uri": "https://localhost:8080/"
        }
      },
      "outputs": [
        {
          "output_type": "stream",
          "name": "stdout",
          "text": [
            "In the function environment, z = [ 1  2  3  4  5  6  7  8  9 10] and y = [  1   4   9  16  25  36  49  64  81 100]\n",
            "[  1   4   9  16  25  36  49  64  81 100]\n",
            "[  1   4   9  16  25  36  49  64  81 100]\n"
          ]
        }
      ],
      "source": [
        "def square(z):\n",
        "    global y\n",
        "    y = z**2\n",
        "    print(\"In the function environment, z = \" + str(z) + \" and y = \" + str(y))\n",
        "    return(y)\n",
        "\n",
        "print(square(y))\n",
        "print(y) #modified globally now"
      ]
    },
    {
      "cell_type": "markdown",
      "id": "2325aff6",
      "metadata": {
        "id": "2325aff6"
      },
      "source": [
        "- If nothing is returned from a function (with `return`) then it actually returns the special `None`"
      ]
    },
    {
      "cell_type": "code",
      "execution_count": null,
      "id": "a15a81ee",
      "metadata": {
        "lines_to_next_cell": 2,
        "id": "a15a81ee",
        "outputId": "e22f0cec-fbff-4a4d-c3e9-718ddc2e90be",
        "colab": {
          "base_uri": "https://localhost:8080/"
        }
      },
      "outputs": [
        {
          "output_type": "stream",
          "name": "stdout",
          "text": [
            "100\n",
            "110.25\n",
            "None\n"
          ]
        }
      ],
      "source": [
        "def square_it(a):\n",
        "    if (type(a) == int) or (type(a) == float):\n",
        "      return a**2\n",
        "    else:\n",
        "      return\n",
        "\n",
        "print(square_it(10))\n",
        "print(square_it(10.5))\n",
        "print(square_it(\"10\"))"
      ]
    },
    {
      "cell_type": "markdown",
      "id": "7853160c",
      "metadata": {
        "id": "7853160c"
      },
      "source": [
        "- Default values are only evaluated once - at the time of the function **definition**\n",
        "\n",
        "- Mutable objects can cause an issue! (Lists are mutable as they can be changed, some objects, like tuples, are immutable and can't be modified.)"
      ]
    },
    {
      "cell_type": "code",
      "execution_count": null,
      "id": "bcf91492",
      "metadata": {
        "lines_to_next_cell": 2,
        "id": "bcf91492",
        "outputId": "e2d98691-39c0-44f0-fd6d-28c7e7103e5a",
        "colab": {
          "base_uri": "https://localhost:8080/"
        }
      },
      "outputs": [
        {
          "output_type": "stream",
          "name": "stdout",
          "text": [
            "['A']\n",
            "['A', 'B']\n"
          ]
        }
      ],
      "source": [
        "#append a value to a list but give a default empty list if not given\n",
        "def my_append(value, L = []):\n",
        "    L.append(value)\n",
        "    return L\n",
        "\n",
        "#correctly appends \"A\" to the list\n",
        "print(my_append(\"A\"))\n",
        "#appends \"B\" to the previous list as L = [] was only evaluated at the time the function was created!\n",
        "print(my_append(\"B\"))"
      ]
    },
    {
      "cell_type": "markdown",
      "id": "fdb449ac",
      "metadata": {
        "lines_to_next_cell": 0,
        "id": "fdb449ac"
      },
      "source": [
        "- To avoid this behavior, instead define the default value as `None` and take care of things within the function body"
      ]
    },
    {
      "cell_type": "code",
      "execution_count": null,
      "id": "cd9089b8",
      "metadata": {
        "lines_to_next_cell": 2,
        "id": "cd9089b8",
        "outputId": "071600c0-7d8f-4428-b09c-902af4a87a26",
        "colab": {
          "base_uri": "https://localhost:8080/"
        }
      },
      "outputs": [
        {
          "output_type": "stream",
          "name": "stdout",
          "text": [
            "['A']\n",
            "['B']\n"
          ]
        }
      ],
      "source": [
        "def my_append(value, L = None):\n",
        "    if L is None:\n",
        "        L = []\n",
        "    L.append(value)\n",
        "    return L\n",
        "\n",
        "print(my_append(\"A\"))\n",
        "print(my_append(\"B\"))"
      ]
    },
    {
      "cell_type": "markdown",
      "id": "8dd48a79",
      "metadata": {
        "id": "8dd48a79"
      },
      "source": [
        "## Video Demo\n",
        "\n",
        "This quick video demo gives another example of creating our own function! Remember to pop the video out into the full player.\n",
        "\n",
        "The notebook written in the video is [available here](https://jbpost2.github.io/ST-554-Big-Data-with-Python/01_Programming_in_python/Learning_Python.html)."
      ]
    },
    {
      "cell_type": "code",
      "source": [
        "from IPython.display import IFrame\n",
        "IFrame(src=\"https://ncsu.hosted.panopto.com/Panopto/Pages/Embed.aspx?id=ae1858b3-74cf-4065-8ec7-b0f800e4f827&autoplay=false&offerviewer=true&showtitle=true&showbrand=true&captions=false&interactivity=all\", height=\"405\", width=\"720\")"
      ],
      "metadata": {
        "id": "XsXfzp9iy5mN",
        "outputId": "880962c7-c467-47c1-fe1f-a59bbfb485ab",
        "colab": {
          "base_uri": "https://localhost:8080/",
          "height": 446
        }
      },
      "id": "XsXfzp9iy5mN",
      "execution_count": null,
      "outputs": [
        {
          "output_type": "execute_result",
          "data": {
            "text/plain": [
              "<IPython.lib.display.IFrame at 0x7afe56c09cc0>"
            ],
            "text/html": [
              "\n",
              "        <iframe\n",
              "            width=\"720\"\n",
              "            height=\"405\"\n",
              "            src=\"https://ncsu.hosted.panopto.com/Panopto/Pages/Embed.aspx?id=ae1858b3-74cf-4065-8ec7-b0f800e4f827&autoplay=false&offerviewer=true&showtitle=true&showbrand=true&captions=false&interactivity=all\"\n",
              "            frameborder=\"0\"\n",
              "            allowfullscreen\n",
              "            \n",
              "        ></iframe>\n",
              "        "
            ]
          },
          "metadata": {},
          "execution_count": 41
        }
      ]
    },
    {
      "cell_type": "markdown",
      "source": [
        "---\n",
        "\n",
        "# Recap\n",
        "\n",
        "- Writing functions is super cool!"
      ],
      "metadata": {
        "id": "CKONOG9COM5w"
      },
      "id": "CKONOG9COM5w"
    },
    {
      "cell_type": "code",
      "execution_count": null,
      "id": "34ffc089",
      "metadata": {
        "eval": false,
        "id": "34ffc089"
      },
      "outputs": [],
      "source": [
        "def func_name(args):\n",
        "    \"\"\"\n",
        "    Doc string\n",
        "    \"\"\"\n",
        "    body\n",
        "    return object"
      ]
    },
    {
      "cell_type": "markdown",
      "id": "d815d9ac",
      "metadata": {
        "id": "d815d9ac"
      },
      "source": [
        "- Many ways to set up your function arguments and to call your function\n",
        "\n",
        "- Even more on function writing will be covered later!\n",
        "\n",
        "If you are on the course website, use the table of contents on the left or the arrows at the bottom of this page to navigate to the next learning material!\n",
        "\n",
        "If you are on Google Colab, head back to our course website for [our next lesson](https://jbpost2.github.io/ST-554-Big-Data-with-Python/01_Programming_in_python/09-Control_Flow.html)!"
      ]
    }
  ],
  "metadata": {
    "jupytext": {
      "cell_metadata_filter": "message,eval,tags,warning,error,-all",
      "main_language": "python",
      "notebook_metadata_filter": "-all"
    },
    "colab": {
      "provenance": [],
      "toc_visible": true,
      "include_colab_link": true
    },
    "language_info": {
      "name": "python"
    },
    "kernelspec": {
      "name": "python3",
      "display_name": "Python 3"
    }
  },
  "nbformat": 4,
  "nbformat_minor": 5
}