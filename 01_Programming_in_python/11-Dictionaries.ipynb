{
  "cells": [
    {
      "cell_type": "markdown",
      "metadata": {
        "id": "view-in-github",
        "colab_type": "text"
      },
      "source": [
        "<a href=\"https://colab.research.google.com/github/jbpost2/ST-554-Big-Data-with-Python/blob/main/01_Programming_in_python/11-Dictionaries.ipynb\" target=\"_parent\"><img src=\"https://colab.research.google.com/assets/colab-badge.svg\" alt=\"Open In Colab\"/></a>"
      ]
    },
    {
      "cell_type": "markdown",
      "id": "3e6a0ccf",
      "metadata": {
        "id": "3e6a0ccf"
      },
      "source": [
        "---\n",
        "\n",
        "# Dictionaries\n",
        "\n",
        "Recall our plan: Go through common data types and\n",
        "\n",
        "- Learn how to create them\n",
        "- Consider commonly used functions and methods\n",
        "- See control flow and other tricks along the way\n",
        "\n",
        "This topic, compound objects:\n",
        "- **Dictionaries**\n",
        "\n",
        "Dictionaries are data objects that have `key`-`value` pairs associated with it\n",
        "\n",
        "- keys must be unique\n",
        "- keys can be any **immutable** object (containing no mutable elements)\n",
        "\n",
        "Dictionaries are a flexible data type that is\n",
        "\n",
        "- unordered\n",
        "- mutable\n",
        "\n",
        "Note: These types of webpages are built from Jupyter notebooks (`.ipynb` files). You can access your own versions of them by [clicking here](https://colab.research.google.com/github/jbpost2/ST-554-Big-Data-with-Python/blob/main/01_Programming_in_python/11-Dictionaries.ipynb). **It is highly recommended that you go through and run the notebooks yourself, modifying and rerunning things where you'd like!**"
      ]
    },
    {
      "cell_type": "markdown",
      "source": [
        "---\n",
        "\n",
        "## Creating a Dictionary"
      ],
      "metadata": {
        "id": "6YnVQhpbnNqE"
      },
      "id": "6YnVQhpbnNqE"
    },
    {
      "cell_type": "markdown",
      "id": "77370305",
      "metadata": {
        "id": "77370305"
      },
      "source": [
        "### Creating a dictionary using `dict()` or `{}`\n",
        "\n",
        "- Use `dict(supply_key_value_pairs)` or `{supply_key_value_pairs}`"
      ]
    },
    {
      "cell_type": "code",
      "execution_count": 1,
      "id": "98d6315a",
      "metadata": {
        "lines_to_next_cell": 0,
        "id": "98d6315a",
        "outputId": "4132a8aa-232d-4519-d065-eb60b69a4df7",
        "colab": {
          "base_uri": "https://localhost:8080/"
        }
      },
      "outputs": [
        {
          "output_type": "execute_result",
          "data": {
            "text/plain": [
              "{'key1': [12, -10, 'value1'], 'key2': [11, 'value2'], 'key3': 'value3'}"
            ]
          },
          "metadata": {},
          "execution_count": 1
        }
      ],
      "source": [
        "{} #empty dictionary\n",
        "mydict = {\n",
        "  \"key1\": [12, -10, \"value1\"],  #key is specified first (must be immutable)\n",
        "  \"key2\": [11, \"value2\"],       #value is then given after a : (can be anything, doesn't need to match across keys)\n",
        "  \"key3\": \"value3\"\n",
        "  }\n",
        "mydict"
      ]
    },
    {
      "cell_type": "code",
      "source": [
        "mydict2 = dict([\n",
        "  (1, ['hee', 'haw']),        #passing key value pairs as a tuple\n",
        "  (2, 'fa')\n",
        "  ])\n",
        "mydict2"
      ],
      "metadata": {
        "id": "SA5BScEimzs9",
        "outputId": "576df3d9-96d9-4610-9abc-211ddb6f9b14",
        "colab": {
          "base_uri": "https://localhost:8080/"
        }
      },
      "id": "SA5BScEimzs9",
      "execution_count": 2,
      "outputs": [
        {
          "output_type": "execute_result",
          "data": {
            "text/plain": [
              "{1: ['hee', 'haw'], 2: 'fa'}"
            ]
          },
          "metadata": {},
          "execution_count": 2
        }
      ]
    },
    {
      "cell_type": "markdown",
      "id": "5c912870",
      "metadata": {
        "id": "5c912870"
      },
      "source": [
        "### Creating a dictionary using lists\n",
        "\n",
        "- You can create a dictionary using two lists and the `zip()` function"
      ]
    },
    {
      "cell_type": "code",
      "execution_count": 3,
      "id": "6fedaeb3",
      "metadata": {
        "id": "6fedaeb3",
        "outputId": "00b7654b-1fc6-4852-c489-c190af453393",
        "colab": {
          "base_uri": "https://localhost:8080/"
        }
      },
      "outputs": [
        {
          "output_type": "stream",
          "name": "stdout",
          "text": [
            "['a', 'b', 'c', 'd', 'e', 'f', 'g', 'h']\n",
            "[0, 1, 2, 3, 4, 5, 6, 7]\n"
          ]
        }
      ],
      "source": [
        "keys = [x for x in \"abcdefgh\"]\n",
        "values = [y for y in range(0,8)]\n",
        "print(keys)\n",
        "print(values)"
      ]
    },
    {
      "cell_type": "code",
      "source": [
        "dict(zip(keys, values))"
      ],
      "metadata": {
        "id": "f5JE6UmxnVcb",
        "outputId": "6cc3482f-2202-4b28-d1df-74c24ddddfc4",
        "colab": {
          "base_uri": "https://localhost:8080/"
        }
      },
      "id": "f5JE6UmxnVcb",
      "execution_count": 4,
      "outputs": [
        {
          "output_type": "execute_result",
          "data": {
            "text/plain": [
              "{'a': 0, 'b': 1, 'c': 2, 'd': 3, 'e': 4, 'f': 5, 'g': 6, 'h': 7}"
            ]
          },
          "metadata": {},
          "execution_count": 4
        }
      ]
    },
    {
      "cell_type": "markdown",
      "id": "86a15824",
      "metadata": {
        "id": "86a15824"
      },
      "source": [
        "### Creating a dictionary with dictionary comprehensions\n",
        "\n",
        "- Can create a dictionary using dictionary comprehensions!\n",
        "- Smilar to list comprehensions but we use `{` instead of `[`"
      ]
    },
    {
      "cell_type": "code",
      "execution_count": 5,
      "id": "ba450c54",
      "metadata": {
        "lines_to_next_cell": 0,
        "id": "ba450c54",
        "outputId": "2f18e3a0-9642-4359-8ea1-6049fa1a003a",
        "colab": {
          "base_uri": "https://localhost:8080/"
        }
      },
      "outputs": [
        {
          "output_type": "execute_result",
          "data": {
            "text/plain": [
              "{0: 0, 1: 1, 2: 2, 3: 3, 4: 4, 5: 5}"
            ]
          },
          "metadata": {},
          "execution_count": 5
        }
      ],
      "source": [
        "mydict = {i: i for i in range(0, 6)}\n",
        "mydict"
      ]
    },
    {
      "cell_type": "code",
      "source": [
        "mydict = {\"abcdef\"[i]: i**2 for i in range(0, 6)}\n",
        "mydict"
      ],
      "metadata": {
        "id": "QgjON7Ncne1K",
        "outputId": "9b1b24f5-d53f-4da8-8b5d-32d4ef88aba2",
        "colab": {
          "base_uri": "https://localhost:8080/"
        }
      },
      "id": "QgjON7Ncne1K",
      "execution_count": 6,
      "outputs": [
        {
          "output_type": "execute_result",
          "data": {
            "text/plain": [
              "{'a': 0, 'b': 1, 'c': 4, 'd': 9, 'e': 16, 'f': 25}"
            ]
          },
          "metadata": {},
          "execution_count": 6
        }
      ]
    },
    {
      "cell_type": "markdown",
      "id": "1760b192",
      "metadata": {
        "id": "1760b192"
      },
      "source": [
        "---\n",
        "\n",
        "## Dictionary Operations\n"
      ]
    },
    {
      "cell_type": "markdown",
      "source": [
        "### Indexing a Dictionary\n",
        "\n",
        "- Index with a `[key]` (remember unordered!)"
      ],
      "metadata": {
        "id": "wfIl1SYKnj7a"
      },
      "id": "wfIl1SYKnj7a"
    },
    {
      "cell_type": "code",
      "execution_count": 7,
      "id": "1388c139",
      "metadata": {
        "lines_to_next_cell": 0,
        "id": "1388c139",
        "outputId": "e969e414-b813-416b-b772-572064952118",
        "colab": {
          "base_uri": "https://localhost:8080/"
        }
      },
      "outputs": [
        {
          "output_type": "execute_result",
          "data": {
            "text/plain": [
              "['Steelers', 'Browns', 'Ravens', 'Bengals']"
            ]
          },
          "metadata": {},
          "execution_count": 7
        }
      ],
      "source": [
        "AFCDivisions = {\n",
        "  \"North\": [\"Steelers\", \"Browns\", \"Ravens\", \"Bengals\"],\n",
        "  \"East\" : [\"Patriots\", \"Jets\", \"Dolphins\", \"Bills\"],\n",
        "  \"West\" : [\"Raiders\", \"Chiefs\", \"Chargers\", \"Broncos\"]\n",
        "  }\n",
        "AFCDivisions[\"North\"]"
      ]
    },
    {
      "cell_type": "markdown",
      "id": "92450a55",
      "metadata": {
        "id": "92450a55"
      },
      "source": [
        "- You can access the returned object in the same line of code\n"
      ]
    },
    {
      "cell_type": "code",
      "source": [
        "AFCDivisions[\"North\"][0]"
      ],
      "metadata": {
        "id": "q2NzkDh-nud6",
        "outputId": "c9888bdc-9914-45ec-dc78-ce7e54328528",
        "colab": {
          "base_uri": "https://localhost:8080/",
          "height": 55
        }
      },
      "id": "q2NzkDh-nud6",
      "execution_count": 8,
      "outputs": [
        {
          "output_type": "execute_result",
          "data": {
            "text/plain": [
              "'Steelers'"
            ],
            "application/vnd.google.colaboratory.intrinsic+json": {
              "type": "string"
            }
          },
          "metadata": {},
          "execution_count": 8
        }
      ]
    },
    {
      "cell_type": "markdown",
      "id": "3a7cb05b",
      "metadata": {
        "id": "3a7cb05b"
      },
      "source": [
        "- We can add new key/value pairs by simply referencing a key that doesn't exist\n",
        "- Here we add the \"South\" key with a silly value\n"
      ]
    },
    {
      "cell_type": "code",
      "execution_count": 9,
      "id": "8b97248a",
      "metadata": {
        "lines_to_next_cell": 2,
        "id": "8b97248a",
        "outputId": "69897477-0bf5-4ec3-9d20-b285a10cfa7c",
        "colab": {
          "base_uri": "https://localhost:8080/"
        }
      },
      "outputs": [
        {
          "output_type": "execute_result",
          "data": {
            "text/plain": [
              "{'North': ['Steelers', 'Browns', 'Ravens', 'Bengals'],\n",
              " 'East': ['Patriots', 'Jets', 'Dolphins', 'Bills'],\n",
              " 'West': ['Raiders', 'Chiefs', 'Chargers', 'Broncos'],\n",
              " 'South': [1, 2]}"
            ]
          },
          "metadata": {},
          "execution_count": 9
        }
      ],
      "source": [
        "AFCDivisions = {\n",
        "  \"North\": [\"Steelers\", \"Browns\", \"Ravens\", \"Bengals\"],\n",
        "  \"East\" : [\"Patriots\", \"Jets\", \"Dolphins\", \"Bills\"],\n",
        "  \"West\" : [\"Raiders\", \"Chiefs\", \"Chargers\", \"Broncos\"]\n",
        "  }\n",
        "AFCDivisions[\"South\"] = [1, 2]\n",
        "AFCDivisions"
      ]
    },
    {
      "cell_type": "markdown",
      "source": [
        "- You can iterate over the keys in a dictionary"
      ],
      "metadata": {
        "id": "Q4ceCaxJoG7J"
      },
      "id": "Q4ceCaxJoG7J"
    },
    {
      "cell_type": "code",
      "source": [
        "for key in AFCDivisions:              #keys are what are iterated over\n",
        "    print(key, ' : ', AFCDivisions[key]) #we access the value associated with the key"
      ],
      "metadata": {
        "id": "69h_lD7yoD_q",
        "outputId": "5e7e4d81-a2ad-4e03-c7a1-d0b4f50d736c",
        "colab": {
          "base_uri": "https://localhost:8080/"
        }
      },
      "id": "69h_lD7yoD_q",
      "execution_count": 10,
      "outputs": [
        {
          "output_type": "stream",
          "name": "stdout",
          "text": [
            "North  :  ['Steelers', 'Browns', 'Ravens', 'Bengals']\n",
            "East  :  ['Patriots', 'Jets', 'Dolphins', 'Bills']\n",
            "West  :  ['Raiders', 'Chiefs', 'Chargers', 'Broncos']\n",
            "South  :  [1, 2]\n"
          ]
        }
      ]
    },
    {
      "cell_type": "markdown",
      "id": "8ecde0eb",
      "metadata": {
        "id": "8ecde0eb"
      },
      "source": [
        "- You can overwrite the values similar to how you can add a key/value pair after the fact. Here we overwrite the \"South\" value."
      ]
    },
    {
      "cell_type": "code",
      "execution_count": 11,
      "id": "f34fc0a1",
      "metadata": {
        "lines_to_next_cell": 2,
        "id": "f34fc0a1",
        "outputId": "4206cf04-37e9-4b08-e828-90b8750500bd",
        "colab": {
          "base_uri": "https://localhost:8080/"
        }
      },
      "outputs": [
        {
          "output_type": "stream",
          "name": "stdout",
          "text": [
            "North  :  ['Steelers', 'Browns', 'Ravens', 'Bengals']\n",
            "East  :  ['Patriots', 'Jets', 'Dolphins', 'Bills']\n",
            "West  :  ['Raiders', 'Chiefs', 'Chargers', 'Broncos']\n",
            "South  :  ['Texans', 'Colts', 'Jaguars', 'Titans']\n"
          ]
        }
      ],
      "source": [
        "AFCDivisions = {\n",
        "  \"North\": [\"Steelers\", \"Browns\", \"Ravens\", \"Bengals\"],\n",
        "  \"East\" : [\"Patriots\", \"Jets\", \"Dolphins\", \"Bills\"],\n",
        "  \"West\" : [\"Raiders\", \"Chiefs\", \"Chargers\", \"Broncos\"]\n",
        "  }\n",
        "AFCDivisions[\"South\"] = [1, 2]\n",
        "AFCDivisions[\"South\"] = [\"Texans\", \"Colts\", \"Jaguars\", \"Titans\"]\n",
        "for key in AFCDivisions:\n",
        "    print(key, ' : ', AFCDivisions[key])"
      ]
    },
    {
      "cell_type": "markdown",
      "id": "f93ad58f",
      "metadata": {
        "id": "f93ad58f"
      },
      "source": [
        "---\n",
        "\n",
        "### Dictionary Packing & Unpacking\n",
        "\n",
        "- We can **pack** dictionaries using `**` similar to how we packed a list!\n",
        "- Here we create a dictionary called `Divisions` where we pack two dictionaries inside it"
      ]
    },
    {
      "cell_type": "code",
      "execution_count": 12,
      "id": "5d4762d1",
      "metadata": {
        "lines_to_next_cell": 0,
        "id": "5d4762d1",
        "outputId": "3f4b59a6-ca57-49fb-ded5-fa3ce63c85aa",
        "colab": {
          "base_uri": "https://localhost:8080/"
        }
      },
      "outputs": [
        {
          "output_type": "stream",
          "name": "stdout",
          "text": [
            "AFCNorth  :  ['Steelers', 'Browns', 'Ravens', 'Bengals']\n",
            "AFCEast  :  ['Patriots', 'Jets', 'Dolphins', 'Bills']\n",
            "AFCWest  :  ['Raiders', 'Chiefs', 'Chargers', 'Broncos']\n",
            "AFCSouth  :  ['Texans', 'Colts', 'Jaguars', 'Titans']\n",
            "NFCNorth  :  ['Lions', 'Bears', 'Packers', 'Vikings']\n",
            "NFCEast  :  ['Giants', 'Cowboys', 'Eagles', 'Admirals']\n"
          ]
        }
      ],
      "source": [
        "AFCDivisions = {\n",
        "  \"AFCNorth\": [\"Steelers\", \"Browns\", \"Ravens\", \"Bengals\"],\n",
        "  \"AFCEast\" : [\"Patriots\", \"Jets\", \"Dolphins\", \"Bills\"],\n",
        "  \"AFCWest\" : [\"Raiders\", \"Chiefs\", \"Chargers\", \"Broncos\"],\n",
        "  \"AFCSouth\": [\"Texans\", \"Colts\", \"Jaguars\", \"Titans\"]\n",
        "  }\n",
        "\n",
        "NFCDivisions = {\n",
        "  \"NFCNorth\" : [\"Lions\", \"Bears\", \"Packers\", \"Vikings\"],\n",
        "  \"NFCEast\"  : [\"Giants\", \"Cowboys\", \"Eagles\", \"Admirals\"]\n",
        "}\n",
        "\n",
        "Divisions = {**AFCDivisions, **NFCDivisions}\n",
        "for key in Divisions:\n",
        "    print(key, ' : ', Divisions[key])"
      ]
    },
    {
      "cell_type": "markdown",
      "id": "ae93aef5",
      "metadata": {
        "id": "ae93aef5"
      },
      "source": [
        "---\n",
        "\n",
        "## Dictionary Methods\n",
        "\n",
        "[Many useful methods](https://www.tutorialspoint.com/python/python_dictionary.htm)\n",
        "\n",
        "- We saw how to index with `[]` similar to lists/tuples\n",
        "- We can index with `.get()` instead\n",
        "  - Advantage is that it doesn't throw an error if the key doesn't exist"
      ]
    },
    {
      "cell_type": "code",
      "execution_count": 13,
      "id": "ec6dd7e9",
      "metadata": {
        "lines_to_next_cell": 0,
        "id": "ec6dd7e9",
        "outputId": "375747d2-0403-4d4c-8f5c-fb260da26d81",
        "colab": {
          "base_uri": "https://localhost:8080/"
        }
      },
      "outputs": [
        {
          "output_type": "execute_result",
          "data": {
            "text/plain": [
              "['Texans', 'Colts', 'Jaguars', 'Titans']"
            ]
          },
          "metadata": {},
          "execution_count": 13
        }
      ],
      "source": [
        "AFCDivisions = {\n",
        "  \"North\": [\"Steelers\", \"Browns\", \"Ravens\", \"Bengals\"],\n",
        "  \"East\" : [\"Patriots\", \"Jets\", \"Dolphins\", \"Bills\"],\n",
        "  \"West\" : [\"Raiders\", \"Chiefs\", \"Chargers\", \"Broncos\"],\n",
        "  \"South\": [\"Texans\", \"Colts\", \"Jaguars\", \"Titans\"]\n",
        "  }\n",
        "AFCDivisions.get(\"South\")"
      ]
    },
    {
      "cell_type": "code",
      "source": [
        "AFCDivisions.get(\"Northeast\") #doesn't throw an error"
      ],
      "metadata": {
        "id": "eeZuKSuJpFBW"
      },
      "id": "eeZuKSuJpFBW",
      "execution_count": 14,
      "outputs": []
    },
    {
      "cell_type": "code",
      "execution_count": 15,
      "id": "9b5c370a",
      "metadata": {
        "error": true,
        "lines_to_next_cell": 2,
        "id": "9b5c370a",
        "outputId": "0948acbd-0478-4683-ef20-a47c2922a6bb",
        "colab": {
          "base_uri": "https://localhost:8080/",
          "height": 161
        }
      },
      "outputs": [
        {
          "output_type": "error",
          "ename": "KeyError",
          "evalue": "'Northeast'",
          "traceback": [
            "\u001b[0;31m---------------------------------------------------------------------------\u001b[0m",
            "\u001b[0;31mKeyError\u001b[0m                                  Traceback (most recent call last)",
            "\u001b[0;32m<ipython-input-15-4c30b3284c03>\u001b[0m in \u001b[0;36m<cell line: 1>\u001b[0;34m()\u001b[0m\n\u001b[0;32m----> 1\u001b[0;31m \u001b[0mAFCDivisions\u001b[0m\u001b[0;34m[\u001b[0m\u001b[0;34m\"Northeast\"\u001b[0m\u001b[0;34m]\u001b[0m \u001b[0;31m#throws an error\u001b[0m\u001b[0;34m\u001b[0m\u001b[0;34m\u001b[0m\u001b[0m\n\u001b[0m",
            "\u001b[0;31mKeyError\u001b[0m: 'Northeast'"
          ]
        }
      ],
      "source": [
        "AFCDivisions[\"Northeast\"] #throws an error"
      ]
    },
    {
      "cell_type": "markdown",
      "id": "e302d582",
      "metadata": {
        "id": "e302d582"
      },
      "source": [
        "- Return keys with `.keys()`; values with `.values()`"
      ]
    },
    {
      "cell_type": "code",
      "execution_count": 16,
      "id": "1100432a",
      "metadata": {
        "id": "1100432a",
        "outputId": "92786e1d-0b2e-4c9d-9273-a3d8bc78e345",
        "colab": {
          "base_uri": "https://localhost:8080/"
        }
      },
      "outputs": [
        {
          "output_type": "execute_result",
          "data": {
            "text/plain": [
              "dict_keys(['North', 'East', 'West', 'South'])"
            ]
          },
          "metadata": {},
          "execution_count": 16
        }
      ],
      "source": [
        "AFCDivisions = {\n",
        "  \"North\": [\"Steelers\", \"Browns\", \"Ravens\", \"Bengals\"],\n",
        "  \"East\" : [\"Patriots\", \"Jets\", \"Dolphins\", \"Bills\"],\n",
        "  \"West\" : [\"Raiders\", \"Chiefs\", \"Chargers\", \"Broncos\"],\n",
        "  \"South\": [\"Texans\", \"Colts\", \"Jaguars\", \"Titans\"]\n",
        "  }\n",
        "AFCDivisions.keys()"
      ]
    },
    {
      "cell_type": "code",
      "source": [
        "AFCDivisions.values()"
      ],
      "metadata": {
        "id": "HJgI9wUypVQm",
        "outputId": "6585b89a-5780-4b3b-bf47-1e4525d8820e",
        "colab": {
          "base_uri": "https://localhost:8080/"
        }
      },
      "id": "HJgI9wUypVQm",
      "execution_count": 17,
      "outputs": [
        {
          "output_type": "execute_result",
          "data": {
            "text/plain": [
              "dict_values([['Steelers', 'Browns', 'Ravens', 'Bengals'], ['Patriots', 'Jets', 'Dolphins', 'Bills'], ['Raiders', 'Chiefs', 'Chargers', 'Broncos'], ['Texans', 'Colts', 'Jaguars', 'Titans']])"
            ]
          },
          "metadata": {},
          "execution_count": 17
        }
      ]
    },
    {
      "cell_type": "markdown",
      "id": "fd1cd3ea",
      "metadata": {
        "id": "fd1cd3ea"
      },
      "source": [
        "- Return and remove a specified key with `.pop()` (similar to the `list` method)"
      ]
    },
    {
      "cell_type": "code",
      "execution_count": 18,
      "id": "7b7f9165",
      "metadata": {
        "tags": [
          "remove_input"
        ],
        "id": "7b7f9165",
        "outputId": "e326b125-42d9-4095-a752-976f5161eb75",
        "colab": {
          "base_uri": "https://localhost:8080/"
        }
      },
      "outputs": [
        {
          "output_type": "execute_result",
          "data": {
            "text/plain": [
              "['Steelers', 'Browns', 'Ravens', 'Bengals']"
            ]
          },
          "metadata": {},
          "execution_count": 18
        }
      ],
      "source": [
        "AFCDivisions = {\n",
        "  \"North\": [\"Steelers\", \"Browns\", \"Ravens\", \"Bengals\"],\n",
        "  \"East\" : [\"Patriots\", \"Jets\", \"Dolphins\", \"Bills\"],\n",
        "  \"West\" : [\"Raiders\", \"Chiefs\", \"Chargers\", \"Broncos\"],\n",
        "  \"South\": [\"Texans\", \"Colts\", \"Jaguars\", \"Titans\"]\n",
        "  }\n",
        "AFCDivisions.pop(\"North\") #modifies the dictionary"
      ]
    },
    {
      "cell_type": "code",
      "execution_count": 20,
      "id": "a54b855a",
      "metadata": {
        "lines_to_next_cell": 0,
        "id": "a54b855a",
        "outputId": "328f71be-747e-4533-b5d5-7fd669c73cad",
        "colab": {
          "base_uri": "https://localhost:8080/"
        }
      },
      "outputs": [
        {
          "output_type": "stream",
          "name": "stdout",
          "text": [
            "East  :  ['Patriots', 'Jets', 'Dolphins', 'Bills']\n",
            "West  :  ['Raiders', 'Chiefs', 'Chargers', 'Broncos']\n",
            "South  :  ['Texans', 'Colts', 'Jaguars', 'Titans']\n"
          ]
        }
      ],
      "source": [
        "for key in AFCDivisions:\n",
        "    print(key, ' : ', AFCDivisions[key]) #North no longer exists!"
      ]
    },
    {
      "cell_type": "markdown",
      "id": "ec449b1e",
      "metadata": {
        "id": "ec449b1e"
      },
      "source": [
        "- Merge in another dictionary with `.update()`\n",
        "- Very similar to dictionary packing done above but it modifies one of the dictionaries"
      ]
    },
    {
      "cell_type": "code",
      "execution_count": 21,
      "id": "4680df02",
      "metadata": {
        "lines_to_next_cell": 0,
        "id": "4680df02",
        "outputId": "defb104f-7b19-4261-d82e-4c5d3c9184a5",
        "colab": {
          "base_uri": "https://localhost:8080/"
        }
      },
      "outputs": [
        {
          "output_type": "stream",
          "name": "stdout",
          "text": [
            "AFCNorth  :  ['Steelers', 'Browns', 'Ravens', 'Bengals']\n",
            "AFCEast  :  ['Patriots', 'Jets', 'Dolphins', 'Bills']\n",
            "AFCWest  :  ['Raiders', 'Chiefs', 'Chargers', 'Broncos']\n",
            "AFCSouth  :  ['Texans', 'Colts', 'Jaguars', 'Titans']\n",
            "NFCNorth  :  ['Lions', 'Packers', 'Bears', 'Vikings']\n"
          ]
        }
      ],
      "source": [
        "Divisions = {\n",
        "  \"AFCNorth\": [\"Steelers\", \"Browns\", \"Ravens\", \"Bengals\"],\n",
        "  \"AFCEast\" : [\"Patriots\", \"Jets\", \"Dolphins\", \"Bills\"],\n",
        "  \"AFCWest\" : [\"Raiders\", \"Chiefs\", \"Chargers\", \"Broncos\"],\n",
        "  \"AFCSouth\": [\"Texans\", \"Colts\", \"Jaguars\", \"Titans\"]\n",
        "  }\n",
        "NFCNorth = {\n",
        "  \"NFCNorth\": [\"Lions\", \"Packers\", \"Bears\", \"Vikings\"]\n",
        "  }\n",
        "Divisions.update(NFCNorth) #combine the dictionaries\n",
        "for key in Divisions.keys():\n",
        "    print(key, \" : \", Divisions[key])"
      ]
    },
    {
      "cell_type": "markdown",
      "id": "cf64582f",
      "metadata": {
        "id": "cf64582f"
      },
      "source": [
        "---\n",
        "\n",
        "# Video Demo\n",
        "\n",
        "This quick video demo shows an example of creating dictionaries with lists as the values, creating with tuples as the keys, and checking if some values occur in the dictionary using `in` and/or `not in`. Remember to pop the video out into the full player.\n",
        "\n",
        "The notebook written in the video is [available here](https://colab.research.google.com/github/jbpost2/ST-554-Big-Data-with-Python/blob/main/01_Programming_in_python/Learning_Python.ipynb).\n"
      ]
    },
    {
      "cell_type": "code",
      "source": [
        "from IPython.display import IFrame\n",
        "IFrame(src=\"https://ncsu.hosted.panopto.com/Panopto/Pages/Embed.aspx?id=b270f285-6973-4e6b-aeae-b0f800f38b96&autoplay=false&offerviewer=true&showtitle=true&showbrand=true&captions=false&interactivity=all\", height=\"405\", width=\"720\")"
      ],
      "metadata": {
        "id": "lFemERQx0DQy",
        "outputId": "1bd78cd2-248d-4c89-8e71-a20d4b940170",
        "colab": {
          "base_uri": "https://localhost:8080/",
          "height": 446
        }
      },
      "id": "lFemERQx0DQy",
      "execution_count": 22,
      "outputs": [
        {
          "output_type": "execute_result",
          "data": {
            "text/plain": [
              "<IPython.lib.display.IFrame at 0x7ec05c09f4f0>"
            ],
            "text/html": [
              "\n",
              "        <iframe\n",
              "            width=\"720\"\n",
              "            height=\"405\"\n",
              "            src=\"https://ncsu.hosted.panopto.com/Panopto/Pages/Embed.aspx?id=b270f285-6973-4e6b-aeae-b0f800f38b96&autoplay=false&offerviewer=true&showtitle=true&showbrand=true&captions=false&interactivity=all\"\n",
              "            frameborder=\"0\"\n",
              "            allowfullscreen\n",
              "            \n",
              "        ></iframe>\n",
              "        "
            ]
          },
          "metadata": {},
          "execution_count": 22
        }
      ]
    },
    {
      "cell_type": "markdown",
      "id": "b7d75edc",
      "metadata": {
        "id": "b7d75edc"
      },
      "source": [
        "---\n",
        "\n",
        "# Recap\n",
        "\n",
        "- Dictionaries have key value pairs\n",
        "\n",
        "    - Keys can be any immutable object\n",
        "    \n",
        "    - Values can be pretty generic using something like a list\n",
        "    \n",
        "- Mutable\n",
        "\n",
        "- Unordered - access via `[key]` or using `.get()` method\n",
        "\n",
        "If you are on the course website, use the table of contents on the left or the arrows at the bottom of this page to navigate to the next learning material!\n",
        "\n",
        "If you are on Google Colab, head back to our course website for [our next lesson](https://jbpost2.github.io/ST-554-Big-Data-with-Python/01_Programming_in_python/12-Numpy.html)!"
      ]
    }
  ],
  "metadata": {
    "jupytext": {
      "cell_metadata_filter": "message,error,warning,tags,-all",
      "main_language": "python",
      "notebook_metadata_filter": "-all"
    },
    "colab": {
      "provenance": [],
      "toc_visible": true,
      "include_colab_link": true
    },
    "language_info": {
      "name": "python"
    },
    "kernelspec": {
      "name": "python3",
      "display_name": "Python 3"
    }
  },
  "nbformat": 4,
  "nbformat_minor": 5
}