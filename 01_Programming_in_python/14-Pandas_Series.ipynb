{
  "cells": [
    {
      "cell_type": "markdown",
      "metadata": {
        "id": "view-in-github",
        "colab_type": "text"
      },
      "source": [
        "<a href=\"https://colab.research.google.com/github/jbpost2/ST-554-Big-Data-with-Python/blob/main/01_Programming_in_python/14-Pandas_Series.ipynb\" target=\"_parent\"><img src=\"https://colab.research.google.com/assets/colab-badge.svg\" alt=\"Open In Colab\"/></a>"
      ]
    },
    {
      "cell_type": "markdown",
      "id": "d958afa0",
      "metadata": {
        "lines_to_next_cell": 0,
        "id": "d958afa0"
      },
      "source": [
        "# `Pandas` Series\n",
        "\n",
        "> Justin Post\n",
        "\n",
        "- [`Pandas`](https://pandas.pydata.org/) library supports a `DataFrame` object similar to `R`'s data frame. This `DataFrame`'s columns are made up of `pandas` `Series` objects.\n",
        "\n",
        "![](https://www4.stat.ncsu.edu/online/datasets/pandas.png)\n",
        "> Image from https://www.altexsoft.com/blog/pandas-library/\n",
        "\n",
        "- Convention is to import the module as `pd`\n",
        "\n",
        "- First we'll learn about the `Series` objects. These make up a `DataFrame` object, which we'll use to handle many rectangular datasets\n",
        "\n",
        "- `pandas` `Series` are\n",
        "    + 1D labeled array that can hold any data type\n",
        "    + Contains values and indices that are used to extract those values\n",
        "\n",
        "Note: These types of webpages are built from Jupyter notebooks (`.ipynb` files). You can access your own versions of them by [clicking here](https://colab.research.google.com/github/jbpost2/ST-554-Big-Data-with-Python/blob/main/01_Programming_in_python/14-Pandas_Series.ipynb). **It is highly recommended that you go through and run the notebooks yourself, modifying and rerunning things where you'd like!**"
      ]
    },
    {
      "cell_type": "markdown",
      "source": [
        "## Creating a `pandas` `Series`\n",
        "\n",
        "- Create a series using the `pd.Series()` function"
      ],
      "metadata": {
        "id": "Lt3nb3fj2cMc"
      },
      "id": "Lt3nb3fj2cMc"
    },
    {
      "cell_type": "code",
      "execution_count": 1,
      "id": "c20756ff",
      "metadata": {
        "lines_to_next_cell": 2,
        "id": "c20756ff",
        "outputId": "608a8879-ea5a-4109-e554-91ccaa823fd4",
        "colab": {
          "base_uri": "https://localhost:8080/",
          "height": 418
        }
      },
      "outputs": [
        {
          "output_type": "execute_result",
          "data": {
            "text/plain": [
              "0    2.756214\n",
              "1   -0.090994\n",
              "2    0.347746\n",
              "3   -7.765870\n",
              "4    9.198830\n",
              "5    6.576663\n",
              "6    0.698309\n",
              "7    5.095226\n",
              "8    3.124843\n",
              "9   -0.215291\n",
              "dtype: float64"
            ],
            "text/html": [
              "<div>\n",
              "<style scoped>\n",
              "    .dataframe tbody tr th:only-of-type {\n",
              "        vertical-align: middle;\n",
              "    }\n",
              "\n",
              "    .dataframe tbody tr th {\n",
              "        vertical-align: top;\n",
              "    }\n",
              "\n",
              "    .dataframe thead th {\n",
              "        text-align: right;\n",
              "    }\n",
              "</style>\n",
              "<table border=\"1\" class=\"dataframe\">\n",
              "  <thead>\n",
              "    <tr style=\"text-align: right;\">\n",
              "      <th></th>\n",
              "      <th>0</th>\n",
              "    </tr>\n",
              "  </thead>\n",
              "  <tbody>\n",
              "    <tr>\n",
              "      <th>0</th>\n",
              "      <td>2.756214</td>\n",
              "    </tr>\n",
              "    <tr>\n",
              "      <th>1</th>\n",
              "      <td>-0.090994</td>\n",
              "    </tr>\n",
              "    <tr>\n",
              "      <th>2</th>\n",
              "      <td>0.347746</td>\n",
              "    </tr>\n",
              "    <tr>\n",
              "      <th>3</th>\n",
              "      <td>-7.765870</td>\n",
              "    </tr>\n",
              "    <tr>\n",
              "      <th>4</th>\n",
              "      <td>9.198830</td>\n",
              "    </tr>\n",
              "    <tr>\n",
              "      <th>5</th>\n",
              "      <td>6.576663</td>\n",
              "    </tr>\n",
              "    <tr>\n",
              "      <th>6</th>\n",
              "      <td>0.698309</td>\n",
              "    </tr>\n",
              "    <tr>\n",
              "      <th>7</th>\n",
              "      <td>5.095226</td>\n",
              "    </tr>\n",
              "    <tr>\n",
              "      <th>8</th>\n",
              "      <td>3.124843</td>\n",
              "    </tr>\n",
              "    <tr>\n",
              "      <th>9</th>\n",
              "      <td>-0.215291</td>\n",
              "    </tr>\n",
              "  </tbody>\n",
              "</table>\n",
              "</div><br><label><b>dtype:</b> float64</label>"
            ]
          },
          "metadata": {},
          "execution_count": 1
        }
      ],
      "source": [
        "import numpy as np\n",
        "import pandas as pd\n",
        "rng = np.random.default_rng(2) #set a seed\n",
        "s = pd.Series(rng.normal(size = 10, loc = 2, scale = 4)) #mean of 2 and std of 4\n",
        "s"
      ]
    },
    {
      "cell_type": "markdown",
      "id": "40025955",
      "metadata": {
        "lines_to_next_cell": 0,
        "id": "40025955"
      },
      "source": [
        "---\n",
        "\n",
        "## Indexing a `Series`\n",
        "\n",
        "- Like lists, the ordering starts at 0\n",
        "- Like `numpy` arrays, all elements in a `Series` must be of the same type\n",
        "- Unlike `numpy` arrays, `Series` can be indexed by an `index` attribute (not just the numeric index)\n",
        "- `.index` attribute returns just these indices"
      ]
    },
    {
      "cell_type": "code",
      "execution_count": 2,
      "id": "d5f4ac3a",
      "metadata": {
        "lines_to_next_cell": 0,
        "id": "d5f4ac3a",
        "outputId": "517f9c62-0c1d-4f93-a46f-d41ee0b14cf0",
        "colab": {
          "base_uri": "https://localhost:8080/"
        }
      },
      "outputs": [
        {
          "output_type": "execute_result",
          "data": {
            "text/plain": [
              "RangeIndex(start=0, stop=10, step=1)"
            ]
          },
          "metadata": {},
          "execution_count": 2
        }
      ],
      "source": [
        "s.index"
      ]
    },
    {
      "cell_type": "code",
      "source": [
        "s[0] #is both the numeric index and the value of an index here"
      ],
      "metadata": {
        "id": "DyNSp3Ox4PdN",
        "outputId": "91d161ac-96fd-438a-f6d5-b03e7fe1fdaa",
        "colab": {
          "base_uri": "https://localhost:8080/"
        }
      },
      "id": "DyNSp3Ox4PdN",
      "execution_count": 3,
      "outputs": [
        {
          "output_type": "execute_result",
          "data": {
            "text/plain": [
              "2.756213527174132"
            ]
          },
          "metadata": {},
          "execution_count": 3
        }
      ]
    },
    {
      "cell_type": "code",
      "source": [
        "s2 = pd.Series(rng.normal(size = 10, loc = 2, scale = 4),\n",
        "               index = [x for x in \"abcdefghij\"])\n",
        "s2"
      ],
      "metadata": {
        "id": "9-HVmLsS4Qz_",
        "outputId": "07ae293f-afb4-4eca-9513-68ea84bffd14",
        "colab": {
          "base_uri": "https://localhost:8080/",
          "height": 418
        }
      },
      "id": "9-HVmLsS4Qz_",
      "execution_count": 4,
      "outputs": [
        {
          "output_type": "execute_result",
          "data": {
            "text/plain": [
              "a    5.910270\n",
              "b    0.757774\n",
              "c    0.684704\n",
              "d   -1.168587\n",
              "e    3.819832\n",
              "f    1.603208\n",
              "g    4.181155\n",
              "h   -0.428743\n",
              "i    2.507311\n",
              "j   -1.569096\n",
              "dtype: float64"
            ],
            "text/html": [
              "<div>\n",
              "<style scoped>\n",
              "    .dataframe tbody tr th:only-of-type {\n",
              "        vertical-align: middle;\n",
              "    }\n",
              "\n",
              "    .dataframe tbody tr th {\n",
              "        vertical-align: top;\n",
              "    }\n",
              "\n",
              "    .dataframe thead th {\n",
              "        text-align: right;\n",
              "    }\n",
              "</style>\n",
              "<table border=\"1\" class=\"dataframe\">\n",
              "  <thead>\n",
              "    <tr style=\"text-align: right;\">\n",
              "      <th></th>\n",
              "      <th>0</th>\n",
              "    </tr>\n",
              "  </thead>\n",
              "  <tbody>\n",
              "    <tr>\n",
              "      <th>a</th>\n",
              "      <td>5.910270</td>\n",
              "    </tr>\n",
              "    <tr>\n",
              "      <th>b</th>\n",
              "      <td>0.757774</td>\n",
              "    </tr>\n",
              "    <tr>\n",
              "      <th>c</th>\n",
              "      <td>0.684704</td>\n",
              "    </tr>\n",
              "    <tr>\n",
              "      <th>d</th>\n",
              "      <td>-1.168587</td>\n",
              "    </tr>\n",
              "    <tr>\n",
              "      <th>e</th>\n",
              "      <td>3.819832</td>\n",
              "    </tr>\n",
              "    <tr>\n",
              "      <th>f</th>\n",
              "      <td>1.603208</td>\n",
              "    </tr>\n",
              "    <tr>\n",
              "      <th>g</th>\n",
              "      <td>4.181155</td>\n",
              "    </tr>\n",
              "    <tr>\n",
              "      <th>h</th>\n",
              "      <td>-0.428743</td>\n",
              "    </tr>\n",
              "    <tr>\n",
              "      <th>i</th>\n",
              "      <td>2.507311</td>\n",
              "    </tr>\n",
              "    <tr>\n",
              "      <th>j</th>\n",
              "      <td>-1.569096</td>\n",
              "    </tr>\n",
              "  </tbody>\n",
              "</table>\n",
              "</div><br><label><b>dtype:</b> float64</label>"
            ]
          },
          "metadata": {},
          "execution_count": 4
        }
      ]
    },
    {
      "cell_type": "code",
      "source": [
        "s2.index"
      ],
      "metadata": {
        "id": "bFWfKHfC4mLj",
        "outputId": "fc3324c9-ba52-4dea-d465-19363387336d",
        "colab": {
          "base_uri": "https://localhost:8080/"
        }
      },
      "id": "bFWfKHfC4mLj",
      "execution_count": 5,
      "outputs": [
        {
          "output_type": "execute_result",
          "data": {
            "text/plain": [
              "Index(['a', 'b', 'c', 'd', 'e', 'f', 'g', 'h', 'i', 'j'], dtype='object')"
            ]
          },
          "metadata": {},
          "execution_count": 5
        }
      ]
    },
    {
      "cell_type": "markdown",
      "source": [
        "We can access elements with the numeric index or the index value itself but this behavior will go away soon and the `.iloc[]` method should be used instead (we discuss the similar `DataFrames` `.iloc[]` method shortly)."
      ],
      "metadata": {
        "id": "I2Zymy224qlY"
      },
      "id": "I2Zymy224qlY"
    },
    {
      "cell_type": "code",
      "source": [
        "s2[2]"
      ],
      "metadata": {
        "id": "kVmovk434ukK",
        "outputId": "8db2796c-5b3c-4054-a9bd-7105716ac60a",
        "colab": {
          "base_uri": "https://localhost:8080/"
        }
      },
      "id": "kVmovk434ukK",
      "execution_count": 8,
      "outputs": [
        {
          "output_type": "stream",
          "name": "stderr",
          "text": [
            "<ipython-input-8-cebb55433caf>:1: FutureWarning: Series.__getitem__ treating keys as positions is deprecated. In a future version, integer keys will always be treated as labels (consistent with DataFrame behavior). To access a value by position, use `ser.iloc[pos]`\n",
            "  s2[2]\n"
          ]
        },
        {
          "output_type": "execute_result",
          "data": {
            "text/plain": [
              "0.6847043837681492"
            ]
          },
          "metadata": {},
          "execution_count": 8
        }
      ]
    },
    {
      "cell_type": "code",
      "source": [
        "s2[\"c\"]"
      ],
      "metadata": {
        "id": "HFOJd-Z94n8G",
        "outputId": "4710c537-8eef-4e17-e20b-78f44b6d5c2e",
        "colab": {
          "base_uri": "https://localhost:8080/"
        }
      },
      "id": "HFOJd-Z94n8G",
      "execution_count": 9,
      "outputs": [
        {
          "output_type": "execute_result",
          "data": {
            "text/plain": [
              "0.6847043837681492"
            ]
          },
          "metadata": {},
          "execution_count": 9
        }
      ]
    },
    {
      "cell_type": "markdown",
      "id": "842f04bd",
      "metadata": {
        "id": "842f04bd"
      },
      "source": [
        "- We can obtain just the values with of a `Series` using the `.values` attribute"
      ]
    },
    {
      "cell_type": "code",
      "execution_count": 10,
      "id": "5526d2cb",
      "metadata": {
        "lines_to_next_cell": 0,
        "id": "5526d2cb",
        "outputId": "164100c2-aae1-4546-b2a2-d92ea13f7928",
        "colab": {
          "base_uri": "https://localhost:8080/"
        }
      },
      "outputs": [
        {
          "output_type": "execute_result",
          "data": {
            "text/plain": [
              "array([ 2.75621353, -0.09099377,  0.34774583, -7.76586953,  9.19882953,\n",
              "        6.57666349,  0.69830865,  5.09522635,  3.12484268, -0.21529135])"
            ]
          },
          "metadata": {},
          "execution_count": 10
        }
      ],
      "source": [
        "s.values"
      ]
    },
    {
      "cell_type": "code",
      "source": [
        "s2.values"
      ],
      "metadata": {
        "id": "GfIY2T_q4-hC",
        "outputId": "3fd258a5-5219-47ee-db8c-f770f3dccd6c",
        "colab": {
          "base_uri": "https://localhost:8080/"
        }
      },
      "id": "GfIY2T_q4-hC",
      "execution_count": 11,
      "outputs": [
        {
          "output_type": "execute_result",
          "data": {
            "text/plain": [
              "array([ 5.9102698 ,  0.75777381,  0.68470438, -1.16858702,  3.81983228,\n",
              "        1.60320779,  4.18115486, -0.4287428 ,  2.50731139, -1.56909617])"
            ]
          },
          "metadata": {},
          "execution_count": 11
        }
      ]
    },
    {
      "cell_type": "markdown",
      "source": [
        "- Note that when you return the values you get back just a `numpy` array!"
      ],
      "metadata": {
        "id": "LvHVuqf65EWm"
      },
      "id": "LvHVuqf65EWm"
    },
    {
      "cell_type": "code",
      "source": [
        "type(s2.values)"
      ],
      "metadata": {
        "id": "KDzhe6uH5CMA",
        "outputId": "bbbc7dc2-7759-4aaa-bd74-2271793617dc",
        "colab": {
          "base_uri": "https://localhost:8080/"
        }
      },
      "id": "KDzhe6uH5CMA",
      "execution_count": 12,
      "outputs": [
        {
          "output_type": "execute_result",
          "data": {
            "text/plain": [
              "numpy.ndarray"
            ]
          },
          "metadata": {},
          "execution_count": 12
        }
      ]
    },
    {
      "cell_type": "markdown",
      "id": "44272825",
      "metadata": {
        "lines_to_next_cell": 0,
        "id": "44272825"
      },
      "source": [
        "---\n",
        "\n",
        "# Series Relation to Other Common Objects\n"
      ]
    },
    {
      "cell_type": "markdown",
      "source": [
        "### Relation to Dictionaries\n",
        "\n",
        "- Recall a dictionary consists of key/value pairs\n",
        "- When creating a `Series` from a dictionary, the keys of the dictionary become the indices\n"
      ],
      "metadata": {
        "id": "GwlLz_N15SdH"
      },
      "id": "GwlLz_N15SdH"
    },
    {
      "cell_type": "code",
      "execution_count": 13,
      "id": "31a487af",
      "metadata": {
        "lines_to_next_cell": 2,
        "id": "31a487af",
        "outputId": "2e82e01a-2081-43ac-85fc-ae44a019ea5a",
        "colab": {
          "base_uri": "https://localhost:8080/",
          "height": 198
        }
      },
      "outputs": [
        {
          "output_type": "execute_result",
          "data": {
            "text/plain": [
              "b    1\n",
              "a    0\n",
              "c    2\n",
              "dtype: int64"
            ],
            "text/html": [
              "<div>\n",
              "<style scoped>\n",
              "    .dataframe tbody tr th:only-of-type {\n",
              "        vertical-align: middle;\n",
              "    }\n",
              "\n",
              "    .dataframe tbody tr th {\n",
              "        vertical-align: top;\n",
              "    }\n",
              "\n",
              "    .dataframe thead th {\n",
              "        text-align: right;\n",
              "    }\n",
              "</style>\n",
              "<table border=\"1\" class=\"dataframe\">\n",
              "  <thead>\n",
              "    <tr style=\"text-align: right;\">\n",
              "      <th></th>\n",
              "      <th>0</th>\n",
              "    </tr>\n",
              "  </thead>\n",
              "  <tbody>\n",
              "    <tr>\n",
              "      <th>b</th>\n",
              "      <td>1</td>\n",
              "    </tr>\n",
              "    <tr>\n",
              "      <th>a</th>\n",
              "      <td>0</td>\n",
              "    </tr>\n",
              "    <tr>\n",
              "      <th>c</th>\n",
              "      <td>2</td>\n",
              "    </tr>\n",
              "  </tbody>\n",
              "</table>\n",
              "</div><br><label><b>dtype:</b> int64</label>"
            ]
          },
          "metadata": {},
          "execution_count": 13
        }
      ],
      "source": [
        "d = {'b': 1,\n",
        "     'a': 0,\n",
        "     'c': 2}\n",
        "pd.Series(d)"
      ]
    },
    {
      "cell_type": "markdown",
      "source": [
        "Here's an example with more complex values that show the values of a `Series` can be a list!"
      ],
      "metadata": {
        "id": "YwitPqbNlsAd"
      },
      "id": "YwitPqbNlsAd"
    },
    {
      "cell_type": "code",
      "execution_count": 15,
      "id": "04416957",
      "metadata": {
        "lines_to_next_cell": 2,
        "id": "04416957",
        "outputId": "77887bc8-74b1-47b5-8eb1-7e94a3cecacb",
        "colab": {
          "base_uri": "https://localhost:8080/",
          "height": 229
        }
      },
      "outputs": [
        {
          "output_type": "execute_result",
          "data": {
            "text/plain": [
              "AFCNorth     [Steelers, Browns, Ravens, Bengals]\n",
              "AFCEast        [Patriots, Jets, Dolphins, Bills]\n",
              "AFCWest     [Raiders, Chiefs, Chargers, Broncos]\n",
              "AFCSouth        [Texans, Colts, Jaguars, Titans]\n",
              "dtype: object"
            ],
            "text/html": [
              "<div>\n",
              "<style scoped>\n",
              "    .dataframe tbody tr th:only-of-type {\n",
              "        vertical-align: middle;\n",
              "    }\n",
              "\n",
              "    .dataframe tbody tr th {\n",
              "        vertical-align: top;\n",
              "    }\n",
              "\n",
              "    .dataframe thead th {\n",
              "        text-align: right;\n",
              "    }\n",
              "</style>\n",
              "<table border=\"1\" class=\"dataframe\">\n",
              "  <thead>\n",
              "    <tr style=\"text-align: right;\">\n",
              "      <th></th>\n",
              "      <th>0</th>\n",
              "    </tr>\n",
              "  </thead>\n",
              "  <tbody>\n",
              "    <tr>\n",
              "      <th>AFCNorth</th>\n",
              "      <td>[Steelers, Browns, Ravens, Bengals]</td>\n",
              "    </tr>\n",
              "    <tr>\n",
              "      <th>AFCEast</th>\n",
              "      <td>[Patriots, Jets, Dolphins, Bills]</td>\n",
              "    </tr>\n",
              "    <tr>\n",
              "      <th>AFCWest</th>\n",
              "      <td>[Raiders, Chiefs, Chargers, Broncos]</td>\n",
              "    </tr>\n",
              "    <tr>\n",
              "      <th>AFCSouth</th>\n",
              "      <td>[Texans, Colts, Jaguars, Titans]</td>\n",
              "    </tr>\n",
              "  </tbody>\n",
              "</table>\n",
              "</div><br><label><b>dtype:</b> object</label>"
            ]
          },
          "metadata": {},
          "execution_count": 15
        }
      ],
      "source": [
        "AFCDivisions = {\n",
        "  \"AFCNorth\": [\"Steelers\", \"Browns\", \"Ravens\", \"Bengals\"],\n",
        "  \"AFCEast\" : [\"Patriots\", \"Jets\", \"Dolphins\", \"Bills\"],\n",
        "  \"AFCWest\" : [\"Raiders\", \"Chiefs\", \"Chargers\", \"Broncos\"],\n",
        "  \"AFCSouth\": [\"Texans\", \"Colts\", \"Jaguars\", \"Titans\"]\n",
        "  }\n",
        "div_series = pd.Series(AFCDivisions)\n",
        "div_series"
      ]
    },
    {
      "cell_type": "markdown",
      "id": "c5d05dd2",
      "metadata": {
        "lines_to_next_cell": 0,
        "id": "c5d05dd2"
      },
      "source": [
        "- `Series` are like a fixed-size `dict` object\n",
        "\n",
        "    + Can get and set values within a `Series` using the index label\n",
        "    + But `Series` have an ordering to them so, unlike a dictionary, we can use a numeric index (although again, `.iloc[]` is now the preferred way to do numeric index subsetting)\n"
      ]
    },
    {
      "cell_type": "code",
      "source": [
        "div_series[\"AFCNorth\"]"
      ],
      "metadata": {
        "id": "-aOjPFr_6E6d",
        "outputId": "14e40b47-bf24-4f88-a55e-8af14f1c2b02",
        "colab": {
          "base_uri": "https://localhost:8080/"
        }
      },
      "id": "-aOjPFr_6E6d",
      "execution_count": 18,
      "outputs": [
        {
          "output_type": "execute_result",
          "data": {
            "text/plain": [
              "['Steelers', 'Browns', 'Ravens', 'Bengals']"
            ]
          },
          "metadata": {},
          "execution_count": 18
        }
      ]
    },
    {
      "cell_type": "code",
      "execution_count": 19,
      "id": "eefbc615",
      "metadata": {
        "id": "eefbc615",
        "outputId": "7e31d9d5-420c-4da5-a36b-0b9ca87a5d5c",
        "colab": {
          "base_uri": "https://localhost:8080/"
        }
      },
      "outputs": [
        {
          "output_type": "stream",
          "name": "stderr",
          "text": [
            "<ipython-input-19-8307f7ec4eaa>:1: FutureWarning: Series.__getitem__ treating keys as positions is deprecated. In a future version, integer keys will always be treated as labels (consistent with DataFrame behavior). To access a value by position, use `ser.iloc[pos]`\n",
            "  div_series[0]\n"
          ]
        },
        {
          "output_type": "execute_result",
          "data": {
            "text/plain": [
              "['Steelers', 'Browns', 'Ravens', 'Bengals']"
            ]
          },
          "metadata": {},
          "execution_count": 19
        }
      ],
      "source": [
        "div_series[0]"
      ]
    },
    {
      "cell_type": "code",
      "source": [
        "div_series.iloc[0]"
      ],
      "metadata": {
        "id": "o7Ta_HNAmBxX",
        "outputId": "d2da6745-0e55-429f-9d84-dc88c16cfe95",
        "colab": {
          "base_uri": "https://localhost:8080/"
        }
      },
      "id": "o7Ta_HNAmBxX",
      "execution_count": 22,
      "outputs": [
        {
          "output_type": "execute_result",
          "data": {
            "text/plain": [
              "['Steelers', 'Browns', 'Ravens', 'Bengals']"
            ]
          },
          "metadata": {},
          "execution_count": 22
        }
      ]
    },
    {
      "cell_type": "markdown",
      "id": "9e4a141f",
      "metadata": {
        "id": "9e4a141f"
      },
      "source": [
        "- We can check if an index occurs similar to how we could check if a key occurred in a dictionary"
      ]
    },
    {
      "cell_type": "code",
      "execution_count": 23,
      "id": "0dc2cc37",
      "metadata": {
        "lines_to_next_cell": 0,
        "id": "0dc2cc37",
        "outputId": "c76c231d-db29-4213-8466-ffdd7265a418",
        "colab": {
          "base_uri": "https://localhost:8080/"
        }
      },
      "outputs": [
        {
          "output_type": "stream",
          "name": "stdout",
          "text": [
            "True\n",
            "True\n"
          ]
        }
      ],
      "source": [
        "print(\"AFCNorth\" in AFCDivisions)\n",
        "print(\"AFCNorth\" in div_series)"
      ]
    },
    {
      "cell_type": "markdown",
      "id": "206158d0",
      "metadata": {
        "lines_to_next_cell": 0,
        "id": "206158d0"
      },
      "source": [
        "---\n",
        "\n",
        "### Relation to Numpy Arrays\n",
        "\n",
        "- Series behave very similarly to `NumPy`'s 1D `ndarray`\n",
        "- In fact, `NumPy` functions can typically take series as input!"
      ]
    },
    {
      "cell_type": "code",
      "execution_count": 24,
      "id": "14fe9783",
      "metadata": {
        "lines_to_next_cell": 0,
        "id": "14fe9783",
        "outputId": "d79537bb-bdaa-4a50-c72b-2a5b9b14eaba",
        "colab": {
          "base_uri": "https://localhost:8080/",
          "height": 418
        }
      },
      "outputs": [
        {
          "output_type": "execute_result",
          "data": {
            "text/plain": [
              "0    2.756214\n",
              "1   -0.090994\n",
              "2    0.347746\n",
              "3   -7.765870\n",
              "4    9.198830\n",
              "5    6.576663\n",
              "6    0.698309\n",
              "7    5.095226\n",
              "8    3.124843\n",
              "9   -0.215291\n",
              "dtype: float64"
            ],
            "text/html": [
              "<div>\n",
              "<style scoped>\n",
              "    .dataframe tbody tr th:only-of-type {\n",
              "        vertical-align: middle;\n",
              "    }\n",
              "\n",
              "    .dataframe tbody tr th {\n",
              "        vertical-align: top;\n",
              "    }\n",
              "\n",
              "    .dataframe thead th {\n",
              "        text-align: right;\n",
              "    }\n",
              "</style>\n",
              "<table border=\"1\" class=\"dataframe\">\n",
              "  <thead>\n",
              "    <tr style=\"text-align: right;\">\n",
              "      <th></th>\n",
              "      <th>0</th>\n",
              "    </tr>\n",
              "  </thead>\n",
              "  <tbody>\n",
              "    <tr>\n",
              "      <th>0</th>\n",
              "      <td>2.756214</td>\n",
              "    </tr>\n",
              "    <tr>\n",
              "      <th>1</th>\n",
              "      <td>-0.090994</td>\n",
              "    </tr>\n",
              "    <tr>\n",
              "      <th>2</th>\n",
              "      <td>0.347746</td>\n",
              "    </tr>\n",
              "    <tr>\n",
              "      <th>3</th>\n",
              "      <td>-7.765870</td>\n",
              "    </tr>\n",
              "    <tr>\n",
              "      <th>4</th>\n",
              "      <td>9.198830</td>\n",
              "    </tr>\n",
              "    <tr>\n",
              "      <th>5</th>\n",
              "      <td>6.576663</td>\n",
              "    </tr>\n",
              "    <tr>\n",
              "      <th>6</th>\n",
              "      <td>0.698309</td>\n",
              "    </tr>\n",
              "    <tr>\n",
              "      <th>7</th>\n",
              "      <td>5.095226</td>\n",
              "    </tr>\n",
              "    <tr>\n",
              "      <th>8</th>\n",
              "      <td>3.124843</td>\n",
              "    </tr>\n",
              "    <tr>\n",
              "      <th>9</th>\n",
              "      <td>-0.215291</td>\n",
              "    </tr>\n",
              "  </tbody>\n",
              "</table>\n",
              "</div><br><label><b>dtype:</b> float64</label>"
            ]
          },
          "metadata": {},
          "execution_count": 24
        }
      ],
      "source": [
        "s #was created from a numpy array!"
      ]
    },
    {
      "cell_type": "code",
      "source": [
        "np.exp(s)"
      ],
      "metadata": {
        "id": "pbrYrJxh6dnY",
        "outputId": "994486a1-da90-4db9-e614-61b9ece48791",
        "colab": {
          "base_uri": "https://localhost:8080/",
          "height": 418
        }
      },
      "id": "pbrYrJxh6dnY",
      "execution_count": 25,
      "outputs": [
        {
          "output_type": "execute_result",
          "data": {
            "text/plain": [
              "0      15.740130\n",
              "1       0.913023\n",
              "2       1.415872\n",
              "3       0.000424\n",
              "4    9885.551552\n",
              "5     718.139247\n",
              "6       2.010350\n",
              "7     163.240789\n",
              "8      22.756315\n",
              "9       0.806306\n",
              "dtype: float64"
            ],
            "text/html": [
              "<div>\n",
              "<style scoped>\n",
              "    .dataframe tbody tr th:only-of-type {\n",
              "        vertical-align: middle;\n",
              "    }\n",
              "\n",
              "    .dataframe tbody tr th {\n",
              "        vertical-align: top;\n",
              "    }\n",
              "\n",
              "    .dataframe thead th {\n",
              "        text-align: right;\n",
              "    }\n",
              "</style>\n",
              "<table border=\"1\" class=\"dataframe\">\n",
              "  <thead>\n",
              "    <tr style=\"text-align: right;\">\n",
              "      <th></th>\n",
              "      <th>0</th>\n",
              "    </tr>\n",
              "  </thead>\n",
              "  <tbody>\n",
              "    <tr>\n",
              "      <th>0</th>\n",
              "      <td>15.740130</td>\n",
              "    </tr>\n",
              "    <tr>\n",
              "      <th>1</th>\n",
              "      <td>0.913023</td>\n",
              "    </tr>\n",
              "    <tr>\n",
              "      <th>2</th>\n",
              "      <td>1.415872</td>\n",
              "    </tr>\n",
              "    <tr>\n",
              "      <th>3</th>\n",
              "      <td>0.000424</td>\n",
              "    </tr>\n",
              "    <tr>\n",
              "      <th>4</th>\n",
              "      <td>9885.551552</td>\n",
              "    </tr>\n",
              "    <tr>\n",
              "      <th>5</th>\n",
              "      <td>718.139247</td>\n",
              "    </tr>\n",
              "    <tr>\n",
              "      <th>6</th>\n",
              "      <td>2.010350</td>\n",
              "    </tr>\n",
              "    <tr>\n",
              "      <th>7</th>\n",
              "      <td>163.240789</td>\n",
              "    </tr>\n",
              "    <tr>\n",
              "      <th>8</th>\n",
              "      <td>22.756315</td>\n",
              "    </tr>\n",
              "    <tr>\n",
              "      <th>9</th>\n",
              "      <td>0.806306</td>\n",
              "    </tr>\n",
              "  </tbody>\n",
              "</table>\n",
              "</div><br><label><b>dtype:</b> float64</label>"
            ]
          },
          "metadata": {},
          "execution_count": 25
        }
      ]
    },
    {
      "cell_type": "markdown",
      "source": [
        "- Numerical operations are done element-wise"
      ],
      "metadata": {
        "id": "xNJqrpfu6fqK"
      },
      "id": "xNJqrpfu6fqK"
    },
    {
      "cell_type": "code",
      "execution_count": 26,
      "id": "19fae709",
      "metadata": {
        "lines_to_next_cell": 0,
        "id": "19fae709",
        "outputId": "f9be1fa8-9b28-4cc7-9eaa-14f1385b88e9",
        "colab": {
          "base_uri": "https://localhost:8080/",
          "height": 418
        }
      },
      "outputs": [
        {
          "output_type": "execute_result",
          "data": {
            "text/plain": [
              "0     8.268641\n",
              "1    -0.272981\n",
              "2     1.043237\n",
              "3   -23.297609\n",
              "4    27.596489\n",
              "5    19.729990\n",
              "6     2.094926\n",
              "7    15.285679\n",
              "8     9.374528\n",
              "9    -0.645874\n",
              "dtype: float64"
            ],
            "text/html": [
              "<div>\n",
              "<style scoped>\n",
              "    .dataframe tbody tr th:only-of-type {\n",
              "        vertical-align: middle;\n",
              "    }\n",
              "\n",
              "    .dataframe tbody tr th {\n",
              "        vertical-align: top;\n",
              "    }\n",
              "\n",
              "    .dataframe thead th {\n",
              "        text-align: right;\n",
              "    }\n",
              "</style>\n",
              "<table border=\"1\" class=\"dataframe\">\n",
              "  <thead>\n",
              "    <tr style=\"text-align: right;\">\n",
              "      <th></th>\n",
              "      <th>0</th>\n",
              "    </tr>\n",
              "  </thead>\n",
              "  <tbody>\n",
              "    <tr>\n",
              "      <th>0</th>\n",
              "      <td>8.268641</td>\n",
              "    </tr>\n",
              "    <tr>\n",
              "      <th>1</th>\n",
              "      <td>-0.272981</td>\n",
              "    </tr>\n",
              "    <tr>\n",
              "      <th>2</th>\n",
              "      <td>1.043237</td>\n",
              "    </tr>\n",
              "    <tr>\n",
              "      <th>3</th>\n",
              "      <td>-23.297609</td>\n",
              "    </tr>\n",
              "    <tr>\n",
              "      <th>4</th>\n",
              "      <td>27.596489</td>\n",
              "    </tr>\n",
              "    <tr>\n",
              "      <th>5</th>\n",
              "      <td>19.729990</td>\n",
              "    </tr>\n",
              "    <tr>\n",
              "      <th>6</th>\n",
              "      <td>2.094926</td>\n",
              "    </tr>\n",
              "    <tr>\n",
              "      <th>7</th>\n",
              "      <td>15.285679</td>\n",
              "    </tr>\n",
              "    <tr>\n",
              "      <th>8</th>\n",
              "      <td>9.374528</td>\n",
              "    </tr>\n",
              "    <tr>\n",
              "      <th>9</th>\n",
              "      <td>-0.645874</td>\n",
              "    </tr>\n",
              "  </tbody>\n",
              "</table>\n",
              "</div><br><label><b>dtype:</b> float64</label>"
            ]
          },
          "metadata": {},
          "execution_count": 26
        }
      ],
      "source": [
        "s * 3"
      ]
    },
    {
      "cell_type": "markdown",
      "id": "5ae2809e",
      "metadata": {
        "lines_to_next_cell": 0,
        "id": "5ae2809e"
      },
      "source": [
        "---\n",
        "\n",
        "### Relation to lists\n",
        "\n",
        "- Series are like a `list` object in that you can\n",
        "\n",
        "    + get and set values by integer index location\n",
        "    + can using slicing with `:`\n"
      ]
    },
    {
      "cell_type": "code",
      "execution_count": 29,
      "id": "88385790",
      "metadata": {
        "lines_to_next_cell": 0,
        "id": "88385790",
        "outputId": "8be7b6c1-bdc3-49e2-944b-b77702764723",
        "colab": {
          "base_uri": "https://localhost:8080/",
          "height": 418
        }
      },
      "outputs": [
        {
          "output_type": "execute_result",
          "data": {
            "text/plain": [
              "0    2.756214\n",
              "1   -0.090994\n",
              "2    0.347746\n",
              "3   -7.765870\n",
              "4    0.000000\n",
              "5    6.576663\n",
              "6    0.698309\n",
              "7    5.095226\n",
              "8    3.124843\n",
              "9   -0.215291\n",
              "dtype: float64"
            ],
            "text/html": [
              "<div>\n",
              "<style scoped>\n",
              "    .dataframe tbody tr th:only-of-type {\n",
              "        vertical-align: middle;\n",
              "    }\n",
              "\n",
              "    .dataframe tbody tr th {\n",
              "        vertical-align: top;\n",
              "    }\n",
              "\n",
              "    .dataframe thead th {\n",
              "        text-align: right;\n",
              "    }\n",
              "</style>\n",
              "<table border=\"1\" class=\"dataframe\">\n",
              "  <thead>\n",
              "    <tr style=\"text-align: right;\">\n",
              "      <th></th>\n",
              "      <th>0</th>\n",
              "    </tr>\n",
              "  </thead>\n",
              "  <tbody>\n",
              "    <tr>\n",
              "      <th>0</th>\n",
              "      <td>2.756214</td>\n",
              "    </tr>\n",
              "    <tr>\n",
              "      <th>1</th>\n",
              "      <td>-0.090994</td>\n",
              "    </tr>\n",
              "    <tr>\n",
              "      <th>2</th>\n",
              "      <td>0.347746</td>\n",
              "    </tr>\n",
              "    <tr>\n",
              "      <th>3</th>\n",
              "      <td>-7.765870</td>\n",
              "    </tr>\n",
              "    <tr>\n",
              "      <th>4</th>\n",
              "      <td>0.000000</td>\n",
              "    </tr>\n",
              "    <tr>\n",
              "      <th>5</th>\n",
              "      <td>6.576663</td>\n",
              "    </tr>\n",
              "    <tr>\n",
              "      <th>6</th>\n",
              "      <td>0.698309</td>\n",
              "    </tr>\n",
              "    <tr>\n",
              "      <th>7</th>\n",
              "      <td>5.095226</td>\n",
              "    </tr>\n",
              "    <tr>\n",
              "      <th>8</th>\n",
              "      <td>3.124843</td>\n",
              "    </tr>\n",
              "    <tr>\n",
              "      <th>9</th>\n",
              "      <td>-0.215291</td>\n",
              "    </tr>\n",
              "  </tbody>\n",
              "</table>\n",
              "</div><br><label><b>dtype:</b> float64</label>"
            ]
          },
          "metadata": {},
          "execution_count": 29
        }
      ],
      "source": [
        "s[4] = 0\n",
        "s"
      ]
    },
    {
      "cell_type": "code",
      "source": [
        "s[:5]"
      ],
      "metadata": {
        "id": "xuMgZGu47Ojm",
        "outputId": "c52931a3-9bed-4811-8a4b-c9bec92aa2b3",
        "colab": {
          "base_uri": "https://localhost:8080/",
          "height": 261
        }
      },
      "id": "xuMgZGu47Ojm",
      "execution_count": 30,
      "outputs": [
        {
          "output_type": "execute_result",
          "data": {
            "text/plain": [
              "0    2.756214\n",
              "1   -0.090994\n",
              "2    0.347746\n",
              "3   -7.765870\n",
              "4    0.000000\n",
              "dtype: float64"
            ],
            "text/html": [
              "<div>\n",
              "<style scoped>\n",
              "    .dataframe tbody tr th:only-of-type {\n",
              "        vertical-align: middle;\n",
              "    }\n",
              "\n",
              "    .dataframe tbody tr th {\n",
              "        vertical-align: top;\n",
              "    }\n",
              "\n",
              "    .dataframe thead th {\n",
              "        text-align: right;\n",
              "    }\n",
              "</style>\n",
              "<table border=\"1\" class=\"dataframe\">\n",
              "  <thead>\n",
              "    <tr style=\"text-align: right;\">\n",
              "      <th></th>\n",
              "      <th>0</th>\n",
              "    </tr>\n",
              "  </thead>\n",
              "  <tbody>\n",
              "    <tr>\n",
              "      <th>0</th>\n",
              "      <td>2.756214</td>\n",
              "    </tr>\n",
              "    <tr>\n",
              "      <th>1</th>\n",
              "      <td>-0.090994</td>\n",
              "    </tr>\n",
              "    <tr>\n",
              "      <th>2</th>\n",
              "      <td>0.347746</td>\n",
              "    </tr>\n",
              "    <tr>\n",
              "      <th>3</th>\n",
              "      <td>-7.765870</td>\n",
              "    </tr>\n",
              "    <tr>\n",
              "      <th>4</th>\n",
              "      <td>0.000000</td>\n",
              "    </tr>\n",
              "  </tbody>\n",
              "</table>\n",
              "</div><br><label><b>dtype:</b> float64</label>"
            ]
          },
          "metadata": {},
          "execution_count": 30
        }
      ]
    },
    {
      "cell_type": "code",
      "source": [
        "s[3:5]"
      ],
      "metadata": {
        "id": "Rmgt3bvU7Rcw",
        "outputId": "26c7e375-bb6a-4b39-9dda-f0bdb5345c11",
        "colab": {
          "base_uri": "https://localhost:8080/",
          "height": 167
        }
      },
      "id": "Rmgt3bvU7Rcw",
      "execution_count": 31,
      "outputs": [
        {
          "output_type": "execute_result",
          "data": {
            "text/plain": [
              "3   -7.76587\n",
              "4    0.00000\n",
              "dtype: float64"
            ],
            "text/html": [
              "<div>\n",
              "<style scoped>\n",
              "    .dataframe tbody tr th:only-of-type {\n",
              "        vertical-align: middle;\n",
              "    }\n",
              "\n",
              "    .dataframe tbody tr th {\n",
              "        vertical-align: top;\n",
              "    }\n",
              "\n",
              "    .dataframe thead th {\n",
              "        text-align: right;\n",
              "    }\n",
              "</style>\n",
              "<table border=\"1\" class=\"dataframe\">\n",
              "  <thead>\n",
              "    <tr style=\"text-align: right;\">\n",
              "      <th></th>\n",
              "      <th>0</th>\n",
              "    </tr>\n",
              "  </thead>\n",
              "  <tbody>\n",
              "    <tr>\n",
              "      <th>3</th>\n",
              "      <td>-7.76587</td>\n",
              "    </tr>\n",
              "    <tr>\n",
              "      <th>4</th>\n",
              "      <td>0.00000</td>\n",
              "    </tr>\n",
              "  </tbody>\n",
              "</table>\n",
              "</div><br><label><b>dtype:</b> float64</label>"
            ]
          },
          "metadata": {},
          "execution_count": 31
        }
      ]
    },
    {
      "cell_type": "markdown",
      "id": "5b9f70b6",
      "metadata": {
        "id": "5b9f70b6"
      },
      "source": [
        "---\n",
        "\n",
        "# Recap\n",
        "\n",
        "- `Pandas` `Series` will make up `Pandas` `DataFrames`\n",
        "    + Each column of a `DataFrame` is made up of a `Series`\n",
        "- `Series` are:\n",
        "    + a 1D data structure with indices and values    \n",
        "\n",
        "If you are on the course website, use the table of contents on the left or the arrows at the bottom of this page to navigate to the next learning material!\n",
        "\n",
        "If you are on Google Colab, head back to our course website for [our next lesson](https://jbpost2.github.io/ST-554-Big-Data-with-Python/01_Programming_in_python/15-Pandas_Data_Frames.html)!\n"
      ]
    }
  ],
  "metadata": {
    "jupytext": {
      "cell_metadata_filter": "warning,message,tags,-all",
      "main_language": "python",
      "notebook_metadata_filter": "-all"
    },
    "colab": {
      "provenance": [],
      "toc_visible": true,
      "include_colab_link": true
    },
    "language_info": {
      "name": "python"
    },
    "kernelspec": {
      "name": "python3",
      "display_name": "Python 3"
    }
  },
  "nbformat": 4,
  "nbformat_minor": 5
}