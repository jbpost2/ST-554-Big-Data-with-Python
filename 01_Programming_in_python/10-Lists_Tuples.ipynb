{
  "cells": [
    {
      "cell_type": "markdown",
      "metadata": {
        "id": "view-in-github",
        "colab_type": "text"
      },
      "source": [
        "<a href=\"https://colab.research.google.com/github/jbpost2/ST-554-Big-Data-with-Python/blob/main/01_Programming_in_python/10-Lists_Tuples.ipynb\" target=\"_parent\"><img src=\"https://colab.research.google.com/assets/colab-badge.svg\" alt=\"Open In Colab\"/></a>"
      ]
    },
    {
      "cell_type": "markdown",
      "id": "4439e91c",
      "metadata": {
        "id": "4439e91c"
      },
      "source": [
        "# Lists and Tuples\n",
        "\n",
        "Now we'll look a bit more at lists and introduce tuples - basically an immutable list.\n",
        "\n",
        "Recall our plan as we go through our common data types:\n",
        "- Learn how to create\n",
        "- Consider commonly used functions and methods\n",
        "- See control flow and other tricks along the way\n",
        "\n",
        "Note: These types of webpages are built from Jupyter notebooks (`.ipynb` files). You can access your own versions of them by [clicking here](https://colab.research.google.com/github/jbpost2/ST-554-Big-Data-with-Python/blob/main/01_Programming_in_python/10-Lists_Tuples.ipynb). **It is highly recommended that you go through and run the notebooks yourself, modifying and rerunning things where you'd like!**\n",
        "\n",
        "---\n"
      ]
    },
    {
      "cell_type": "markdown",
      "id": "fe956a98",
      "metadata": {
        "id": "fe956a98"
      },
      "source": [
        "# Properties of lists and tuples:\n",
        "\n",
        "Both are:\n",
        "- One-dimensional  \n",
        "- Heterogenous  \n",
        "- Have an ordering (starting at 0)\n",
        "- Can have duplicate values  \n",
        "\n",
        "A few differences:\n",
        "\n",
        "- lists are mutable but tuples are not (cannot be modified)\n",
        "- lists take up more memory"
      ]
    },
    {
      "cell_type": "markdown",
      "source": [
        "# Lists"
      ],
      "metadata": {
        "id": "hAl0pBMqgII_"
      },
      "id": "hAl0pBMqgII_"
    },
    {
      "cell_type": "markdown",
      "id": "a85fc93f",
      "metadata": {
        "id": "a85fc93f"
      },
      "source": [
        "## Constructing a List\n",
        "\n",
        "Earlier we saw there were four ways to construct lists (although we didn't go through them all)\n",
        "- `[element1, element2]`\n",
        "- `list((element1, element2, ...))`\n",
        "- an empty list and use the `.append()` method to add elements\n",
        "- list comprehensions"
      ]
    },
    {
      "cell_type": "markdown",
      "id": "e60c0b7c",
      "metadata": {
        "id": "e60c0b7c"
      },
      "source": [
        "---\n",
        "\n",
        "#### Constructing a list from and empty list\n",
        "\n",
        "- Create an empty list and use the append method to add elements"
      ]
    },
    {
      "cell_type": "code",
      "execution_count": 1,
      "id": "f696c0e6",
      "metadata": {
        "id": "f696c0e6"
      },
      "outputs": [],
      "source": [
        "mylist = []\n",
        "# or\n",
        "mylist = list()"
      ]
    },
    {
      "cell_type": "markdown",
      "id": "c4dbc7c8",
      "metadata": {
        "id": "c4dbc7c8"
      },
      "source": [
        "- Add elements with `.append()`"
      ]
    },
    {
      "cell_type": "code",
      "execution_count": 2,
      "id": "4bd178fe",
      "metadata": {
        "lines_to_next_cell": 0,
        "id": "4bd178fe",
        "outputId": "cfc131f0-efa0-4750-a70e-af85ccdb70d8",
        "colab": {
          "base_uri": "https://localhost:8080/"
        }
      },
      "outputs": [
        {
          "output_type": "execute_result",
          "data": {
            "text/plain": [
              "['Dog', 'Cat']"
            ]
          },
          "metadata": {},
          "execution_count": 2
        }
      ],
      "source": [
        "mylist.append(\"Dog\")\n",
        "mylist.append(\"Cat\")\n",
        "mylist"
      ]
    },
    {
      "cell_type": "markdown",
      "id": "fcceaef5",
      "metadata": {
        "id": "fcceaef5"
      },
      "source": [
        "---\n",
        "\n",
        "#### Constructing a List using `[]`\n",
        "\n",
        "- Create an empty list and use the append method to add elements\n",
        "- Often used with a for loop"
      ]
    },
    {
      "cell_type": "code",
      "execution_count": 3,
      "id": "bc3b8b7d",
      "metadata": {
        "lines_to_next_cell": 2,
        "id": "bc3b8b7d",
        "outputId": "357bc9f8-c915-466c-d6fb-f26e8c68c459",
        "colab": {
          "base_uri": "https://localhost:8080/"
        }
      },
      "outputs": [
        {
          "output_type": "execute_result",
          "data": {
            "text/plain": [
              "['Dog', 'Horse', 'Frog', 'Cow', 'Buffalo', 'Fox', 'Racoon']"
            ]
          },
          "metadata": {},
          "execution_count": 3
        }
      ],
      "source": [
        "animals = [\"Dog\", \"Cat\", \"Horse\", \"Frog\", \"Cow\", \"Buffalo\", \"Deer\", \"Fish\", \"Bird\", \"Fox\", \"Racoon\"]\n",
        "mylist = []\n",
        "\n",
        "for x in animals:\n",
        "    if \"o\" in x:\n",
        "        mylist.append(x)\n",
        "\n",
        "mylist"
      ]
    },
    {
      "cell_type": "markdown",
      "id": "4223ee59",
      "metadata": {
        "id": "4223ee59"
      },
      "source": [
        "---\n",
        "\n",
        "#### Constructing a list using list comprehensions\n",
        "\n",
        "- Rather than write the loop out, you can use *list comprehensions* (shorthand!)\n",
        "\n",
        "- The general syntax for list comprehensions is:\n",
        "\n",
        "  `[expression for member in iterable]`\n",
        "\n",
        "- Let's do a quick example. First, the for loop way:"
      ]
    },
    {
      "cell_type": "code",
      "execution_count": 4,
      "id": "b194556a",
      "metadata": {
        "id": "b194556a"
      },
      "outputs": [],
      "source": [
        "animals = [\"Dog\", \"Cat\", \"Horse\", \"Frog\", \"Cow\", \"Buffalo\", \"Deer\", \"Fish\", \"Bird\", \"Fox\", \"Racoon\"]\n",
        "mylist = []\n",
        "for x in animals:\n",
        "    mylist.append(x)"
      ]
    },
    {
      "cell_type": "markdown",
      "source": [
        "- Now, we can do the same thing with shorthand!"
      ],
      "metadata": {
        "id": "4m9fS4qAcuc2"
      },
      "id": "4m9fS4qAcuc2"
    },
    {
      "cell_type": "code",
      "execution_count": 5,
      "id": "2569e54e",
      "metadata": {
        "id": "2569e54e",
        "outputId": "778bc42a-6673-4173-8dab-ce7572ecb896",
        "colab": {
          "base_uri": "https://localhost:8080/"
        }
      },
      "outputs": [
        {
          "output_type": "execute_result",
          "data": {
            "text/plain": [
              "['Dog',\n",
              " 'Cat',\n",
              " 'Horse',\n",
              " 'Frog',\n",
              " 'Cow',\n",
              " 'Buffalo',\n",
              " 'Deer',\n",
              " 'Fish',\n",
              " 'Bird',\n",
              " 'Fox',\n",
              " 'Racoon']"
            ]
          },
          "metadata": {},
          "execution_count": 5
        }
      ],
      "source": [
        "mylist = [x for x in animals] #for x in animals, return x (essentially)\n",
        "mylist"
      ]
    },
    {
      "cell_type": "markdown",
      "id": "6cc7b042",
      "metadata": {
        "id": "6cc7b042"
      },
      "source": [
        "- You can do more complicated things with list comprehensions as well. For instance, we can include condition logic.\n",
        "\n",
        "  `[expression for member in iterable (if conditional)]`\n",
        "\n",
        "- First the for loop way:"
      ]
    },
    {
      "cell_type": "code",
      "execution_count": 6,
      "id": "d4ebffc9",
      "metadata": {
        "id": "d4ebffc9"
      },
      "outputs": [],
      "source": [
        "animals = [\"Dog\", \"Cat\", \"Horse\", \"Frog\", \"Cow\", \"Buffalo\", \"Deer\", \"Fish\", \"Bird\", \"Fox\", \"Racoon\"]\n",
        "for x in animals:\n",
        "    if \"o\" in x:\n",
        "        mylist.append(x)"
      ]
    },
    {
      "cell_type": "markdown",
      "source": [
        "- Now using a list comprehension:\n"
      ],
      "metadata": {
        "id": "UmhApY-Td-fc"
      },
      "id": "UmhApY-Td-fc"
    },
    {
      "cell_type": "code",
      "execution_count": 7,
      "id": "124b30c0",
      "metadata": {
        "id": "124b30c0",
        "outputId": "40d637db-06d6-4cea-ea67-cb14940ccd65",
        "colab": {
          "base_uri": "https://localhost:8080/"
        }
      },
      "outputs": [
        {
          "output_type": "execute_result",
          "data": {
            "text/plain": [
              "['Dog', 'Horse', 'Frog', 'Cow', 'Buffalo', 'Fox', 'Racoon']"
            ]
          },
          "metadata": {},
          "execution_count": 7
        }
      ],
      "source": [
        "mylist = [x for x in animals if \"o\" in x]\n",
        "mylist"
      ]
    },
    {
      "cell_type": "markdown",
      "id": "448df3a7",
      "metadata": {
        "id": "448df3a7"
      },
      "source": [
        "- We can also modify the thing that gets put into the loop. Check out this example where we upper case the string.\n",
        "- First the for loop way:"
      ]
    },
    {
      "cell_type": "code",
      "execution_count": 8,
      "id": "7779d49b",
      "metadata": {
        "lines_to_next_cell": 0,
        "id": "7779d49b",
        "outputId": "598ce357-1e6a-4fbf-d7cc-20ac42f775ee",
        "colab": {
          "base_uri": "https://localhost:8080/"
        }
      },
      "outputs": [
        {
          "output_type": "execute_result",
          "data": {
            "text/plain": [
              "['DOG', 'HORSE', 'FROG', 'COW', 'BUFFALO', 'FOX', 'RACOON']"
            ]
          },
          "metadata": {},
          "execution_count": 8
        }
      ],
      "source": [
        "animals = [\"Dog\", \"Cat\", \"Horse\", \"Frog\", \"Cow\", \"Buffalo\", \"Deer\", \"Fish\", \"Bird\", \"Fox\", \"Racoon\"]\n",
        "mylist = []\n",
        "\n",
        "for x in animals:\n",
        "    if \"o\" in x:\n",
        "        mylist.append(x.upper()) #upper case prior to appending\n",
        "\n",
        "mylist"
      ]
    },
    {
      "cell_type": "markdown",
      "id": "a560d0d1",
      "metadata": {
        "id": "a560d0d1"
      },
      "source": [
        "- Now using a list comprehension:"
      ]
    },
    {
      "cell_type": "code",
      "execution_count": 9,
      "id": "243ce023",
      "metadata": {
        "lines_to_next_cell": 2,
        "id": "243ce023",
        "outputId": "33c7f3bb-eeb1-4402-ebfc-a17e4e059a29",
        "colab": {
          "base_uri": "https://localhost:8080/"
        }
      },
      "outputs": [
        {
          "output_type": "execute_result",
          "data": {
            "text/plain": [
              "['DOG', 'HORSE', 'FROG', 'COW', 'BUFFALO', 'FOX', 'RACOON']"
            ]
          },
          "metadata": {},
          "execution_count": 9
        }
      ],
      "source": [
        "mylist = [x.upper() for x in animals if \"o\" in x]\n",
        "mylist"
      ]
    },
    {
      "cell_type": "markdown",
      "id": "8293335b",
      "metadata": {
        "id": "8293335b"
      },
      "source": [
        "---\n",
        "\n",
        "## Reminder About Strings\n",
        "\n",
        "- Strings are a sequence type object (so you can iterate over them naturally)"
      ]
    },
    {
      "cell_type": "code",
      "execution_count": 10,
      "id": "848345d1",
      "metadata": {
        "id": "848345d1",
        "outputId": "886c3145-0814-410c-f638-29d58840422d",
        "colab": {
          "base_uri": "https://localhost:8080/"
        }
      },
      "outputs": [
        {
          "output_type": "execute_result",
          "data": {
            "text/plain": [
              "['a', 'o', 'o', 'e', 'e', 'a', 'i', 'a', 'i', 'o']"
            ]
          },
          "metadata": {},
          "execution_count": 10
        }
      ],
      "source": [
        "mylist = []\n",
        "for x in \"Man do I love learning all this python!\":\n",
        "    if x in \"aeiou\":\n",
        "        mylist.append(x)\n",
        "mylist"
      ]
    },
    {
      "cell_type": "markdown",
      "id": "ce50458c",
      "metadata": {
        "id": "ce50458c"
      },
      "source": [
        "- That means we can do something like the for loop above using list comprehensions!"
      ]
    },
    {
      "cell_type": "code",
      "execution_count": 11,
      "id": "5f4442c3",
      "metadata": {
        "lines_to_next_cell": 2,
        "id": "5f4442c3",
        "outputId": "9f0eefcf-4bf8-42be-9b1c-4419132a6119",
        "colab": {
          "base_uri": "https://localhost:8080/"
        }
      },
      "outputs": [
        {
          "output_type": "execute_result",
          "data": {
            "text/plain": [
              "['a', 'o', 'o', 'e', 'e', 'a', 'i', 'a', 'i', 'o']"
            ]
          },
          "metadata": {},
          "execution_count": 11
        }
      ],
      "source": [
        "mylist = [x for x in \"Man do I love learning all this python!\" if x in \"aeiou\"]\n",
        "mylist"
      ]
    },
    {
      "cell_type": "markdown",
      "id": "f3f5a85b",
      "metadata": {
        "lines_to_next_cell": 0,
        "id": "f3f5a85b"
      },
      "source": [
        "---\n",
        "\n",
        "## List Operations (Indexing & Slicing)\n",
        "\n",
        "Recall:\n",
        "\n",
        "- Index with a `[]` (just like strings)\n",
        "- Counting starts at 0"
      ]
    },
    {
      "cell_type": "code",
      "execution_count": 12,
      "id": "7d2c9c1b",
      "metadata": {
        "lines_to_next_cell": 0,
        "id": "7d2c9c1b",
        "outputId": "e61f7ab0-0e07-4a84-8f72-7a79cdcb65ba",
        "colab": {
          "base_uri": "https://localhost:8080/"
        }
      },
      "outputs": [
        {
          "output_type": "execute_result",
          "data": {
            "text/plain": [
              "10"
            ]
          },
          "metadata": {},
          "execution_count": 12
        }
      ],
      "source": [
        "x = [10, 15, 10, 100, \"Help!\"]\n",
        "x[0]"
      ]
    },
    {
      "cell_type": "code",
      "source": [
        "x[1]"
      ],
      "metadata": {
        "id": "uNRqFVw_eieD",
        "outputId": "46defeb7-8ba3-4d9b-c15d-283da3528fd8",
        "colab": {
          "base_uri": "https://localhost:8080/"
        }
      },
      "id": "uNRqFVw_eieD",
      "execution_count": 13,
      "outputs": [
        {
          "output_type": "execute_result",
          "data": {
            "text/plain": [
              "15"
            ]
          },
          "metadata": {},
          "execution_count": 13
        }
      ]
    },
    {
      "cell_type": "code",
      "source": [
        "x[-1]"
      ],
      "metadata": {
        "id": "ITNn36EAejXy",
        "outputId": "52e5addc-c8c7-4d34-8ff7-997601741f1c",
        "colab": {
          "base_uri": "https://localhost:8080/",
          "height": 55
        }
      },
      "id": "ITNn36EAejXy",
      "execution_count": 14,
      "outputs": [
        {
          "output_type": "execute_result",
          "data": {
            "text/plain": [
              "'Help!'"
            ],
            "application/vnd.google.colaboratory.intrinsic+json": {
              "type": "string"
            }
          },
          "metadata": {},
          "execution_count": 14
        }
      ]
    },
    {
      "cell_type": "markdown",
      "id": "d5225c21",
      "metadata": {
        "id": "d5225c21"
      },
      "source": [
        "- Multiple elements at once with `:`\n",
        "- Remember the last number isn't included and the counting starts at 0\n",
        "  + `:2` is really giving you 0 and 1"
      ]
    },
    {
      "cell_type": "code",
      "execution_count": 15,
      "id": "aaa8bb0e",
      "metadata": {
        "lines_to_next_cell": 0,
        "id": "aaa8bb0e",
        "outputId": "6bd6d4e6-0803-42e1-f1d7-46da4c3cde63",
        "colab": {
          "base_uri": "https://localhost:8080/"
        }
      },
      "outputs": [
        {
          "output_type": "execute_result",
          "data": {
            "text/plain": [
              "[10, 15]"
            ]
          },
          "metadata": {},
          "execution_count": 15
        }
      ],
      "source": [
        "x[:2]"
      ]
    },
    {
      "cell_type": "code",
      "source": [
        "x[1:]"
      ],
      "metadata": {
        "id": "F6uk3GxienZ5",
        "outputId": "361faf01-0292-4f65-c951-09e114efead5",
        "colab": {
          "base_uri": "https://localhost:8080/"
        }
      },
      "id": "F6uk3GxienZ5",
      "execution_count": 16,
      "outputs": [
        {
          "output_type": "execute_result",
          "data": {
            "text/plain": [
              "[15, 10, 100, 'Help!']"
            ]
          },
          "metadata": {},
          "execution_count": 16
        }
      ]
    },
    {
      "cell_type": "code",
      "source": [
        "x[1:3]"
      ],
      "metadata": {
        "id": "cIS3DLFFeofJ",
        "outputId": "fc4d0fbb-4f95-466c-ed9d-5a9c19c699c7",
        "colab": {
          "base_uri": "https://localhost:8080/"
        }
      },
      "id": "cIS3DLFFeofJ",
      "execution_count": 17,
      "outputs": [
        {
          "output_type": "execute_result",
          "data": {
            "text/plain": [
              "[15, 10]"
            ]
          },
          "metadata": {},
          "execution_count": 17
        }
      ]
    },
    {
      "cell_type": "code",
      "source": [
        "x[1:4:2]"
      ],
      "metadata": {
        "id": "WOnULRneepWS",
        "outputId": "364dcc86-94fd-42c7-8360-0d04d2f5a607",
        "colab": {
          "base_uri": "https://localhost:8080/"
        }
      },
      "id": "WOnULRneepWS",
      "execution_count": 18,
      "outputs": [
        {
          "output_type": "execute_result",
          "data": {
            "text/plain": [
              "[15, 100]"
            ]
          },
          "metadata": {},
          "execution_count": 18
        }
      ]
    },
    {
      "cell_type": "markdown",
      "id": "f0a069ee",
      "metadata": {
        "id": "f0a069ee"
      },
      "source": [
        "---\n",
        "\n",
        "## Lists are Mutable\n",
        "\n",
        "- That is, we can replace or change elements of a list"
      ]
    },
    {
      "cell_type": "code",
      "execution_count": 19,
      "id": "a9adea2f",
      "metadata": {
        "lines_to_next_cell": 0,
        "id": "a9adea2f",
        "outputId": "af5a5b79-4f6a-4af3-f19a-2d2913e473ec",
        "colab": {
          "base_uri": "https://localhost:8080/"
        }
      },
      "outputs": [
        {
          "output_type": "execute_result",
          "data": {
            "text/plain": [
              "[11, 15, 10, 100, 'Help!']"
            ]
          },
          "metadata": {},
          "execution_count": 19
        }
      ],
      "source": [
        "x = [10, 15, 10, 100, \"Help!\"]\n",
        "x[0] = 11\n",
        "x"
      ]
    },
    {
      "cell_type": "code",
      "source": [
        "x[1] = [\"hi\", \"ho\"]\n",
        "x"
      ],
      "metadata": {
        "id": "JjWIozFQe13I",
        "outputId": "637f397d-67bf-407d-9df4-2520cef14334",
        "colab": {
          "base_uri": "https://localhost:8080/"
        }
      },
      "id": "JjWIozFQe13I",
      "execution_count": 20,
      "outputs": [
        {
          "output_type": "execute_result",
          "data": {
            "text/plain": [
              "[11, ['hi', 'ho'], 10, 100, 'Help!']"
            ]
          },
          "metadata": {},
          "execution_count": 20
        }
      ]
    },
    {
      "cell_type": "code",
      "source": [
        "x[1:3] = [1, 2]\n",
        "x"
      ],
      "metadata": {
        "id": "EQ1w-0Cqe2tZ",
        "outputId": "2eebbb1c-171b-45fc-bc42-a54ffa95ea20",
        "colab": {
          "base_uri": "https://localhost:8080/"
        }
      },
      "id": "EQ1w-0Cqe2tZ",
      "execution_count": 21,
      "outputs": [
        {
          "output_type": "execute_result",
          "data": {
            "text/plain": [
              "[11, 1, 2, 100, 'Help!']"
            ]
          },
          "metadata": {},
          "execution_count": 21
        }
      ]
    },
    {
      "cell_type": "markdown",
      "id": "4d88e239",
      "metadata": {
        "id": "4d88e239"
      },
      "source": [
        "---\n",
        "\n",
        "## List Methods  \n",
        "\n",
        "[Many useful methods](https://docs.python.org/3/tutorial/datastructures.html#tuples-and-sequences) to modify lists:\n",
        "\n",
        "- `mylist.append(object_to_add)`"
      ]
    },
    {
      "cell_type": "code",
      "execution_count": 22,
      "id": "19ee51db",
      "metadata": {
        "id": "19ee51db",
        "outputId": "cc61d67a-3e7a-4a07-83d5-003ad76062cc",
        "colab": {
          "base_uri": "https://localhost:8080/"
        }
      },
      "outputs": [
        {
          "output_type": "execute_result",
          "data": {
            "text/plain": [
              "[1, 2, 3, 4, 5, 6, 7, 8, 9, ['a', 'b', 'c', 'd', 'e']]"
            ]
          },
          "metadata": {},
          "execution_count": 22
        }
      ],
      "source": [
        "x = [x for x in range(1,10)]\n",
        "y = [y for y in \"abcde\"]\n",
        "x.append(y) #modifies x\n",
        "x"
      ]
    },
    {
      "cell_type": "markdown",
      "id": "59de66c8",
      "metadata": {
        "id": "59de66c8"
      },
      "source": [
        "- `mylist.extend(object_to_add)`"
      ]
    },
    {
      "cell_type": "code",
      "execution_count": 23,
      "id": "f4171b9f",
      "metadata": {
        "lines_to_next_cell": 0,
        "id": "f4171b9f",
        "outputId": "69f36f2b-088c-460b-cace-4a757075e816",
        "colab": {
          "base_uri": "https://localhost:8080/"
        }
      },
      "outputs": [
        {
          "output_type": "execute_result",
          "data": {
            "text/plain": [
              "[1, 2, 3, 4, 5, 6, 7, 8, 9, 'a', 'b', 'c', 'd', 'e']"
            ]
          },
          "metadata": {},
          "execution_count": 23
        }
      ],
      "source": [
        "x = [x for x in range(1,10)]\n",
        "y = [y for y in \"abcde\"]\n",
        "x.extend(y) #modifies x and iterates over list elements rather than appending a list into x\n",
        "x"
      ]
    },
    {
      "cell_type": "markdown",
      "source": [
        "- Using `+` is similar but doesn't overwrite `x`"
      ],
      "metadata": {
        "id": "9q3s4gdCe9Dp"
      },
      "id": "9q3s4gdCe9Dp"
    },
    {
      "cell_type": "code",
      "execution_count": 24,
      "id": "ba6f84ab",
      "metadata": {
        "lines_to_next_cell": 2,
        "id": "ba6f84ab",
        "outputId": "52875287-c861-4784-b1e7-bc2d11312cdd",
        "colab": {
          "base_uri": "https://localhost:8080/"
        }
      },
      "outputs": [
        {
          "output_type": "execute_result",
          "data": {
            "text/plain": [
              "[1, 2, 3, 4, 5, 6, 7, 8, 9, 'a', 'b', 'c', 'd', 'e', 'a', 'b', 'c', 'd', 'e']"
            ]
          },
          "metadata": {},
          "execution_count": 24
        }
      ],
      "source": [
        "x + y"
      ]
    },
    {
      "cell_type": "markdown",
      "id": "e9650691",
      "metadata": {
        "id": "e9650691"
      },
      "source": [
        "- `mylist.insert(index, object_to_add)`"
      ]
    },
    {
      "cell_type": "code",
      "execution_count": 25,
      "id": "b77c7b49",
      "metadata": {
        "id": "b77c7b49",
        "outputId": "cd140894-0548-4096-df8d-37c791221d61",
        "colab": {
          "base_uri": "https://localhost:8080/"
        }
      },
      "outputs": [
        {
          "output_type": "execute_result",
          "data": {
            "text/plain": [
              "['a', 'b', 30, 'c', 'd', 'e']"
            ]
          },
          "metadata": {},
          "execution_count": 25
        }
      ],
      "source": [
        "y = [y for y in \"abcde\"]\n",
        "y.insert(2, 30) #modifies y\n",
        "y"
      ]
    },
    {
      "cell_type": "markdown",
      "id": "f51f4467",
      "metadata": {
        "id": "f51f4467"
      },
      "source": [
        "- `mylist.remove(element_to_remove)`"
      ]
    },
    {
      "cell_type": "code",
      "execution_count": 26,
      "id": "c8ed2717",
      "metadata": {
        "lines_to_next_cell": 2,
        "id": "c8ed2717",
        "outputId": "80b1cea0-e663-45f5-fc60-961204e4dc83",
        "colab": {
          "base_uri": "https://localhost:8080/"
        }
      },
      "outputs": [
        {
          "output_type": "execute_result",
          "data": {
            "text/plain": [
              "['a', 'b', 30, 'c', 'e']"
            ]
          },
          "metadata": {},
          "execution_count": 26
        }
      ],
      "source": [
        "y.remove(\"d\") #modifies y\n",
        "y"
      ]
    },
    {
      "cell_type": "markdown",
      "id": "42e8043b",
      "metadata": {
        "id": "42e8043b"
      },
      "source": [
        "- `mylist.count(value)`"
      ]
    },
    {
      "cell_type": "code",
      "execution_count": 28,
      "id": "fa5cad48",
      "metadata": {
        "lines_to_next_cell": 2,
        "id": "fa5cad48",
        "outputId": "ba152dcc-94c8-4b1e-f341-8e3e32285ee2",
        "colab": {
          "base_uri": "https://localhost:8080/"
        }
      },
      "outputs": [
        {
          "output_type": "stream",
          "name": "stdout",
          "text": [
            "[0, 1, 2, 3, 0, 1, 2, 3, 0, 1, 2, 3, 0, 1, 2, 3]\n"
          ]
        },
        {
          "output_type": "execute_result",
          "data": {
            "text/plain": [
              "4"
            ]
          },
          "metadata": {},
          "execution_count": 28
        }
      ],
      "source": [
        "w = [x for x in range(0, 4)] * 4\n",
        "print(w)\n",
        "w.count(1) #count the number of times 1 occurs"
      ]
    },
    {
      "cell_type": "markdown",
      "id": "2fa2dc64",
      "metadata": {
        "id": "2fa2dc64"
      },
      "source": [
        "- `mylist.index(value)`"
      ]
    },
    {
      "cell_type": "code",
      "execution_count": 29,
      "id": "8a434843",
      "metadata": {
        "lines_to_next_cell": 0,
        "id": "8a434843",
        "outputId": "6b16cec6-3e0e-4c63-a72e-19b545d8bbd2",
        "colab": {
          "base_uri": "https://localhost:8080/"
        }
      },
      "outputs": [
        {
          "output_type": "stream",
          "name": "stdout",
          "text": [
            "['a', 'b', 'c', 'd', 'e', 'z', 'y', 'z', 'y', 'z', 'y']\n",
            "6\n",
            "8\n"
          ]
        }
      ],
      "source": [
        "v = [y for y in \"abcde\"]\n",
        "v.extend([\"z\", \"y\"] * 3)\n",
        "print(v)\n",
        "print(v.index(\"y\")) #get the index corresponding to the first 'y'\n",
        "print(v.index(\"y\", v.index(\"y\") + 1)) #index corresponding to second 'y'"
      ]
    },
    {
      "cell_type": "markdown",
      "id": "0e0d3293",
      "metadata": {
        "id": "0e0d3293"
      },
      "source": [
        "---\n",
        "\n",
        "### List Packing & Unpacking\n",
        "\n",
        "- We can **pack** a list. That is, put a bunch of values in a list in one line of code."
      ]
    },
    {
      "cell_type": "code",
      "execution_count": 30,
      "id": "ec847055",
      "metadata": {
        "id": "ec847055",
        "outputId": "15f8ebd5-4927-4a46-f6bf-8081b1df8b36",
        "colab": {
          "base_uri": "https://localhost:8080/"
        }
      },
      "outputs": [
        {
          "output_type": "stream",
          "name": "stdout",
          "text": [
            "Dog Cat Horse\n"
          ]
        }
      ],
      "source": [
        "animals = [\"Dog\", \"Cat\", \"Horse\", \"Frog\", \"Cow\", \"Buffalo\", \"Deer\", \"Fish\", \"Bird\", \"Fox\", \"Racoon\"]\n",
        "short_animals = animals[:3]\n",
        "\n",
        "#pack the values first, second, and third\n",
        "first, second, third = short_animals\n",
        "print(first + \" \" + second + \" \" + third)"
      ]
    },
    {
      "cell_type": "markdown",
      "id": "a6cfb8a7",
      "metadata": {
        "id": "a6cfb8a7"
      },
      "source": [
        "- We can also pack leftover elements into a list using `*name`"
      ]
    },
    {
      "cell_type": "code",
      "execution_count": 31,
      "id": "a7eab489",
      "metadata": {
        "id": "a7eab489",
        "outputId": "bedb904e-426b-4ed2-ea48-a2911b5ec3a2",
        "colab": {
          "base_uri": "https://localhost:8080/"
        }
      },
      "outputs": [
        {
          "output_type": "stream",
          "name": "stdout",
          "text": [
            "Dog Cat Horse\n",
            "['Frog', 'Cow', 'Buffalo', 'Deer', 'Fish', 'Bird', 'Fox', 'Racoon']\n"
          ]
        }
      ],
      "source": [
        "first, second, third, *other = animals\n",
        "print(first + \" \" + second + \" \" + third)\n",
        "print(other)"
      ]
    },
    {
      "cell_type": "markdown",
      "id": "8c5ccfd5",
      "metadata": {
        "id": "8c5ccfd5"
      },
      "source": [
        "- You can pack in different orders as well!"
      ]
    },
    {
      "cell_type": "code",
      "execution_count": 32,
      "id": "2fb70157",
      "metadata": {
        "lines_to_next_cell": 0,
        "tags": [
          "remove_input"
        ],
        "id": "2fb70157",
        "outputId": "3f491bae-8b0c-4cd1-d0d9-5de6320b71ae",
        "colab": {
          "base_uri": "https://localhost:8080/"
        }
      },
      "outputs": [
        {
          "output_type": "stream",
          "name": "stdout",
          "text": [
            "['Dog', 'Cat', 'Horse', 'Frog', 'Cow', 'Buffalo', 'Deer', 'Fish', 'Bird']\n",
            "Fox Racoon\n"
          ]
        }
      ],
      "source": [
        "animals = [\"Dog\", \"Cat\", \"Horse\", \"Frog\", \"Cow\", \"Buffalo\", \"Deer\", \"Fish\", \"Bird\", \"Fox\", \"Racoon\"]\n",
        "*other, second_last, last = animals\n",
        "print(other)\n",
        "print(second_last + \" \" + last)"
      ]
    },
    {
      "cell_type": "markdown",
      "id": "e39f0fef",
      "metadata": {
        "id": "e39f0fef"
      },
      "source": [
        "- If we want to ignore some of the values we can use our `_` temporary variable with packing and `*`:"
      ]
    },
    {
      "cell_type": "code",
      "execution_count": 33,
      "id": "6a8af196",
      "metadata": {
        "lines_to_next_cell": 2,
        "id": "6a8af196",
        "outputId": "fb035ace-2126-4565-d09b-dba5d127988f",
        "colab": {
          "base_uri": "https://localhost:8080/"
        }
      },
      "outputs": [
        {
          "output_type": "stream",
          "name": "stdout",
          "text": [
            "Dog Racoon\n"
          ]
        }
      ],
      "source": [
        "first, *_, last = animals\n",
        "print(first + \" \" + last)"
      ]
    },
    {
      "cell_type": "markdown",
      "id": "2df3f4f3",
      "metadata": {
        "id": "2df3f4f3"
      },
      "source": [
        "- Later we'll look at **unpacking** a list when calling functions"
      ]
    },
    {
      "cell_type": "code",
      "execution_count": 34,
      "id": "48e7d2df",
      "metadata": {
        "lines_to_next_cell": 0,
        "id": "48e7d2df",
        "outputId": "a831372e-bb6a-45de-e458-fc184eb8a58f",
        "colab": {
          "base_uri": "https://localhost:8080/"
        }
      },
      "outputs": [
        {
          "output_type": "stream",
          "name": "stdout",
          "text": [
            "cat dog cow\n"
          ]
        }
      ],
      "source": [
        "def my_fun(a, b, c):\n",
        "    print(a, b, c)\n",
        "\n",
        "fav_animals = [\"cat\", \"dog\", \"cow\"]\n",
        "my_fun(*fav_animals)"
      ]
    },
    {
      "cell_type": "markdown",
      "source": [
        "---\n",
        "\n",
        "# Tuples\n",
        "\n",
        "[Tuples](https://docs.python.org/3/tutorial/datastructures.html#tuples-and-sequences) are very similar to lists but aren't mutable"
      ],
      "metadata": {
        "id": "F8ef75OCgM2d"
      },
      "id": "F8ef75OCgM2d"
    },
    {
      "cell_type": "markdown",
      "id": "5f57718f",
      "metadata": {
        "lines_to_next_cell": 0,
        "id": "5f57718f"
      },
      "source": [
        "## Constructing Tuples\n",
        "\n",
        "- We create by separating elements with a `,`, `( )`, or `tuple(())`"
      ]
    },
    {
      "cell_type": "code",
      "execution_count": 35,
      "id": "e9ad90b1",
      "metadata": {
        "lines_to_next_cell": 0,
        "id": "e9ad90b1",
        "outputId": "cfe634c2-cc2e-4c59-c9c2-c1c409690a8a",
        "colab": {
          "base_uri": "https://localhost:8080/"
        }
      },
      "outputs": [
        {
          "output_type": "execute_result",
          "data": {
            "text/plain": [
              "(3, 10, 'word', True)"
            ]
          },
          "metadata": {},
          "execution_count": 35
        }
      ],
      "source": [
        "tup1 = 3, 10, \"word\", True\n",
        "tup1"
      ]
    },
    {
      "cell_type": "code",
      "source": [
        "tup2 = (1, 2, \"word\", False)\n",
        "tup2"
      ],
      "metadata": {
        "id": "TU4BaKsVgTTl",
        "outputId": "117182c3-6e5e-4d93-d208-25e780f907ac",
        "colab": {
          "base_uri": "https://localhost:8080/"
        }
      },
      "id": "TU4BaKsVgTTl",
      "execution_count": 36,
      "outputs": [
        {
          "output_type": "execute_result",
          "data": {
            "text/plain": [
              "(1, 2, 'word', False)"
            ]
          },
          "metadata": {},
          "execution_count": 36
        }
      ]
    },
    {
      "cell_type": "code",
      "source": [
        "tup3 = tuple((tup1, tup2))\n",
        "tup3"
      ],
      "metadata": {
        "id": "uiN1rKj9gUJM",
        "outputId": "2e8fadae-18e6-4f72-f30e-24df026bbc2e",
        "colab": {
          "base_uri": "https://localhost:8080/"
        }
      },
      "id": "uiN1rKj9gUJM",
      "execution_count": 37,
      "outputs": [
        {
          "output_type": "execute_result",
          "data": {
            "text/plain": [
              "((3, 10, 'word', True), (1, 2, 'word', False))"
            ]
          },
          "metadata": {},
          "execution_count": 37
        }
      ]
    },
    {
      "cell_type": "code",
      "execution_count": 40,
      "id": "86236af9",
      "metadata": {
        "lines_to_next_cell": 0,
        "id": "86236af9",
        "outputId": "f1ae9bb2-68ea-49f5-9a72-edc0e49463ec",
        "colab": {
          "base_uri": "https://localhost:8080/"
        }
      },
      "outputs": [
        {
          "output_type": "execute_result",
          "data": {
            "text/plain": [
              "(3, 10, 'word', True, 1, 2, 'word', False)"
            ]
          },
          "metadata": {},
          "execution_count": 40
        }
      ],
      "source": [
        "tup4 = tup1 + tup2 #like other sequence type objects we can concatenate them with +\n",
        "tup4"
      ]
    },
    {
      "cell_type": "code",
      "execution_count": 41,
      "id": "778ea622",
      "metadata": {
        "lines_to_next_cell": 0,
        "id": "778ea622",
        "outputId": "68a575a2-f607-4b3c-c66b-daeaa6da0f9c",
        "colab": {
          "base_uri": "https://localhost:8080/"
        }
      },
      "outputs": [
        {
          "output_type": "execute_result",
          "data": {
            "text/plain": [
              "(1, [1, 3])"
            ]
          },
          "metadata": {},
          "execution_count": 41
        }
      ],
      "source": [
        "tup5 = (1, [1, 3])\n",
        "tup5"
      ]
    },
    {
      "cell_type": "code",
      "source": [
        "tup5 * 3"
      ],
      "metadata": {
        "id": "3YINPGeqgW3l",
        "outputId": "43d8ca61-4967-43d8-daca-3572e7aab0f8",
        "colab": {
          "base_uri": "https://localhost:8080/"
        }
      },
      "id": "3YINPGeqgW3l",
      "execution_count": 42,
      "outputs": [
        {
          "output_type": "execute_result",
          "data": {
            "text/plain": [
              "(1, [1, 3], 1, [1, 3], 1, [1, 3])"
            ]
          },
          "metadata": {},
          "execution_count": 42
        }
      ]
    },
    {
      "cell_type": "markdown",
      "source": [
        "One interesting thing is that although we can't modify the tuple, we can modify mutable elements within the tuple!"
      ],
      "metadata": {
        "id": "pfdzrtV_TGVa"
      },
      "id": "pfdzrtV_TGVa"
    },
    {
      "cell_type": "code",
      "source": [
        "tup5[1][1] = 5"
      ],
      "metadata": {
        "id": "uCrwxt-_gYHU"
      },
      "id": "uCrwxt-_gYHU",
      "execution_count": 44,
      "outputs": []
    },
    {
      "cell_type": "code",
      "source": [
        "tup5"
      ],
      "metadata": {
        "id": "qa8GSmzhgZTd",
        "outputId": "36820c3b-e46e-4728-9864-c18092dbe15b",
        "colab": {
          "base_uri": "https://localhost:8080/"
        }
      },
      "id": "qa8GSmzhgZTd",
      "execution_count": 45,
      "outputs": [
        {
          "output_type": "execute_result",
          "data": {
            "text/plain": [
              "(1, [1, 5])"
            ]
          },
          "metadata": {},
          "execution_count": 45
        }
      ]
    },
    {
      "cell_type": "markdown",
      "id": "fcb91440",
      "metadata": {
        "id": "fcb91440"
      },
      "source": [
        "---\n",
        "\n",
        "## Constructing Tuples from list comprehensions\n",
        "\n",
        "- To populate a tuple we can wrap a list comprehension with `tuple()`"
      ]
    },
    {
      "cell_type": "code",
      "execution_count": 46,
      "id": "7729c880",
      "metadata": {
        "id": "7729c880",
        "outputId": "2b353cb8-c304-43ec-853a-180c2e68da2d",
        "colab": {
          "base_uri": "https://localhost:8080/"
        }
      },
      "outputs": [
        {
          "output_type": "execute_result",
          "data": {
            "text/plain": [
              "(1, 2, 3, 4, 5, 6, 7, 8, 9)"
            ]
          },
          "metadata": {},
          "execution_count": 46
        }
      ],
      "source": [
        "y = [x for x in range(1, 10)]\n",
        "y = tuple(y)\n",
        "y"
      ]
    },
    {
      "cell_type": "markdown",
      "id": "b33f099b",
      "metadata": {
        "id": "b33f099b"
      },
      "source": [
        "- Can sort of edit a tuple by switching it between a list and a tuple... but this isn't really editing it!"
      ]
    },
    {
      "cell_type": "code",
      "execution_count": 47,
      "id": "2477fb0d",
      "metadata": {
        "lines_to_next_cell": 2,
        "id": "2477fb0d",
        "outputId": "6962774b-b408-4ad5-d01a-27bfd68ed0c9",
        "colab": {
          "base_uri": "https://localhost:8080/"
        }
      },
      "outputs": [
        {
          "output_type": "execute_result",
          "data": {
            "text/plain": [
              "(1, 2, 3, 4, 5, 6, 7, 8, 9, 'new element')"
            ]
          },
          "metadata": {},
          "execution_count": 47
        }
      ],
      "source": [
        "y = list(y)\n",
        "y.append(\"new element\")\n",
        "y = tuple(y)\n",
        "y"
      ]
    },
    {
      "cell_type": "markdown",
      "id": "fb5d45f4",
      "metadata": {
        "id": "fb5d45f4"
      },
      "source": [
        "---\n",
        "\n",
        "## Tuple Operations & Methods\n",
        "\n",
        "As with strings and lists:\n",
        "\n",
        "- We can index and slice using `[:]`\n",
        "\n",
        "- Concatenate with `+` and `*`\n",
        "\n",
        "- Some similar functions like `len()` and `count()`\n",
        "\n",
        "- Some similar methods like `.index()` and `.count()`\n",
        "\n",
        "- Can do packing and unpacking  "
      ]
    },
    {
      "cell_type": "markdown",
      "source": [
        "---\n",
        "\n",
        "# Video Demo\n",
        "\n",
        "This quick video demo shows an example of creating lists with the `map()` function and utilizing the `zip()` function for iterating over multiple lists at the same time. Remember to pop the video out into the full player.\n",
        "\n",
        "The notebook written in the video is [available here](https://colab.research.google.com/github/jbpost2/ST-554-Big-Data-with-Python/blob/main/01_Programming_in_python/Learning_Python.ipynb).\n"
      ],
      "metadata": {
        "id": "NJ53Ow-bgyHk"
      },
      "id": "NJ53Ow-bgyHk"
    },
    {
      "cell_type": "code",
      "source": [
        "from IPython.display import IFrame\n",
        "IFrame(src=\"https://ncsu.hosted.panopto.com/Panopto/Pages/Embed.aspx?id=6e745cc1-fb2c-4941-8a97-b0f800efe933&autoplay=false&offerviewer=true&showtitle=true&showbrand=true&captions=false&interactivity=all\", height=\"405\", width=\"720\")"
      ],
      "metadata": {
        "id": "iVRRxsllzy9X",
        "outputId": "ee07f3d7-b961-4192-a4e0-478d3a303a37",
        "colab": {
          "base_uri": "https://localhost:8080/",
          "height": 446
        }
      },
      "id": "iVRRxsllzy9X",
      "execution_count": 48,
      "outputs": [
        {
          "output_type": "execute_result",
          "data": {
            "text/plain": [
              "<IPython.lib.display.IFrame at 0x7ae93330d840>"
            ],
            "text/html": [
              "\n",
              "        <iframe\n",
              "            width=\"720\"\n",
              "            height=\"405\"\n",
              "            src=\"https://ncsu.hosted.panopto.com/Panopto/Pages/Embed.aspx?id=6e745cc1-fb2c-4941-8a97-b0f800efe933&autoplay=false&offerviewer=true&showtitle=true&showbrand=true&captions=false&interactivity=all\"\n",
              "            frameborder=\"0\"\n",
              "            allowfullscreen\n",
              "            \n",
              "        ></iframe>\n",
              "        "
            ]
          },
          "metadata": {},
          "execution_count": 48
        }
      ]
    },
    {
      "cell_type": "markdown",
      "id": "4506aa44",
      "metadata": {
        "id": "4506aa44"
      },
      "source": [
        "---\n",
        "\n",
        "# Recap\n",
        "\n",
        "- Lists and tuples are very similar\n",
        "\n",
        "    + Heterogenous elements\n",
        "    + Sequence type objects\n",
        "    + Ordering (counting starts at 0)\n",
        "    + Index with `[]`\n",
        "    \n",
        "- Lists are mutable but tuples are not\n",
        "\n",
        "- List comprehensions are a common quick way to populate a list\n",
        "\n",
        "If you are on the course website, use the table of contents on the left or the arrows at the bottom of this page to navigate to the next learning material!\n",
        "\n",
        "If you are on Google Colab, head back to our course website for [our next lesson](https://jbpost2.github.io/ST-554-Big-Data-with-Python/01_Programming_in_python/11-Dictionaries.html)!"
      ]
    }
  ],
  "metadata": {
    "jupytext": {
      "cell_metadata_filter": "tags,warning,message,-all",
      "main_language": "python",
      "notebook_metadata_filter": "-all"
    },
    "colab": {
      "provenance": [],
      "toc_visible": true,
      "include_colab_link": true
    },
    "language_info": {
      "name": "python"
    },
    "kernelspec": {
      "name": "python3",
      "display_name": "Python 3"
    }
  },
  "nbformat": 4,
  "nbformat_minor": 5
}