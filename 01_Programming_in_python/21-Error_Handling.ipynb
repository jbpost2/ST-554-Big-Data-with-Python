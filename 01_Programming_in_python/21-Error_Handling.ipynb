{
  "cells": [
    {
      "cell_type": "markdown",
      "metadata": {
        "id": "view-in-github",
        "colab_type": "text"
      },
      "source": [
        "<a href=\"https://colab.research.google.com/github/jbpost2/ST-554-Big-Data-with-Python/blob/main/01_Programming_in_python/21-Error_Handling.ipynb\" target=\"_parent\"><img src=\"https://colab.research.google.com/assets/colab-badge.svg\" alt=\"Open In Colab\"/></a>"
      ]
    },
    {
      "cell_type": "markdown",
      "id": "94acbce6",
      "metadata": {
        "id": "94acbce6"
      },
      "source": []
    },
    {
      "cell_type": "markdown",
      "id": "61ed5aff",
      "metadata": {
        "id": "61ed5aff"
      },
      "source": [
        "# Error Handling\n",
        "\n",
        "> Justin Post\n",
        "\n",
        "We've already learned a lot about creating our own functions. One thing we haven't touched on is how to have our functions fail in a good way. That is, when an error occurs, can we either avoid it and finish the function execution or can we at least provide a clear explanation of what error came up?\n",
        "\n",
        "To do so we'll talk about `try`/`catch` logic. Here we `try` some code and can plan to `catch` certain errors and do something about them.\n",
        "\n",
        "Note: These types of webpages are built from Jupyter notebooks (`.ipynb` files). You can access your own versions of them by [clicking here](https://colab.research.google.com/github/jbpost2/ST-554-Big-Data-with-Python/blob/main/01_Programming_in_python/21-Error_Handling.ipynb). **It is highly recommended that you go through and run the notebooks yourself, modifying and rerunning things where you'd like!**"
      ]
    },
    {
      "cell_type": "markdown",
      "id": "b08929ef",
      "metadata": {
        "id": "b08929ef"
      },
      "source": [
        "---\n",
        "\n",
        "## Errors When Programming\n",
        "\n",
        "Commonly you'll have **syntax errors** and **exceptions**\n",
        "\n",
        "- A **Syntax error** is when you typed something in wrong (and it can't be parsed by python)"
      ]
    },
    {
      "cell_type": "code",
      "execution_count": 1,
      "id": "5562ab82",
      "metadata": {
        "eval": false,
        "lines_to_next_cell": 0,
        "id": "5562ab82",
        "outputId": "de524427-55c7-4dc6-c027-6e0b58af492f",
        "colab": {
          "base_uri": "https://localhost:8080/",
          "height": 126
        }
      },
      "outputs": [
        {
          "output_type": "error",
          "ename": "SyntaxError",
          "evalue": "expected ':' (<ipython-input-1-e60b965da02e>, line 1)",
          "traceback": [
            "\u001b[0;36m  File \u001b[0;32m\"<ipython-input-1-e60b965da02e>\"\u001b[0;36m, line \u001b[0;32m1\u001b[0m\n\u001b[0;31m    for x in range(0,10) #missing colon\u001b[0m\n\u001b[0m                         ^\u001b[0m\n\u001b[0;31mSyntaxError\u001b[0m\u001b[0;31m:\u001b[0m expected ':'\n"
          ]
        }
      ],
      "source": [
        "for x in range(0,10) #missing colon\n",
        "    print(x)"
      ]
    },
    {
      "cell_type": "markdown",
      "id": "1d8275e0",
      "metadata": {
        "id": "1d8275e0"
      },
      "source": [
        "`SyntaxError: invalid syntax (<string>, line 1)`"
      ]
    },
    {
      "cell_type": "markdown",
      "id": "6c7d3664",
      "metadata": {
        "id": "6c7d3664"
      },
      "source": [
        "- These aren't things we can fix on the backend. Code needs to be typed in correctly!\n",
        "\n",
        "- An **exception** occurs when python can't execute your code (during the execution something bad happens)"
      ]
    },
    {
      "cell_type": "code",
      "execution_count": 2,
      "id": "332a30b7",
      "metadata": {
        "eval": false,
        "lines_to_next_cell": 0,
        "id": "332a30b7",
        "outputId": "50861c9b-7e8f-484c-a68d-381763b39727",
        "colab": {
          "base_uri": "https://localhost:8080/",
          "height": 161
        }
      },
      "outputs": [
        {
          "output_type": "error",
          "ename": "TypeError",
          "evalue": "can only concatenate str (not \"int\") to str",
          "traceback": [
            "\u001b[0;31m---------------------------------------------------------------------------\u001b[0m",
            "\u001b[0;31mTypeError\u001b[0m                                 Traceback (most recent call last)",
            "\u001b[0;32m<ipython-input-2-8cddb0f2de90>\u001b[0m in \u001b[0;36m<cell line: 1>\u001b[0;34m()\u001b[0m\n\u001b[0;32m----> 1\u001b[0;31m \u001b[0mprint\u001b[0m\u001b[0;34m(\u001b[0m\u001b[0;34m\"the number is \"\u001b[0m \u001b[0;34m+\u001b[0m \u001b[0;36m10\u001b[0m\u001b[0;34m)\u001b[0m\u001b[0;34m\u001b[0m\u001b[0;34m\u001b[0m\u001b[0m\n\u001b[0m",
            "\u001b[0;31mTypeError\u001b[0m: can only concatenate str (not \"int\") to str"
          ]
        }
      ],
      "source": [
        "print(\"the number is \" + 10)"
      ]
    },
    {
      "cell_type": "markdown",
      "id": "bfb86f8e",
      "metadata": {
        "id": "bfb86f8e"
      },
      "source": [
        "`TypeError: can only concatenate str (not \"int\") to str`\n"
      ]
    },
    {
      "cell_type": "markdown",
      "id": "1f6b3cb6",
      "metadata": {
        "id": "1f6b3cb6"
      },
      "source": [
        "---\n",
        "\n",
        "## Dealing with Exceptions\n",
        "\n",
        "Exceptions can be dealt with to some degree!\n",
        "Consider this function to print out strings passed by the user."
      ]
    },
    {
      "cell_type": "code",
      "execution_count": 3,
      "id": "c38a0e4d",
      "metadata": {
        "error": true,
        "id": "c38a0e4d",
        "outputId": "d237418b-366a-40e3-85ed-ac0161ff2fbd",
        "colab": {
          "base_uri": "https://localhost:8080/"
        }
      },
      "outputs": [
        {
          "output_type": "stream",
          "name": "stdout",
          "text": [
            "The value in position 0 is: cat\n",
            "The value in position 1 is: dog\n",
            "The value in position 2 is: bird\n"
          ]
        }
      ],
      "source": [
        "def print_strings(*x): #should all be strings!\n",
        "    c = 0\n",
        "    for i in x:\n",
        "        print(\"The value in position \" + str(c) + \" is: \" + i)\n",
        "        c += 1\n",
        "\n",
        "print_strings(\"cat\", \"dog\", \"bird\")"
      ]
    },
    {
      "cell_type": "markdown",
      "id": "fc171cd9",
      "metadata": {
        "id": "fc171cd9"
      },
      "source": [
        "- If we pass a non-string, this will throw an exception."
      ]
    },
    {
      "cell_type": "code",
      "execution_count": 4,
      "id": "b2e6cefe",
      "metadata": {
        "error": true,
        "lines_to_next_cell": 2,
        "id": "b2e6cefe",
        "outputId": "0f9cbf73-a6e1-440f-8104-7ec5d75593ee",
        "colab": {
          "base_uri": "https://localhost:8080/",
          "height": 335
        }
      },
      "outputs": [
        {
          "output_type": "stream",
          "name": "stdout",
          "text": [
            "The value in position 0 is: cat\n"
          ]
        },
        {
          "output_type": "error",
          "ename": "TypeError",
          "evalue": "can only concatenate str (not \"int\") to str",
          "traceback": [
            "\u001b[0;31m---------------------------------------------------------------------------\u001b[0m",
            "\u001b[0;31mTypeError\u001b[0m                                 Traceback (most recent call last)",
            "\u001b[0;32m<ipython-input-4-15f25c060c0e>\u001b[0m in \u001b[0;36m<cell line: 7>\u001b[0;34m()\u001b[0m\n\u001b[1;32m      5\u001b[0m         \u001b[0mc\u001b[0m \u001b[0;34m+=\u001b[0m \u001b[0;36m1\u001b[0m\u001b[0;34m\u001b[0m\u001b[0;34m\u001b[0m\u001b[0m\n\u001b[1;32m      6\u001b[0m \u001b[0;34m\u001b[0m\u001b[0m\n\u001b[0;32m----> 7\u001b[0;31m \u001b[0mprint_strings\u001b[0m\u001b[0;34m(\u001b[0m\u001b[0;34m\"cat\"\u001b[0m\u001b[0;34m,\u001b[0m \u001b[0;36m1\u001b[0m\u001b[0;34m,\u001b[0m \u001b[0;34m\"bird\"\u001b[0m\u001b[0;34m)\u001b[0m\u001b[0;34m\u001b[0m\u001b[0;34m\u001b[0m\u001b[0m\n\u001b[0m",
            "\u001b[0;32m<ipython-input-4-15f25c060c0e>\u001b[0m in \u001b[0;36mprint_strings\u001b[0;34m(*x)\u001b[0m\n\u001b[1;32m      2\u001b[0m     \u001b[0mc\u001b[0m \u001b[0;34m=\u001b[0m \u001b[0;36m0\u001b[0m\u001b[0;34m\u001b[0m\u001b[0;34m\u001b[0m\u001b[0m\n\u001b[1;32m      3\u001b[0m     \u001b[0;32mfor\u001b[0m \u001b[0mi\u001b[0m \u001b[0;32min\u001b[0m \u001b[0mx\u001b[0m\u001b[0;34m:\u001b[0m\u001b[0;34m\u001b[0m\u001b[0;34m\u001b[0m\u001b[0m\n\u001b[0;32m----> 4\u001b[0;31m         \u001b[0mprint\u001b[0m\u001b[0;34m(\u001b[0m\u001b[0;34m\"The value in position \"\u001b[0m \u001b[0;34m+\u001b[0m \u001b[0mstr\u001b[0m\u001b[0;34m(\u001b[0m\u001b[0mc\u001b[0m\u001b[0;34m)\u001b[0m \u001b[0;34m+\u001b[0m \u001b[0;34m\" is: \"\u001b[0m \u001b[0;34m+\u001b[0m \u001b[0mi\u001b[0m\u001b[0;34m)\u001b[0m\u001b[0;34m\u001b[0m\u001b[0;34m\u001b[0m\u001b[0m\n\u001b[0m\u001b[1;32m      5\u001b[0m         \u001b[0mc\u001b[0m \u001b[0;34m+=\u001b[0m \u001b[0;36m1\u001b[0m\u001b[0;34m\u001b[0m\u001b[0;34m\u001b[0m\u001b[0m\n\u001b[1;32m      6\u001b[0m \u001b[0;34m\u001b[0m\u001b[0m\n",
            "\u001b[0;31mTypeError\u001b[0m: can only concatenate str (not \"int\") to str"
          ]
        }
      ],
      "source": [
        "def print_strings(*x): #should all be strings!\n",
        "    c = 0\n",
        "    for i in x:\n",
        "        print(\"The value in position \" + str(c) + \" is: \" + i)\n",
        "        c += 1\n",
        "\n",
        "print_strings(\"cat\", 1, \"bird\")"
      ]
    },
    {
      "cell_type": "markdown",
      "id": "ba95af79",
      "metadata": {
        "id": "ba95af79"
      },
      "source": [
        "- Note that it says `TypeError` at the beginning of that big error message. What we can do is run a `try` block and set up what to do when we get certain exceptions via an `except` block.\n",
        "- The syntax for these is simlar to `if` and `else` blocks"
      ]
    },
    {
      "cell_type": "code",
      "execution_count": 5,
      "id": "6a3e285f",
      "metadata": {
        "lines_to_next_cell": 2,
        "id": "6a3e285f",
        "outputId": "bd850998-49a9-491a-f795-794c8277f0ba",
        "colab": {
          "base_uri": "https://localhost:8080/"
        }
      },
      "outputs": [
        {
          "output_type": "stream",
          "name": "stdout",
          "text": [
            "The value in position 0 is: cat\n",
            "The value in position 1 is: dog\n",
            "Oh no! Not a string\n",
            "The value in position 3 is: bird\n"
          ]
        }
      ],
      "source": [
        "def print_strings(*x):\n",
        "    c = 0\n",
        "    for i in x:\n",
        "        try: #try the code that is indented below here\n",
        "            print(\"The value in position \" + str(c) + \" is: \" + i)\n",
        "        except TypeError: #if we get a TypeError in the previous try block, do this and then continue execution!\n",
        "            print(\"Oh no! Not a string\")\n",
        "        c += 1\n",
        "print_strings(\"cat\", \"dog\", 1, \"bird\")"
      ]
    },
    {
      "cell_type": "markdown",
      "id": "f366474b",
      "metadata": {
        "id": "f366474b"
      },
      "source": [
        "- Can have multiple `except` statements and an `else` block to account for many situations\n",
        "\n",
        "- Let's create a quick function to printout information about a person given as key/value pairs"
      ]
    },
    {
      "cell_type": "code",
      "execution_count": 15,
      "id": "86d7d984",
      "metadata": {
        "error": true,
        "lines_to_next_cell": 2,
        "id": "86d7d984",
        "outputId": "7416734a-abb1-4c57-d1c4-56bbad2dc2c5",
        "colab": {
          "base_uri": "https://localhost:8080/"
        }
      },
      "outputs": [
        {
          "output_type": "stream",
          "name": "stdout",
          "text": [
            "Pay special attention to Jack London\n",
            "His attributes are:\n",
            "\t Age  :  41\n",
            "\t Job  :  Writer\n"
          ]
        }
      ],
      "source": [
        "def print_stuff(**x): #now taking key value pairs (a dictionary within the function)\n",
        "    print(\"Pay special attention to \" + x.pop(\"Name\") + \"\\nHis attributes are:\") #we must have a Name argument\n",
        "    for key in x: #now run through the other info given and print it out\n",
        "        print(\"\\t\", key, \" : \", str(x[key])) #\\t is a tab\n",
        "\n",
        "print_stuff(Name = \"Jack London\", Age = 41, Job = \"Writer\")"
      ]
    },
    {
      "cell_type": "markdown",
      "id": "e50c9a86",
      "metadata": {
        "id": "e50c9a86"
      },
      "source": [
        "If we don't have a `Name` argument passed, we'd have an error!"
      ]
    },
    {
      "cell_type": "code",
      "source": [
        "print_stuff(Person = \"Jack London\", Age = 41, Job = \"Writer\")"
      ],
      "metadata": {
        "id": "d2cf43AK3KTi",
        "outputId": "29dde60b-9daf-416c-ff4b-6dea3ccede9a",
        "colab": {
          "base_uri": "https://localhost:8080/",
          "height": 283
        }
      },
      "id": "d2cf43AK3KTi",
      "execution_count": 16,
      "outputs": [
        {
          "output_type": "error",
          "ename": "KeyError",
          "evalue": "'Name'",
          "traceback": [
            "\u001b[0;31m---------------------------------------------------------------------------\u001b[0m",
            "\u001b[0;31mKeyError\u001b[0m                                  Traceback (most recent call last)",
            "\u001b[0;32m<ipython-input-16-66ebf0cac27f>\u001b[0m in \u001b[0;36m<cell line: 1>\u001b[0;34m()\u001b[0m\n\u001b[0;32m----> 1\u001b[0;31m \u001b[0mprint_stuff\u001b[0m\u001b[0;34m(\u001b[0m\u001b[0mPerson\u001b[0m \u001b[0;34m=\u001b[0m \u001b[0;34m\"Jack London\"\u001b[0m\u001b[0;34m,\u001b[0m \u001b[0mAge\u001b[0m \u001b[0;34m=\u001b[0m \u001b[0;36m41\u001b[0m\u001b[0;34m,\u001b[0m \u001b[0mJob\u001b[0m \u001b[0;34m=\u001b[0m \u001b[0;34m\"Writer\"\u001b[0m\u001b[0;34m)\u001b[0m\u001b[0;34m\u001b[0m\u001b[0;34m\u001b[0m\u001b[0m\n\u001b[0m",
            "\u001b[0;32m<ipython-input-15-a21ff30dfb20>\u001b[0m in \u001b[0;36mprint_stuff\u001b[0;34m(**x)\u001b[0m\n\u001b[1;32m      1\u001b[0m \u001b[0;32mdef\u001b[0m \u001b[0mprint_stuff\u001b[0m\u001b[0;34m(\u001b[0m\u001b[0;34m**\u001b[0m\u001b[0mx\u001b[0m\u001b[0;34m)\u001b[0m\u001b[0;34m:\u001b[0m \u001b[0;31m#now taking key value pairs (a dictionary within the function)\u001b[0m\u001b[0;34m\u001b[0m\u001b[0;34m\u001b[0m\u001b[0m\n\u001b[0;32m----> 2\u001b[0;31m     \u001b[0mprint\u001b[0m\u001b[0;34m(\u001b[0m\u001b[0;34m\"Pay special attention to \"\u001b[0m \u001b[0;34m+\u001b[0m \u001b[0mx\u001b[0m\u001b[0;34m.\u001b[0m\u001b[0mpop\u001b[0m\u001b[0;34m(\u001b[0m\u001b[0;34m\"Name\"\u001b[0m\u001b[0;34m)\u001b[0m \u001b[0;34m+\u001b[0m \u001b[0;34m\"\\nHis attributes are:\"\u001b[0m\u001b[0;34m)\u001b[0m \u001b[0;31m#we must have a Name argument\u001b[0m\u001b[0;34m\u001b[0m\u001b[0;34m\u001b[0m\u001b[0m\n\u001b[0m\u001b[1;32m      3\u001b[0m     \u001b[0;32mfor\u001b[0m \u001b[0mkey\u001b[0m \u001b[0;32min\u001b[0m \u001b[0mx\u001b[0m\u001b[0;34m:\u001b[0m \u001b[0;31m#now run through the other info given and print it out\u001b[0m\u001b[0;34m\u001b[0m\u001b[0;34m\u001b[0m\u001b[0m\n\u001b[1;32m      4\u001b[0m         \u001b[0mprint\u001b[0m\u001b[0;34m(\u001b[0m\u001b[0;34m\"\\t\"\u001b[0m\u001b[0;34m,\u001b[0m \u001b[0mkey\u001b[0m\u001b[0;34m,\u001b[0m \u001b[0;34m\" : \"\u001b[0m\u001b[0;34m,\u001b[0m \u001b[0mstr\u001b[0m\u001b[0;34m(\u001b[0m\u001b[0mx\u001b[0m\u001b[0;34m[\u001b[0m\u001b[0mkey\u001b[0m\u001b[0;34m]\u001b[0m\u001b[0;34m)\u001b[0m\u001b[0;34m)\u001b[0m \u001b[0;31m#\\t is a tab\u001b[0m\u001b[0;34m\u001b[0m\u001b[0;34m\u001b[0m\u001b[0m\n\u001b[1;32m      5\u001b[0m \u001b[0;34m\u001b[0m\u001b[0m\n",
            "\u001b[0;31mKeyError\u001b[0m: 'Name'"
          ]
        }
      ]
    },
    {
      "cell_type": "markdown",
      "source": [
        "In this case we get a `KeyError` (this is when we look for a certain key in a dictionary (or other similar object) and can't find it)\n",
        "- We can look for this kind of error\n",
        "- Also look for other errors that might come up"
      ],
      "metadata": {
        "id": "rnpIyI-V3NVo"
      },
      "id": "rnpIyI-V3NVo"
    },
    {
      "cell_type": "code",
      "execution_count": 17,
      "id": "62cf834a",
      "metadata": {
        "error": true,
        "lines_to_next_cell": 2,
        "id": "62cf834a",
        "outputId": "d3dd23e4-2798-4eb4-82e2-ab00be3dc495",
        "colab": {
          "base_uri": "https://localhost:8080/"
        }
      },
      "outputs": [
        {
          "output_type": "stream",
          "name": "stdout",
          "text": [
            "Pay special attention to Jack London\n",
            "His attributes are:\n",
            "\t Age  :  41\n",
            "\t Job  :  Writer\n"
          ]
        }
      ],
      "source": [
        "def print_stuff(**x): #now taking key value pairs\n",
        "    try:\n",
        "        print(\"Pay special attention to \" + x.pop(\"Name\") + \"\\nHis attributes are:\")\n",
        "    except TypeError: #If x.pop(\"Name\") doesn't give a string we'll get a TypeError\n",
        "        print(\"Oh no! 'Name' is not a string\")\n",
        "    except KeyError: #If the user didn't give a \"Name\" argument we'll get a KeyError\n",
        "        print(\"You didn't supply a 'Name'!\")\n",
        "    for key in x: #Now print out the rest of the info about the person\n",
        "        print(\"\\t\", key, \" : \", str(x[key]))\n",
        "print_stuff(Name = \"Jack London\", Age = 41, Job = \"Writer\")"
      ]
    },
    {
      "cell_type": "code",
      "source": [
        "print_stuff(Name = 11, Age = 41, Job = \"Writer\")"
      ],
      "metadata": {
        "id": "xDtrZMDx3rL0",
        "outputId": "2e13242b-9f30-44f2-e84d-aec519b2a3e9",
        "colab": {
          "base_uri": "https://localhost:8080/"
        }
      },
      "id": "xDtrZMDx3rL0",
      "execution_count": 18,
      "outputs": [
        {
          "output_type": "stream",
          "name": "stdout",
          "text": [
            "Oh no! 'Name' is not a string\n",
            "\t Age  :  41\n",
            "\t Job  :  Writer\n"
          ]
        }
      ]
    },
    {
      "cell_type": "code",
      "source": [
        "print_stuff(Person = \"Jack London\", Age = 41, Job = \"Writer\")"
      ],
      "metadata": {
        "id": "lDxV9rX-3uO_",
        "outputId": "cfaeb8ed-9d03-4dd6-c9be-43615c55ffc9",
        "colab": {
          "base_uri": "https://localhost:8080/"
        }
      },
      "id": "lDxV9rX-3uO_",
      "execution_count": 20,
      "outputs": [
        {
          "output_type": "stream",
          "name": "stdout",
          "text": [
            "You didn't supply a 'Name'!\n",
            "\t Person  :  Jack London\n",
            "\t Age  :  41\n",
            "\t Job  :  Writer\n"
          ]
        }
      ]
    },
    {
      "cell_type": "markdown",
      "id": "f0381624",
      "metadata": {
        "id": "f0381624"
      },
      "source": [
        "An `else` block can be given that is similar to what we use with `if`, `elif` logic\n",
        "- This specifies what to do if things aren't accounted for above"
      ]
    },
    {
      "cell_type": "code",
      "execution_count": 23,
      "id": "abead5da",
      "metadata": {
        "error": true,
        "lines_to_next_cell": 2,
        "id": "abead5da",
        "outputId": "599b60d7-0571-45c4-eadc-5bb50aacb9ba",
        "colab": {
          "base_uri": "https://localhost:8080/"
        }
      },
      "outputs": [
        {
          "output_type": "stream",
          "name": "stdout",
          "text": [
            "Pay special attention to Jack London\n",
            "His attributes are:\n",
            "(Valid name by the way - you rule)\n",
            "\t Age  :  41\n",
            "\t Job  :  Writer\n"
          ]
        }
      ],
      "source": [
        "def print_stuff(**x): #now taking key value pairs\n",
        "    try:\n",
        "        print(\"Pay special attention to \" + x.pop(\"Name\") + \"\\nHis attributes are:\")\n",
        "    except TypeError:\n",
        "        print(\"Oh no! 'Name' is not a string\")\n",
        "    except KeyError:\n",
        "        print(\"You didn't supply a 'Name'!\")\n",
        "    else: #if no errors occurred\n",
        "        print(\"(Valid name by the way - you rule)\")\n",
        "    for key in x:\n",
        "        print(\"\\t\", key, \" : \", str(x[key]))\n",
        "\n",
        "print_stuff(Name = \"Jack London\", Age = 41, Job = \"Writer\")"
      ]
    },
    {
      "cell_type": "markdown",
      "id": "72a8e980",
      "metadata": {
        "id": "72a8e980"
      },
      "source": [
        "- A `finally` clause can be given to always execute at end regardless\n",
        "- Like an `else` block but it always runs"
      ]
    },
    {
      "cell_type": "code",
      "execution_count": 24,
      "id": "c4e76e02",
      "metadata": {
        "error": true,
        "id": "c4e76e02",
        "outputId": "07d26b80-c945-451b-dc5f-cfc42e45918d",
        "colab": {
          "base_uri": "https://localhost:8080/"
        }
      },
      "outputs": [
        {
          "output_type": "stream",
          "name": "stdout",
          "text": [
            "{'name': 'Jack London', 'Age': 41, 'Job': 'Writer'}\n",
            "You didn't supply a 'Name'!\n",
            "This string prints no matter what\n",
            "\t name  :  Jack London\n",
            "\t Age  :  41\n",
            "\t Job  :  Writer\n"
          ]
        }
      ],
      "source": [
        "def print_stuff(**x): #now taking key value pairs\n",
        "    print(x)\n",
        "    try:\n",
        "        print(\"Pay special attention to \" + x.pop(\"Name\") + \"\\nHis attributes are:\")\n",
        "    except TypeError:\n",
        "        print(\"Oh no! 'Name' is not a string\")\n",
        "    except KeyError:\n",
        "        print(\"You didn't supply a 'Name'!\")\n",
        "    else:\n",
        "        print(\"(Valid name by the way)\")\n",
        "    finally:\n",
        "        print(\"This string prints no matter what\")\n",
        "    for key in x:\n",
        "        print(\"\\t\", key, \" : \", str(x[key]))\n",
        "\n",
        "print_stuff(name = \"Jack London\", Age = 41, Job = \"Writer\")"
      ]
    },
    {
      "cell_type": "markdown",
      "id": "5b64da93",
      "metadata": {
        "id": "5b64da93"
      },
      "source": [
        "---\n",
        "\n",
        "## Raising an Exception Yourself\n",
        "\n",
        "- You can define your own exceptions to be more descriptive!\n",
        "\n",
        "- If we try to divide by 0 we get a `ZeroDivisionError` exception"
      ]
    },
    {
      "cell_type": "code",
      "execution_count": 25,
      "id": "ba5a8f2e",
      "metadata": {
        "error": true,
        "lines_to_next_cell": 2,
        "id": "ba5a8f2e",
        "outputId": "132662c2-82fd-4ef5-a1d0-0cc5d710025d",
        "colab": {
          "base_uri": "https://localhost:8080/",
          "height": 161
        }
      },
      "outputs": [
        {
          "output_type": "error",
          "ename": "ZeroDivisionError",
          "evalue": "division by zero",
          "traceback": [
            "\u001b[0;31m---------------------------------------------------------------------------\u001b[0m",
            "\u001b[0;31mZeroDivisionError\u001b[0m                         Traceback (most recent call last)",
            "\u001b[0;32m<ipython-input-25-f6cc6d14333b>\u001b[0m in \u001b[0;36m<cell line: 1>\u001b[0;34m()\u001b[0m\n\u001b[0;32m----> 1\u001b[0;31m \u001b[0;36m3\u001b[0m\u001b[0;34m/\u001b[0m\u001b[0;36m0\u001b[0m\u001b[0;34m\u001b[0m\u001b[0;34m\u001b[0m\u001b[0m\n\u001b[0m",
            "\u001b[0;31mZeroDivisionError\u001b[0m: division by zero"
          ]
        }
      ],
      "source": [
        "3/0"
      ]
    },
    {
      "cell_type": "markdown",
      "source": [
        "- Instead we can `raise` our own exception"
      ],
      "metadata": {
        "id": "VjoCE_CQ4lhj"
      },
      "id": "VjoCE_CQ4lhj"
    },
    {
      "cell_type": "code",
      "source": [
        "def my_divide(x, y):\n",
        "    if y == 0:\n",
        "        raise Exception(\"Can't divide by 0...\")\n",
        "    return x/y"
      ],
      "metadata": {
        "id": "neadqLm44e1A"
      },
      "id": "neadqLm44e1A",
      "execution_count": 26,
      "outputs": []
    },
    {
      "cell_type": "code",
      "source": [
        "my_divide(3, 9) #works"
      ],
      "metadata": {
        "id": "kK2OZQko4rcB",
        "outputId": "506255af-48ef-454d-c7e2-640259472069",
        "colab": {
          "base_uri": "https://localhost:8080/"
        }
      },
      "id": "kK2OZQko4rcB",
      "execution_count": 27,
      "outputs": [
        {
          "output_type": "execute_result",
          "data": {
            "text/plain": [
              "0.3333333333333333"
            ]
          },
          "metadata": {},
          "execution_count": 27
        }
      ]
    },
    {
      "cell_type": "code",
      "source": [
        "my_divide(3,0) #raises our custom exception and provides that note!"
      ],
      "metadata": {
        "id": "JPeW9q5W4tst",
        "outputId": "fb0899f0-84f4-4cb2-95fe-833020322087",
        "colab": {
          "base_uri": "https://localhost:8080/",
          "height": 265
        }
      },
      "id": "JPeW9q5W4tst",
      "execution_count": 28,
      "outputs": [
        {
          "output_type": "error",
          "ename": "Exception",
          "evalue": "Can't divide by 0...",
          "traceback": [
            "\u001b[0;31m---------------------------------------------------------------------------\u001b[0m",
            "\u001b[0;31mException\u001b[0m                                 Traceback (most recent call last)",
            "\u001b[0;32m<ipython-input-28-c7c11902dc96>\u001b[0m in \u001b[0;36m<cell line: 1>\u001b[0;34m()\u001b[0m\n\u001b[0;32m----> 1\u001b[0;31m \u001b[0mmy_divide\u001b[0m\u001b[0;34m(\u001b[0m\u001b[0;36m3\u001b[0m\u001b[0;34m,\u001b[0m\u001b[0;36m0\u001b[0m\u001b[0;34m)\u001b[0m \u001b[0;31m#raises our custom exception and provides that note!\u001b[0m\u001b[0;34m\u001b[0m\u001b[0;34m\u001b[0m\u001b[0m\n\u001b[0m",
            "\u001b[0;32m<ipython-input-26-418f7e821d7e>\u001b[0m in \u001b[0;36mmy_divide\u001b[0;34m(x, y)\u001b[0m\n\u001b[1;32m      1\u001b[0m \u001b[0;32mdef\u001b[0m \u001b[0mmy_divide\u001b[0m\u001b[0;34m(\u001b[0m\u001b[0mx\u001b[0m\u001b[0;34m,\u001b[0m \u001b[0my\u001b[0m\u001b[0;34m)\u001b[0m\u001b[0;34m:\u001b[0m\u001b[0;34m\u001b[0m\u001b[0;34m\u001b[0m\u001b[0m\n\u001b[1;32m      2\u001b[0m     \u001b[0;32mif\u001b[0m \u001b[0my\u001b[0m \u001b[0;34m==\u001b[0m \u001b[0;36m0\u001b[0m\u001b[0;34m:\u001b[0m\u001b[0;34m\u001b[0m\u001b[0;34m\u001b[0m\u001b[0m\n\u001b[0;32m----> 3\u001b[0;31m         \u001b[0;32mraise\u001b[0m \u001b[0mException\u001b[0m\u001b[0;34m(\u001b[0m\u001b[0;34m\"Can't divide by 0...\"\u001b[0m\u001b[0;34m)\u001b[0m\u001b[0;34m\u001b[0m\u001b[0;34m\u001b[0m\u001b[0m\n\u001b[0m\u001b[1;32m      4\u001b[0m     \u001b[0;32mreturn\u001b[0m \u001b[0mx\u001b[0m\u001b[0;34m/\u001b[0m\u001b[0my\u001b[0m\u001b[0;34m\u001b[0m\u001b[0;34m\u001b[0m\u001b[0m\n",
            "\u001b[0;31mException\u001b[0m: Can't divide by 0..."
          ]
        }
      ]
    },
    {
      "cell_type": "markdown",
      "id": "d74e18e8",
      "metadata": {
        "id": "d74e18e8"
      },
      "source": [
        "---\n",
        "\n",
        "## Quick Video\n",
        "\n",
        "This video shows an example of using error control! Remember to pop the video out into the full player.\n",
        "\n",
        "The notebook written in the video is [available here](https://colab.research.google.com/github/jbpost2/ST-554-Big-Data-with-Python/blob/main/01_Programming_in_python/Learning_Python.ipynb)."
      ]
    },
    {
      "cell_type": "code",
      "source": [
        "from IPython.display import IFrame\n",
        "IFrame(src=\"https://ncsu.hosted.panopto.com/Panopto/Pages/Embed.aspx?id=cd799e52-f4f1-4531-8174-b10301708125&autoplay=false&offerviewer=true&showtitle=true&showbrand=true&captions=false&interactivity=all\", height=\"405\", width=\"720\")"
      ],
      "metadata": {
        "id": "Q-CPY05WRlvr",
        "outputId": "0ab82dcf-6aff-4685-eb8f-b3da251c3531",
        "colab": {
          "base_uri": "https://localhost:8080/",
          "height": 446
        }
      },
      "id": "Q-CPY05WRlvr",
      "execution_count": 29,
      "outputs": [
        {
          "output_type": "execute_result",
          "data": {
            "text/plain": [
              "<IPython.lib.display.IFrame at 0x7f31a17b9b40>"
            ],
            "text/html": [
              "\n",
              "        <iframe\n",
              "            width=\"720\"\n",
              "            height=\"405\"\n",
              "            src=\"https://ncsu.hosted.panopto.com/Panopto/Pages/Embed.aspx?id=cd799e52-f4f1-4531-8174-b10301708125&autoplay=false&offerviewer=true&showtitle=true&showbrand=true&captions=false&interactivity=all\"\n",
              "            frameborder=\"0\"\n",
              "            allowfullscreen\n",
              "            \n",
              "        ></iframe>\n",
              "        "
            ]
          },
          "metadata": {},
          "execution_count": 29
        }
      ]
    },
    {
      "cell_type": "markdown",
      "id": "5348b685",
      "metadata": {
        "id": "5348b685"
      },
      "source": [
        "---\n",
        "\n",
        "# Recap\n",
        "\n",
        "- Syntax errors and exceptions\n",
        "\n",
        "- When an exception is raised:\n",
        "\n",
        "    + `try`, `except`, `else`, and `finally` can help!\n",
        "\n",
        "\n",
        "That wraps up our week 4 content! Head out our <a href = \"https://wolfware.ncsu.edu\" target = \"_blank\">Moodle site</a> and start on homework 4.\n",
        "\n",
        "If you are on the course website, use the table of contents on the left or the arrows at the bottom of this page to navigate to the next learning material!\n",
        "\n",
        "If you are on Google Colab, head back to our course website for [our next lesson](https://jbpost2.github.io/ST-554-Big-Data-with-Python/01_Programming_in_python/22-Big_Recap_Landing.html)!"
      ]
    }
  ],
  "metadata": {
    "jupytext": {
      "cell_metadata_filter": "tags,eval,error,warning,message,-all",
      "main_language": "python",
      "notebook_metadata_filter": "-all"
    },
    "colab": {
      "provenance": [],
      "toc_visible": true,
      "include_colab_link": true
    },
    "language_info": {
      "name": "python"
    },
    "kernelspec": {
      "name": "python3",
      "display_name": "Python 3"
    }
  },
  "nbformat": 4,
  "nbformat_minor": 5
}