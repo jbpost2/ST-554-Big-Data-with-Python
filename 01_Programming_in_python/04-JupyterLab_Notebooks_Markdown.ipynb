{
  "cells": [
    {
      "cell_type": "markdown",
      "metadata": {
        "id": "view-in-github",
        "colab_type": "text"
      },
      "source": [
        "<a href=\"https://colab.research.google.com/github/jbpost2/ST-554-Big-Data-with-Python/blob/main/01_Programming_in_python/04-JupyterLab_Notebooks_Markdown.ipynb\" target=\"_parent\"><img src=\"https://colab.research.google.com/assets/colab-badge.svg\" alt=\"Open In Colab\"/></a>"
      ]
    },
    {
      "cell_type": "markdown",
      "id": "fc0f641d",
      "metadata": {
        "id": "fc0f641d"
      },
      "source": [
        "# Markdown Capabilities\n",
        "\n",
        "---\n",
        "\n",
        "You've seen that we can include text cells that get 'marked up' into a nicer format in our notebooks. This notebook discusses this *markdown* syntax!\n",
        "\n",
        "Note: These types of webpages are built from Jupyter notebooks (`.ipynb` files). You can access your own versions of them by [clicking here](https://colab.research.google.com/github/jbpost2/ST-554-Big-Data-with-Python/blob/main/01_Programming_in_python/04-JupyterLab_Notebooks_Markdown.ipynb). **It is highly recommended that you go through and run the notebooks yourself, modifying and rerunning things where you'd like!**\n",
        "\n",
        "---\n",
        "\n",
        "## What is Markdown?  \n",
        "\n",
        "- Most have heard of HTML (HyperText Mark-up Language)  \n",
        "    + There we write plain text that the browser interprets and renders  \n",
        "    \n",
        "- Markdown is a specific 'mark-up' language  \n",
        "    + Easier syntax  \n",
        "    + Not as powerful  \n",
        "    \n",
        "- Can be used in 'Text' cells\n",
        "- **Double click a text cell to see the plain text formatting used!**\n",
        "- **Shift enter to make the cell 'render'**"
      ]
    },
    {
      "cell_type": "markdown",
      "id": "f34c93ba",
      "metadata": {
        "id": "f34c93ba"
      },
      "source": [
        "---\n",
        "\n",
        "## Markdown Syntax  \n",
        "\n",
        "Let's just go through examples of some of the most commonly used syntax (you can always see the syntax used in our notebooks by opening them in Colab and double clicking a cell!)\n",
        "\n",
        "- General link: \\[link\\](URL or relative link)\n",
        "    + [Markdown Reference from Jupyter](https://jupyter-notebook.readthedocs.io/en/stable/examples/Notebook/Working%20With%20Markdown%20Cells.html) with much more info than what we'll go through here\n",
        "- `*italics*` *and* `_italics_`\n",
        "- `**bold**` **and** `__bold__`\n",
        "- `_**italics and bold!**_` is _**fancy and loud**_\n",
        "- `~~strikethrough~~`  becomes ~~strikethrough~~\n",
        "\n",
        "---\n",
        "\n",
        "* `---` Three dashes for a thematic break\n",
        "* \\# Level 1 Header, \\#\\# Level 2 Header, to six levels\n",
        "* **Important!**: The use of headers can automatically creates a Table of Contents! This is super important for jumping through your document.\n",
        "    - See top left icon on Colab\n",
        "* Include an image: \\!\\[\\](path/to/file.png) (double click this cell to see the URL we pull this image from)\n",
        "    - ![](https://www4.stat.ncsu.edu/~online/datasets/slr.png)\n",
        "* Surround `text` with backticks to make 'code font' (this makes it look like you know what you are doing :)"
      ]
    },
    {
      "cell_type": "markdown",
      "id": "cbc875ca",
      "metadata": {
        "id": "cbc875ca"
      },
      "source": [
        "---\n",
        "  \n",
        "## Widgets and Such\n",
        "\n",
        "We can bring in lots of HTML style widgets into our notebooks! [Widget Info](https://github.com/jupyter-widgets)\n",
        "\n",
        "- Lots of fun widgets that you can add\n",
        "    + Maps\n",
        "    + Sliders\n",
        "    + Text input    \n",
        "    + Check boxes\n",
        "    + Etc.\n",
        "\n",
        "- Things won't always work quite right in `Colab` but will when we move to `JupyterLab` later in the semester!\n"
      ]
    },
    {
      "cell_type": "markdown",
      "id": "5AN9OfZbwiMs",
      "metadata": {
        "id": "5AN9OfZbwiMs"
      },
      "source": [
        "---\n",
        "\n",
        "## Video Demo\n",
        "\n",
        "This quick video demo shows how we can include some interactive HTML content in our `Colab` notebook. (Of course you can see we are bringing in a video here as well!) Remember to pop the video out into the full player using the button in the bottom right.\n",
        "\n",
        "The notebook written in the video is [available here](https://colab.research.google.com/github/jbpost2/ST-554-Big-Data-with-Python/blob/main/01_Programming_in_python/Learning_Python.ipynb)."
      ]
    },
    {
      "cell_type": "code",
      "execution_count": null,
      "id": "wP2gP-2xy4jF",
      "metadata": {
        "colab": {
          "base_uri": "https://localhost:8080/",
          "height": 446
        },
        "id": "wP2gP-2xy4jF",
        "outputId": "8cb75225-5e8a-4c50-b052-4953eb85bc57"
      },
      "outputs": [
        {
          "output_type": "execute_result",
          "data": {
            "text/plain": [
              "<IPython.lib.display.IFrame at 0x7ead5b40d630>"
            ],
            "text/html": [
              "\n",
              "        <iframe\n",
              "            width=\"720\"\n",
              "            height=\"405\"\n",
              "            src=\"https://ncsu.hosted.panopto.com/Panopto/Pages/Embed.aspx?id=32a49a33-bc92-49ab-b767-b0ef0167e1b3&autoplay=false&offerviewer=true&showtitle=true&showbrand=true&captions=false&interactivity=all\"\n",
              "            frameborder=\"0\"\n",
              "            allowfullscreen\n",
              "            \n",
              "        ></iframe>\n",
              "        "
            ]
          },
          "metadata": {},
          "execution_count": 1
        }
      ],
      "source": [
        "from IPython.display import IFrame\n",
        "IFrame(src = 'https://ncsu.hosted.panopto.com/Panopto/Pages/Embed.aspx?id=32a49a33-bc92-49ab-b767-b0ef0167e1b3&autoplay=false&offerviewer=true&showtitle=true&showbrand=true&captions=false&interactivity=all', width = '720', height = '405')"
      ]
    },
    {
      "cell_type": "markdown",
      "id": "fb1439f4",
      "metadata": {
        "id": "fb1439f4"
      },
      "source": [
        "---\n",
        "  \n",
        "# Recap\n",
        "  \n",
        "- Markdown is a basic language for formatting text\n",
        "\n",
        "- `Colab` and `JupyterLab` give a lot of functionality for markdown and more!\n",
        "\n",
        "- [Markdown Reference from Jupyter](https://jupyter-notebook.readthedocs.io/en/stable/examples/Notebook/Working%20With%20Markdown%20Cells.html)\n",
        "\n",
        "If you are on the course website, use the table of contents on the left or the arrows at the bottom of this page to navigate to the next learning material!\n",
        "\n",
        "If you are on Google Colab, head back to our course website for [our next lesson](https://jbpost2.github.io/ST-554-Big-Data-with-Python/01_Programming_in_python/05-List_Basics_Strings.html)!"
      ]
    }
  ],
  "metadata": {
    "colab": {
      "provenance": [],
      "toc_visible": true,
      "include_colab_link": true
    },
    "jupytext": {
      "cell_metadata_filter": "warning,fig.align,message,tags,out.width,-all",
      "main_language": "R",
      "notebook_metadata_filter": "-all"
    },
    "kernelspec": {
      "display_name": "Python 3",
      "name": "python3"
    },
    "language_info": {
      "name": "python"
    }
  },
  "nbformat": 4,
  "nbformat_minor": 5
}