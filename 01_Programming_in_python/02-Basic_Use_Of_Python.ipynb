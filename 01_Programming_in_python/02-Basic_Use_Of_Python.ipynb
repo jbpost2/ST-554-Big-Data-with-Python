{
  "cells": [
    {
      "cell_type": "markdown",
      "metadata": {
        "id": "view-in-github",
        "colab_type": "text"
      },
      "source": [
        "<a href=\"https://colab.research.google.com/github/jbpost2/ST-554-Big-Data-with-Python/blob/main/01_Programming_in_python/02-Basic_Use_Of_Python.ipynb\" target=\"_parent\"><img src=\"https://colab.research.google.com/assets/colab-badge.svg\" alt=\"Open In Colab\"/></a>"
      ]
    },
    {
      "cell_type": "markdown",
      "source": [
        "# Basic Use of Python\n",
        "\n",
        "> Justin Post (Some notes modified from Dr. Eric Chi)\n",
        "\n",
        "---\n",
        "\n",
        "In preparation for dealing with big data we need to learn a programming language and figure out a good coding environment. We'll learn `python` and code in Google Colab/JupyterLab.\n",
        "\n",
        "We choose python due to its popularity and the ease of programming in `spark` (a big data software) through `pyspark`.\n",
        "\n",
        "We use [`JupyterLab`](https://jupyter.org/) as it is a widely used software for creating `python` notebooks.  Google `Colab` is built on `JupyterLab`!\n",
        "\n",
        "Note: These types of webpages are built from Jupyter notebooks (`.ipynb` files). You can access your own versions of them by [clicking here](https://colab.research.google.com/github/jbpost2/ST-554-Big-Data-with-Python/blob/main/01_Programming_in_python/02-Basic_Use_Of_Python.ipynb). **It is highly recommended that you go through and run the notebooks yourself, modifying and rerunning things where you'd like!**\n"
      ],
      "metadata": {
        "id": "Pf4zW5_Ebzjd"
      },
      "id": "Pf4zW5_Ebzjd"
    },
    {
      "cell_type": "markdown",
      "source": [
        "---\n",
        "\n",
        "## Getting Started\n",
        "\n",
        "When you open a new notebook in `colab` by default it will use python to run any 'code cells' (this can be changed in the 'notebook settings' under the View -> 'Notebook info' menu).\n",
        "\n",
        "There are two types of cells:\n",
        "- Code cells: allow you to submit code\n",
        "- Text cells: allow you to write text using 'markdown' (we'll learn more about that shortly!)\n",
        "\n",
        "These can be added in the top left of the notebook (`+ Code` and `+ Text`). Below is a python code cell. These can be run by clicking 'shift-enter' when you click on the cell."
      ],
      "metadata": {
        "id": "iwYqU3hsL7Gn"
      },
      "id": "iwYqU3hsL7Gn"
    },
    {
      "cell_type": "code",
      "execution_count": null,
      "id": "3fae54e0",
      "metadata": {
        "lines_to_next_cell": 0,
        "id": "3fae54e0",
        "colab": {
          "base_uri": "https://localhost:8080/"
        },
        "outputId": "cc67904d-e28c-4033-b2bd-ce39455dae62"
      },
      "outputs": [
        {
          "output_type": "execute_result",
          "data": {
            "text/plain": [
              "25"
            ]
          },
          "metadata": {},
          "execution_count": 2
        }
      ],
      "source": [
        "#A comment - this text is not evaluated\n",
        "5 + 6\n",
        "10 * 2\n",
        "5**2"
      ]
    },
    {
      "cell_type": "markdown",
      "source": [
        "- Only the last bit of code is 'printed' unless you specifically print it. We'll do this much of the time with `print()` function."
      ],
      "metadata": {
        "id": "YIhXMt_MhVG7"
      },
      "id": "YIhXMt_MhVG7"
    },
    {
      "cell_type": "code",
      "execution_count": null,
      "id": "783b9bad",
      "metadata": {
        "lines_to_next_cell": 0,
        "id": "783b9bad",
        "colab": {
          "base_uri": "https://localhost:8080/"
        },
        "outputId": "373a352c-e833-40f6-949e-5a251c52c37f"
      },
      "outputs": [
        {
          "output_type": "stream",
          "name": "stdout",
          "text": [
            "3.3333333333333335\n",
            "1\n",
            "3\n"
          ]
        }
      ],
      "source": [
        "# % is mod, // is floor\n",
        "print(10 / 3)\n",
        "print(10 % 3)\n",
        "print(10 // 3)"
      ]
    },
    {
      "cell_type": "markdown",
      "id": "0c5d130a",
      "metadata": {
        "lines_to_next_cell": 0,
        "id": "0c5d130a"
      },
      "source": [
        "- Operators are applied left to right, except for exponentiation"
      ]
    },
    {
      "cell_type": "code",
      "execution_count": null,
      "id": "67f6af3f",
      "metadata": {
        "lines_to_next_cell": 0,
        "id": "67f6af3f",
        "colab": {
          "base_uri": "https://localhost:8080/"
        },
        "outputId": "9290c091-06ba-43cb-fff4-1343ddf939e5"
      },
      "outputs": [
        {
          "output_type": "execute_result",
          "data": {
            "text/plain": [
              "2"
            ]
          },
          "metadata": {},
          "execution_count": 11
        }
      ],
      "source": [
        "3 + 4 - 5"
      ]
    },
    {
      "cell_type": "code",
      "source": [
        "(3 + 4) - 5"
      ],
      "metadata": {
        "id": "uqMpAc6qiYko",
        "outputId": "405c74ca-ddd1-4347-d481-14a72f39dc66",
        "colab": {
          "base_uri": "https://localhost:8080/"
        }
      },
      "id": "uqMpAc6qiYko",
      "execution_count": null,
      "outputs": [
        {
          "output_type": "execute_result",
          "data": {
            "text/plain": [
              "2"
            ]
          },
          "metadata": {},
          "execution_count": 10
        }
      ]
    },
    {
      "cell_type": "code",
      "execution_count": null,
      "id": "33bd679e",
      "metadata": {
        "lines_to_next_cell": 0,
        "id": "33bd679e",
        "colab": {
          "base_uri": "https://localhost:8080/"
        },
        "outputId": "8358fab3-4b40-4027-b1d4-a6068164768a"
      },
      "outputs": [
        {
          "output_type": "execute_result",
          "data": {
            "text/plain": [
              "43046721"
            ]
          },
          "metadata": {},
          "execution_count": 7
        }
      ],
      "source": [
        "3**2**4"
      ]
    },
    {
      "cell_type": "code",
      "source": [
        "#interpreted this way\n",
        "3**(2**4)"
      ],
      "metadata": {
        "id": "IZG_CbJMiaoH",
        "outputId": "648f1440-21b5-44c8-d138-b45023876766",
        "colab": {
          "base_uri": "https://localhost:8080/"
        }
      },
      "id": "IZG_CbJMiaoH",
      "execution_count": null,
      "outputs": [
        {
          "output_type": "execute_result",
          "data": {
            "text/plain": [
              "43046721"
            ]
          },
          "metadata": {},
          "execution_count": 8
        }
      ]
    },
    {
      "cell_type": "code",
      "execution_count": null,
      "id": "c9a725ec",
      "metadata": {
        "lines_to_next_cell": 0,
        "id": "c9a725ec",
        "colab": {
          "base_uri": "https://localhost:8080/"
        },
        "outputId": "7042ac37-4b17-4970-aec5-3eda5b32774f"
      },
      "outputs": [
        {
          "output_type": "execute_result",
          "data": {
            "text/plain": [
              "6561"
            ]
          },
          "metadata": {},
          "execution_count": 9
        }
      ],
      "source": [
        "#not this\n",
        "(3**2)**4"
      ]
    },
    {
      "cell_type": "markdown",
      "id": "15f83db9",
      "metadata": {
        "lines_to_next_cell": 0,
        "id": "15f83db9"
      },
      "source": [
        "---\n",
        "\n",
        "## Creating Variables\n",
        "\n",
        "You can create an object using `=`. This saves the result in a variable you can call later."
      ]
    },
    {
      "cell_type": "code",
      "execution_count": null,
      "id": "dc18a27e",
      "metadata": {
        "lines_to_next_cell": 0,
        "id": "dc18a27e",
        "colab": {
          "base_uri": "https://localhost:8080/"
        },
        "outputId": "aeeaeedf-8de2-4402-eff1-5772e66bdf58"
      },
      "outputs": [
        {
          "output_type": "stream",
          "name": "stdout",
          "text": [
            "Hello! \n",
            "Hello! How are you?\n"
          ]
        }
      ],
      "source": [
        "x = \"Hello! \"\n",
        "y = 'How are you?'\n",
        "print(x)\n",
        "print(x + y)"
      ]
    },
    {
      "cell_type": "markdown",
      "id": "f2e9db42",
      "metadata": {
        "lines_to_next_cell": 0,
        "id": "f2e9db42"
      },
      "source": [
        "- Strings are automatically concatenated using the `+` operator. As with most programming languages, there are special characters like `\\` which indicate something. For instance, `\\n` is a line break. These appear differently depending on if you print something or just view the object."
      ]
    },
    {
      "cell_type": "code",
      "execution_count": null,
      "id": "348bfbe4",
      "metadata": {
        "lines_to_next_cell": 0,
        "id": "348bfbe4",
        "colab": {
          "base_uri": "https://localhost:8080/",
          "height": 35
        },
        "outputId": "f07f0fbd-ee0c-49da-8c42-0bec6518f1fc"
      },
      "outputs": [
        {
          "output_type": "execute_result",
          "data": {
            "text/plain": [
              "'Hello! \\n'"
            ],
            "application/vnd.google.colaboratory.intrinsic+json": {
              "type": "string"
            }
          },
          "metadata": {},
          "execution_count": 13
        }
      ],
      "source": [
        "x = \"Hello! \\n\"\n",
        "y = 'Then I asked, \"How are you?\"'\n",
        "x"
      ]
    },
    {
      "cell_type": "code",
      "source": [
        "print(x)"
      ],
      "metadata": {
        "id": "H4up8xGHjK3r",
        "outputId": "97453851-130a-4120-d001-035c6b14b162",
        "colab": {
          "base_uri": "https://localhost:8080/"
        }
      },
      "id": "H4up8xGHjK3r",
      "execution_count": null,
      "outputs": [
        {
          "output_type": "stream",
          "name": "stdout",
          "text": [
            "Hello! \n",
            "\n"
          ]
        }
      ]
    },
    {
      "cell_type": "code",
      "source": [
        "x + y"
      ],
      "metadata": {
        "id": "LW0V8UQJjL2n",
        "outputId": "43b1814b-c31a-4fff-d8f6-aa89d3450b80",
        "colab": {
          "base_uri": "https://localhost:8080/",
          "height": 35
        }
      },
      "id": "LW0V8UQJjL2n",
      "execution_count": null,
      "outputs": [
        {
          "output_type": "execute_result",
          "data": {
            "text/plain": [
              "'Hello! \\nThen I asked, \"How are you?\"'"
            ],
            "application/vnd.google.colaboratory.intrinsic+json": {
              "type": "string"
            }
          },
          "metadata": {},
          "execution_count": 15
        }
      ]
    },
    {
      "cell_type": "code",
      "source": [
        "print(x + y)"
      ],
      "metadata": {
        "id": "FpbdQ2DvjNYO",
        "outputId": "a5a83bbc-63a4-4986-c53a-bdfd4e41f574",
        "colab": {
          "base_uri": "https://localhost:8080/"
        }
      },
      "id": "FpbdQ2DvjNYO",
      "execution_count": null,
      "outputs": [
        {
          "output_type": "stream",
          "name": "stdout",
          "text": [
            "Hello! \n",
            "Then I asked, \"How are you?\"\n"
          ]
        }
      ]
    },
    {
      "cell_type": "markdown",
      "id": "c0ff27af",
      "metadata": {
        "id": "c0ff27af"
      },
      "source": [
        "- Variables can be used to simplify and generalize your code"
      ]
    },
    {
      "cell_type": "code",
      "execution_count": null,
      "id": "87504cdd",
      "metadata": {
        "lines_to_next_cell": 2,
        "id": "87504cdd",
        "colab": {
          "base_uri": "https://localhost:8080/"
        },
        "outputId": "c3019a86-0d39-4549-b9f2-9312da4f7d7b"
      },
      "outputs": [
        {
          "output_type": "stream",
          "name": "stdout",
          "text": [
            "78.80000000000001\n",
            "212.0\n"
          ]
        }
      ],
      "source": [
        "degrees_celsius = 26.0\n",
        "print(9 / 5 * degrees_celsius + 32)\n",
        "degrees_celsius = 100\n",
        "print(9 / 5 * degrees_celsius + 32)"
      ]
    },
    {
      "cell_type": "markdown",
      "source": [
        "You might try to add a code cell to this notebook and\n",
        "\n",
        "*   Create a new string variable\n",
        "*   Use `+` to concatenate it with the strings above\n"
      ],
      "metadata": {
        "id": "AiwOKGkRbZkR"
      },
      "id": "AiwOKGkRbZkR"
    },
    {
      "cell_type": "markdown",
      "id": "241439b0",
      "metadata": {
        "lines_to_next_cell": 0,
        "id": "241439b0"
      },
      "source": [
        "## Object Types\n",
        "\n",
        "There are a number of built-in objects you can create. Some important ones are listed below:\n",
        "\n",
        "- Text Type: `str`"
      ]
    },
    {
      "cell_type": "code",
      "execution_count": null,
      "id": "cec24fbe",
      "metadata": {
        "lines_to_next_cell": 0,
        "id": "cec24fbe",
        "colab": {
          "base_uri": "https://localhost:8080/"
        },
        "outputId": "e57b0df1-12e8-4f24-f9c6-2c4bb5ed728f"
      },
      "outputs": [
        {
          "output_type": "execute_result",
          "data": {
            "text/plain": [
              "str"
            ]
          },
          "metadata": {},
          "execution_count": 1
        }
      ],
      "source": [
        "y = \"text string\"\n",
        "type(y)"
      ]
    },
    {
      "cell_type": "markdown",
      "id": "62518b6d",
      "metadata": {
        "lines_to_next_cell": 0,
        "id": "62518b6d"
      },
      "source": [
        "- Numeric Types:\t`int`, `float`"
      ]
    },
    {
      "cell_type": "code",
      "execution_count": null,
      "id": "c1854ce8",
      "metadata": {
        "lines_to_next_cell": 0,
        "id": "c1854ce8",
        "colab": {
          "base_uri": "https://localhost:8080/"
        },
        "outputId": "2d0f7b2a-9cc6-4545-9f48-ced6d5b8bd4c"
      },
      "outputs": [
        {
          "output_type": "stream",
          "name": "stdout",
          "text": [
            "<class 'int'>\n",
            "<class 'float'>\n"
          ]
        }
      ],
      "source": [
        "y = 10\n",
        "print(type(y))\n",
        "x = 10.4\n",
        "print(type(x))"
      ]
    },
    {
      "cell_type": "markdown",
      "id": "784cf9de",
      "metadata": {
        "lines_to_next_cell": 0,
        "id": "784cf9de"
      },
      "source": [
        "- Boolean Type:\t`bool`"
      ]
    },
    {
      "cell_type": "code",
      "execution_count": null,
      "id": "7a3f8be2",
      "metadata": {
        "lines_to_next_cell": 0,
        "id": "7a3f8be2",
        "colab": {
          "base_uri": "https://localhost:8080/"
        },
        "outputId": "a70bfc25-bea8-4208-af61-5a23c7716a59"
      },
      "outputs": [
        {
          "output_type": "execute_result",
          "data": {
            "text/plain": [
              "bool"
            ]
          },
          "metadata": {},
          "execution_count": 5
        }
      ],
      "source": [
        "y = True\n",
        "type(y)"
      ]
    },
    {
      "cell_type": "markdown",
      "id": "21eeec8e",
      "metadata": {
        "lines_to_next_cell": 0,
        "id": "21eeec8e"
      },
      "source": [
        "- Sequence Types:\t`list`, `tuple`"
      ]
    },
    {
      "cell_type": "code",
      "execution_count": null,
      "id": "b3291e5d",
      "metadata": {
        "lines_to_next_cell": 0,
        "id": "b3291e5d",
        "colab": {
          "base_uri": "https://localhost:8080/"
        },
        "outputId": "4eae85eb-9b63-4164-c288-4652aeae92e0"
      },
      "outputs": [
        {
          "output_type": "execute_result",
          "data": {
            "text/plain": [
              "list"
            ]
          },
          "metadata": {},
          "execution_count": 6
        }
      ],
      "source": [
        "z = [10, \"a\", 11.5, True]\n",
        "type(z)"
      ]
    },
    {
      "cell_type": "markdown",
      "id": "d1806215",
      "metadata": {
        "lines_to_next_cell": 0,
        "id": "d1806215"
      },
      "source": [
        "- Mapping Type:\t`dict`"
      ]
    },
    {
      "cell_type": "code",
      "execution_count": null,
      "id": "42476271",
      "metadata": {
        "lines_to_next_cell": 0,
        "id": "42476271",
        "colab": {
          "base_uri": "https://localhost:8080/"
        },
        "outputId": "60b1349f-5139-4de3-ed77-74a0246f566e"
      },
      "outputs": [
        {
          "output_type": "execute_result",
          "data": {
            "text/plain": [
              "dict"
            ]
          },
          "metadata": {},
          "execution_count": 7
        }
      ],
      "source": [
        "w = {\"key1\": \"value1\",\n",
        "     \"key2\": [\"value2\", 10]}\n",
        "type(w)"
      ]
    },
    {
      "cell_type": "markdown",
      "source": [
        "We'll cover these data types and their uses shortly!"
      ],
      "metadata": {
        "id": "o8QIcGEsgzFI"
      },
      "id": "o8QIcGEsgzFI"
    },
    {
      "cell_type": "markdown",
      "id": "558bc51f",
      "metadata": {
        "lines_to_next_cell": 0,
        "id": "558bc51f"
      },
      "source": [
        "---\n",
        "\n",
        "## Multiple Assignment\n",
        "\n",
        "- Assigning multiple variables on one line is easy in `python`"
      ]
    },
    {
      "cell_type": "code",
      "execution_count": null,
      "id": "b0c90adf",
      "metadata": {
        "id": "b0c90adf",
        "colab": {
          "base_uri": "https://localhost:8080/"
        },
        "outputId": "4a78d2d4-7f70-43ad-d25e-3678b299495a"
      },
      "outputs": [
        {
          "output_type": "stream",
          "name": "stdout",
          "text": [
            "Orange\n",
            "Banana\n",
            "Cherry\n"
          ]
        }
      ],
      "source": [
        "x, y, z = \"Orange\", \"Banana\", \"Cherry\"\n",
        "print(x)\n",
        "print(y)\n",
        "print(z)"
      ]
    },
    {
      "cell_type": "code",
      "execution_count": null,
      "id": "5a01856d",
      "metadata": {
        "lines_to_next_cell": 0,
        "id": "5a01856d",
        "colab": {
          "base_uri": "https://localhost:8080/"
        },
        "outputId": "48b9ef4e-5228-4b70-d239-325e56c6d82f"
      },
      "outputs": [
        {
          "output_type": "stream",
          "name": "stdout",
          "text": [
            "Orange\n",
            "Orange\n"
          ]
        }
      ],
      "source": [
        "x = y = z = \"Orange\"\n",
        "print(x)\n",
        "print(y)\n"
      ]
    },
    {
      "cell_type": "markdown",
      "source": [
        "The use of `*` can allow you to 'pack' the remaining values into one object. Placement of the `*` is important here!"
      ],
      "metadata": {
        "id": "TOl7l8wkj8zt"
      },
      "id": "TOl7l8wkj8zt"
    },
    {
      "cell_type": "code",
      "execution_count": null,
      "id": "ce44c606",
      "metadata": {
        "id": "ce44c606",
        "colab": {
          "base_uri": "https://localhost:8080/"
        },
        "outputId": "918fa641-7e33-49a4-f79d-6b64fa983a2b"
      },
      "outputs": [
        {
          "output_type": "stream",
          "name": "stdout",
          "text": [
            "Orange\n",
            "['Banana', 'Cherry']\n"
          ]
        },
        {
          "output_type": "execute_result",
          "data": {
            "text/plain": [
              "list"
            ]
          },
          "metadata": {},
          "execution_count": 10
        }
      ],
      "source": [
        "x, *y = \"Orange\", \"Banana\", \"Cherry\"\n",
        "print(x)\n",
        "print(y)\n",
        "type(y)"
      ]
    },
    {
      "cell_type": "code",
      "execution_count": null,
      "id": "09d3ce8f",
      "metadata": {
        "lines_to_next_cell": 0,
        "id": "09d3ce8f",
        "colab": {
          "base_uri": "https://localhost:8080/"
        },
        "outputId": "78ecbd56-f764-47db-fd78-0db5c207cf54"
      },
      "outputs": [
        {
          "output_type": "stream",
          "name": "stdout",
          "text": [
            "['Orange', 'Banana']\n",
            "Cherry\n"
          ]
        }
      ],
      "source": [
        "*x, y = \"Orange\", \"Banana\", \"Cherry\"\n",
        "print(x)\n",
        "print(y)"
      ]
    },
    {
      "cell_type": "markdown",
      "source": [
        "We'll utilize packing and upnacking to simplify our code in many places!"
      ],
      "metadata": {
        "id": "YfJoMApHhDCY"
      },
      "id": "YfJoMApHhDCY"
    },
    {
      "cell_type": "markdown",
      "id": "8ac64dd0",
      "metadata": {
        "lines_to_next_cell": 0,
        "id": "8ac64dd0"
      },
      "source": [
        "---\n",
        "\n",
        "## `_` Variable\n",
        "\n",
        "When doing python interactively (as with a JupyterLab notebook), the last evaluated expression is assigned to the variable `_`. This carries across code cells."
      ]
    },
    {
      "cell_type": "code",
      "execution_count": null,
      "id": "187e2555",
      "metadata": {
        "lines_to_next_cell": 0,
        "id": "187e2555",
        "colab": {
          "base_uri": "https://localhost:8080/",
          "height": 55
        },
        "outputId": "7e08eff0-7c4a-4383-9246-f6d8dad0944e"
      },
      "outputs": [
        {
          "output_type": "execute_result",
          "data": {
            "text/plain": [
              "'Orange'"
            ],
            "application/vnd.google.colaboratory.intrinsic+json": {
              "type": "string"
            }
          },
          "metadata": {},
          "execution_count": 12
        }
      ],
      "source": [
        "x, y, z = \"Orange\", \"Banana\", \"Cherry\"\n",
        "x"
      ]
    },
    {
      "cell_type": "code",
      "execution_count": null,
      "id": "3ecb216c",
      "metadata": {
        "eval": false,
        "lines_to_next_cell": 0,
        "id": "3ecb216c",
        "colab": {
          "base_uri": "https://localhost:8080/",
          "height": 55
        },
        "outputId": "5dcb546b-7e3a-4bb0-b868-361abc27ad64"
      },
      "outputs": [
        {
          "output_type": "execute_result",
          "data": {
            "text/plain": [
              "'Orange'"
            ],
            "application/vnd.google.colaboratory.intrinsic+json": {
              "type": "string"
            }
          },
          "metadata": {},
          "execution_count": 13
        }
      ],
      "source": [
        "_"
      ]
    },
    {
      "cell_type": "code",
      "execution_count": null,
      "id": "297a346d",
      "metadata": {
        "lines_to_next_cell": 0,
        "tags": [
          "remove_input"
        ],
        "id": "297a346d",
        "colab": {
          "base_uri": "https://localhost:8080/",
          "height": 55
        },
        "outputId": "0fe0762b-0237-4501-e800-8f530cefb0db"
      },
      "outputs": [
        {
          "output_type": "execute_result",
          "data": {
            "text/plain": [
              "'Orange'"
            ],
            "application/vnd.google.colaboratory.intrinsic+json": {
              "type": "string"
            }
          },
          "metadata": {},
          "execution_count": 14
        }
      ],
      "source": [
        "x"
      ]
    },
    {
      "cell_type": "code",
      "execution_count": null,
      "id": "443fa677",
      "metadata": {
        "lines_to_next_cell": 0,
        "id": "443fa677",
        "colab": {
          "base_uri": "https://localhost:8080/"
        },
        "outputId": "5a57a8ba-c638-47c9-a0e1-09545cd73de9"
      },
      "outputs": [
        {
          "output_type": "stream",
          "name": "stdout",
          "text": [
            "Banana\n"
          ]
        }
      ],
      "source": [
        "#print doesn't count toward the _!\n",
        "print(y)"
      ]
    },
    {
      "cell_type": "code",
      "execution_count": null,
      "id": "9a45c8af",
      "metadata": {
        "eval": false,
        "lines_to_next_cell": 0,
        "id": "9a45c8af",
        "colab": {
          "base_uri": "https://localhost:8080/",
          "height": 55
        },
        "outputId": "cc1317d2-0ef9-40c2-b617-36230e7412f6"
      },
      "outputs": [
        {
          "output_type": "execute_result",
          "data": {
            "text/plain": [
              "'Orange'"
            ],
            "application/vnd.google.colaboratory.intrinsic+json": {
              "type": "string"
            }
          },
          "metadata": {},
          "execution_count": 16
        }
      ],
      "source": [
        "_"
      ]
    },
    {
      "cell_type": "code",
      "execution_count": null,
      "id": "1383cfd1",
      "metadata": {
        "lines_to_next_cell": 0,
        "tags": [
          "remove_input"
        ],
        "id": "1383cfd1",
        "colab": {
          "base_uri": "https://localhost:8080/",
          "height": 55
        },
        "outputId": "1b1455ae-0ab5-4560-8b1f-54485f4377f0"
      },
      "outputs": [
        {
          "output_type": "execute_result",
          "data": {
            "text/plain": [
              "'Banana'"
            ],
            "application/vnd.google.colaboratory.intrinsic+json": {
              "type": "string"
            }
          },
          "metadata": {},
          "execution_count": 17
        }
      ],
      "source": [
        "y"
      ]
    },
    {
      "cell_type": "code",
      "source": [
        "_"
      ],
      "metadata": {
        "id": "IriGTJDQkcIr",
        "outputId": "b719ced0-9195-46c1-f748-fbbc6563a8ba",
        "colab": {
          "base_uri": "https://localhost:8080/",
          "height": 55
        }
      },
      "id": "IriGTJDQkcIr",
      "execution_count": null,
      "outputs": [
        {
          "output_type": "execute_result",
          "data": {
            "text/plain": [
              "'Banana'"
            ],
            "application/vnd.google.colaboratory.intrinsic+json": {
              "type": "string"
            }
          },
          "metadata": {},
          "execution_count": 18
        }
      ]
    },
    {
      "cell_type": "markdown",
      "id": "27bb4c0d",
      "metadata": {
        "lines_to_next_cell": 0,
        "id": "27bb4c0d"
      },
      "source": [
        "We'll use this `_` operator when doing computations where we don't need to save things. For instance,"
      ]
    },
    {
      "cell_type": "code",
      "execution_count": null,
      "id": "37d822ae",
      "metadata": {
        "lines_to_next_cell": 0,
        "id": "37d822ae",
        "colab": {
          "base_uri": "https://localhost:8080/"
        },
        "outputId": "58af4ea8-c7fb-4b84-d0e5-f8e10adaa0fe"
      },
      "outputs": [
        {
          "output_type": "execute_result",
          "data": {
            "text/plain": [
              "212.0"
            ]
          },
          "metadata": {},
          "execution_count": 19
        }
      ],
      "source": [
        "degrees_celcius = 100\n",
        "(9 / 5) * degrees_celcius + 32"
      ]
    },
    {
      "cell_type": "code",
      "execution_count": null,
      "id": "d436adee",
      "metadata": {
        "eval": false,
        "lines_to_next_cell": 0,
        "id": "d436adee",
        "colab": {
          "base_uri": "https://localhost:8080/"
        },
        "outputId": "007c4f21-4a7d-4d82-e9d1-0100d9f35d6e"
      },
      "outputs": [
        {
          "output_type": "execute_result",
          "data": {
            "text/plain": [
              "202.0"
            ]
          },
          "metadata": {},
          "execution_count": 20
        }
      ],
      "source": [
        "_ - 10"
      ]
    },
    {
      "cell_type": "code",
      "execution_count": null,
      "id": "fe5904ed",
      "metadata": {
        "lines_to_next_cell": 0,
        "tags": [
          "remove_input"
        ],
        "id": "fe5904ed",
        "colab": {
          "base_uri": "https://localhost:8080/"
        },
        "outputId": "b528f081-2499-4f5e-f0e6-53572a3b79bb"
      },
      "outputs": [
        {
          "output_type": "execute_result",
          "data": {
            "text/plain": [
              "202.0"
            ]
          },
          "metadata": {},
          "execution_count": 21
        }
      ],
      "source": [
        "(9 / 5) * degrees_celcius + 32 - 10"
      ]
    },
    {
      "cell_type": "code",
      "execution_count": null,
      "id": "3ae5ee67",
      "metadata": {
        "eval": false,
        "lines_to_next_cell": 0,
        "id": "3ae5ee67",
        "colab": {
          "base_uri": "https://localhost:8080/"
        },
        "outputId": "e6791252-61d0-4944-b376-c5aad3c8cbf3"
      },
      "outputs": [
        {
          "output_type": "execute_result",
          "data": {
            "text/plain": [
              "2020.0"
            ]
          },
          "metadata": {},
          "execution_count": 22
        }
      ],
      "source": [
        "_ * 10"
      ]
    },
    {
      "cell_type": "markdown",
      "source": [
        "Where it really comes in handy is as a placeholder variable when doing computations in a for loop or list comprehension (again covered later more fully!).\n",
        "\n",
        "Here we replace the index of the for loop with `_`."
      ],
      "metadata": {
        "id": "4VBb4G4hhmGt"
      },
      "id": "4VBb4G4hhmGt"
    },
    {
      "cell_type": "code",
      "execution_count": null,
      "id": "9e000ff5",
      "metadata": {
        "lines_to_next_cell": 0,
        "tags": [
          "remove_input"
        ],
        "id": "9e000ff5",
        "colab": {
          "base_uri": "https://localhost:8080/"
        },
        "outputId": "388107ef-a80e-4e97-e86c-6d138ae6a3ba"
      },
      "outputs": [
        {
          "output_type": "execute_result",
          "data": {
            "text/plain": [
              "5050"
            ]
          },
          "metadata": {},
          "execution_count": 24
        }
      ],
      "source": [
        "sum_numbers = 0\n",
        "#no need to create a variable for the index\n",
        "for _ in range(1,101):\n",
        "  sum_numbers += _\n",
        "sum_numbers"
      ]
    },
    {
      "cell_type": "markdown",
      "id": "616d98e9",
      "metadata": {
        "id": "616d98e9"
      },
      "source": [
        "---\n",
        "\n",
        "## Copying vs Referencing\n",
        "\n",
        "*Careful* when modifying elements of a compound object: 'assignment statements do not copy objects, they create bindings between a target (a spot in computer memory) and an object'!\n",
        "\n",
        "If you come from R, this is a very different behavior!"
      ]
    },
    {
      "cell_type": "code",
      "execution_count": null,
      "id": "af5787fd",
      "metadata": {
        "id": "af5787fd",
        "colab": {
          "base_uri": "https://localhost:8080/"
        },
        "outputId": "bf0e397c-458d-4213-b2e7-5f5f89e37d57"
      },
      "outputs": [
        {
          "output_type": "stream",
          "name": "stdout",
          "text": [
            "[1, 2, 3, 'Cats Rule!'] [1, 2, 3, 'Cats Rule!']\n"
          ]
        }
      ],
      "source": [
        "#Changing the original compound object (list) modifies both variables\n",
        "#First, create a 'list' of four values\n",
        "x = [1, 2, 3, \"Cats Rule!\"]\n",
        "#Make y an alias for x (reference the same memory - this differs from how R works)\n",
        "y = x\n",
        "#note that they are the same when printing\n",
        "print(x, y)"
      ]
    },
    {
      "cell_type": "markdown",
      "source": [
        "We can modify a list element by using `[]` after the object name. Note that `python` starts counting at `0`.\n",
        "- Here we access and overwrite the `3` element (fourth element in the list)"
      ],
      "metadata": {
        "id": "Wdk-3uDhifwx"
      },
      "id": "Wdk-3uDhifwx"
    },
    {
      "cell_type": "code",
      "source": [
        "#Modifying x here actually modifies y too!\n",
        "x[3] = \"Dogs rule!\"\n",
        "print(x, y)"
      ],
      "metadata": {
        "id": "Z6aUOAZ9m-nW",
        "outputId": "98b51b3d-6101-4967-c5f6-a4121e7850e0",
        "colab": {
          "base_uri": "https://localhost:8080/"
        }
      },
      "id": "Z6aUOAZ9m-nW",
      "execution_count": null,
      "outputs": [
        {
          "output_type": "stream",
          "name": "stdout",
          "text": [
            "[1, 2, 10, 'Dogs rule!'] [1, 2, 3, 'Dogs rule!']\n"
          ]
        }
      ]
    },
    {
      "cell_type": "markdown",
      "id": "56931278",
      "metadata": {
        "id": "56931278"
      },
      "source": [
        "- If you want to avoid this behavior, you can create a copy of the object instead of a reference\n",
        "- To do so, we use the `.copy()` method. Methods are like functions but we append them to the rear of the object after a `.`"
      ]
    },
    {
      "cell_type": "code",
      "execution_count": null,
      "id": "2dd0592e",
      "metadata": {
        "lines_to_next_cell": 2,
        "id": "2dd0592e",
        "colab": {
          "base_uri": "https://localhost:8080/"
        },
        "outputId": "332eb3f7-8a5e-4e2e-da39-509da7e8eb9c"
      },
      "outputs": [
        {
          "output_type": "stream",
          "name": "stdout",
          "text": [
            "[1, 2, 10, 'No cats rule!'] [1, 2, 10, 'Dogs rule!']\n"
          ]
        }
      ],
      "source": [
        "#Can create a (shallow) copy of the object rather than point to the same object in memory\n",
        "y = x.copy()\n",
        "x[2] = 10\n",
        "x[3]= \"No cats rule!\"\n",
        "#Note that y doesn't change its value\n",
        "print(x, y)"
      ]
    },
    {
      "cell_type": "markdown",
      "id": "9b082a54",
      "metadata": {
        "id": "9b082a54"
      },
      "source": [
        "---\n",
        "\n",
        "## Variable Names\n",
        "\n",
        "Variable names can use letters, digits, and the underscore symbol (but cannot start with a digit)\n",
        "\n",
        "Ok variable names:\n",
        "\n",
        "- `X`, `species5618`, and `degrees_celsius`\n",
        "\n",
        "Bad variable names:\n",
        "\n",
        "- `777` (begins with a digit)\n",
        "- `no-way!` (includes punctuation)\n"
      ]
    },
    {
      "cell_type": "markdown",
      "id": "73c47952",
      "metadata": {
        "id": "73c47952"
      },
      "source": [
        "---\n",
        "\n",
        "## Augmented Assignment\n",
        "\n",
        "Python has lots of shorthand notation!\n",
        "\n",
        "- Quite often we want to take a value, add to it, and replace the old value"
      ]
    },
    {
      "cell_type": "code",
      "execution_count": null,
      "id": "687e0a8b",
      "metadata": {
        "id": "687e0a8b",
        "colab": {
          "base_uri": "https://localhost:8080/"
        },
        "outputId": "e216cf03-4aa5-42ec-e389-831d4f94d2fb"
      },
      "outputs": [
        {
          "output_type": "execute_result",
          "data": {
            "text/plain": [
              "120"
            ]
          },
          "metadata": {},
          "execution_count": 35
        }
      ],
      "source": [
        "winnings = 100\n",
        "winnings = winnings + 20\n",
        "winnings"
      ]
    },
    {
      "cell_type": "markdown",
      "id": "6fa87222",
      "metadata": {
        "id": "6fa87222"
      },
      "source": [
        "- 'Augmented assignment' gives a shorthand for doing this"
      ]
    },
    {
      "cell_type": "code",
      "execution_count": null,
      "id": "7bf57f05",
      "metadata": {
        "lines_to_next_cell": 2,
        "id": "7bf57f05",
        "colab": {
          "base_uri": "https://localhost:8080/"
        },
        "outputId": "c07ed56d-c209-43d8-90f2-16eda40b04a3"
      },
      "outputs": [
        {
          "output_type": "execute_result",
          "data": {
            "text/plain": [
              "120"
            ]
          },
          "metadata": {},
          "execution_count": 36
        }
      ],
      "source": [
        "winnings = 100\n",
        "winnings += 20\n",
        "winnings"
      ]
    },
    {
      "cell_type": "markdown",
      "id": "7e9cd48d",
      "metadata": {
        "id": "7e9cd48d"
      },
      "source": [
        "- This works for all operators except negation"
      ]
    },
    {
      "cell_type": "code",
      "execution_count": null,
      "id": "f508ad20",
      "metadata": {
        "lines_to_next_cell": 2,
        "id": "f508ad20",
        "colab": {
          "base_uri": "https://localhost:8080/"
        },
        "outputId": "388414f7-3ee2-4048-ebf6-a334e95e6258"
      },
      "outputs": [
        {
          "output_type": "execute_result",
          "data": {
            "text/plain": [
              "90"
            ]
          },
          "metadata": {},
          "execution_count": 37
        }
      ],
      "source": [
        "#subtraction\n",
        "winnings\n",
        "winnings -= 30\n",
        "winnings"
      ]
    },
    {
      "cell_type": "code",
      "source": [
        "#multiplication\n",
        "winnings *= 40\n",
        "winnings"
      ],
      "metadata": {
        "id": "wP4klnEenicN",
        "colab": {
          "base_uri": "https://localhost:8080/"
        },
        "outputId": "b7e2ab76-4e05-4736-c298-002e59d17ad9"
      },
      "id": "wP4klnEenicN",
      "execution_count": null,
      "outputs": [
        {
          "output_type": "execute_result",
          "data": {
            "text/plain": [
              "3600"
            ]
          },
          "metadata": {},
          "execution_count": 38
        }
      ]
    },
    {
      "cell_type": "code",
      "source": [
        "#exponentiation\n",
        "winnings **= 1/2\n",
        "winnings"
      ],
      "metadata": {
        "id": "sUesNIX6nlWO",
        "colab": {
          "base_uri": "https://localhost:8080/"
        },
        "outputId": "031c80f3-2080-49d9-f9b3-d96dc972d0e3"
      },
      "id": "sUesNIX6nlWO",
      "execution_count": null,
      "outputs": [
        {
          "output_type": "execute_result",
          "data": {
            "text/plain": [
              "60.0"
            ]
          },
          "metadata": {},
          "execution_count": 39
        }
      ]
    },
    {
      "cell_type": "markdown",
      "id": "a37e46d8",
      "metadata": {
        "id": "a37e46d8"
      },
      "source": [
        "### Augmented Assignment Execution\n",
        "\n",
        "Executed in the following way:\n",
        "\n",
        "1. Evaluate the expression on the right of the `=` sign to produce a value  \n",
        "\n",
        "2. Apply the operator to the variable on the left and the value produced\n",
        "\n",
        "3. Store this new value in the memory address of the variable on the left of the `=`.\n",
        "\n",
        "This means the operator is applied _after_ the expression on the right is evaluated."
      ]
    },
    {
      "cell_type": "code",
      "execution_count": null,
      "id": "3b587261",
      "metadata": {
        "id": "3b587261",
        "colab": {
          "base_uri": "https://localhost:8080/"
        },
        "outputId": "e3f5f2d4-2801-454a-d9bc-88382e3ad0ba"
      },
      "outputs": [
        {
          "output_type": "execute_result",
          "data": {
            "text/plain": [
              "1100"
            ]
          },
          "metadata": {},
          "execution_count": 40
        }
      ],
      "source": [
        "winnings = 100\n",
        "winnings += 100*10\n",
        "winnings"
      ]
    },
    {
      "cell_type": "markdown",
      "id": "fa95cf47",
      "metadata": {
        "id": "fa95cf47"
      },
      "source": [
        "---\n",
        "\n",
        "## Continuing a Line of Code\n",
        "\n",
        "- For long lines of code, we can break the code across multiple lines using `\\` or by wrapping the code in `()`"
      ]
    },
    {
      "cell_type": "code",
      "execution_count": null,
      "id": "8e121f94",
      "metadata": {
        "lines_to_next_cell": 2,
        "id": "8e121f94",
        "colab": {
          "base_uri": "https://localhost:8080/"
        },
        "outputId": "d2a2dd86-99e4-4d1c-97a1-f866f85c100e"
      },
      "outputs": [
        {
          "output_type": "execute_result",
          "data": {
            "text/plain": [
              "-270.0"
            ]
          },
          "metadata": {},
          "execution_count": 41
        }
      ],
      "source": [
        "10 + 20 - 100 * 60 \\\n",
        "/ 20"
      ]
    },
    {
      "cell_type": "code",
      "source": [
        "(10 + 20 - 100 * 60\n",
        "/20)"
      ],
      "metadata": {
        "id": "eU6zntt0n4FF",
        "outputId": "d334b672-d8f6-4d85-d797-e048f3b387ca",
        "colab": {
          "base_uri": "https://localhost:8080/"
        }
      },
      "id": "eU6zntt0n4FF",
      "execution_count": null,
      "outputs": [
        {
          "output_type": "execute_result",
          "data": {
            "text/plain": [
              "-270.0"
            ]
          },
          "metadata": {},
          "execution_count": 42
        }
      ]
    },
    {
      "cell_type": "markdown",
      "source": [
        "Using `\\` is going to come in very handy when we want to apply multiple methods on one object later in the semester!"
      ],
      "metadata": {
        "id": "oByaCJo7jKSW"
      },
      "id": "oByaCJo7jKSW"
    },
    {
      "cell_type": "markdown",
      "id": "420aec54",
      "metadata": {
        "id": "420aec54"
      },
      "source": [
        "---\n",
        "\n",
        "## Functions & Methods\n",
        "\n",
        "Two major ways to do an operation on a variable/object:\n",
        "\n",
        "- Functions: `function_name(myvar, other_args)`\n",
        "- Methods: `myvar.method(other_args)`\n",
        "\n",
        "Functions are usually more generic actions that you could take on multiple types of objects. For instance, `len()` is a function we can run to see the 'length' of an object."
      ]
    },
    {
      "cell_type": "code",
      "execution_count": null,
      "id": "45b6a73f",
      "metadata": {
        "lines_to_next_cell": 0,
        "id": "45b6a73f",
        "colab": {
          "base_uri": "https://localhost:8080/"
        },
        "outputId": "ae72e47a-6d6f-474d-a64f-9e0f0ea94e1e"
      },
      "outputs": [
        {
          "output_type": "execute_result",
          "data": {
            "text/plain": [
              "4"
            ]
          },
          "metadata": {},
          "execution_count": 51
        }
      ],
      "source": [
        "myList = [1, 10, 100, 1000]\n",
        "#len function\n",
        "len(myList)"
      ]
    },
    {
      "cell_type": "markdown",
      "source": [
        "Similarly, `max()` is another function we can use on many types of objects."
      ],
      "metadata": {
        "id": "2TCU8OsOjixL"
      },
      "id": "2TCU8OsOjixL"
    },
    {
      "cell_type": "code",
      "source": [
        "#max function\n",
        "max(myList)"
      ],
      "metadata": {
        "id": "CH_DjQ1poC6s",
        "outputId": "459a3bd5-23ae-41be-95b0-513dc222d60c",
        "colab": {
          "base_uri": "https://localhost:8080/"
        }
      },
      "id": "CH_DjQ1poC6s",
      "execution_count": null,
      "outputs": [
        {
          "output_type": "execute_result",
          "data": {
            "text/plain": [
              "1000"
            ]
          },
          "metadata": {},
          "execution_count": 52
        }
      ]
    },
    {
      "cell_type": "markdown",
      "source": [
        "Methods on the other hand are specific to the type of object you are dealing with. Lists will have different methods than a dictionary, for instance.\n",
        "\n",
        "Here we use the `.pop()` method on a this list. This returns and removes the last element from the list."
      ],
      "metadata": {
        "id": "Aq5pnY0ajn1H"
      },
      "id": "Aq5pnY0ajn1H"
    },
    {
      "cell_type": "code",
      "execution_count": null,
      "id": "392f7a8b",
      "metadata": {
        "lines_to_next_cell": 0,
        "id": "392f7a8b",
        "colab": {
          "base_uri": "https://localhost:8080/"
        },
        "outputId": "db6dd86f-30a5-45da-8589-a82bd570f024"
      },
      "outputs": [
        {
          "output_type": "execute_result",
          "data": {
            "text/plain": [
              "1000"
            ]
          },
          "metadata": {},
          "execution_count": 53
        }
      ],
      "source": [
        "#pop method\n",
        "myList.pop(3)"
      ]
    },
    {
      "cell_type": "code",
      "source": [
        "#last element removed\n",
        "myList"
      ],
      "metadata": {
        "id": "cqVk4s3UoI6F",
        "outputId": "299c9407-4ca5-43f3-afc0-9b38c0eb568c",
        "colab": {
          "base_uri": "https://localhost:8080/"
        }
      },
      "id": "cqVk4s3UoI6F",
      "execution_count": null,
      "outputs": [
        {
          "output_type": "execute_result",
          "data": {
            "text/plain": [
              "[1, 10, 100]"
            ]
          },
          "metadata": {},
          "execution_count": 55
        }
      ]
    },
    {
      "cell_type": "markdown",
      "source": [
        "The `.append()` method adds an element to the end of the list."
      ],
      "metadata": {
        "id": "9-cFc9vLj__E"
      },
      "id": "9-cFc9vLj__E"
    },
    {
      "cell_type": "code",
      "source": [
        "myList.append(100000)\n",
        "myList"
      ],
      "metadata": {
        "id": "eVHBillEoLV0",
        "outputId": "4b0dfab5-11db-4bf0-a4df-e3c2d97709c1",
        "colab": {
          "base_uri": "https://localhost:8080/"
        }
      },
      "id": "eVHBillEoLV0",
      "execution_count": null,
      "outputs": [
        {
          "output_type": "execute_result",
          "data": {
            "text/plain": [
              "[1, 10, 100, 100000]"
            ]
          },
          "metadata": {},
          "execution_count": 56
        }
      ]
    },
    {
      "cell_type": "markdown",
      "id": "1ed9e19f",
      "metadata": {
        "id": "1ed9e19f"
      },
      "source": [
        "---\n",
        "\n",
        "## Video Demo\n",
        "\n",
        "This quick video shows how to open a new Google Colab notebook and run some basic python code. I'd pop the video out into the panopto player using the arrow icon in the bottom right.\n",
        "\n",
        "The notebook written in the video is [available here](https://colab.research.google.com/github/jbpost2/ST-554-Big-Data-with-Python/blob/main/01_Programming_in_python/Learning_Python.ipynb)."
      ]
    },
    {
      "cell_type": "code",
      "source": [
        "from IPython.display import IFrame\n",
        "IFrame(src = 'https://ncsu.hosted.panopto.com/Panopto/Pages/Embed.aspx?id=bae161a8-bac0-4c44-a7a1-b0ef0163e90d&autoplay=false&offerviewer=true&showtitle=true&showbrand=true&captions=false&interactivity=all', width = '620', height = '380')"
      ],
      "metadata": {
        "id": "6DHci1opwQa0",
        "outputId": "56f76ae3-44df-4af2-8803-5e0409e2d9fb",
        "colab": {
          "base_uri": "https://localhost:8080/",
          "height": 421
        }
      },
      "id": "6DHci1opwQa0",
      "execution_count": null,
      "outputs": [
        {
          "output_type": "execute_result",
          "data": {
            "text/plain": [
              "<IPython.lib.display.IFrame at 0x79d5c5a169b0>"
            ],
            "text/html": [
              "\n",
              "        <iframe\n",
              "            width=\"620\"\n",
              "            height=\"380\"\n",
              "            src=\"https://ncsu.hosted.panopto.com/Panopto/Pages/Embed.aspx?id=bae161a8-bac0-4c44-a7a1-b0ef0163e90d&autoplay=false&offerviewer=true&showtitle=true&showbrand=true&captions=false&interactivity=all\"\n",
              "            frameborder=\"0\"\n",
              "            allowfullscreen\n",
              "            \n",
              "        ></iframe>\n",
              "        "
            ]
          },
          "metadata": {},
          "execution_count": 1
        }
      ]
    },
    {
      "cell_type": "markdown",
      "id": "9c48c7ff",
      "metadata": {
        "id": "9c48c7ff"
      },
      "source": [
        "---\n",
        "\n",
        "# Recap\n",
        "\n",
        "- Create variables with `=`\n",
        "\n",
        "- Many built-in data structures\n",
        "\n",
        "- Python shorthands (multiple assignment, `_` variable, augmented assignment)\n",
        "\n",
        "- Careful when *copying* a variable\n",
        "\n",
        "- Functions and Methods\n",
        "\n",
        "If you are on the course website, use the table of contents on the left or the arrows at the bottom of this page to navigate to the next learning material!\n",
        "\n",
        "If you are on Google Colab, head back to our course website for [our next lesson](https://jbpost2.github.io/ST-554-Big-Data-with-Python/01_Programming_in_python/03-Modules.html)!"
      ]
    },
    {
      "cell_type": "code",
      "source": [],
      "metadata": {
        "id": "0LpU4zWukcmA"
      },
      "id": "0LpU4zWukcmA",
      "execution_count": null,
      "outputs": []
    }
  ],
  "metadata": {
    "jupytext": {
      "cell_metadata_filter": "fig.align,eval,warning,tags,message,out.width,-all",
      "main_language": "python",
      "notebook_metadata_filter": "-all"
    },
    "colab": {
      "provenance": [],
      "toc_visible": true,
      "include_colab_link": true
    },
    "language_info": {
      "name": "python"
    },
    "kernelspec": {
      "name": "python3",
      "display_name": "Python 3"
    }
  },
  "nbformat": 4,
  "nbformat_minor": 5
}