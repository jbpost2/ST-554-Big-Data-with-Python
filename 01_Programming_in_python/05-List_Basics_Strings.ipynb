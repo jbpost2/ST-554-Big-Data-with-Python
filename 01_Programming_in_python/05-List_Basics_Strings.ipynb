{
  "cells": [
    {
      "cell_type": "markdown",
      "metadata": {
        "id": "view-in-github",
        "colab_type": "text"
      },
      "source": [
        "<a href=\"https://colab.research.google.com/github/jbpost2/ST-554-Big-Data-with-Python/blob/main/01_Programming_in_python/05-List_Basics_Strings.ipynb\" target=\"_parent\"><img src=\"https://colab.research.google.com/assets/colab-badge.svg\" alt=\"Open In Colab\"/></a>"
      ]
    },
    {
      "cell_type": "markdown",
      "id": "42f47697",
      "metadata": {
        "id": "42f47697"
      },
      "source": [
        "# List Basics & Strings\n",
        "\n",
        "> Justin Post\n",
        "\n",
        "---\n",
        "\n",
        "## Big Picture\n",
        "\n",
        "We've learned a little about how `python` and our `Jupyterlab` coding environment works.\n",
        "\n",
        "Next, we'll go through and look at a number of common data structures used in `python`. We'll try to follow a similar introduction for each data struture where we\n",
        "\n",
        "- introduce the data structure\n",
        "- discuss common functions and methods\n",
        "- do some quick examples of using them\n",
        "\n",
        "Along the way we'll learn some things we want to do with data along with control flow operators (if/then/else, looping, etc.)!\n",
        "\n",
        "Note: These types of webpages are built from Jupyter notebooks (`.ipynb` files). You can access your own versions of them by [clicking here](https://colab.research.google.com/github/jbpost2/ST-554-Big-Data-with-Python/blob/main/01_Programming_in_python/05-List_Basics_Strings.ipynb). **It is highly recommended that you go through and run the notebooks yourself, modifying and rerunning things where you'd like!**"
      ]
    },
    {
      "cell_type": "markdown",
      "id": "0bff3360",
      "metadata": {
        "id": "0bff3360"
      },
      "source": [
        "---\n",
        "\n",
        "## Data Structures\n",
        "\n",
        "- We'll start by discussing the most important built-in data types\n",
        "    + Strings, Numeric types, Booleans\n",
        "    + Compound data types (Lists, Tuples, Dictionaries)\n",
        "    \n",
        "- Then we'll move to commonly used data structures from modules we use in statistics/data science\n",
        "    + `NumPy` arrays\n",
        "    + `Pandas` data frames\n",
        "\n",
        "Lists, Tuples, Strings, and arrays are all **sequences** ([ish](https://stackoverflow.com/questions/62970581/what-exactly-is-a-sequence)) so they have similar functions and behavior! It is important to recognize these common behaviors"
      ]
    },
    {
      "cell_type": "markdown",
      "id": "6ce43dba",
      "metadata": {
        "id": "6ce43dba"
      },
      "source": [
        "---\n",
        "\n",
        "# Lists\n",
        "\n",
        "Properties of lists:\n",
        "\n",
        "- One-dimensional\n",
        "- Elements have an ordering (starting at 0)\n",
        "- Heterogenous (can have elements with different types)\n",
        "- Can have duplicate values  "
      ]
    },
    {
      "cell_type": "markdown",
      "id": "4ff9722b",
      "metadata": {
        "id": "4ff9722b"
      },
      "source": [
        "---\n",
        "\n",
        "## Constructing a List\n",
        "\n",
        "Four major ways to create a list\n",
        "- `[element1, element2]`\n",
        "- `list((element1, element2, ...))`\n",
        "- create an empty list and use the append method to add elements\n",
        "- list comprehensions"
      ]
    },
    {
      "cell_type": "code",
      "execution_count": 1,
      "id": "e662e4ed",
      "metadata": {
        "lines_to_next_cell": 0,
        "id": "e662e4ed",
        "outputId": "4c59fadc-4d30-4361-94f5-bd2ace5397f3",
        "colab": {
          "base_uri": "https://localhost:8080/"
        }
      },
      "outputs": [
        {
          "output_type": "stream",
          "name": "stdout",
          "text": [
            "<class 'list'>\n"
          ]
        },
        {
          "output_type": "execute_result",
          "data": {
            "text/plain": [
              "[10, 15, 10, 100, 'Help!']"
            ]
          },
          "metadata": {},
          "execution_count": 1
        }
      ],
      "source": [
        "#first create via [1st_element, 2nd_element, etc]\n",
        "x = [10, 15, 10, 100, \"Help!\"]\n",
        "print(type(x))\n",
        "x"
      ]
    },
    {
      "cell_type": "code",
      "source": [
        "#create via list()\n",
        "#Note the 'extra' set of () needed within\n",
        "y = list((\"Python\", \"List\", 5))\n",
        "y"
      ],
      "metadata": {
        "id": "SqhihiAQ3z11",
        "outputId": "89f8d979-774a-4681-a38a-59eefc179596",
        "colab": {
          "base_uri": "https://localhost:8080/"
        }
      },
      "id": "SqhihiAQ3z11",
      "execution_count": 4,
      "outputs": [
        {
          "output_type": "execute_result",
          "data": {
            "text/plain": [
              "['Python', 'List', 5]"
            ]
          },
          "metadata": {},
          "execution_count": 4
        }
      ]
    },
    {
      "cell_type": "code",
      "execution_count": 5,
      "id": "6e63380a",
      "metadata": {
        "lines_to_next_cell": 0,
        "id": "6e63380a",
        "outputId": "a998997b-077d-4f5f-f03f-0580338a374e",
        "colab": {
          "base_uri": "https://localhost:8080/"
        }
      },
      "outputs": [
        {
          "output_type": "execute_result",
          "data": {
            "text/plain": [
              "range(1, 10)"
            ]
          },
          "metadata": {},
          "execution_count": 5
        }
      ],
      "source": [
        "#range() is a function that is 'iterable'. By putting it in a list, we get the values out\n",
        "range(1,10)"
      ]
    },
    {
      "cell_type": "code",
      "source": [
        "#notice range doesn't give the 'last' value\n",
        "z = list(range(1,10))\n",
        "z"
      ],
      "metadata": {
        "id": "7_agSj9u4RMk",
        "outputId": "2454200c-8ff7-438b-f47f-c0231c8fd8c1",
        "colab": {
          "base_uri": "https://localhost:8080/"
        }
      },
      "id": "7_agSj9u4RMk",
      "execution_count": 7,
      "outputs": [
        {
          "output_type": "execute_result",
          "data": {
            "text/plain": [
              "[1, 2, 3, 4, 5, 6, 7, 8, 9]"
            ]
          },
          "metadata": {},
          "execution_count": 7
        }
      ]
    },
    {
      "cell_type": "markdown",
      "source": [
        "On sequence type objects, `*` replicates the object a certain number of times. This is common behavior to remember!"
      ],
      "metadata": {
        "id": "JWBSKCBSw8Nu"
      },
      "id": "JWBSKCBSw8Nu"
    },
    {
      "cell_type": "code",
      "source": [
        "z * 2"
      ],
      "metadata": {
        "id": "3rd5ns9O3-GF",
        "outputId": "23dd741e-2a1a-47dd-e063-e4cfa117d60a",
        "colab": {
          "base_uri": "https://localhost:8080/"
        }
      },
      "id": "3rd5ns9O3-GF",
      "execution_count": 8,
      "outputs": [
        {
          "output_type": "execute_result",
          "data": {
            "text/plain": [
              "[1, 2, 3, 4, 5, 6, 7, 8, 9, 1, 2, 3, 4, 5, 6, 7, 8, 9]"
            ]
          },
          "metadata": {},
          "execution_count": 8
        }
      ]
    },
    {
      "cell_type": "markdown",
      "source": [
        "As lists don't really restrict what its elements can be, lists can contain lists!"
      ],
      "metadata": {
        "id": "b6yPF6ZSxF1O"
      },
      "id": "b6yPF6ZSxF1O"
    },
    {
      "cell_type": "code",
      "source": [
        "w = [list(range(1,3)), z, 3]\n",
        "w"
      ],
      "metadata": {
        "id": "uhxedF8J4FLM",
        "outputId": "c6071ff8-4c07-42bd-e2bd-d1e0c7fd47df",
        "colab": {
          "base_uri": "https://localhost:8080/"
        }
      },
      "id": "uhxedF8J4FLM",
      "execution_count": 9,
      "outputs": [
        {
          "output_type": "execute_result",
          "data": {
            "text/plain": [
              "[[1, 2], [1, 2, 3, 4, 5, 6, 7, 8, 9], 3]"
            ]
          },
          "metadata": {},
          "execution_count": 9
        }
      ]
    },
    {
      "cell_type": "markdown",
      "source": [
        "---\n",
        "\n",
        "## List Operations"
      ],
      "metadata": {
        "id": "HoyRRnih7fF9"
      },
      "id": "HoyRRnih7fF9"
    },
    {
      "cell_type": "markdown",
      "id": "e5f4174a",
      "metadata": {
        "lines_to_next_cell": 0,
        "id": "e5f4174a"
      },
      "source": [
        "### Indexing\n",
        "\n",
        "Very often we want to obtain pieces or elements of an object. We can easily do this with lists.\n",
        "\n",
        "- Index with a `[]` after the object name\n",
        "- Counting starts at 0\n",
        "- Negative index counts from reverse (starting at 1...)"
      ]
    },
    {
      "cell_type": "code",
      "execution_count": 11,
      "id": "6d71beb7",
      "metadata": {
        "lines_to_next_cell": 0,
        "id": "6d71beb7",
        "outputId": "71208b0b-f259-453b-abc4-0b000bdcf1d6",
        "colab": {
          "base_uri": "https://localhost:8080/"
        }
      },
      "outputs": [
        {
          "output_type": "stream",
          "name": "stdout",
          "text": [
            "10\n",
            "15\n",
            "Help!\n",
            "100\n"
          ]
        }
      ],
      "source": [
        "x = [10, 15, 10, 100, \"Help!\"]\n",
        "print(x[0])\n",
        "print(x[1])\n",
        "print(x[-1])\n",
        "print(x[-2])"
      ]
    },
    {
      "cell_type": "code",
      "execution_count": 13,
      "id": "7e48f4f7",
      "metadata": {
        "lines_to_next_cell": 0,
        "id": "7e48f4f7",
        "outputId": "ca00820b-5a75-4445-9b22-b7ebc08383c3",
        "colab": {
          "base_uri": "https://localhost:8080/"
        }
      },
      "outputs": [
        {
          "output_type": "stream",
          "name": "stdout",
          "text": [
            "[[1, 2, 3, 4], [10, 15, 10, 100, 'Help!'], 3]\n",
            "[1, 2, 3, 4]\n",
            "[10, 15, 10, 100, 'Help!']\n"
          ]
        }
      ],
      "source": [
        "w = [list(range(1,5)), x, 3]\n",
        "print(w)\n",
        "#the first element is a list so the list is returned\n",
        "print(w[0])\n",
        "#similar with the second element\n",
        "print(w[1])"
      ]
    },
    {
      "cell_type": "markdown",
      "source": [
        "We can do more than one level of indexing with a single line of code (when applicable). As `w[1]` returns a list we can use `[]` after `w[1]` to return a specific element or slice from that list."
      ],
      "metadata": {
        "id": "9vyaIYlZx6zz"
      },
      "id": "9vyaIYlZx6zz"
    },
    {
      "cell_type": "code",
      "source": [
        "print(w[1][0])"
      ],
      "metadata": {
        "colab": {
          "base_uri": "https://localhost:8080/"
        },
        "id": "4jTN1bAJyJDv",
        "outputId": "a8f34d6b-ed33-4edc-a85c-f98a27cae2a3"
      },
      "id": "4jTN1bAJyJDv",
      "execution_count": 14,
      "outputs": [
        {
          "output_type": "stream",
          "name": "stdout",
          "text": [
            "10\n"
          ]
        }
      ]
    },
    {
      "cell_type": "markdown",
      "id": "d6a77106",
      "metadata": {
        "lines_to_next_cell": 0,
        "id": "d6a77106"
      },
      "source": [
        "---\n",
        "\n",
        "### Slicing\n",
        "\n",
        "Often we want to return more than one element at a time with our sequence type objects. This is called slicing.\n",
        "\n",
        "- We can return multiple elements at once with `:`\n",
        "    - Leaving it blank on the left gives everything up until the index prior to the number given\n",
        "    - Blank on the right gives everything after the desired starting index (counting starts at 0)"
      ]
    },
    {
      "cell_type": "code",
      "execution_count": 15,
      "id": "af9be701",
      "metadata": {
        "lines_to_next_cell": 0,
        "id": "af9be701",
        "outputId": "af0875d0-f8be-4003-dd8d-ce65f4918ef7",
        "colab": {
          "base_uri": "https://localhost:8080/"
        }
      },
      "outputs": [
        {
          "output_type": "execute_result",
          "data": {
            "text/plain": [
              "[10, 15, 10, 100, 'Help!']"
            ]
          },
          "metadata": {},
          "execution_count": 15
        }
      ],
      "source": [
        "x = [10, 15, 10, 100, \"Help!\"]\n",
        "x"
      ]
    },
    {
      "cell_type": "code",
      "source": [
        "x[:2]"
      ],
      "metadata": {
        "id": "M0sFwuA15MHx",
        "outputId": "339facbf-b186-4243-d1d3-3c785e814352",
        "colab": {
          "base_uri": "https://localhost:8080/"
        }
      },
      "id": "M0sFwuA15MHx",
      "execution_count": 16,
      "outputs": [
        {
          "output_type": "execute_result",
          "data": {
            "text/plain": [
              "[10, 15]"
            ]
          },
          "metadata": {},
          "execution_count": 16
        }
      ]
    },
    {
      "cell_type": "code",
      "source": [
        "x[:3]"
      ],
      "metadata": {
        "id": "eJnECgv04wAj",
        "outputId": "2e349fc4-cdb7-4e60-f100-06b87f3865c0",
        "colab": {
          "base_uri": "https://localhost:8080/"
        }
      },
      "id": "eJnECgv04wAj",
      "execution_count": 17,
      "outputs": [
        {
          "output_type": "execute_result",
          "data": {
            "text/plain": [
              "[10, 15, 10]"
            ]
          },
          "metadata": {},
          "execution_count": 17
        }
      ]
    },
    {
      "cell_type": "code",
      "source": [
        "x[1:]"
      ],
      "metadata": {
        "id": "fKJyP73f4wzN",
        "outputId": "301e2591-e95d-42ba-9de8-2d24c49d1438",
        "colab": {
          "base_uri": "https://localhost:8080/"
        }
      },
      "id": "fKJyP73f4wzN",
      "execution_count": 18,
      "outputs": [
        {
          "output_type": "execute_result",
          "data": {
            "text/plain": [
              "[15, 10, 100, 'Help!']"
            ]
          },
          "metadata": {},
          "execution_count": 18
        }
      ]
    },
    {
      "cell_type": "code",
      "source": [
        "x[1:3]"
      ],
      "metadata": {
        "id": "UUIPblC34xpj",
        "outputId": "55e86e6a-c777-492e-d384-15aeb9671522",
        "colab": {
          "base_uri": "https://localhost:8080/"
        }
      },
      "id": "UUIPblC34xpj",
      "execution_count": 19,
      "outputs": [
        {
          "output_type": "execute_result",
          "data": {
            "text/plain": [
              "[15, 10]"
            ]
          },
          "metadata": {},
          "execution_count": 19
        }
      ]
    },
    {
      "cell_type": "markdown",
      "source": [
        "Again, if we have a list with lists (or other sequence type objects in them) slicing will still return those objects as a list."
      ],
      "metadata": {
        "id": "t8GcBItUyacF"
      },
      "id": "t8GcBItUyacF"
    },
    {
      "cell_type": "code",
      "execution_count": 21,
      "id": "7474d10a",
      "metadata": {
        "lines_to_next_cell": 0,
        "id": "7474d10a",
        "outputId": "16573230-4781-4c46-d854-b55e68e1f89a",
        "colab": {
          "base_uri": "https://localhost:8080/"
        }
      },
      "outputs": [
        {
          "output_type": "execute_result",
          "data": {
            "text/plain": [
              "[[1, 2, 3, 4], [10, 15, 10, 100, 'Help!'], 3]"
            ]
          },
          "metadata": {},
          "execution_count": 21
        }
      ],
      "source": [
        "w = [list(range(1,5)), x, 3]\n",
        "w"
      ]
    },
    {
      "cell_type": "code",
      "source": [
        "#here a list of lists\n",
        "w[:2]"
      ],
      "metadata": {
        "id": "LOgAERnp5Ju6",
        "outputId": "383260eb-6798-4349-979f-ade861a1a989",
        "colab": {
          "base_uri": "https://localhost:8080/"
        }
      },
      "id": "LOgAERnp5Ju6",
      "execution_count": 24,
      "outputs": [
        {
          "output_type": "execute_result",
          "data": {
            "text/plain": [
              "[[1, 2, 3, 4], [10, 15, 10, 100, 'Help!']]"
            ]
          },
          "metadata": {},
          "execution_count": 24
        }
      ]
    },
    {
      "cell_type": "code",
      "source": [
        "#here just the single list\n",
        "w[1]"
      ],
      "metadata": {
        "id": "MLFFqlA05CrT",
        "outputId": "d97818c8-1e58-4f6e-8a5f-ee77b93f12ec",
        "colab": {
          "base_uri": "https://localhost:8080/"
        }
      },
      "id": "MLFFqlA05CrT",
      "execution_count": 25,
      "outputs": [
        {
          "output_type": "execute_result",
          "data": {
            "text/plain": [
              "[10, 15, 10, 100, 'Help!']"
            ]
          },
          "metadata": {},
          "execution_count": 25
        }
      ]
    },
    {
      "cell_type": "code",
      "source": [
        "#can index what gets returned if that makes sense to do!\n",
        "w[1][1:3]"
      ],
      "metadata": {
        "id": "tUQGRDX25D6K",
        "outputId": "50d24364-1bd0-4a43-9596-14bbc3c51006",
        "colab": {
          "base_uri": "https://localhost:8080/"
        }
      },
      "id": "tUQGRDX25D6K",
      "execution_count": 26,
      "outputs": [
        {
          "output_type": "execute_result",
          "data": {
            "text/plain": [
              "[15, 10]"
            ]
          },
          "metadata": {},
          "execution_count": 26
        }
      ]
    },
    {
      "cell_type": "markdown",
      "id": "3b6c499c",
      "metadata": {
        "id": "3b6c499c"
      },
      "source": [
        "---\n",
        "\n",
        "## Functions & Methods\n",
        "\n",
        "Recall: Two major ways to do an operation on a variable/object: functions and methods\n",
        "\n",
        "- Functions: `function_name(myvar, other_args)`\n",
        "- We saw the `len()` and `max()` functions earlier"
      ]
    },
    {
      "cell_type": "code",
      "execution_count": 28,
      "id": "db21aa0d",
      "metadata": {
        "lines_to_next_cell": 0,
        "id": "db21aa0d",
        "outputId": "ee4e656a-1322-47b1-9c04-cfcd3c315220",
        "colab": {
          "base_uri": "https://localhost:8080/"
        }
      },
      "outputs": [
        {
          "output_type": "stream",
          "name": "stdout",
          "text": [
            "4\n"
          ]
        },
        {
          "output_type": "execute_result",
          "data": {
            "text/plain": [
              "1000"
            ]
          },
          "metadata": {},
          "execution_count": 28
        }
      ],
      "source": [
        "myList = [1, 10, 100, 1000]\n",
        "print(len(myList))\n",
        "max(myList)"
      ]
    },
    {
      "cell_type": "markdown",
      "id": "48e44604",
      "metadata": {
        "id": "48e44604"
      },
      "source": [
        "- Methods: `myvar.method(other_args)`\n",
        "- Recall that `.pop()` returns and removes the last element"
      ]
    },
    {
      "cell_type": "code",
      "execution_count": 29,
      "id": "f923023a",
      "metadata": {
        "lines_to_next_cell": 0,
        "id": "f923023a",
        "outputId": "c2156fef-99f6-49b8-e3df-a9ee033b0bf3",
        "colab": {
          "base_uri": "https://localhost:8080/"
        }
      },
      "outputs": [
        {
          "output_type": "execute_result",
          "data": {
            "text/plain": [
              "1000"
            ]
          },
          "metadata": {},
          "execution_count": 29
        }
      ],
      "source": [
        "myList.pop(3)"
      ]
    },
    {
      "cell_type": "code",
      "source": [
        "myList"
      ],
      "metadata": {
        "id": "7IOH3Vtk5kua",
        "outputId": "5a8e7077-8262-4b3e-f0f6-45a0a59109e8",
        "colab": {
          "base_uri": "https://localhost:8080/"
        }
      },
      "id": "7IOH3Vtk5kua",
      "execution_count": 30,
      "outputs": [
        {
          "output_type": "execute_result",
          "data": {
            "text/plain": [
              "[1, 10, 100]"
            ]
          },
          "metadata": {},
          "execution_count": 30
        }
      ]
    },
    {
      "cell_type": "markdown",
      "source": [
        "- The `.append()` method adds an element to the end of the list"
      ],
      "metadata": {
        "id": "tVyTORYNzJM8"
      },
      "id": "tVyTORYNzJM8"
    },
    {
      "cell_type": "code",
      "source": [
        "myList.append(100000)\n",
        "myList"
      ],
      "metadata": {
        "id": "HPWy1Vvz5mxh",
        "outputId": "4cc4381e-60d8-4f70-f654-101100616a9e",
        "colab": {
          "base_uri": "https://localhost:8080/"
        }
      },
      "id": "HPWy1Vvz5mxh",
      "execution_count": 31,
      "outputs": [
        {
          "output_type": "execute_result",
          "data": {
            "text/plain": [
              "[1, 10, 100, 100000]"
            ]
          },
          "metadata": {},
          "execution_count": 31
        }
      ]
    },
    {
      "cell_type": "markdown",
      "source": [
        "The methods for lists are [listed at the top of this page of the python 3 documentation](https://docs.python.org/3/tutorial/datastructures.html).\n",
        "\n",
        "Some of the common functions in python are [listed on this page of the documentation](https://docs.python.org/3/library/functions.html)."
      ],
      "metadata": {
        "id": "BsGvRdNG50ju"
      },
      "id": "BsGvRdNG50ju"
    },
    {
      "cell_type": "markdown",
      "id": "11d0e268",
      "metadata": {
        "id": "11d0e268"
      },
      "source": [
        "---\n",
        "\n",
        "# Strings\n",
        "\n",
        "Next we'll look at another sequence type object in python, the string. As with lists we'll go through\n",
        "\n",
        "- Learn how to create\n",
        "- Consider commonly used functions and methods\n",
        "- See some examples of using them\n"
      ]
    },
    {
      "cell_type": "markdown",
      "id": "d7d370b5",
      "metadata": {
        "lines_to_next_cell": 0,
        "id": "d7d370b5"
      },
      "source": [
        "---\n",
        "\n",
        "## Constructing Strings\n",
        "\n",
        "- Text is represented as a sequence of `characters` (letters, digits, and symbols) called a **string** ([Nice reference](https://docs.python.org/3/library/string.html?highlight=str#module-string))\n",
        "    + Data type: `str`\n",
        "    + Created using single or double quotes\n",
        "    "
      ]
    },
    {
      "cell_type": "code",
      "execution_count": 32,
      "id": "a8744e8a",
      "metadata": {
        "lines_to_next_cell": 0,
        "id": "a8744e8a",
        "outputId": "e1c6f958-74d6-498b-f637-8abe924c465a",
        "colab": {
          "base_uri": "https://localhost:8080/",
          "height": 55
        }
      },
      "outputs": [
        {
          "output_type": "execute_result",
          "data": {
            "text/plain": [
              "'wolf'"
            ],
            "application/vnd.google.colaboratory.intrinsic+json": {
              "type": "string"
            }
          },
          "metadata": {},
          "execution_count": 32
        }
      ],
      "source": [
        "#can use either ' or \" to create a string\n",
        "'wolf'"
      ]
    },
    {
      "cell_type": "code",
      "source": [
        "\"pack\""
      ],
      "metadata": {
        "colab": {
          "base_uri": "https://localhost:8080/",
          "height": 55
        },
        "id": "rInSNFf-zXdt",
        "outputId": "f62e6fff-8f2b-41a3-cf45-4a4026e71115"
      },
      "id": "rInSNFf-zXdt",
      "execution_count": 33,
      "outputs": [
        {
          "output_type": "execute_result",
          "data": {
            "text/plain": [
              "'pack'"
            ],
            "application/vnd.google.colaboratory.intrinsic+json": {
              "type": "string"
            }
          },
          "metadata": {},
          "execution_count": 33
        }
      ]
    },
    {
      "cell_type": "code",
      "execution_count": 34,
      "id": "b6866b0d",
      "metadata": {
        "lines_to_next_cell": 0,
        "id": "b6866b0d",
        "outputId": "a6cbaf1e-b37e-4a06-b697-cd633f13f414",
        "colab": {
          "base_uri": "https://localhost:8080/"
        }
      },
      "outputs": [
        {
          "output_type": "stream",
          "name": "stdout",
          "text": [
            "<class 'str'>\n",
            "wolf\n"
          ]
        }
      ],
      "source": [
        "x = 'wolf'\n",
        "print(type(x))\n",
        "print(x)"
      ]
    },
    {
      "cell_type": "markdown",
      "id": "1585adb0",
      "metadata": {
        "id": "1585adb0"
      },
      "source": [
        "- Instead of ' or \", you can use `str()` to create a string. This is called *casting*"
      ]
    },
    {
      "cell_type": "code",
      "execution_count": 35,
      "id": "5a7430c9",
      "metadata": {
        "lines_to_next_cell": 2,
        "id": "5a7430c9",
        "outputId": "ede4750f-304a-4b68-bbf2-22bbc6163794",
        "colab": {
          "base_uri": "https://localhost:8080/",
          "height": 55
        }
      },
      "outputs": [
        {
          "output_type": "execute_result",
          "data": {
            "text/plain": [
              "'10'"
            ],
            "application/vnd.google.colaboratory.intrinsic+json": {
              "type": "string"
            }
          },
          "metadata": {},
          "execution_count": 35
        }
      ],
      "source": [
        "x = str(10)\n",
        "x"
      ]
    },
    {
      "cell_type": "markdown",
      "source": [
        "---\n",
        "\n",
        "## String Operations"
      ],
      "metadata": {
        "id": "dJBIn-Qv7jnG"
      },
      "id": "dJBIn-Qv7jnG"
    },
    {
      "cell_type": "markdown",
      "id": "39e39a80",
      "metadata": {
        "id": "39e39a80"
      },
      "source": [
        "### Indexing\n",
        "\n",
        "Remember that strings and lists are both sequence type objects. Therefore, we have similar operations on these objects."
      ]
    },
    {
      "cell_type": "code",
      "execution_count": 36,
      "id": "73263806",
      "metadata": {
        "id": "73263806"
      },
      "outputs": [],
      "source": [
        "my_string = \"wolf pack\""
      ]
    },
    {
      "cell_type": "markdown",
      "id": "6651aec4",
      "metadata": {
        "id": "6651aec4"
      },
      "source": [
        "- Each element of the `my_string` variable contains a different character from `\"wolf pack\"`\n",
        "- As with lists, we access these elements using `[]`\n",
        "- The first element is indexed by `0`"
      ]
    },
    {
      "cell_type": "code",
      "execution_count": 37,
      "id": "adcd4c4e",
      "metadata": {
        "id": "adcd4c4e",
        "outputId": "006ca8ac-9cae-41fe-9a81-5269502c522d",
        "colab": {
          "base_uri": "https://localhost:8080/",
          "height": 55
        }
      },
      "outputs": [
        {
          "output_type": "execute_result",
          "data": {
            "text/plain": [
              "'w'"
            ],
            "application/vnd.google.colaboratory.intrinsic+json": {
              "type": "string"
            }
          },
          "metadata": {},
          "execution_count": 37
        }
      ],
      "source": [
        "my_string[0]"
      ]
    },
    {
      "cell_type": "code",
      "source": [
        "my_string[1]"
      ],
      "metadata": {
        "id": "UbDVh1Yb7MNm",
        "outputId": "bc1e9d38-79ad-4f51-d080-383014683587",
        "colab": {
          "base_uri": "https://localhost:8080/",
          "height": 55
        }
      },
      "id": "UbDVh1Yb7MNm",
      "execution_count": 38,
      "outputs": [
        {
          "output_type": "execute_result",
          "data": {
            "text/plain": [
              "'o'"
            ],
            "application/vnd.google.colaboratory.intrinsic+json": {
              "type": "string"
            }
          },
          "metadata": {},
          "execution_count": 38
        }
      ]
    },
    {
      "cell_type": "markdown",
      "id": "c6369edb",
      "metadata": {
        "id": "c6369edb"
      },
      "source": [
        "- Access the elements of the `my_string` variable in reverse order using a `-` (start with 1 not 0 for the last element though!)"
      ]
    },
    {
      "cell_type": "code",
      "execution_count": 39,
      "id": "4e00924f",
      "metadata": {
        "lines_to_next_cell": 2,
        "id": "4e00924f",
        "outputId": "708220f8-26db-4401-89c8-04e3981c6542",
        "colab": {
          "base_uri": "https://localhost:8080/",
          "height": 55
        }
      },
      "outputs": [
        {
          "output_type": "execute_result",
          "data": {
            "text/plain": [
              "'k'"
            ],
            "application/vnd.google.colaboratory.intrinsic+json": {
              "type": "string"
            }
          },
          "metadata": {},
          "execution_count": 39
        }
      ],
      "source": [
        "my_string[-1]"
      ]
    },
    {
      "cell_type": "markdown",
      "id": "5be24403",
      "metadata": {
        "id": "5be24403"
      },
      "source": [
        "---\n",
        "\n",
        "### Slicing"
      ]
    },
    {
      "cell_type": "code",
      "execution_count": 40,
      "id": "d8b04361",
      "metadata": {
        "id": "d8b04361"
      },
      "outputs": [],
      "source": [
        "my_string = \"wolf pack\""
      ]
    },
    {
      "cell_type": "markdown",
      "id": "96e416a3",
      "metadata": {
        "id": "96e416a3"
      },
      "source": [
        "- Slicing a string refers to returning more than one character of a string (similar to lists!)\n",
        "    + Slice using `:`"
      ]
    },
    {
      "cell_type": "code",
      "execution_count": 41,
      "id": "18dcbefb",
      "metadata": {
        "id": "18dcbefb",
        "outputId": "7b828087-1004-45c1-d3ca-8492e297f52c",
        "colab": {
          "base_uri": "https://localhost:8080/",
          "height": 55
        }
      },
      "outputs": [
        {
          "output_type": "execute_result",
          "data": {
            "text/plain": [
              "' pack'"
            ],
            "application/vnd.google.colaboratory.intrinsic+json": {
              "type": "string"
            }
          },
          "metadata": {},
          "execution_count": 41
        }
      ],
      "source": [
        "my_string[4:]"
      ]
    },
    {
      "cell_type": "code",
      "source": [
        "my_string[:3]"
      ],
      "metadata": {
        "id": "7dZSjPF57tQd",
        "outputId": "22c2aea7-19f7-42a3-870c-ebcc9090cb14",
        "colab": {
          "base_uri": "https://localhost:8080/",
          "height": 55
        }
      },
      "id": "7dZSjPF57tQd",
      "execution_count": 42,
      "outputs": [
        {
          "output_type": "execute_result",
          "data": {
            "text/plain": [
              "'wol'"
            ],
            "application/vnd.google.colaboratory.intrinsic+json": {
              "type": "string"
            }
          },
          "metadata": {},
          "execution_count": 42
        }
      ]
    },
    {
      "cell_type": "code",
      "source": [
        "my_string[3:4]"
      ],
      "metadata": {
        "id": "-PmDH-pZ7uC2",
        "outputId": "fcb99bee-c7cd-47ac-add3-8bcff7501ba4",
        "colab": {
          "base_uri": "https://localhost:8080/",
          "height": 55
        }
      },
      "id": "-PmDH-pZ7uC2",
      "execution_count": 43,
      "outputs": [
        {
          "output_type": "execute_result",
          "data": {
            "text/plain": [
              "'f'"
            ],
            "application/vnd.google.colaboratory.intrinsic+json": {
              "type": "string"
            }
          },
          "metadata": {},
          "execution_count": 43
        }
      ]
    },
    {
      "cell_type": "code",
      "source": [
        "#s[:i] + s[i:] gives back s\n",
        "my_string[:3] + my_string[3:]"
      ],
      "metadata": {
        "id": "Id0EXC8L7vAt",
        "outputId": "954fbf9c-2cc6-4b4e-cb5d-f8287d31f4e7",
        "colab": {
          "base_uri": "https://localhost:8080/",
          "height": 55
        }
      },
      "id": "Id0EXC8L7vAt",
      "execution_count": 44,
      "outputs": [
        {
          "output_type": "execute_result",
          "data": {
            "text/plain": [
              "'wolf pack'"
            ],
            "application/vnd.google.colaboratory.intrinsic+json": {
              "type": "string"
            }
          },
          "metadata": {},
          "execution_count": 44
        }
      ]
    },
    {
      "cell_type": "markdown",
      "id": "d309d1bf",
      "metadata": {
        "lines_to_next_cell": 0,
        "id": "d309d1bf"
      },
      "source": [
        "---\n",
        "\n",
        "### Concatenating\n",
        "\n",
        "Several built-in operations on strings\n",
        "\n",
        "+ `+` will concatenate two strings together\n",
        "    "
      ]
    },
    {
      "cell_type": "code",
      "execution_count": 45,
      "id": "e1369643",
      "metadata": {
        "lines_to_next_cell": 2,
        "id": "e1369643",
        "outputId": "d232be01-a3e7-49ac-ee34-95267f96a0e8",
        "colab": {
          "base_uri": "https://localhost:8080/",
          "height": 55
        }
      },
      "outputs": [
        {
          "output_type": "execute_result",
          "data": {
            "text/plain": [
              "'wolf pack'"
            ],
            "application/vnd.google.colaboratory.intrinsic+json": {
              "type": "string"
            }
          },
          "metadata": {},
          "execution_count": 45
        }
      ],
      "source": [
        "'wolf' + ' pack'"
      ]
    },
    {
      "cell_type": "code",
      "source": [
        "'wolf' + ' pack' + \" is\" + \" cool\""
      ],
      "metadata": {
        "id": "162HW3_o7_09",
        "outputId": "52c79620-0ec9-462d-f4fc-29251a14e7b0",
        "colab": {
          "base_uri": "https://localhost:8080/",
          "height": 55
        }
      },
      "id": "162HW3_o7_09",
      "execution_count": 46,
      "outputs": [
        {
          "output_type": "execute_result",
          "data": {
            "text/plain": [
              "'wolf pack is cool'"
            ],
            "application/vnd.google.colaboratory.intrinsic+json": {
              "type": "string"
            }
          },
          "metadata": {},
          "execution_count": 46
        }
      ]
    },
    {
      "cell_type": "markdown",
      "id": "c22bb693",
      "metadata": {
        "lines_to_next_cell": 0,
        "id": "c22bb693"
      },
      "source": [
        "+ String literals next to each other are automatically concatenated\n"
      ]
    },
    {
      "cell_type": "code",
      "execution_count": 47,
      "id": "53880480",
      "metadata": {
        "lines_to_next_cell": 2,
        "id": "53880480",
        "colab": {
          "base_uri": "https://localhost:8080/",
          "height": 55
        },
        "outputId": "12670e19-636c-4624-fb19-9cdf8b4b343d"
      },
      "outputs": [
        {
          "output_type": "execute_result",
          "data": {
            "text/plain": [
              "'wolf pack is cool'"
            ],
            "application/vnd.google.colaboratory.intrinsic+json": {
              "type": "string"
            }
          },
          "metadata": {},
          "execution_count": 47
        }
      ],
      "source": [
        "'wolf' ' pack'\n",
        "'wolf' ' pack' ' is' ' cool'"
      ]
    },
    {
      "cell_type": "markdown",
      "id": "1ad000d6",
      "metadata": {
        "lines_to_next_cell": 0,
        "id": "1ad000d6"
      },
      "source": [
        "+ This won't work on variables though!\n"
      ]
    },
    {
      "cell_type": "code",
      "execution_count": 48,
      "id": "494a40d2",
      "metadata": {
        "lines_to_next_cell": 0,
        "id": "494a40d2",
        "outputId": "875e3f89-600e-4e76-bd32-d319ce576501",
        "colab": {
          "base_uri": "https://localhost:8080/",
          "height": 126
        }
      },
      "outputs": [
        {
          "output_type": "error",
          "ename": "SyntaxError",
          "evalue": "invalid syntax (<ipython-input-48-e8177530793e>, line 3)",
          "traceback": [
            "\u001b[0;36m  File \u001b[0;32m\"<ipython-input-48-e8177530793e>\"\u001b[0;36m, line \u001b[0;32m3\u001b[0m\n\u001b[0;31m    x ' pack'\u001b[0m\n\u001b[0m      ^\u001b[0m\n\u001b[0;31mSyntaxError\u001b[0m\u001b[0;31m:\u001b[0m invalid syntax\n"
          ]
        }
      ],
      "source": [
        "x = 'wolf'\n",
        "#throws an error\n",
        "x ' pack'"
      ]
    },
    {
      "cell_type": "code",
      "execution_count": 49,
      "id": "626a2f1d",
      "metadata": {
        "lines_to_next_cell": 0,
        "id": "626a2f1d",
        "colab": {
          "base_uri": "https://localhost:8080/",
          "height": 55
        },
        "outputId": "7b6f4d37-564b-420a-f9ec-7b047dc094f2"
      },
      "outputs": [
        {
          "output_type": "execute_result",
          "data": {
            "text/plain": [
              "'10 pack'"
            ],
            "application/vnd.google.colaboratory.intrinsic+json": {
              "type": "string"
            }
          },
          "metadata": {},
          "execution_count": 49
        }
      ],
      "source": [
        "x + ' pack'"
      ]
    },
    {
      "cell_type": "markdown",
      "source": [
        "This behavior actually works with lists as well!"
      ],
      "metadata": {
        "id": "TVA2EqJ2zs1Y"
      },
      "id": "TVA2EqJ2zs1Y"
    },
    {
      "cell_type": "code",
      "source": [
        "[1, 2, 3] + [\"a\", [5, 6,]]"
      ],
      "metadata": {
        "colab": {
          "base_uri": "https://localhost:8080/"
        },
        "id": "NQ3pi6G9zwP-",
        "outputId": "a5cec961-39b4-4cfa-cf1b-f8569d1c310f"
      },
      "id": "NQ3pi6G9zwP-",
      "execution_count": 50,
      "outputs": [
        {
          "output_type": "execute_result",
          "data": {
            "text/plain": [
              "[1, 2, 3, 'a', [5, 6]]"
            ]
          },
          "metadata": {},
          "execution_count": 50
        }
      ]
    },
    {
      "cell_type": "markdown",
      "id": "647da2ab",
      "metadata": {
        "id": "647da2ab"
      },
      "source": [
        "---\n",
        "\n",
        "### No Implicit Coercion\n",
        "\n",
        "You might wonder what happens when an operator like `+` is applied to a string and a numeric value."
      ]
    },
    {
      "cell_type": "code",
      "execution_count": 51,
      "id": "081ee172",
      "metadata": {
        "error": true,
        "id": "081ee172",
        "outputId": "385540c2-06f5-4901-d044-bedd5e26d715",
        "colab": {
          "base_uri": "https://localhost:8080/",
          "height": 179
        }
      },
      "outputs": [
        {
          "output_type": "error",
          "ename": "TypeError",
          "evalue": "can only concatenate str (not \"int\") to str",
          "traceback": [
            "\u001b[0;31m---------------------------------------------------------------------------\u001b[0m",
            "\u001b[0;31mTypeError\u001b[0m                                 Traceback (most recent call last)",
            "\u001b[0;32m<ipython-input-51-0f3c839ed4d7>\u001b[0m in \u001b[0;36m<cell line: 2>\u001b[0;34m()\u001b[0m\n\u001b[1;32m      1\u001b[0m \u001b[0;31m#throws an error\u001b[0m\u001b[0;34m\u001b[0m\u001b[0;34m\u001b[0m\u001b[0m\n\u001b[0;32m----> 2\u001b[0;31m \u001b[0;34m'wolfpack'\u001b[0m \u001b[0;34m+\u001b[0m \u001b[0;36m2\u001b[0m\u001b[0;34m\u001b[0m\u001b[0;34m\u001b[0m\u001b[0m\n\u001b[0m",
            "\u001b[0;31mTypeError\u001b[0m: can only concatenate str (not \"int\") to str"
          ]
        }
      ],
      "source": [
        "#throws an error\n",
        "'wolfpack' + 2"
      ]
    },
    {
      "cell_type": "markdown",
      "id": "91a5f75d",
      "metadata": {
        "id": "91a5f75d"
      },
      "source": [
        "- If you come from `R`, `R` does this implicit coercion for you without warning (dangerous but you get used to it!)\n",
        "- In `python`, to join a string and number **cast** the number as a string!  "
      ]
    },
    {
      "cell_type": "code",
      "execution_count": 52,
      "id": "60b5650d",
      "metadata": {
        "lines_to_next_cell": 2,
        "id": "60b5650d",
        "colab": {
          "base_uri": "https://localhost:8080/",
          "height": 55
        },
        "outputId": "13a85d7c-427e-49ad-b22e-74d7825c427c"
      },
      "outputs": [
        {
          "output_type": "execute_result",
          "data": {
            "text/plain": [
              "'Four score and 7 years ago'"
            ],
            "application/vnd.google.colaboratory.intrinsic+json": {
              "type": "string"
            }
          },
          "metadata": {},
          "execution_count": 52
        }
      ],
      "source": [
        "'Four score and ' + str(7) + ' years ago'"
      ]
    },
    {
      "cell_type": "markdown",
      "id": "c8b7e0c7",
      "metadata": {
        "id": "c8b7e0c7"
      },
      "source": [
        "#### String Operations (Concatenating Repeats)\n",
        "\n",
        "You can also repeat strings with the `*` operator and an integer (again similar to a list)"
      ]
    },
    {
      "cell_type": "code",
      "execution_count": 57,
      "id": "a5e86b3b",
      "metadata": {
        "lines_to_next_cell": 2,
        "id": "a5e86b3b",
        "colab": {
          "base_uri": "https://localhost:8080/"
        },
        "outputId": "04d4e321-a88c-4b44-bad9-1a2f33907d74"
      },
      "outputs": [
        {
          "output_type": "stream",
          "name": "stdout",
          "text": [
            "go pack go pack go pack \n",
            "\n",
            "go pack go pack go pack go pack go pack \n"
          ]
        }
      ],
      "source": [
        "print('go pack ' * 3)\n",
        "print('go pack ' * 0) #returns an empty string ''\n",
        "print('go pack ' * 5)"
      ]
    },
    {
      "cell_type": "markdown",
      "id": "01b99ef7",
      "metadata": {
        "id": "01b99ef7"
      },
      "source": [
        "---\n",
        "\n",
        "## Functions & Methods\n",
        "\n",
        "- There are [several built-in operations](https://docs.python.org/3/library/string.html?highlight=str#module-string) on strings\n",
        "    + `len()` returns the number of characters\n",
        "    + `sorted()` returns the sorted values as a list"
      ]
    },
    {
      "cell_type": "code",
      "execution_count": 62,
      "id": "cd188af9",
      "metadata": {
        "id": "cd188af9",
        "outputId": "b1a69c94-ce9d-45d1-c5ee-9698267bdfff",
        "colab": {
          "base_uri": "https://localhost:8080/"
        }
      },
      "outputs": [
        {
          "output_type": "execute_result",
          "data": {
            "text/plain": [
              "9"
            ]
          },
          "metadata": {},
          "execution_count": 62
        }
      ],
      "source": [
        "len('wolf pack')"
      ]
    },
    {
      "cell_type": "code",
      "source": [
        "len('241!')"
      ],
      "metadata": {
        "id": "GUWxX12p9NZp",
        "outputId": "333b5027-8fbc-4ab2-8814-0859bf8e6d8a",
        "colab": {
          "base_uri": "https://localhost:8080/"
        }
      },
      "id": "GUWxX12p9NZp",
      "execution_count": 63,
      "outputs": [
        {
          "output_type": "execute_result",
          "data": {
            "text/plain": [
              "4"
            ]
          },
          "metadata": {},
          "execution_count": 63
        }
      ]
    },
    {
      "cell_type": "code",
      "source": [
        "len(' ')"
      ],
      "metadata": {
        "id": "9i1V8rA29NRy",
        "outputId": "8acb404b-10ae-46b8-fa3d-eb7bd2d77e2b",
        "colab": {
          "base_uri": "https://localhost:8080/"
        }
      },
      "id": "9i1V8rA29NRy",
      "execution_count": 64,
      "outputs": [
        {
          "output_type": "execute_result",
          "data": {
            "text/plain": [
              "1"
            ]
          },
          "metadata": {},
          "execution_count": 64
        }
      ]
    },
    {
      "cell_type": "code",
      "source": [
        "len(\"\")"
      ],
      "metadata": {
        "id": "yw5b9QE89NBa",
        "outputId": "033001f6-05bd-4e53-8da6-96d5c5bf4bb0",
        "colab": {
          "base_uri": "https://localhost:8080/"
        }
      },
      "id": "yw5b9QE89NBa",
      "execution_count": 65,
      "outputs": [
        {
          "output_type": "execute_result",
          "data": {
            "text/plain": [
              "0"
            ]
          },
          "metadata": {},
          "execution_count": 65
        }
      ]
    },
    {
      "cell_type": "code",
      "source": [
        "sorted(\"wolf pack\")"
      ],
      "metadata": {
        "id": "aBEYXsQJ9Mtr",
        "outputId": "1395c022-0380-4fa1-99eb-141ed731843e",
        "colab": {
          "base_uri": "https://localhost:8080/"
        }
      },
      "id": "aBEYXsQJ9Mtr",
      "execution_count": 66,
      "outputs": [
        {
          "output_type": "execute_result",
          "data": {
            "text/plain": [
              "[' ', 'a', 'c', 'f', 'k', 'l', 'o', 'p', 'w']"
            ]
          },
          "metadata": {},
          "execution_count": 66
        }
      ]
    },
    {
      "cell_type": "markdown",
      "id": "89345565",
      "metadata": {
        "lines_to_next_cell": 0,
        "id": "89345565"
      },
      "source": [
        "- Many methods as well. Some common examples are below:"
      ]
    },
    {
      "cell_type": "code",
      "execution_count": 67,
      "id": "7b499d79",
      "metadata": {
        "lines_to_next_cell": 0,
        "id": "7b499d79"
      },
      "outputs": [],
      "source": [
        "my_string = '  wolf pack  '"
      ]
    },
    {
      "cell_type": "code",
      "source": [
        "#create an upper case version of the string\n",
        "my_string.upper()"
      ],
      "metadata": {
        "id": "QCh-Kzo89V66",
        "outputId": "8d608743-ae53-4611-c564-2d8735889d1f",
        "colab": {
          "base_uri": "https://localhost:8080/",
          "height": 55
        }
      },
      "id": "QCh-Kzo89V66",
      "execution_count": 68,
      "outputs": [
        {
          "output_type": "execute_result",
          "data": {
            "text/plain": [
              "'  WOLF PACK  '"
            ],
            "application/vnd.google.colaboratory.intrinsic+json": {
              "type": "string"
            }
          },
          "metadata": {},
          "execution_count": 68
        }
      ]
    },
    {
      "cell_type": "code",
      "source": [
        "#this doesn't overwrite the string though!\n",
        "my_string"
      ],
      "metadata": {
        "id": "gjAHSC-E9U2J",
        "outputId": "4abc2828-dbff-4f3b-f238-96c858fec33e",
        "colab": {
          "base_uri": "https://localhost:8080/",
          "height": 55
        }
      },
      "id": "gjAHSC-E9U2J",
      "execution_count": 69,
      "outputs": [
        {
          "output_type": "execute_result",
          "data": {
            "text/plain": [
              "'  wolf pack  '"
            ],
            "application/vnd.google.colaboratory.intrinsic+json": {
              "type": "string"
            }
          },
          "metadata": {},
          "execution_count": 69
        }
      ]
    },
    {
      "cell_type": "code",
      "source": [
        "#remove whitespace from the ends\n",
        "my_string.strip()"
      ],
      "metadata": {
        "id": "LMs-U_zs9UtC",
        "outputId": "6c6cc5c2-60fe-4911-bb92-7e6b9a21f1a2",
        "colab": {
          "base_uri": "https://localhost:8080/",
          "height": 55
        }
      },
      "id": "LMs-U_zs9UtC",
      "execution_count": 70,
      "outputs": [
        {
          "output_type": "execute_result",
          "data": {
            "text/plain": [
              "'wolf pack'"
            ],
            "application/vnd.google.colaboratory.intrinsic+json": {
              "type": "string"
            }
          },
          "metadata": {},
          "execution_count": 70
        }
      ]
    },
    {
      "cell_type": "code",
      "execution_count": 71,
      "id": "371c6574",
      "metadata": {
        "lines_to_next_cell": 0,
        "id": "371c6574",
        "outputId": "26613561-f927-4242-9dfd-3c5dd5129df8",
        "colab": {
          "base_uri": "https://localhost:8080/",
          "height": 55
        }
      },
      "outputs": [
        {
          "output_type": "execute_result",
          "data": {
            "text/plain": [
              "'  wolf peck  '"
            ],
            "application/vnd.google.colaboratory.intrinsic+json": {
              "type": "string"
            }
          },
          "metadata": {},
          "execution_count": 71
        }
      ],
      "source": [
        "#replace elements\n",
        "my_string.replace(\"a\", \"e\")"
      ]
    },
    {
      "cell_type": "code",
      "source": [
        "#split the string by a character (here a space) (note this returns a list!)\n",
        "my_string.strip().split(\" \")"
      ],
      "metadata": {
        "id": "wbm6kRm69kVx",
        "outputId": "b643754b-8427-480a-fe05-52029551d69e",
        "colab": {
          "base_uri": "https://localhost:8080/"
        }
      },
      "id": "wbm6kRm69kVx",
      "execution_count": 72,
      "outputs": [
        {
          "output_type": "execute_result",
          "data": {
            "text/plain": [
              "['wolf', 'pack']"
            ]
          },
          "metadata": {},
          "execution_count": 72
        }
      ]
    },
    {
      "cell_type": "markdown",
      "id": "cf814a85",
      "metadata": {
        "lines_to_next_cell": 0,
        "id": "cf814a85"
      },
      "source": [
        "---\n",
        "\n",
        "## Immutability of Strings\n",
        "\n",
        "- We saw that `lists` could be modified. That means they are *mutable*\n",
        "- Strings are *immutable*\n",
        "\n",
        "    + **Individual characters** can't be modified\n",
        "    "
      ]
    },
    {
      "cell_type": "code",
      "execution_count": 73,
      "id": "f22c6d02",
      "metadata": {
        "error": true,
        "lines_to_next_cell": 2,
        "id": "f22c6d02",
        "outputId": "c080af1c-b6fb-4acd-b3d3-fcd7828b0e88",
        "colab": {
          "base_uri": "https://localhost:8080/",
          "height": 196
        }
      },
      "outputs": [
        {
          "output_type": "error",
          "ename": "TypeError",
          "evalue": "'str' object does not support item assignment",
          "traceback": [
            "\u001b[0;31m---------------------------------------------------------------------------\u001b[0m",
            "\u001b[0;31mTypeError\u001b[0m                                 Traceback (most recent call last)",
            "\u001b[0;32m<ipython-input-73-865d7b8d0579>\u001b[0m in \u001b[0;36m<cell line: 3>\u001b[0;34m()\u001b[0m\n\u001b[1;32m      1\u001b[0m \u001b[0mmy_string\u001b[0m \u001b[0;34m=\u001b[0m \u001b[0;34m\"wolf pack\"\u001b[0m\u001b[0;34m\u001b[0m\u001b[0;34m\u001b[0m\u001b[0m\n\u001b[1;32m      2\u001b[0m \u001b[0;31m#this will throw an error\u001b[0m\u001b[0;34m\u001b[0m\u001b[0;34m\u001b[0m\u001b[0m\n\u001b[0;32m----> 3\u001b[0;31m \u001b[0mmy_string\u001b[0m\u001b[0;34m[\u001b[0m\u001b[0;36m1\u001b[0m\u001b[0;34m]\u001b[0m \u001b[0;34m=\u001b[0m \u001b[0;34m\"a\"\u001b[0m\u001b[0;34m\u001b[0m\u001b[0;34m\u001b[0m\u001b[0m\n\u001b[0m",
            "\u001b[0;31mTypeError\u001b[0m: 'str' object does not support item assignment"
          ]
        }
      ],
      "source": [
        "my_string = \"wolf pack\"\n",
        "#this will throw an error\n",
        "my_string[1] = \"a\""
      ]
    },
    {
      "cell_type": "markdown",
      "id": "de652aaa",
      "metadata": {
        "id": "de652aaa"
      },
      "source": [
        "---\n",
        "\n",
        "## Inserting Values Into Strings\n",
        "\n",
        "Sometimes we want to place certain elements into a string via variables or values. This can be done using the `.format()` method."
      ]
    },
    {
      "cell_type": "code",
      "execution_count": 76,
      "id": "93daac93",
      "metadata": {
        "id": "93daac93",
        "outputId": "451615e7-5568-470d-bfce-e431c5ecac24",
        "colab": {
          "base_uri": "https://localhost:8080/"
        }
      },
      "outputs": [
        {
          "output_type": "stream",
          "name": "stdout",
          "text": [
            "I have 3 years of experience and would like a salary of 100000.\n"
          ]
        }
      ],
      "source": [
        "years = 3\n",
        "salary = 100000\n",
        "myorder = \"I have {1} years of experience and would like a salary of {0}.\"\n",
        "print(myorder.format(salary, years))"
      ]
    },
    {
      "cell_type": "markdown",
      "id": "5f73e893",
      "metadata": {
        "id": "5f73e893"
      },
      "source": [
        "- Don't need the numbers, but then you must position correctly  "
      ]
    },
    {
      "cell_type": "code",
      "execution_count": 77,
      "id": "99a78c86",
      "metadata": {
        "lines_to_next_cell": 2,
        "id": "99a78c86",
        "outputId": "8b73af58-7c7a-4a2c-f8e8-6f394d48b69c",
        "colab": {
          "base_uri": "https://localhost:8080/"
        }
      },
      "outputs": [
        {
          "output_type": "stream",
          "name": "stdout",
          "text": [
            "I have 3 years of experience and would like a salary of 100000.\n"
          ]
        }
      ],
      "source": [
        "myorder = \"I have {} years of experience and would like a salary of {}.\"\n",
        "print(myorder.format(years, salary))"
      ]
    },
    {
      "cell_type": "markdown",
      "source": [
        "There are a few other ways to do this that we'll visit later on!"
      ],
      "metadata": {
        "id": "RH3R-CJO9wjR"
      },
      "id": "RH3R-CJO9wjR"
    },
    {
      "cell_type": "markdown",
      "id": "77e10a41",
      "metadata": {
        "id": "77e10a41"
      },
      "source": [
        "---\n",
        "\n",
        "## Video Demo\n",
        "\n",
        "This quick video demonstration shows some quick exercises with strings and lists. Remember to pop the video out into the full player.\n",
        "\n",
        "The notebook written in the video is [available here](https://colab.research.google.com/github/jbpost2/ST-554-Big-Data-with-Python/blob/main/01_Programming_in_python/Learning_Python.ipynb)."
      ]
    },
    {
      "cell_type": "code",
      "source": [
        "from IPython.display import IFrame\n",
        "IFrame(src = \"https://ncsu.hosted.panopto.com/Panopto/Pages/Embed.aspx?id=72bd0292-4c48-4064-8977-b0ef017167f6&autoplay=false&offerviewer=true&showtitle=true&showbrand=true&captions=false&interactivity=all\", height=\"405\", width=\"720\")"
      ],
      "metadata": {
        "id": "fDNxV57e2YeV",
        "outputId": "b8ead208-e542-424b-c3d2-bbb62f2685fc",
        "colab": {
          "base_uri": "https://localhost:8080/",
          "height": 446
        }
      },
      "id": "fDNxV57e2YeV",
      "execution_count": 78,
      "outputs": [
        {
          "output_type": "execute_result",
          "data": {
            "text/plain": [
              "<IPython.lib.display.IFrame at 0x7e45f197fe80>"
            ],
            "text/html": [
              "\n",
              "        <iframe\n",
              "            width=\"720\"\n",
              "            height=\"405\"\n",
              "            src=\"https://ncsu.hosted.panopto.com/Panopto/Pages/Embed.aspx?id=72bd0292-4c48-4064-8977-b0ef017167f6&autoplay=false&offerviewer=true&showtitle=true&showbrand=true&captions=false&interactivity=all\"\n",
              "            frameborder=\"0\"\n",
              "            allowfullscreen\n",
              "            \n",
              "        ></iframe>\n",
              "        "
            ]
          },
          "metadata": {},
          "execution_count": 78
        }
      ]
    },
    {
      "cell_type": "markdown",
      "source": [
        "---\n",
        "\n",
        "# Recap\n",
        "\n",
        "- Lists are 1D ordered objects\n",
        "\n",
        "- Strings are sequences of characters\n",
        "\n",
        "    - Immutable\n",
        "\n",
        "    - Index with `[]` (starting at 0)\n",
        "\n",
        "    - Many functions and methods built in to help\n",
        "\n",
        "    - `+` for concatenation and `*` for repeating a string\n",
        "\n",
        "- Sequence type objects have similar behavior!\n",
        "\n",
        "If you are on the course website, use the table of contents on the left or the arrows at the bottom of this page to navigate to the next learning material!\n",
        "\n",
        "If you are on Google Colab, head back to our course website for [our next lesson](https://jbpost2.github.io/ST-554-Big-Data-with-Python/01_Programming_in_python/06-Numeric_Types_Booleans.html)!\n"
      ],
      "metadata": {
        "id": "4NJPo2cF-Anh"
      },
      "id": "4NJPo2cF-Anh"
    }
  ],
  "metadata": {
    "jupytext": {
      "cell_metadata_filter": "tags,error,eval,warning,message,-all",
      "main_language": "python",
      "notebook_metadata_filter": "-all"
    },
    "colab": {
      "provenance": [],
      "toc_visible": true,
      "include_colab_link": true
    },
    "language_info": {
      "name": "python"
    },
    "kernelspec": {
      "name": "python3",
      "display_name": "Python 3"
    }
  },
  "nbformat": 4,
  "nbformat_minor": 5
}