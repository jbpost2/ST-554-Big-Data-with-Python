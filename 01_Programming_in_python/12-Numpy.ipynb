{
  "cells": [
    {
      "cell_type": "markdown",
      "metadata": {
        "id": "view-in-github",
        "colab_type": "text"
      },
      "source": [
        "<a href=\"https://colab.research.google.com/github/jbpost2/ST-554-Big-Data-with-Python/blob/main/01_Programming_in_python/12-Numpy.ipynb\" target=\"_parent\"><img src=\"https://colab.research.google.com/assets/colab-badge.svg\" alt=\"Open In Colab\"/></a>"
      ]
    },
    {
      "cell_type": "markdown",
      "id": "01499198",
      "metadata": {
        "id": "01499198"
      },
      "source": [
        "# `NumPy`\n",
        "\n",
        "One of the most famous modules for statistics is called `numpy`\n",
        "\n",
        "- A library for scientific computing\n",
        "\n",
        "    + Provides the multidimensional array object (such as vectors and matrices) and methods for manipulating them\n",
        "\n",
        "- We can bring in the module with `import` and the convention is to reference it as `np`"
      ]
    },
    {
      "cell_type": "code",
      "execution_count": 1,
      "id": "aec9510d",
      "metadata": {
        "lines_to_next_cell": 0,
        "id": "aec9510d"
      },
      "outputs": [],
      "source": [
        "import numpy as np"
      ]
    },
    {
      "cell_type": "markdown",
      "id": "afc1be26",
      "metadata": {
        "id": "afc1be26"
      },
      "source": [
        "As with our other data types, let's go through and...\n",
        "\n",
        "- Learn how to create\n",
        "- Consider commonly used functions and methods\n",
        "- See control flow and other tricks along the way\n",
        "\n",
        "This topic, compound objects:\n",
        "- **numpy array**\n",
        "\n",
        "Recall: **functions** & **methods** act on objects. We'll see how to obtain **attributes** here as well!\n",
        "\n",
        "Note: These types of webpages are built from Jupyter notebooks (`.ipynb` files). You can access your own versions of them by [clicking here](https://colab.research.google.com/github/jbpost2/ST-554-Big-Data-with-Python/blob/main/01_Programming_in_python/12-Numpy.ipynb). **It is highly recommended that you go through and run the notebooks yourself, modifying and rerunning things where you'd like!**"
      ]
    },
    {
      "cell_type": "markdown",
      "id": "3067a914",
      "metadata": {
        "lines_to_next_cell": 0,
        "id": "3067a914"
      },
      "source": [
        "---\n",
        "\n",
        "## Creating an Array\n",
        "\n",
        "- Arrays are like lists but process much faster\n",
        "- They also require that the data be of the same type\n",
        "- They can be multidimensional (like a matrix or even higher dimension\n",
        "\n",
        "The picture below from <https://predictivehacks.com/tips-about-numpy-arrays/> shows a 1D, 2D, and 3D array visually.\n",
        "\n",
        "![](https://drive.google.com/uc?export=view&id=10NhJk2BlGhzcXdPCeWw2iKXO9NH5EMxj)\n",
        "\n",
        "\n",
        "- To create an `ndarray` object, pass a `list`, `tuple`, or any array-like object to `np.array()`\n"
      ]
    },
    {
      "cell_type": "code",
      "execution_count": 2,
      "id": "56984b41",
      "metadata": {
        "lines_to_next_cell": 0,
        "id": "56984b41",
        "outputId": "30182c75-1e93-451f-f1ba-17ca9ac64e71",
        "colab": {
          "base_uri": "https://localhost:8080/"
        }
      },
      "outputs": [
        {
          "output_type": "execute_result",
          "data": {
            "text/plain": [
              "array(1)"
            ]
          },
          "metadata": {},
          "execution_count": 2
        }
      ],
      "source": [
        "a = np.array(1)\n",
        "a"
      ]
    },
    {
      "cell_type": "code",
      "source": [
        "type(a)"
      ],
      "metadata": {
        "id": "SlKdLZr1A4RD",
        "outputId": "d6a2fbb2-5791-4bac-8b0b-6c45fc3e16fe",
        "colab": {
          "base_uri": "https://localhost:8080/"
        }
      },
      "id": "SlKdLZr1A4RD",
      "execution_count": 3,
      "outputs": [
        {
          "output_type": "execute_result",
          "data": {
            "text/plain": [
              "numpy.ndarray"
            ]
          },
          "metadata": {},
          "execution_count": 3
        }
      ]
    },
    {
      "cell_type": "markdown",
      "source": [
        "- `ndarrays` have a `shape` attribute\n",
        "- Attributes can be accessed like methods except we don't use `()` at the end\n",
        "- We did this with the `.__doc__` attribute on functions"
      ],
      "metadata": {
        "id": "kZy4c8XxA9xC"
      },
      "id": "kZy4c8XxA9xC"
    },
    {
      "cell_type": "code",
      "source": [
        "a.shape"
      ],
      "metadata": {
        "id": "pPWp_aXaA54I",
        "outputId": "e99f90e5-706a-465b-f973-a29a3c6f771a",
        "colab": {
          "base_uri": "https://localhost:8080/"
        }
      },
      "id": "pPWp_aXaA54I",
      "execution_count": 4,
      "outputs": [
        {
          "output_type": "execute_result",
          "data": {
            "text/plain": [
              "()"
            ]
          },
          "metadata": {},
          "execution_count": 4
        }
      ]
    },
    {
      "cell_type": "code",
      "execution_count": 5,
      "id": "3c984f8f",
      "metadata": {
        "lines_to_next_cell": 0,
        "id": "3c984f8f",
        "outputId": "5c231100-89b2-459c-bee8-a0ab0c8df16b",
        "colab": {
          "base_uri": "https://localhost:8080/"
        }
      },
      "outputs": [
        {
          "output_type": "stream",
          "name": "stdout",
          "text": [
            "[1 2 3]\n",
            "<class 'numpy.ndarray'>\n",
            "(3,)\n"
          ]
        }
      ],
      "source": [
        "b = np.array([1, 2, 3])\n",
        "print(b)\n",
        "print(type(b))\n",
        "print(b.shape)"
      ]
    },
    {
      "cell_type": "markdown",
      "id": "4a076ad9",
      "metadata": {
        "lines_to_next_cell": 0,
        "id": "4a076ad9"
      },
      "source": [
        "---\n",
        "\n",
        "### Array Dimension\n",
        "\n",
        "- 0D arrays are a scalar (sort of... [see here for discussion](https://stackoverflow.com/questions/773030/why-are-0d-arrays-in-numpy-not-considered-scalar))\n",
        "- 1D arrays are vectors\n",
        "- 2D arrays are matrices\n",
        "- 3D and up are just called arrays\n",
        "\n",
        "- `.shape` attribute returns the dimensions of an array as a tuple"
      ]
    },
    {
      "cell_type": "code",
      "execution_count": 6,
      "id": "379a1440",
      "metadata": {
        "lines_to_next_cell": 0,
        "id": "379a1440",
        "outputId": "c551cf02-bc62-46d8-d7cf-a436cbdc7451",
        "colab": {
          "base_uri": "https://localhost:8080/"
        }
      },
      "outputs": [
        {
          "output_type": "stream",
          "name": "stdout",
          "text": [
            "['1' 'a' 'True']\n"
          ]
        },
        {
          "output_type": "execute_result",
          "data": {
            "text/plain": [
              "(3,)"
            ]
          },
          "metadata": {},
          "execution_count": 6
        }
      ],
      "source": [
        "c = np.array([1, \"a\", True])\n",
        "print(c)\n",
        "c.shape"
      ]
    },
    {
      "cell_type": "code",
      "execution_count": 7,
      "id": "b03c1d51",
      "metadata": {
        "lines_to_next_cell": 0,
        "id": "b03c1d51",
        "outputId": "ab8b1bba-fe57-4c15-8c97-793ab8b8bf6e",
        "colab": {
          "base_uri": "https://localhost:8080/"
        }
      },
      "outputs": [
        {
          "output_type": "stream",
          "name": "stdout",
          "text": [
            "[[1 2 3]\n",
            " [4 5 6]]\n"
          ]
        },
        {
          "output_type": "execute_result",
          "data": {
            "text/plain": [
              "(2, 3)"
            ]
          },
          "metadata": {},
          "execution_count": 7
        }
      ],
      "source": [
        "d = np.array([\n",
        "  [1, 2, 3],\n",
        "  [4, 5, 6]]\n",
        "  )\n",
        "print(d)\n",
        "d.shape"
      ]
    },
    {
      "cell_type": "markdown",
      "id": "fbe497c8",
      "metadata": {
        "id": "fbe497c8"
      },
      "source": [
        "### Functions for Fillling/Creating Arrays\n",
        "\n",
        "Creating a vector or matrix of all zeros\n",
        "\n",
        "- Row vector"
      ]
    },
    {
      "cell_type": "code",
      "execution_count": 8,
      "id": "27131933",
      "metadata": {
        "id": "27131933",
        "outputId": "3ee709c9-a7c8-4100-f6b2-9ef335516f40",
        "colab": {
          "base_uri": "https://localhost:8080/"
        }
      },
      "outputs": [
        {
          "output_type": "execute_result",
          "data": {
            "text/plain": [
              "array([0., 0., 0., 0.])"
            ]
          },
          "metadata": {},
          "execution_count": 8
        }
      ],
      "source": [
        "A0 = np.zeros(4) #row vector of length 4\n",
        "A0"
      ]
    },
    {
      "cell_type": "markdown",
      "id": "c73f2857",
      "metadata": {
        "id": "c73f2857"
      },
      "source": [
        "- Column vector"
      ]
    },
    {
      "cell_type": "code",
      "execution_count": 9,
      "id": "d60f4a05",
      "metadata": {
        "lines_to_next_cell": 2,
        "id": "d60f4a05",
        "outputId": "df80fdbd-a5f5-4076-db3a-7b706880e15b",
        "colab": {
          "base_uri": "https://localhost:8080/"
        }
      },
      "outputs": [
        {
          "output_type": "execute_result",
          "data": {
            "text/plain": [
              "array([[0.],\n",
              "       [0.],\n",
              "       [0.],\n",
              "       [0.]])"
            ]
          },
          "metadata": {},
          "execution_count": 9
        }
      ],
      "source": [
        "A0 = np.zeros((4,1)) #column vector of length 4\n",
        "A0"
      ]
    },
    {
      "cell_type": "markdown",
      "id": "67ffb948",
      "metadata": {
        "id": "67ffb948"
      },
      "source": [
        "- Matrix of zeros"
      ]
    },
    {
      "cell_type": "code",
      "execution_count": 10,
      "id": "c528b5c0",
      "metadata": {
        "lines_to_next_cell": 2,
        "id": "c528b5c0",
        "outputId": "5cf0a602-f417-4386-d4e2-cceb3573fc74",
        "colab": {
          "base_uri": "https://localhost:8080/"
        }
      },
      "outputs": [
        {
          "output_type": "execute_result",
          "data": {
            "text/plain": [
              "array([[0., 0.],\n",
              "       [0., 0.],\n",
              "       [0., 0.],\n",
              "       [0., 0.]])"
            ]
          },
          "metadata": {},
          "execution_count": 10
        }
      ],
      "source": [
        "A = np.zeros((4,2)) #matrix with dimension 4, 2, given as a tuple\n",
        "A"
      ]
    },
    {
      "cell_type": "code",
      "source": [
        "A.shape"
      ],
      "metadata": {
        "id": "v5XNnNfhBqWl",
        "outputId": "870d0b60-e76e-4da2-dcb6-98fd29d193ca",
        "colab": {
          "base_uri": "https://localhost:8080/"
        }
      },
      "id": "v5XNnNfhBqWl",
      "execution_count": 11,
      "outputs": [
        {
          "output_type": "execute_result",
          "data": {
            "text/plain": [
              "(4, 2)"
            ]
          },
          "metadata": {},
          "execution_count": 11
        }
      ]
    },
    {
      "cell_type": "markdown",
      "id": "022a6577",
      "metadata": {
        "id": "022a6577"
      },
      "source": [
        "\n",
        "- Row of all ones"
      ]
    },
    {
      "cell_type": "code",
      "execution_count": 12,
      "id": "7dbfd30a",
      "metadata": {
        "id": "7dbfd30a",
        "outputId": "5a184467-a73e-4e6b-dcca-272cbdd4e1b0",
        "colab": {
          "base_uri": "https://localhost:8080/"
        }
      },
      "outputs": [
        {
          "output_type": "execute_result",
          "data": {
            "text/plain": [
              "array([1., 1., 1., 1.])"
            ]
          },
          "metadata": {},
          "execution_count": 12
        }
      ],
      "source": [
        "b = np.ones(4) #row vector\n",
        "b"
      ]
    },
    {
      "cell_type": "markdown",
      "id": "074245a2",
      "metadata": {
        "id": "074245a2"
      },
      "source": [
        "- Matrix of all ones"
      ]
    },
    {
      "cell_type": "code",
      "execution_count": 13,
      "id": "0542651a",
      "metadata": {
        "lines_to_next_cell": 2,
        "id": "0542651a",
        "outputId": "e5a1e545-a730-4507-900f-a18767ede68c",
        "colab": {
          "base_uri": "https://localhost:8080/"
        }
      },
      "outputs": [
        {
          "output_type": "execute_result",
          "data": {
            "text/plain": [
              "array([[1., 1., 1.],\n",
              "       [1., 1., 1.]])"
            ]
          },
          "metadata": {},
          "execution_count": 13
        }
      ],
      "source": [
        "B = np.ones((2,3))\n",
        "B"
      ]
    },
    {
      "cell_type": "markdown",
      "id": "9b32717b",
      "metadata": {
        "id": "9b32717b"
      },
      "source": [
        "- Matrix of 10's"
      ]
    },
    {
      "cell_type": "code",
      "execution_count": 14,
      "id": "a67cc600",
      "metadata": {
        "id": "a67cc600",
        "outputId": "7cc18c2d-9e85-45e0-edbf-ad75a8a7f3b0",
        "colab": {
          "base_uri": "https://localhost:8080/"
        }
      },
      "outputs": [
        {
          "output_type": "execute_result",
          "data": {
            "text/plain": [
              "array([[10., 10., 10.],\n",
              "       [10., 10., 10.]])"
            ]
          },
          "metadata": {},
          "execution_count": 14
        }
      ],
      "source": [
        "C = np.ones((2, 3)) * 10\n",
        "C"
      ]
    },
    {
      "cell_type": "markdown",
      "id": "058d6174",
      "metadata": {
        "id": "058d6174"
      },
      "source": [
        "- `np.full()` does this automatically"
      ]
    },
    {
      "cell_type": "code",
      "execution_count": 15,
      "id": "4f47429b",
      "metadata": {
        "lines_to_next_cell": 2,
        "id": "4f47429b",
        "outputId": "70fa971f-6dde-4f51-8300-3d80a145a852",
        "colab": {
          "base_uri": "https://localhost:8080/"
        }
      },
      "outputs": [
        {
          "output_type": "execute_result",
          "data": {
            "text/plain": [
              "array([[10, 10, 10],\n",
              "       [10, 10, 10]])"
            ]
          },
          "metadata": {},
          "execution_count": 15
        }
      ],
      "source": [
        "C = np.full((2,3), 10) #specify the value to fill with after the tuple giving dimension\n",
        "C"
      ]
    },
    {
      "cell_type": "markdown",
      "id": "3b22683e",
      "metadata": {
        "id": "3b22683e"
      },
      "source": [
        "- Be careful! C is an integer valued array"
      ]
    },
    {
      "cell_type": "code",
      "execution_count": 16,
      "id": "1e6d1cc8",
      "metadata": {
        "id": "1e6d1cc8",
        "outputId": "e4e5965f-662d-4e3c-ba22-c4bda6ea4389",
        "colab": {
          "base_uri": "https://localhost:8080/"
        }
      },
      "outputs": [
        {
          "output_type": "execute_result",
          "data": {
            "text/plain": [
              "array([[ 6, 10, 10],\n",
              "       [10, 10, 10]])"
            ]
          },
          "metadata": {},
          "execution_count": 16
        }
      ],
      "source": [
        "C = np.full((2,3), 10)\n",
        "C[0,0] = 6.5                 #replace the top left element\n",
        "C"
      ]
    },
    {
      "cell_type": "markdown",
      "id": "895b46f0",
      "metadata": {
        "id": "895b46f0"
      },
      "source": [
        "- Avoid by creating the matrix with a float instead"
      ]
    },
    {
      "cell_type": "code",
      "execution_count": 17,
      "id": "fa79c914",
      "metadata": {
        "lines_to_next_cell": 2,
        "id": "fa79c914",
        "outputId": "1fd0dc8d-1a43-46bf-9431-7694eeab01f3",
        "colab": {
          "base_uri": "https://localhost:8080/"
        }
      },
      "outputs": [
        {
          "output_type": "execute_result",
          "data": {
            "text/plain": [
              "array([[ 6.5, 10. , 10. ],\n",
              "       [10. , 10. , 10. ]])"
            ]
          },
          "metadata": {},
          "execution_count": 17
        }
      ],
      "source": [
        "C = np.full((2,3), 10.0)  #or C = np.ones((2, 3)) * 10.0\n",
        "C[0,0] = 6.5\n",
        "C"
      ]
    },
    {
      "cell_type": "markdown",
      "id": "865a0c39",
      "metadata": {
        "id": "865a0c39"
      },
      "source": [
        "- Create an identity matrix with `np.eye()` (this has 1's on the diagonal and 0's elsewhere)"
      ]
    },
    {
      "cell_type": "code",
      "execution_count": 18,
      "id": "81121593",
      "metadata": {
        "id": "81121593",
        "outputId": "93dccb4e-7f3f-4511-bc01-3eb8dd89ea7c",
        "colab": {
          "base_uri": "https://localhost:8080/"
        }
      },
      "outputs": [
        {
          "output_type": "execute_result",
          "data": {
            "text/plain": [
              "array([[1., 0., 0.],\n",
              "       [0., 1., 0.],\n",
              "       [0., 0., 1.]])"
            ]
          },
          "metadata": {},
          "execution_count": 18
        }
      ],
      "source": [
        "D = np.eye(3)\n",
        "D"
      ]
    },
    {
      "cell_type": "markdown",
      "id": "0d1e93f9",
      "metadata": {
        "id": "0d1e93f9"
      },
      "source": [
        "- Create a random matrix (values between 0 and 1) with `np.random.random()`"
      ]
    },
    {
      "cell_type": "code",
      "execution_count": 19,
      "id": "a854210e",
      "metadata": {
        "id": "a854210e",
        "outputId": "25333e1b-5d7c-4d20-8ae9-3c3230529515",
        "colab": {
          "base_uri": "https://localhost:8080/"
        }
      },
      "outputs": [
        {
          "output_type": "execute_result",
          "data": {
            "text/plain": [
              "array([[0.82782158, 0.92669984, 0.28811706, 0.8048095 , 0.31863604],\n",
              "       [0.43125583, 0.95565594, 0.81946103, 0.96181153, 0.10190225],\n",
              "       [0.92238437, 0.66130983, 0.8828503 , 0.06677584, 0.78615673]])"
            ]
          },
          "metadata": {},
          "execution_count": 19
        }
      ],
      "source": [
        "E = np.random.random((3,5))\n",
        "E"
      ]
    },
    {
      "cell_type": "markdown",
      "id": "bee714c4",
      "metadata": {
        "id": "bee714c4"
      },
      "source": [
        "- [Many more ways to create!](https://numpy.org/doc/stable/reference/routines.array-creation.html)"
      ]
    },
    {
      "cell_type": "markdown",
      "id": "d9374868",
      "metadata": {
        "lines_to_next_cell": 0,
        "id": "d9374868"
      },
      "source": [
        "---\n",
        "\n",
        "## Reshaping an Array\n",
        "\n",
        "- Reshape an array with the `.reshape()` method\n",
        "- Changes the dimension in some way\n",
        "- We'll need to do this type of thing when fitting models!"
      ]
    },
    {
      "cell_type": "code",
      "execution_count": 20,
      "id": "a0cc46b8",
      "metadata": {
        "lines_to_next_cell": 0,
        "id": "a0cc46b8",
        "outputId": "f3f77c11-a3b7-48c8-edaf-7962b08fe9a9",
        "colab": {
          "base_uri": "https://localhost:8080/"
        }
      },
      "outputs": [
        {
          "output_type": "execute_result",
          "data": {
            "text/plain": [
              "array([[0.38620732],\n",
              "       [0.02246848],\n",
              "       [0.75057807],\n",
              "       [0.64596504],\n",
              "       [0.9782189 ],\n",
              "       [0.3074028 ],\n",
              "       [0.20987403],\n",
              "       [0.73177229],\n",
              "       [0.8167644 ],\n",
              "       [0.03675048]])"
            ]
          },
          "metadata": {},
          "execution_count": 20
        }
      ],
      "source": [
        "F = np.random.random((10,1))\n",
        "F"
      ]
    },
    {
      "cell_type": "code",
      "source": [
        "F.shape"
      ],
      "metadata": {
        "id": "94BlGjMyChmc",
        "outputId": "4d1562f4-6be1-4970-de87-a39e8c7de796",
        "colab": {
          "base_uri": "https://localhost:8080/"
        }
      },
      "id": "94BlGjMyChmc",
      "execution_count": 21,
      "outputs": [
        {
          "output_type": "execute_result",
          "data": {
            "text/plain": [
              "(10, 1)"
            ]
          },
          "metadata": {},
          "execution_count": 21
        }
      ]
    },
    {
      "cell_type": "code",
      "execution_count": 22,
      "id": "f4a13422",
      "metadata": {
        "lines_to_next_cell": 0,
        "id": "f4a13422",
        "outputId": "094ca760-a6cb-4df7-b273-c398bcc1a1fb",
        "colab": {
          "base_uri": "https://localhost:8080/"
        }
      },
      "outputs": [
        {
          "output_type": "execute_result",
          "data": {
            "text/plain": [
              "array([[0.38620732, 0.02246848, 0.75057807, 0.64596504, 0.9782189 ,\n",
              "        0.3074028 , 0.20987403, 0.73177229, 0.8167644 , 0.03675048]])"
            ]
          },
          "metadata": {},
          "execution_count": 22
        }
      ],
      "source": [
        "G = F.reshape(1, -1) #-1 flattens to a 1D array\n",
        "G"
      ]
    },
    {
      "cell_type": "code",
      "source": [
        "G.shape"
      ],
      "metadata": {
        "id": "XWUXOfJmCjUc",
        "outputId": "877f7933-006d-4862-94bc-554cca1c6451",
        "colab": {
          "base_uri": "https://localhost:8080/"
        }
      },
      "id": "XWUXOfJmCjUc",
      "execution_count": 23,
      "outputs": [
        {
          "output_type": "execute_result",
          "data": {
            "text/plain": [
              "(1, 10)"
            ]
          },
          "metadata": {},
          "execution_count": 23
        }
      ]
    },
    {
      "cell_type": "code",
      "execution_count": 24,
      "id": "36da4a0b",
      "metadata": {
        "id": "36da4a0b",
        "outputId": "82d73283-a22b-44b1-f237-298425531dc2",
        "colab": {
          "base_uri": "https://localhost:8080/"
        }
      },
      "outputs": [
        {
          "output_type": "execute_result",
          "data": {
            "text/plain": [
              "array([[0.38620732, 0.02246848, 0.75057807, 0.64596504, 0.9782189 ],\n",
              "       [0.3074028 , 0.20987403, 0.73177229, 0.8167644 , 0.03675048]])"
            ]
          },
          "metadata": {},
          "execution_count": 24
        }
      ],
      "source": [
        "G = F.reshape(2, 5)\n",
        "G"
      ]
    },
    {
      "cell_type": "markdown",
      "id": "a03a4fa2",
      "metadata": {
        "id": "a03a4fa2"
      },
      "source": [
        "- Careful!  `G` is actually a **view** of the original array\n",
        "- View means that we haven't created a new array, just a different way of viewing the values (essentially). The data is still stored in the same memory\n",
        "- `.base` attribute will tell you whether you are referencing another array"
      ]
    },
    {
      "cell_type": "code",
      "execution_count": 25,
      "id": "29ed7932",
      "metadata": {
        "id": "29ed7932",
        "outputId": "a11852d1-d40b-484f-f410-f4324d22d797",
        "colab": {
          "base_uri": "https://localhost:8080/"
        }
      },
      "outputs": [
        {
          "output_type": "execute_result",
          "data": {
            "text/plain": [
              "array([[0.38620732],\n",
              "       [0.02246848],\n",
              "       [0.75057807],\n",
              "       [0.64596504],\n",
              "       [0.9782189 ],\n",
              "       [0.3074028 ],\n",
              "       [0.20987403],\n",
              "       [0.73177229],\n",
              "       [0.8167644 ],\n",
              "       [0.03675048]])"
            ]
          },
          "metadata": {},
          "execution_count": 25
        }
      ],
      "source": [
        "G.base"
      ]
    },
    {
      "cell_type": "code",
      "source": [
        "G.base is None #a way to return a bool based on whether it is a view or not"
      ],
      "metadata": {
        "id": "4_NcWqyuDB2i",
        "outputId": "0a9c8b82-e4b7-44d0-f645-7f220ab89881",
        "colab": {
          "base_uri": "https://localhost:8080/"
        }
      },
      "id": "4_NcWqyuDB2i",
      "execution_count": 26,
      "outputs": [
        {
          "output_type": "execute_result",
          "data": {
            "text/plain": [
              "False"
            ]
          },
          "metadata": {},
          "execution_count": 26
        }
      ]
    },
    {
      "cell_type": "markdown",
      "id": "1fa8e9e7",
      "metadata": {
        "id": "1fa8e9e7"
      },
      "source": [
        "---\n",
        "\n",
        "### Copying an Array\n",
        "\n",
        "- To avoid getting a view, copy the array with `.copy()` method"
      ]
    },
    {
      "cell_type": "code",
      "execution_count": 27,
      "id": "c4e384ae",
      "metadata": {
        "lines_to_next_cell": 0,
        "id": "c4e384ae",
        "outputId": "242ac4ba-6d20-408c-efbe-8579cfff432e",
        "colab": {
          "base_uri": "https://localhost:8080/"
        }
      },
      "outputs": [
        {
          "output_type": "execute_result",
          "data": {
            "text/plain": [
              "True"
            ]
          },
          "metadata": {},
          "execution_count": 27
        }
      ],
      "source": [
        "H = F.reshape(2, 5).copy()\n",
        "H.base is None"
      ]
    },
    {
      "cell_type": "code",
      "source": [
        "H.base"
      ],
      "metadata": {
        "id": "AM_DsybADC5m"
      },
      "id": "AM_DsybADC5m",
      "execution_count": 28,
      "outputs": []
    },
    {
      "cell_type": "markdown",
      "id": "0aeddbd2",
      "metadata": {
        "id": "0aeddbd2"
      },
      "source": [
        "---\n",
        "\n",
        "## Indexing an Array\n",
        "\n",
        "- Access in the same was as lists `[]`\n",
        "- With multiple dimensions, separate the indices you want with a `,`"
      ]
    },
    {
      "cell_type": "code",
      "execution_count": 29,
      "id": "f620a5a9",
      "metadata": {
        "lines_to_next_cell": 2,
        "id": "f620a5a9",
        "outputId": "b67956e2-a1ba-4b67-9472-3d1bf7aaeac2",
        "colab": {
          "base_uri": "https://localhost:8080/"
        }
      },
      "outputs": [
        {
          "output_type": "execute_result",
          "data": {
            "text/plain": [
              "array([1, 2, 3])"
            ]
          },
          "metadata": {},
          "execution_count": 29
        }
      ],
      "source": [
        "b = np.array([1, 2, 3]) #row vector\n",
        "b"
      ]
    },
    {
      "cell_type": "code",
      "source": [
        "print(b[0], b[1], b[2])"
      ],
      "metadata": {
        "id": "L3QjBjdQDPla",
        "outputId": "a1e81182-ed1f-404c-88b9-277f07603097",
        "colab": {
          "base_uri": "https://localhost:8080/"
        }
      },
      "id": "L3QjBjdQDPla",
      "execution_count": 30,
      "outputs": [
        {
          "output_type": "stream",
          "name": "stdout",
          "text": [
            "1 2 3\n"
          ]
        }
      ]
    },
    {
      "cell_type": "code",
      "source": [
        "b[0] = 5 #overwrite the 0 element\n",
        "b"
      ],
      "metadata": {
        "id": "ACaEet8CDQ8s",
        "outputId": "d0495032-77c6-4209-daf8-66fc7b671be7",
        "colab": {
          "base_uri": "https://localhost:8080/"
        }
      },
      "id": "ACaEet8CDQ8s",
      "execution_count": 31,
      "outputs": [
        {
          "output_type": "execute_result",
          "data": {
            "text/plain": [
              "array([5, 2, 3])"
            ]
          },
          "metadata": {},
          "execution_count": 31
        }
      ]
    },
    {
      "cell_type": "markdown",
      "id": "cba4d8cf",
      "metadata": {
        "id": "cba4d8cf"
      },
      "source": [
        "- Depending on the dimensions, you add the required commas\n",
        "- Here we have a 3D array so we have three slots\n",
        "- Notation: `array[1stD, 2ndD, 3rdD]`"
      ]
    },
    {
      "cell_type": "code",
      "execution_count": 32,
      "id": "a281f152",
      "metadata": {
        "lines_to_next_cell": 2,
        "id": "a281f152",
        "outputId": "59e9c726-e2ee-43c0-f864-ee41eb3474c5",
        "colab": {
          "base_uri": "https://localhost:8080/"
        }
      },
      "outputs": [
        {
          "output_type": "execute_result",
          "data": {
            "text/plain": [
              "array([[[0.44271423, 0.36194369],\n",
              "        [0.67811074, 0.36893479]],\n",
              "\n",
              "       [[0.18957687, 0.89085357],\n",
              "        [0.40869827, 0.1685411 ]],\n",
              "\n",
              "       [[0.28849053, 0.65884175],\n",
              "        [0.71058619, 0.41460453]]])"
            ]
          },
          "metadata": {},
          "execution_count": 32
        }
      ],
      "source": [
        "E = np.random.random((3, 2, 2))\n",
        "E"
      ]
    },
    {
      "cell_type": "code",
      "source": [
        "E[0, 0, 0]"
      ],
      "metadata": {
        "id": "TMwZz-xyDd_L",
        "outputId": "5803ecd7-0835-414b-bcc7-eb4896b539a8",
        "colab": {
          "base_uri": "https://localhost:8080/"
        }
      },
      "id": "TMwZz-xyDd_L",
      "execution_count": 33,
      "outputs": [
        {
          "output_type": "execute_result",
          "data": {
            "text/plain": [
              "0.4427142296735752"
            ]
          },
          "metadata": {},
          "execution_count": 33
        }
      ]
    },
    {
      "cell_type": "code",
      "source": [
        "E[0, 1, 0]"
      ],
      "metadata": {
        "id": "y412DJo4Dfry",
        "outputId": "021a0045-ca9a-4cf6-d206-e22342d5b5a1",
        "colab": {
          "base_uri": "https://localhost:8080/"
        }
      },
      "id": "y412DJo4Dfry",
      "execution_count": 34,
      "outputs": [
        {
          "output_type": "execute_result",
          "data": {
            "text/plain": [
              "0.6781107434665593"
            ]
          },
          "metadata": {},
          "execution_count": 34
        }
      ]
    },
    {
      "cell_type": "code",
      "source": [
        "E[1, 0, 1]"
      ],
      "metadata": {
        "id": "HMqdrTFlDhWg",
        "outputId": "b5e2e5a2-edf3-4533-fa49-cfda5eb756fa",
        "colab": {
          "base_uri": "https://localhost:8080/"
        }
      },
      "id": "HMqdrTFlDhWg",
      "execution_count": 35,
      "outputs": [
        {
          "output_type": "execute_result",
          "data": {
            "text/plain": [
              "0.8908535743830176"
            ]
          },
          "metadata": {},
          "execution_count": 35
        }
      ]
    },
    {
      "cell_type": "markdown",
      "id": "58f3b038",
      "metadata": {
        "id": "58f3b038"
      },
      "source": [
        "---\n",
        "\n",
        "### Slicing an Array\n",
        "\n",
        "- Recall `[start:end]` for slicing sequence type objects. We can do that with arrays as well\n",
        "\n",
        "    + Returns everything from start up to and **excluding** end\n",
        "    + Leaving start blank implies a 0\n",
        "    + Leaving end blank returns everything from start through the end of the array\n"
      ]
    },
    {
      "cell_type": "code",
      "execution_count": 38,
      "id": "4e30e698",
      "metadata": {
        "lines_to_next_cell": 2,
        "id": "4e30e698",
        "outputId": "768c9b63-adb7-432e-b790-14f3c8d1b37c",
        "colab": {
          "base_uri": "https://localhost:8080/"
        }
      },
      "outputs": [
        {
          "output_type": "execute_result",
          "data": {
            "text/plain": [
              "array([[ 1,  2,  3,  4],\n",
              "       [ 5,  6,  7,  8],\n",
              "       [ 9, 10, 11, 12]])"
            ]
          },
          "metadata": {},
          "execution_count": 38
        }
      ],
      "source": [
        "A = np.array([\n",
        "  [1,2,3,4],\n",
        "  [5,6,7,8],\n",
        "  [9,10,11,12]])\n",
        "A"
      ]
    },
    {
      "cell_type": "code",
      "source": [
        "B = A[:2, 1:3]\n",
        "B"
      ],
      "metadata": {
        "id": "U7T3SUBwDsJF",
        "outputId": "f2eb99ef-7bd6-4ea5-a902-c7ef1e9ff4cd",
        "colab": {
          "base_uri": "https://localhost:8080/"
        }
      },
      "id": "U7T3SUBwDsJF",
      "execution_count": 39,
      "outputs": [
        {
          "output_type": "execute_result",
          "data": {
            "text/plain": [
              "array([[2, 3],\n",
              "       [6, 7]])"
            ]
          },
          "metadata": {},
          "execution_count": 39
        }
      ]
    },
    {
      "cell_type": "markdown",
      "id": "8191a866",
      "metadata": {
        "id": "8191a866"
      },
      "source": [
        "- Careful with modifying! We have a view here so the values in both A and B are referencing the same computer memory\n",
        "- Changing an element of `B` changes `A`!"
      ]
    },
    {
      "cell_type": "code",
      "execution_count": 40,
      "id": "4f439070",
      "metadata": {
        "lines_to_next_cell": 2,
        "id": "4f439070",
        "outputId": "d5a2c137-555e-4b23-e0a9-19eeddaa56a3",
        "colab": {
          "base_uri": "https://localhost:8080/"
        }
      },
      "outputs": [
        {
          "output_type": "execute_result",
          "data": {
            "text/plain": [
              "array([[  1, 919,   3,   4],\n",
              "       [  5,   6,   7,   8],\n",
              "       [  9,  10,  11,  12]])"
            ]
          },
          "metadata": {},
          "execution_count": 40
        }
      ],
      "source": [
        "B[0, 0] = 919\n",
        "A"
      ]
    },
    {
      "cell_type": "markdown",
      "id": "7a110b74",
      "metadata": {
        "lines_to_next_cell": 0,
        "id": "7a110b74"
      },
      "source": [
        "- Returning All of One Index\n",
        "\n",
        "- Use a `:` with nothing else"
      ]
    },
    {
      "cell_type": "code",
      "execution_count": 41,
      "id": "f7442efd",
      "metadata": {
        "lines_to_next_cell": 0,
        "id": "f7442efd",
        "outputId": "0c789066-2ceb-40e9-f4da-20cac770cd7c",
        "colab": {
          "base_uri": "https://localhost:8080/"
        }
      },
      "outputs": [
        {
          "output_type": "execute_result",
          "data": {
            "text/plain": [
              "array([5, 6, 7, 8])"
            ]
          },
          "metadata": {},
          "execution_count": 41
        }
      ],
      "source": [
        "A = np.array([\n",
        "  [1,2,3,4],\n",
        "  [5,6,7,8],\n",
        "  [9,10,11,12]])\n",
        "A1 = A[1, :]\n",
        "A1"
      ]
    },
    {
      "cell_type": "code",
      "source": [
        "A1.shape"
      ],
      "metadata": {
        "id": "3YxErgYSEALh",
        "outputId": "3619c7e3-e3df-4f44-f151-8432254be348",
        "colab": {
          "base_uri": "https://localhost:8080/"
        }
      },
      "id": "3YxErgYSEALh",
      "execution_count": 42,
      "outputs": [
        {
          "output_type": "execute_result",
          "data": {
            "text/plain": [
              "(4,)"
            ]
          },
          "metadata": {},
          "execution_count": 42
        }
      ]
    },
    {
      "cell_type": "code",
      "execution_count": 43,
      "id": "926d855a",
      "metadata": {
        "lines_to_next_cell": 0,
        "id": "926d855a",
        "outputId": "4c9ac2b9-5b39-4a96-c4ce-ab9189be933e",
        "colab": {
          "base_uri": "https://localhost:8080/"
        }
      },
      "outputs": [
        {
          "output_type": "execute_result",
          "data": {
            "text/plain": [
              "array([[ 5,  6,  7,  8],\n",
              "       [ 9, 10, 11, 12]])"
            ]
          },
          "metadata": {},
          "execution_count": 43
        }
      ],
      "source": [
        "A2 = A[1:3, :]\n",
        "A2"
      ]
    },
    {
      "cell_type": "code",
      "source": [
        "A2.shape"
      ],
      "metadata": {
        "id": "MmFXvHh1EB8o",
        "outputId": "2c531963-c943-4ba4-823b-5d4470a8c9f3",
        "colab": {
          "base_uri": "https://localhost:8080/"
        }
      },
      "id": "MmFXvHh1EB8o",
      "execution_count": 44,
      "outputs": [
        {
          "output_type": "execute_result",
          "data": {
            "text/plain": [
              "(2, 4)"
            ]
          },
          "metadata": {},
          "execution_count": 44
        }
      ]
    },
    {
      "cell_type": "markdown",
      "id": "79e3bd0f",
      "metadata": {
        "id": "79e3bd0f"
      },
      "source": [
        "---\n",
        "\n",
        "## Operations on Arrays\n",
        "\n",
        "- We saw that multiplying by a constant was performed elementwise  \n",
        "- All basic functions act elementwise"
      ]
    },
    {
      "cell_type": "code",
      "execution_count": 45,
      "id": "1544e982",
      "metadata": {
        "lines_to_next_cell": 0,
        "id": "1544e982",
        "outputId": "467e07ac-9dd9-4cb2-c60a-e1ee669cbd00",
        "colab": {
          "base_uri": "https://localhost:8080/"
        }
      },
      "outputs": [
        {
          "output_type": "execute_result",
          "data": {
            "text/plain": [
              "array([[1, 2],\n",
              "       [3, 4]])"
            ]
          },
          "metadata": {},
          "execution_count": 45
        }
      ],
      "source": [
        "x = np.array([\n",
        "  [1,2],\n",
        "  [3,4]])\n",
        "y = np.array([\n",
        "  [5,6],\n",
        "  [7,8]])\n",
        "\n",
        "x"
      ]
    },
    {
      "cell_type": "code",
      "source": [
        "y"
      ],
      "metadata": {
        "id": "7K2y5nW_ELsp",
        "outputId": "b09f454c-b60b-405d-8861-5ee5fb8121e2",
        "colab": {
          "base_uri": "https://localhost:8080/"
        }
      },
      "id": "7K2y5nW_ELsp",
      "execution_count": 46,
      "outputs": [
        {
          "output_type": "execute_result",
          "data": {
            "text/plain": [
              "array([[5, 6],\n",
              "       [7, 8]])"
            ]
          },
          "metadata": {},
          "execution_count": 46
        }
      ]
    },
    {
      "cell_type": "code",
      "source": [
        "x + 10"
      ],
      "metadata": {
        "id": "Ql9xXwj3EPmV",
        "outputId": "37820942-3ec3-40e1-b0e3-b0e07b6da6c7",
        "colab": {
          "base_uri": "https://localhost:8080/"
        }
      },
      "id": "Ql9xXwj3EPmV",
      "execution_count": 47,
      "outputs": [
        {
          "output_type": "execute_result",
          "data": {
            "text/plain": [
              "array([[11, 12],\n",
              "       [13, 14]])"
            ]
          },
          "metadata": {},
          "execution_count": 47
        }
      ]
    },
    {
      "cell_type": "markdown",
      "source": [
        "- Lots of methods exist such as the `.add()` method for adding arrays elementwise"
      ],
      "metadata": {
        "id": "owoKU81uEQzm"
      },
      "id": "owoKU81uEQzm"
    },
    {
      "cell_type": "code",
      "source": [
        "np.add(x, y)\n"
      ],
      "metadata": {
        "id": "FuadHWjOEMA0",
        "outputId": "99377058-b41a-4562-ea6c-f57a402bf635",
        "colab": {
          "base_uri": "https://localhost:8080/"
        }
      },
      "id": "FuadHWjOEMA0",
      "execution_count": 48,
      "outputs": [
        {
          "output_type": "execute_result",
          "data": {
            "text/plain": [
              "array([[ 6,  8],\n",
              "       [10, 12]])"
            ]
          },
          "metadata": {},
          "execution_count": 48
        }
      ]
    },
    {
      "cell_type": "markdown",
      "source": [
        "- If we just do something like `x * y` we get elementwise multiplication"
      ],
      "metadata": {
        "id": "5pVjYVN0Emq-"
      },
      "id": "5pVjYVN0Emq-"
    },
    {
      "cell_type": "code",
      "source": [
        "x * y"
      ],
      "metadata": {
        "id": "ndKKs3sPEkwL",
        "outputId": "16b01f87-1407-4531-b783-0267176bad75",
        "colab": {
          "base_uri": "https://localhost:8080/"
        }
      },
      "id": "ndKKs3sPEkwL",
      "execution_count": 49,
      "outputs": [
        {
          "output_type": "execute_result",
          "data": {
            "text/plain": [
              "array([[ 5, 12],\n",
              "       [21, 32]])"
            ]
          },
          "metadata": {},
          "execution_count": 49
        }
      ]
    },
    {
      "cell_type": "markdown",
      "source": [
        "- The `.multiply()` method does elementwise multiplication too\n",
        "- Can also add in conditions on when to multiply though!\n",
        "  + `where =` argument gives the condition on when to do the multiplication\n",
        "  + `out =` tells it which values to use if you don't do the multiplication"
      ],
      "metadata": {
        "id": "aD4j3sK7Eugq"
      },
      "id": "aD4j3sK7Eugq"
    },
    {
      "cell_type": "code",
      "source": [
        "np.multiply(x, y, where = (x >= 3), out = x)"
      ],
      "metadata": {
        "id": "iXMP7mFGEtnL",
        "outputId": "0ca5f706-78ad-400a-e656-ee529c34c9f2",
        "colab": {
          "base_uri": "https://localhost:8080/"
        }
      },
      "id": "iXMP7mFGEtnL",
      "execution_count": 50,
      "outputs": [
        {
          "output_type": "execute_result",
          "data": {
            "text/plain": [
              "array([[ 1,  2],\n",
              "       [21, 32]])"
            ]
          },
          "metadata": {},
          "execution_count": 50
        }
      ]
    },
    {
      "cell_type": "markdown",
      "source": [
        "- Elementwise division"
      ],
      "metadata": {
        "id": "Y-a1Wd97FVdq"
      },
      "id": "Y-a1Wd97FVdq"
    },
    {
      "cell_type": "code",
      "source": [
        "x / y"
      ],
      "metadata": {
        "id": "7cVc6AoYFX7x",
        "outputId": "dd6a6077-c5a9-4a04-f404-2f228f6385d6",
        "colab": {
          "base_uri": "https://localhost:8080/"
        }
      },
      "id": "7cVc6AoYFX7x",
      "execution_count": 51,
      "outputs": [
        {
          "output_type": "execute_result",
          "data": {
            "text/plain": [
              "array([[0.2       , 0.33333333],\n",
              "       [3.        , 4.        ]])"
            ]
          },
          "metadata": {},
          "execution_count": 51
        }
      ]
    },
    {
      "cell_type": "markdown",
      "source": [
        "- We can do matrix multiplication (if you are familiar with that) using the `.matmul()` method"
      ],
      "metadata": {
        "id": "GPYlkZAUEZuJ"
      },
      "id": "GPYlkZAUEZuJ"
    },
    {
      "cell_type": "code",
      "execution_count": 52,
      "id": "712120d2",
      "metadata": {
        "lines_to_next_cell": 2,
        "id": "712120d2",
        "outputId": "36e64962-53b1-4a5b-a877-af151c454e40",
        "colab": {
          "base_uri": "https://localhost:8080/"
        }
      },
      "outputs": [
        {
          "output_type": "execute_result",
          "data": {
            "text/plain": [
              "array([[ 19,  22],\n",
              "       [329, 382]])"
            ]
          },
          "metadata": {},
          "execution_count": 52
        }
      ],
      "source": [
        "np.matmul(x, y)"
      ]
    },
    {
      "cell_type": "markdown",
      "id": "2b5af01b",
      "metadata": {
        "id": "2b5af01b"
      },
      "source": [
        "- `sqrt()` function can be used to find the square roots of the elements of a matrix"
      ]
    },
    {
      "cell_type": "code",
      "execution_count": 53,
      "id": "c6eb5c8e",
      "metadata": {
        "lines_to_next_cell": 2,
        "id": "c6eb5c8e",
        "outputId": "65b3e5ea-8bcb-4d1c-d2af-63d30b1d5f10",
        "colab": {
          "base_uri": "https://localhost:8080/"
        }
      },
      "outputs": [
        {
          "output_type": "execute_result",
          "data": {
            "text/plain": [
              "array([[1.        , 1.41421356],\n",
              "       [4.58257569, 5.65685425]])"
            ]
          },
          "metadata": {},
          "execution_count": 53
        }
      ],
      "source": [
        "np.sqrt(x)"
      ]
    },
    {
      "cell_type": "markdown",
      "id": "0e2a332f",
      "metadata": {
        "id": "0e2a332f"
      },
      "source": [
        "- `np.linalg.inv()` will provide the inverse of a square matrix (if you're familiar with that type of thing!)"
      ]
    },
    {
      "cell_type": "code",
      "execution_count": 54,
      "id": "407a0c82",
      "metadata": {
        "lines_to_next_cell": 2,
        "id": "407a0c82",
        "outputId": "96682cc6-1718-453d-8200-e6e5d6c31db3",
        "colab": {
          "base_uri": "https://localhost:8080/"
        }
      },
      "outputs": [
        {
          "output_type": "execute_result",
          "data": {
            "text/plain": [
              "array([[-3.2,  0.2],\n",
              "       [ 2.1, -0.1]])"
            ]
          },
          "metadata": {},
          "execution_count": 54
        }
      ],
      "source": [
        "np.linalg.inv(x)"
      ]
    },
    {
      "cell_type": "markdown",
      "id": "9ea43405",
      "metadata": {
        "id": "9ea43405"
      },
      "source": [
        "### Computations on Arrays\n",
        "\n",
        "- `NumPy` has some useful functions for performing basic computations on arrays"
      ]
    },
    {
      "cell_type": "code",
      "execution_count": 56,
      "id": "8debe5ea",
      "metadata": {
        "id": "8debe5ea",
        "outputId": "64c85605-d994-40aa-c690-b8e71c1e1ce7",
        "colab": {
          "base_uri": "https://localhost:8080/"
        }
      },
      "outputs": [
        {
          "output_type": "execute_result",
          "data": {
            "text/plain": [
              "31"
            ]
          },
          "metadata": {},
          "execution_count": 56
        }
      ],
      "source": [
        "x = np.array([\n",
        "  [1,2,10],\n",
        "  [3,4,11]])\n",
        "np.sum(x)"
      ]
    },
    {
      "cell_type": "markdown",
      "id": "022e5673",
      "metadata": {
        "id": "022e5673"
      },
      "source": [
        "- Column-wise and row-wise sums"
      ]
    },
    {
      "cell_type": "code",
      "execution_count": 57,
      "id": "3ea62d00",
      "metadata": {
        "lines_to_next_cell": 2,
        "id": "3ea62d00",
        "outputId": "233dedea-001d-4a4a-a65a-5aaaf92a79be",
        "colab": {
          "base_uri": "https://localhost:8080/"
        }
      },
      "outputs": [
        {
          "output_type": "execute_result",
          "data": {
            "text/plain": [
              "(2, 3)"
            ]
          },
          "metadata": {},
          "execution_count": 57
        }
      ],
      "source": [
        "x.shape"
      ]
    },
    {
      "cell_type": "code",
      "source": [
        "np.sum(x, axis=0)"
      ],
      "metadata": {
        "id": "I0Ho4CSQFtK0",
        "outputId": "ec67619a-e0f0-4c12-80bb-bbd5a324fe1c",
        "colab": {
          "base_uri": "https://localhost:8080/"
        }
      },
      "id": "I0Ho4CSQFtK0",
      "execution_count": 58,
      "outputs": [
        {
          "output_type": "execute_result",
          "data": {
            "text/plain": [
              "array([ 4,  6, 21])"
            ]
          },
          "metadata": {},
          "execution_count": 58
        }
      ]
    },
    {
      "cell_type": "code",
      "source": [
        "np.sum(x, axis=1)"
      ],
      "metadata": {
        "id": "Im1_4oPXFt2c",
        "outputId": "73acfcd6-d33d-4671-99f4-3260922e3ce2",
        "colab": {
          "base_uri": "https://localhost:8080/"
        }
      },
      "id": "Im1_4oPXFt2c",
      "execution_count": 59,
      "outputs": [
        {
          "output_type": "execute_result",
          "data": {
            "text/plain": [
              "array([13, 18])"
            ]
          },
          "metadata": {},
          "execution_count": 59
        }
      ]
    },
    {
      "cell_type": "markdown",
      "id": "ad7bf21c",
      "metadata": {
        "id": "ad7bf21c"
      },
      "source": [
        "- Combine arrays (appropriately sized)"
      ]
    },
    {
      "cell_type": "code",
      "execution_count": 60,
      "id": "ae12f4d3",
      "metadata": {
        "id": "ae12f4d3",
        "outputId": "a049623e-60eb-49da-e4b5-e0d66bdac8c6",
        "colab": {
          "base_uri": "https://localhost:8080/"
        }
      },
      "outputs": [
        {
          "output_type": "execute_result",
          "data": {
            "text/plain": [
              "array([[1, 2, 5, 6],\n",
              "       [3, 4, 7, 8]])"
            ]
          },
          "metadata": {},
          "execution_count": 60
        }
      ],
      "source": [
        "x = np.array([\n",
        "  [1,2],\n",
        "  [3,4]])\n",
        "y = np.array([\n",
        "  [5,6],\n",
        "  [7,8]])\n",
        "\n",
        "np.hstack((x, y))"
      ]
    },
    {
      "cell_type": "code",
      "source": [
        "np.vstack((x, y))"
      ],
      "metadata": {
        "id": "iaLTHS8rFxsK",
        "outputId": "ec7ed124-1119-4678-eaf7-294b178bef33",
        "colab": {
          "base_uri": "https://localhost:8080/"
        }
      },
      "id": "iaLTHS8rFxsK",
      "execution_count": 61,
      "outputs": [
        {
          "output_type": "execute_result",
          "data": {
            "text/plain": [
              "array([[1, 2],\n",
              "       [3, 4],\n",
              "       [5, 6],\n",
              "       [7, 8]])"
            ]
          },
          "metadata": {},
          "execution_count": 61
        }
      ]
    },
    {
      "cell_type": "markdown",
      "id": "e22cb072",
      "metadata": {
        "id": "e22cb072"
      },
      "source": [
        "- [Lots of other operations!](https://numpy.org/doc/stable/reference/routines.array-manipulation.html)\n"
      ]
    },
    {
      "cell_type": "markdown",
      "source": [
        "---\n",
        "\n",
        "# Quick Video\n",
        "\n",
        "This video shows the creation of numpy arrays, the use of `np.nditer()` for iterating over an array, and the use of `ufuncs` which act on the elements of an array. Remember to pop the video out into the full player.\n",
        "\n",
        "The notebook written in the video is [available here](https://colab.research.google.com/github/jbpost2/ST-554-Big-Data-with-Python/blob/main/01_Programming_in_python/Learning_Python.ipynb)."
      ],
      "metadata": {
        "id": "ZDA2JE2OF1iB"
      },
      "id": "ZDA2JE2OF1iB"
    },
    {
      "cell_type": "code",
      "source": [
        "from IPython.display import IFrame\n",
        "IFrame(src=\"https://ncsu.hosted.panopto.com/Panopto/Pages/Embed.aspx?id=d84d2c18-c4ba-4107-bc7f-b0f800f76b2e&autoplay=false&offerviewer=true&showtitle=true&showbrand=true&captions=false&interactivity=all\", height=\"405\", width=\"720\")"
      ],
      "metadata": {
        "id": "F4Poimop0E0r",
        "outputId": "c7b0e172-ae49-40ca-d24d-60e2aeb49584",
        "colab": {
          "base_uri": "https://localhost:8080/",
          "height": 446
        }
      },
      "id": "F4Poimop0E0r",
      "execution_count": 62,
      "outputs": [
        {
          "output_type": "execute_result",
          "data": {
            "text/plain": [
              "<IPython.lib.display.IFrame at 0x799960209c90>"
            ],
            "text/html": [
              "\n",
              "        <iframe\n",
              "            width=\"720\"\n",
              "            height=\"405\"\n",
              "            src=\"https://ncsu.hosted.panopto.com/Panopto/Pages/Embed.aspx?id=d84d2c18-c4ba-4107-bc7f-b0f800f76b2e&autoplay=false&offerviewer=true&showtitle=true&showbrand=true&captions=false&interactivity=all\"\n",
              "            frameborder=\"0\"\n",
              "            allowfullscreen\n",
              "            \n",
              "        ></iframe>\n",
              "        "
            ]
          },
          "metadata": {},
          "execution_count": 62
        }
      ]
    },
    {
      "cell_type": "markdown",
      "id": "95069951",
      "metadata": {
        "id": "95069951"
      },
      "source": [
        "---\n",
        "\n",
        "# Recap\n",
        "\n",
        "- `NumPy` is a widely used library that provides arrays\n",
        "\n",
        "    + Lots of functions to create arrays\n",
        "    \n",
        "    + Very fast computation and many useful functions for operating on arrays!\n",
        "\n",
        "\n",
        "This wraps up the content for week 2. I know that was a lot about these objects. Now we require some more practice! You should head back to our [Moodle site](https://wolfware.ncsu.edu/) to check out your homework assignment for this week.\n",
        "\n",
        "Otherwise, if you are on the course website, use the table of contents on the left or the arrows at the bottom of this page to navigate to the next learning material!\n",
        "\n",
        "If you are on Google Colab, head back to our course website for [our next lesson](https://jbpost2.github.io/ST-554-Big-Data-with-Python/01_Programming_in_python/13-EDA_Landing.html)!"
      ]
    }
  ],
  "metadata": {
    "jupytext": {
      "cell_metadata_filter": "tags,message,warning,-all",
      "main_language": "python",
      "notebook_metadata_filter": "-all"
    },
    "colab": {
      "provenance": [],
      "toc_visible": true,
      "include_colab_link": true
    },
    "language_info": {
      "name": "python"
    },
    "kernelspec": {
      "name": "python3",
      "display_name": "Python 3"
    }
  },
  "nbformat": 4,
  "nbformat_minor": 5
}