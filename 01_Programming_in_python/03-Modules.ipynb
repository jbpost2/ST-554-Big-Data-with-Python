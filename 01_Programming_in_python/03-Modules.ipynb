{
  "cells": [
    {
      "cell_type": "markdown",
      "metadata": {
        "id": "view-in-github",
        "colab_type": "text"
      },
      "source": [
        "<a href=\"https://colab.research.google.com/github/jbpost2/ST-554-Big-Data-with-Python/blob/main/01_Programming_in_python/03-Modules.ipynb\" target=\"_parent\"><img src=\"https://colab.research.google.com/assets/colab-badge.svg\" alt=\"Open In Colab\"/></a>"
      ]
    },
    {
      "cell_type": "markdown",
      "id": "56a1dc17",
      "metadata": {
        "id": "56a1dc17"
      },
      "source": [
        "# Modules\n",
        "\n",
        "> Justin Post\n",
        "\n",
        "---\n",
        "\n",
        "Now that we know the basics of how python works and a little bit about how our programming environment functions, we can look at python 'modules'. If you know R, these are smilar to R packages.\n",
        "\n",
        "Note: These types of webpages are built from Jupyter notebooks (`.ipynb` files). You can access your own versions of them by [clicking here](https://colab.research.google.com/github/jbpost2/ST-554-Big-Data-with-Python/blob/main/01_Programming_in_python/03-Modules.ipynb). **It is highly recommended that you go through and run the notebooks yourself, modifying and rerunning things where you'd like!**\n",
        "\n",
        "---\n",
        "\n",
        "## What is a Module?\n",
        "\n",
        "- A collection of (related) definitions and statements that are grouped together in a single file (a `.py` file)\n",
        "\n",
        "    + Gives access to additional functionality\n",
        "    \n",
        "- Some come standard, others must be installed (i.e. downloaded)  \n",
        "- Modules are then imported into your session\n",
        "\n",
        "    + Fully imported with `import module_name`\n",
        "    + Selective import with `from module_name import thing1 thing2`  "
      ]
    },
    {
      "cell_type": "markdown",
      "id": "bf4064ae",
      "metadata": {
        "id": "bf4064ae"
      },
      "source": [
        "---\n",
        "\n",
        "## Commonly Used Built-in (Already Downloaded) Modules\n",
        "\n",
        "These modules are already downloaded but not loaded in when starting `python` or a `Jupyterlab` notebook.\n",
        "\n",
        "- `math`\n",
        "    + Math constants (`pi`, `e`, etc.)\n",
        "    + Functions commonly used functions (`exp()`, `sin()`, `sqrt()`, etc.)\n",
        "- `random`\n",
        "    + Random sampling and random number generation\n",
        "- `statistics`\n",
        "    + Summary stats (but `scipy` and `pandas` have a lot more)\n",
        "- `datetime`\n",
        "    + Functionality for working with dates"
      ]
    },
    {
      "cell_type": "markdown",
      "id": "169d7c2f",
      "metadata": {
        "id": "169d7c2f"
      },
      "source": [
        "## Importing a Module\n",
        "\n",
        "- For built-in modules or modules we've downloaded ourselves, we can load the **entire module** into our session with `import module_name`"
      ]
    },
    {
      "cell_type": "code",
      "execution_count": 3,
      "id": "70d234ae",
      "metadata": {
        "id": "70d234ae",
        "outputId": "fdcfd5ce-9d64-4321-dfbb-6712fb986ebf",
        "colab": {
          "base_uri": "https://localhost:8080/"
        }
      },
      "outputs": [
        {
          "output_type": "execute_result",
          "data": {
            "text/plain": [
              "module"
            ]
          },
          "metadata": {},
          "execution_count": 3
        }
      ],
      "source": [
        "import math\n",
        "type(math)"
      ]
    },
    {
      "cell_type": "markdown",
      "id": "200e9f5e",
      "metadata": {
        "id": "200e9f5e"
      },
      "source": [
        "- We can see the functionality using `help()` on the module but it is usually better to find the documentation on the web!"
      ]
    },
    {
      "cell_type": "code",
      "execution_count": null,
      "id": "88922d31",
      "metadata": {
        "lines_to_next_cell": 2,
        "id": "88922d31"
      },
      "outputs": [],
      "source": [
        "help(math)"
      ]
    },
    {
      "cell_type": "markdown",
      "id": "4a977abf",
      "metadata": {
        "id": "4a977abf"
      },
      "source": [
        "---\n",
        "\n",
        "### Using a Module's Function/Objects\n",
        "\n",
        "- Functions contained in our module cannot be called as a built-in function when using `import module_name`:\n",
        "- For instance, the `math` module contains the `sqrt()` function"
      ]
    },
    {
      "cell_type": "code",
      "execution_count": 5,
      "id": "24692cba",
      "metadata": {
        "error": true,
        "id": "24692cba",
        "colab": {
          "base_uri": "https://localhost:8080/",
          "height": 161
        },
        "outputId": "7bdf9670-7f49-484e-87f4-75e18e1e1ada"
      },
      "outputs": [
        {
          "output_type": "error",
          "ename": "NameError",
          "evalue": "name 'sqrt' is not defined",
          "traceback": [
            "\u001b[0;31m---------------------------------------------------------------------------\u001b[0m",
            "\u001b[0;31mNameError\u001b[0m                                 Traceback (most recent call last)",
            "\u001b[0;32m<ipython-input-5-840f67a85afc>\u001b[0m in \u001b[0;36m<cell line: 1>\u001b[0;34m()\u001b[0m\n\u001b[0;32m----> 1\u001b[0;31m \u001b[0msqrt\u001b[0m\u001b[0;34m(\u001b[0m\u001b[0;36m9\u001b[0m\u001b[0;34m)\u001b[0m\u001b[0;34m\u001b[0m\u001b[0;34m\u001b[0m\u001b[0m\n\u001b[0m",
            "\u001b[0;31mNameError\u001b[0m: name 'sqrt' is not defined"
          ]
        }
      ],
      "source": [
        "sqrt(9)"
      ]
    },
    {
      "cell_type": "markdown",
      "id": "876d6a5e",
      "metadata": {
        "id": "876d6a5e"
      },
      "source": [
        "- An error!\n",
        "- We **must use the module prefix** when calling the function:"
      ]
    },
    {
      "cell_type": "code",
      "execution_count": 7,
      "id": "738a4ecc",
      "metadata": {
        "lines_to_next_cell": 2,
        "id": "738a4ecc",
        "colab": {
          "base_uri": "https://localhost:8080/"
        },
        "outputId": "dde03d5b-75a6-4d21-baf4-18ef9addd404"
      },
      "outputs": [
        {
          "output_type": "stream",
          "name": "stdout",
          "text": [
            "3.0\n"
          ]
        },
        {
          "output_type": "execute_result",
          "data": {
            "text/plain": [
              "120"
            ]
          },
          "metadata": {},
          "execution_count": 7
        }
      ],
      "source": [
        "print(math.sqrt(9))\n",
        "math.factorial(5)"
      ]
    },
    {
      "cell_type": "markdown",
      "id": "ef2ea666",
      "metadata": {
        "id": "ef2ea666"
      },
      "source": [
        "- With the `math` module we could do a common statistical computation such as evaulating the Normal distribution PDF\n",
        "\n",
        "$$\n",
        "f(1;\\mu = 3, \\sigma = 1) = \\frac{1}{\\sqrt{2\\pi}}\\exp^{-\\frac{1}{2}(1 - 3)^2}\n",
        "$$\n",
        "\n",
        "- This Normal distribution PDF expression can be evaluated using:"
      ]
    },
    {
      "cell_type": "code",
      "execution_count": 8,
      "id": "5773ee54",
      "metadata": {
        "lines_to_next_cell": 0,
        "id": "5773ee54",
        "colab": {
          "base_uri": "https://localhost:8080/"
        },
        "outputId": "e52373fe-1ffa-4ecb-8254-4bb7498bf67a"
      },
      "outputs": [
        {
          "output_type": "execute_result",
          "data": {
            "text/plain": [
              "0.05399096651318806"
            ]
          },
          "metadata": {},
          "execution_count": 8
        }
      ],
      "source": [
        "(1.0/math.sqrt(2*math.pi))*math.exp(-0.5*(1 - 3.0)**2)"
      ]
    },
    {
      "cell_type": "markdown",
      "id": "720b2620",
      "metadata": {
        "id": "720b2620"
      },
      "source": [
        "---\n",
        "\n",
        "## Module Variables\n",
        "\n",
        "Modules can contain more than functions!\n",
        "\n",
        "- The `math` module also defines variables like `e` and `pi`"
      ]
    },
    {
      "cell_type": "code",
      "execution_count": 9,
      "id": "5853849a",
      "metadata": {
        "id": "5853849a",
        "outputId": "62d0970f-35c7-4135-eed0-36ee4ceb873d",
        "colab": {
          "base_uri": "https://localhost:8080/"
        }
      },
      "outputs": [
        {
          "output_type": "stream",
          "name": "stdout",
          "text": [
            "2.718281828459045\n",
            "3.141592653589793\n",
            "The area is 78.53981633974483\n"
          ]
        }
      ],
      "source": [
        "print(math.e)\n",
        "print(math.pi)\n",
        "radius = 5\n",
        "print('The area is', math.pi * radius ** 2)"
      ]
    },
    {
      "cell_type": "markdown",
      "id": "2f162fb7",
      "metadata": {
        "id": "2f162fb7"
      },
      "source": [
        "- You can overwrite these values (just like built-in objects) but, you know, don't do that!"
      ]
    },
    {
      "cell_type": "markdown",
      "id": "3fdca972",
      "metadata": {
        "id": "3fdca972"
      },
      "source": [
        "---\n",
        "\n",
        "### `random` Module  \n",
        "\n",
        "- We'll deal with random sampling from time to time  \n",
        "- The `random` module gives functionality to do so (although we'll use other modules when we do this later)"
      ]
    },
    {
      "cell_type": "code",
      "execution_count": null,
      "id": "12133bf5",
      "metadata": {
        "id": "12133bf5"
      },
      "outputs": [],
      "source": [
        "import random\n",
        "help(random)"
      ]
    },
    {
      "cell_type": "markdown",
      "id": "9fda021a",
      "metadata": {
        "id": "9fda021a"
      },
      "source": [
        "- When we do *random* number generation, we are really getting pseudo random values\n",
        "- The values are actually generated from some algorithm\n",
        "- We can se the starting point of that algorithm by setting a *seed*\n",
        "- This allows us to ensure reproducibility of our process!\n",
        "    + Important: A seed sets a starting point for the 'random' number generator. This allows you to get the same 'random' numbers the next time you run the code."
      ]
    },
    {
      "cell_type": "code",
      "execution_count": 11,
      "id": "9050f2a1",
      "metadata": {
        "id": "9050f2a1",
        "outputId": "a30d1c0c-d414-42c7-dc1c-3344ff4e8daf",
        "colab": {
          "base_uri": "https://localhost:8080/"
        }
      },
      "outputs": [
        {
          "output_type": "stream",
          "name": "stdout",
          "text": [
            "0.5811521325045647\n",
            "0.1947544955341367\n",
            "0.9652511070611112\n"
          ]
        }
      ],
      "source": [
        "random.seed(101)\n",
        "print(random.random())\n",
        "print(random.random())\n",
        "print(random.random())"
      ]
    },
    {
      "cell_type": "code",
      "source": [
        "#notice we can get the same 'random value if we set the seed back to the same starting point\n",
        "random.seed(101)\n",
        "print(random.random())"
      ],
      "metadata": {
        "colab": {
          "base_uri": "https://localhost:8080/"
        },
        "id": "R5qQMljCp2Rm",
        "outputId": "59be04ee-0756-43d1-ab85-c6d6f458a13f"
      },
      "id": "R5qQMljCp2Rm",
      "execution_count": 12,
      "outputs": [
        {
          "output_type": "stream",
          "name": "stdout",
          "text": [
            "0.5811521325045647\n"
          ]
        }
      ]
    },
    {
      "cell_type": "markdown",
      "id": "97e95e72",
      "metadata": {
        "id": "97e95e72"
      },
      "source": [
        "- We can also randomly obtain integers from a particular range of values\n",
        "- We use the `range()` function to return an iterator that is able to produce values\n",
        "- Here we obtain random integers between 10 and 25 and use `random.sample()` to obtain four values from that range"
      ]
    },
    {
      "cell_type": "code",
      "execution_count": 13,
      "id": "7cb30b2b",
      "metadata": {
        "id": "7cb30b2b",
        "outputId": "23deef92-6cb6-42aa-8b36-60ae0b7c44fa",
        "colab": {
          "base_uri": "https://localhost:8080/"
        }
      },
      "outputs": [
        {
          "output_type": "execute_result",
          "data": {
            "text/plain": [
              "[13, 18, 15, 17]"
            ]
          },
          "metadata": {},
          "execution_count": 13
        }
      ],
      "source": [
        "random.sample(range(10, 25), 4)"
      ]
    },
    {
      "cell_type": "markdown",
      "id": "95122f05",
      "metadata": {
        "id": "95122f05"
      },
      "source": [
        "---\n",
        "\n",
        "## Importing `as`\n",
        "\n",
        "- Often we want to use a shorter module name for brevity\n",
        "- We can do so with `as` when we use `import`"
      ]
    },
    {
      "cell_type": "code",
      "execution_count": 14,
      "id": "0a760885",
      "metadata": {
        "id": "0a760885",
        "outputId": "a457931f-f25a-4b43-a752-63253770aad8",
        "colab": {
          "base_uri": "https://localhost:8080/"
        }
      },
      "outputs": [
        {
          "output_type": "stream",
          "name": "stdout",
          "text": [
            "0.5811521325045647\n",
            "0.1947544955341367\n",
            "0.9652511070611112\n"
          ]
        }
      ],
      "source": [
        "import random as ran\n",
        "ran.seed(101)\n",
        "print(ran.random())\n",
        "print(ran.random())\n",
        "print(ran.random())"
      ]
    },
    {
      "cell_type": "markdown",
      "id": "b4445684",
      "metadata": {
        "id": "b4445684"
      },
      "source": [
        "- Obtain random integers between 11 and 26"
      ]
    },
    {
      "cell_type": "code",
      "execution_count": 15,
      "id": "d189368e",
      "metadata": {
        "id": "d189368e",
        "colab": {
          "base_uri": "https://localhost:8080/"
        },
        "outputId": "dbca26b4-26d0-44f1-bb48-95225f5b29ea"
      },
      "outputs": [
        {
          "output_type": "execute_result",
          "data": {
            "text/plain": [
              "[25, 16, 18, 11]"
            ]
          },
          "metadata": {},
          "execution_count": 15
        }
      ],
      "source": [
        "ran.sample(range(11, 26), 4)"
      ]
    },
    {
      "cell_type": "markdown",
      "source": [
        "We'll see that most of the commonly used modules have common aliases. For instance, `numpy` as `np`, `pandas` as `pd`, and `pyspark` as `ps`."
      ],
      "metadata": {
        "id": "BdOVBUitqh-X"
      },
      "id": "BdOVBUitqh-X"
    },
    {
      "cell_type": "markdown",
      "id": "79646bfe",
      "metadata": {
        "id": "79646bfe"
      },
      "source": [
        "---\n",
        "\n",
        "## Selective Import  \n",
        "\n",
        "- We can also selectively import functions and variables from a module directly into our main namespace\n",
        "- This allows us to call the functions without the module prefix\n",
        "- Use `from module import object1, object2` to do this"
      ]
    },
    {
      "cell_type": "code",
      "execution_count": 16,
      "id": "2d87ec33",
      "metadata": {
        "id": "2d87ec33",
        "colab": {
          "base_uri": "https://localhost:8080/"
        },
        "outputId": "be8de355-6cc0-4b71-89c3-854a4fa470ad"
      },
      "outputs": [
        {
          "output_type": "stream",
          "name": "stdout",
          "text": [
            "3.0\n"
          ]
        },
        {
          "output_type": "execute_result",
          "data": {
            "text/plain": [
              "3.141592653589793"
            ]
          },
          "metadata": {},
          "execution_count": 16
        }
      ],
      "source": [
        "from math import sqrt, pi\n",
        "print(sqrt(9))\n",
        "pi"
      ]
    },
    {
      "cell_type": "markdown",
      "id": "83ce91c4",
      "metadata": {
        "id": "83ce91c4"
      },
      "source": [
        "- Alternatively, if you intend to use a function often you can assign it to a local name"
      ]
    },
    {
      "cell_type": "code",
      "execution_count": 18,
      "id": "0cfe1fae",
      "metadata": {
        "lines_to_next_cell": 2,
        "id": "0cfe1fae",
        "colab": {
          "base_uri": "https://localhost:8080/"
        },
        "outputId": "fd11aa5b-67b5-46e2-fd29-35558e95922e"
      },
      "outputs": [
        {
          "output_type": "execute_result",
          "data": {
            "text/plain": [
              "0.6634706445300605"
            ]
          },
          "metadata": {},
          "execution_count": 18
        }
      ],
      "source": [
        "sample = random.random\n",
        "sample()"
      ]
    },
    {
      "cell_type": "markdown",
      "id": "290b6c26",
      "metadata": {
        "id": "290b6c26"
      },
      "source": [
        "- Or import everything from a module into the current namespace. Be careful with this as you can overwrite things you rely on!"
      ]
    },
    {
      "cell_type": "code",
      "execution_count": 19,
      "id": "3ee4ba4f",
      "metadata": {
        "eval": false,
        "id": "3ee4ba4f"
      },
      "outputs": [],
      "source": [
        "from math import *"
      ]
    },
    {
      "cell_type": "markdown",
      "id": "1ca5a842",
      "metadata": {
        "id": "1ca5a842"
      },
      "source": [
        "---\n",
        "\n",
        "## Installing Modules  \n",
        "\n",
        "- `pip` is a package manager for python\n",
        "- Used through the command line usually\n",
        "- We'll use it through a code cell with `!` first\n",
        "\n",
        "    - Can see what modules you have\n",
        "\n",
        "    `pip list`\n",
        "    \n",
        "    - Use `pip install module_name` to install new modules\n",
        "\n",
        "    `pip install scipy`\n",
        "\n",
        "Colab has most everything we need for now but we'll need to do some installing later in the course!"
      ]
    },
    {
      "cell_type": "code",
      "source": [
        "! pip list"
      ],
      "metadata": {
        "id": "C0HJzY5r0DO1"
      },
      "id": "C0HJzY5r0DO1",
      "execution_count": null,
      "outputs": []
    },
    {
      "cell_type": "markdown",
      "id": "8106bace",
      "metadata": {
        "id": "8106bace"
      },
      "source": [
        "---\n",
        "  \n",
        "# Recap\n",
        "  \n",
        "- Modules are just collections of functions, objects, etc.\n",
        "\n",
        "- `pip` to install them (Colab has most that we need!)\n",
        "\n",
        "- `import` to bring them in\n",
        "\n",
        "    + Can selectively import\n",
        "\n",
        "If you are on the course website, use the table of contents on the left or the arrows at the bottom of this page to navigate to the next learning material!\n",
        "\n",
        "If you are on Google Colab, head back to our course website for [our next lesson](https://jbpost2.github.io/ST-554-Big-Data-with-Python/01_Programming_in_python/04-JupyterLab_Notebooks_Markdown.html)!"
      ]
    }
  ],
  "metadata": {
    "jupytext": {
      "cell_metadata_filter": "eval,message,error,warning,tags,-all",
      "main_language": "python",
      "notebook_metadata_filter": "-all"
    },
    "colab": {
      "provenance": [],
      "toc_visible": true,
      "include_colab_link": true
    },
    "language_info": {
      "name": "python"
    },
    "kernelspec": {
      "name": "python3",
      "display_name": "Python 3"
    }
  },
  "nbformat": 4,
  "nbformat_minor": 5
}