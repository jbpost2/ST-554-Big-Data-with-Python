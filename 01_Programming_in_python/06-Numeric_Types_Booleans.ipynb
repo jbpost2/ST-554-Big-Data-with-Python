{
  "cells": [
    {
      "cell_type": "markdown",
      "metadata": {
        "id": "view-in-github",
        "colab_type": "text"
      },
      "source": [
        "<a href=\"https://colab.research.google.com/github/jbpost2/ST-554-Big-Data-with-Python/blob/main/01_Programming_in_python/06-Numeric_Types_Booleans.ipynb\" target=\"_parent\"><img src=\"https://colab.research.google.com/assets/colab-badge.svg\" alt=\"Open In Colab\"/></a>"
      ]
    },
    {
      "cell_type": "markdown",
      "id": "4e5ac077",
      "metadata": {
        "id": "4e5ac077"
      },
      "source": [
        "# Numeric Types (Int and Float) & Booleans\n",
        "\n",
        "> Justin Post\n",
        "\n",
        "---\n",
        "\n",
        "Next up, we look at two basic built-in data types: numeric types and booleans\n",
        "\n",
        "As with lists and strings, we'll go through and look at how to create them, common methods and functions, and look at some examples along the way.\n",
        "\n",
        "Once we're through this part, we're ready to start thinking about compound data types (other than lists) and how we might store and summarize data. For dealing with data, we'll look at two common python modules and their data types:\n",
        "\n",
        "+ NumPy arrays\n",
        "+ Pandas data frames\n",
        "\n",
        "Note: These types of webpages are built from Jupyter notebooks (`.ipynb` files). You can access your own versions of them by [clicking here](https://colab.research.google.com/github/jbpost2/ST-554-Big-Data-with-Python/blob/main/01_Programming_in_python/06-Numeric_Types_Booleans.ipynb). **It is highly recommended that you go through and run the notebooks yourself, modifying and rerunning things where you'd like!**"
      ]
    },
    {
      "cell_type": "markdown",
      "id": "6293a8cc",
      "metadata": {
        "id": "6293a8cc"
      },
      "source": [
        "---\n",
        "\n",
        "## Ints & Floats\n",
        "\n",
        "- (Real) Numbers are stored as **int** or **float** types\n",
        "    + Python generally figures out which to use and changes to float when needed"
      ]
    },
    {
      "cell_type": "code",
      "execution_count": 1,
      "id": "2a356fb4",
      "metadata": {
        "lines_to_next_cell": 0,
        "id": "2a356fb4",
        "outputId": "2d76b6b3-b3f2-4597-a2a4-bd6eb3d59c37",
        "colab": {
          "base_uri": "https://localhost:8080/"
        }
      },
      "outputs": [
        {
          "output_type": "execute_result",
          "data": {
            "text/plain": [
              "int"
            ]
          },
          "metadata": {},
          "execution_count": 1
        }
      ],
      "source": [
        "x = 10\n",
        "type(x)"
      ]
    },
    {
      "cell_type": "code",
      "source": [
        "y = 10.4\n",
        "type(y)"
      ],
      "metadata": {
        "id": "hq6-HEEoKAB_",
        "outputId": "c33e4c13-c5d5-40e9-d960-aad2acecd9c8",
        "colab": {
          "base_uri": "https://localhost:8080/"
        }
      },
      "id": "hq6-HEEoKAB_",
      "execution_count": 2,
      "outputs": [
        {
          "output_type": "execute_result",
          "data": {
            "text/plain": [
              "float"
            ]
          },
          "metadata": {},
          "execution_count": 2
        }
      ]
    },
    {
      "cell_type": "code",
      "source": [
        "z = y - 0.4\n",
        "print(z)\n",
        "type(z)"
      ],
      "metadata": {
        "id": "1eCN0v8iKCZf",
        "outputId": "17fd10ae-6b0b-4671-9bb2-098df0d86f17",
        "colab": {
          "base_uri": "https://localhost:8080/"
        }
      },
      "id": "1eCN0v8iKCZf",
      "execution_count": 3,
      "outputs": [
        {
          "output_type": "stream",
          "name": "stdout",
          "text": [
            "10.0\n"
          ]
        },
        {
          "output_type": "execute_result",
          "data": {
            "text/plain": [
              "float"
            ]
          },
          "metadata": {},
          "execution_count": 3
        }
      ]
    },
    {
      "cell_type": "code",
      "source": [
        "type(x + 0.5)"
      ],
      "metadata": {
        "id": "ILBBijzc3eM2",
        "outputId": "ad372d43-f232-4a32-a9b8-feb5a9a8e93f",
        "colab": {
          "base_uri": "https://localhost:8080/"
        }
      },
      "id": "ILBBijzc3eM2",
      "execution_count": 4,
      "outputs": [
        {
          "output_type": "execute_result",
          "data": {
            "text/plain": [
              "float"
            ]
          },
          "metadata": {},
          "execution_count": 4
        }
      ]
    },
    {
      "cell_type": "markdown",
      "id": "3ab219f8",
      "metadata": {
        "lines_to_next_cell": 0,
        "id": "3ab219f8"
      },
      "source": [
        "- You can cast things (or explicitly coerce them) using `int()` and `float()`"
      ]
    },
    {
      "cell_type": "code",
      "execution_count": 5,
      "id": "53ce0957",
      "metadata": {
        "lines_to_next_cell": 0,
        "id": "53ce0957",
        "outputId": "7a420cb8-4085-4a9b-b0b7-0f50746a7b83",
        "colab": {
          "base_uri": "https://localhost:8080/"
        }
      },
      "outputs": [
        {
          "output_type": "stream",
          "name": "stdout",
          "text": [
            "<class 'int'>\n"
          ]
        },
        {
          "output_type": "execute_result",
          "data": {
            "text/plain": [
              "10"
            ]
          },
          "metadata": {},
          "execution_count": 5
        }
      ],
      "source": [
        "x = 10\n",
        "print(type(x))\n",
        "x"
      ]
    },
    {
      "cell_type": "code",
      "source": [
        "x = float(x)\n",
        "print(type(x))\n",
        "x"
      ],
      "metadata": {
        "id": "ECcwMCWPKPA_",
        "outputId": "b997bdda-53f5-4cfa-a106-7fc00c05d17a",
        "colab": {
          "base_uri": "https://localhost:8080/"
        }
      },
      "id": "ECcwMCWPKPA_",
      "execution_count": 6,
      "outputs": [
        {
          "output_type": "stream",
          "name": "stdout",
          "text": [
            "<class 'float'>\n"
          ]
        },
        {
          "output_type": "execute_result",
          "data": {
            "text/plain": [
              "10.0"
            ]
          },
          "metadata": {},
          "execution_count": 6
        }
      ]
    },
    {
      "cell_type": "code",
      "source": [
        "int(10.9) #returns just the integer part (no rounding done)"
      ],
      "metadata": {
        "id": "RHK8Zhj3KQWv",
        "outputId": "c8bf21df-f540-4928-e96a-1ce33848331e",
        "colab": {
          "base_uri": "https://localhost:8080/"
        }
      },
      "id": "RHK8Zhj3KQWv",
      "execution_count": 8,
      "outputs": [
        {
          "output_type": "execute_result",
          "data": {
            "text/plain": [
              "10"
            ]
          },
          "metadata": {},
          "execution_count": 8
        }
      ]
    },
    {
      "cell_type": "markdown",
      "id": "b3ff3cdb",
      "metadata": {
        "lines_to_next_cell": 0,
        "id": "b3ff3cdb"
      },
      "source": [
        "---\n",
        "\n",
        "## Functions & Operators\n",
        "\n",
        "- We have all the numeric operators discussed previously and a few handy functions built in too"
      ]
    },
    {
      "cell_type": "code",
      "execution_count": 20,
      "id": "b4fca427",
      "metadata": {
        "lines_to_next_cell": 0,
        "id": "b4fca427",
        "outputId": "bfc8bbce-b5ff-4cc2-98c9-11fac50246fd",
        "colab": {
          "base_uri": "https://localhost:8080/"
        }
      },
      "outputs": [
        {
          "output_type": "execute_result",
          "data": {
            "text/plain": [
              "33"
            ]
          },
          "metadata": {},
          "execution_count": 20
        }
      ],
      "source": [
        "#divide and discard remainder\n",
        "100 // 3"
      ]
    },
    {
      "cell_type": "code",
      "execution_count": 21,
      "id": "76ee966f",
      "metadata": {
        "lines_to_next_cell": 0,
        "id": "76ee966f",
        "outputId": "01b471ad-521a-48a8-bbfc-6393556dc813",
        "colab": {
          "base_uri": "https://localhost:8080/"
        }
      },
      "outputs": [
        {
          "output_type": "execute_result",
          "data": {
            "text/plain": [
              "1"
            ]
          },
          "metadata": {},
          "execution_count": 21
        }
      ],
      "source": [
        "#modulus or remainder\n",
        "100 % 3"
      ]
    },
    {
      "cell_type": "code",
      "execution_count": 24,
      "id": "f20b90cb",
      "metadata": {
        "lines_to_next_cell": 0,
        "id": "f20b90cb",
        "outputId": "13895ef3-da0c-4d79-d0b1-b46c8624e6fa",
        "colab": {
          "base_uri": "https://localhost:8080/"
        }
      },
      "outputs": [
        {
          "output_type": "execute_result",
          "data": {
            "text/plain": [
              "(33, 1)"
            ]
          },
          "metadata": {},
          "execution_count": 24
        }
      ],
      "source": [
        "#whole number division and modulus\n",
        "divmod(100, 3) #returns a 'tuple' (a sort of immutable list)"
      ]
    },
    {
      "cell_type": "code",
      "execution_count": 25,
      "id": "e4463862",
      "metadata": {
        "lines_to_next_cell": 0,
        "id": "e4463862",
        "outputId": "96f563e0-fcb2-446e-89a1-13b3b12ddd4d",
        "colab": {
          "base_uri": "https://localhost:8080/"
        }
      },
      "outputs": [
        {
          "output_type": "execute_result",
          "data": {
            "text/plain": [
              "64"
            ]
          },
          "metadata": {},
          "execution_count": 25
        }
      ],
      "source": [
        "#raise to a power 4^3\n",
        "pow(4, 3)"
      ]
    },
    {
      "cell_type": "code",
      "execution_count": 26,
      "id": "cbbd4d5c",
      "metadata": {
        "lines_to_next_cell": 0,
        "id": "cbbd4d5c",
        "outputId": "29ee53e7-86fa-42f5-f10c-64328b631227",
        "colab": {
          "base_uri": "https://localhost:8080/"
        }
      },
      "outputs": [
        {
          "output_type": "execute_result",
          "data": {
            "text/plain": [
              "64"
            ]
          },
          "metadata": {},
          "execution_count": 26
        }
      ],
      "source": [
        "#equivalent to\n",
        "4 ** 3"
      ]
    },
    {
      "cell_type": "code",
      "source": [
        "abs(-100)"
      ],
      "metadata": {
        "id": "f3u60SczKnP2",
        "outputId": "acc77600-d7fe-4508-a78a-6c254f538a1e",
        "colab": {
          "base_uri": "https://localhost:8080/"
        }
      },
      "id": "f3u60SczKnP2",
      "execution_count": 27,
      "outputs": [
        {
          "output_type": "execute_result",
          "data": {
            "text/plain": [
              "100"
            ]
          },
          "metadata": {},
          "execution_count": 27
        }
      ]
    },
    {
      "cell_type": "code",
      "source": [
        "round(10.4242, 2)"
      ],
      "metadata": {
        "id": "wbJb0n14KobO",
        "outputId": "b1191995-8f94-4e49-f02e-01348fe4154e",
        "colab": {
          "base_uri": "https://localhost:8080/"
        }
      },
      "id": "wbJb0n14KobO",
      "execution_count": 28,
      "outputs": [
        {
          "output_type": "execute_result",
          "data": {
            "text/plain": [
              "10.42"
            ]
          },
          "metadata": {},
          "execution_count": 28
        }
      ]
    },
    {
      "cell_type": "markdown",
      "id": "fb6980b9",
      "metadata": {
        "id": "fb6980b9"
      },
      "source": [
        "### `math` module\n",
        "\n",
        "- As we saw, the `math` module has a number of useful functions\n",
        "- Recall we can import the `math` module to gain access to its functions. We then preface functions/objects from the module with `math.`"
      ]
    },
    {
      "cell_type": "code",
      "execution_count": 29,
      "id": "a86d2705",
      "metadata": {
        "lines_to_next_cell": 2,
        "id": "a86d2705",
        "outputId": "7b041499-85af-45f8-8463-0075b86caa56",
        "colab": {
          "base_uri": "https://localhost:8080/"
        }
      },
      "outputs": [
        {
          "output_type": "execute_result",
          "data": {
            "text/plain": [
              "False"
            ]
          },
          "metadata": {},
          "execution_count": 29
        }
      ],
      "source": [
        "x = 10.55\n",
        "#a boolean function (more on this shortly)\n",
        "x.is_integer()"
      ]
    },
    {
      "cell_type": "code",
      "source": [
        "import math\n",
        "math.floor(x)"
      ],
      "metadata": {
        "id": "E1JOt2HPK9oV",
        "outputId": "061e6947-d055-46db-c1f9-bf4b95e3686c",
        "colab": {
          "base_uri": "https://localhost:8080/"
        }
      },
      "id": "E1JOt2HPK9oV",
      "execution_count": 30,
      "outputs": [
        {
          "output_type": "execute_result",
          "data": {
            "text/plain": [
              "10"
            ]
          },
          "metadata": {},
          "execution_count": 30
        }
      ]
    },
    {
      "cell_type": "code",
      "source": [
        "math.ceil(x)"
      ],
      "metadata": {
        "id": "Rw7t8geTK-_k",
        "outputId": "1822e247-5c66-4792-b50c-84c53832470e",
        "colab": {
          "base_uri": "https://localhost:8080/"
        }
      },
      "id": "Rw7t8geTK-_k",
      "execution_count": 31,
      "outputs": [
        {
          "output_type": "execute_result",
          "data": {
            "text/plain": [
              "11"
            ]
          },
          "metadata": {},
          "execution_count": 31
        }
      ]
    },
    {
      "cell_type": "code",
      "source": [
        "math.factorial(10)"
      ],
      "metadata": {
        "id": "hR9S6UmQLAKV",
        "outputId": "f018bd36-72c4-4686-fca8-dda59811e1c9",
        "colab": {
          "base_uri": "https://localhost:8080/"
        }
      },
      "id": "hR9S6UmQLAKV",
      "execution_count": 32,
      "outputs": [
        {
          "output_type": "execute_result",
          "data": {
            "text/plain": [
              "3628800"
            ]
          },
          "metadata": {},
          "execution_count": 32
        }
      ]
    },
    {
      "cell_type": "markdown",
      "id": "4f10930b",
      "metadata": {
        "id": "4f10930b"
      },
      "source": [
        "---\n",
        "\n",
        "## Things To Be Aware Of\n",
        "\n",
        "Floats are not stored precisely!"
      ]
    },
    {
      "cell_type": "code",
      "execution_count": 33,
      "id": "876c0a67",
      "metadata": {
        "id": "876c0a67",
        "outputId": "f234ec9a-718d-4e23-8d5e-b5bc1ffb4d23",
        "colab": {
          "base_uri": "https://localhost:8080/"
        }
      },
      "outputs": [
        {
          "output_type": "execute_result",
          "data": {
            "text/plain": [
              "0.19999999999999996"
            ]
          },
          "metadata": {},
          "execution_count": 33
        }
      ],
      "source": [
        "1.2-1.0"
      ]
    },
    {
      "cell_type": "markdown",
      "id": "23f72f43",
      "metadata": {
        "id": "23f72f43"
      },
      "source": [
        "- Comes from using a binary representation of floats\n",
        "\n",
        "- Not worth getting into, but if you see something weird like this, that is why!\n",
        "\n",
        "- [More info here](https://www.geeksforgeeks.org/floating-point-error-in-python/)\n"
      ]
    },
    {
      "cell_type": "markdown",
      "id": "0f49370f",
      "metadata": {
        "lines_to_next_cell": 0,
        "id": "0f49370f"
      },
      "source": [
        "---\n",
        "\n",
        "## Things to Note/Remember\n",
        "\n",
        "- Augmented assignment operators are useful"
      ]
    },
    {
      "cell_type": "code",
      "execution_count": null,
      "id": "5b6ab90c",
      "metadata": {
        "lines_to_next_cell": 0,
        "id": "5b6ab90c",
        "outputId": "d58c498a-8735-4971-d850-ba1572bc9239",
        "colab": {
          "base_uri": "https://localhost:8080/"
        }
      },
      "outputs": [
        {
          "output_type": "execute_result",
          "data": {
            "text/plain": [
              "300"
            ]
          },
          "metadata": {},
          "execution_count": 29
        }
      ],
      "source": [
        "x = 100\n",
        "x += 200\n",
        "x"
      ]
    },
    {
      "cell_type": "markdown",
      "id": "0c9dd070",
      "metadata": {
        "lines_to_next_cell": 0,
        "id": "0c9dd070"
      },
      "source": [
        "- Multiple assignment can be done"
      ]
    },
    {
      "cell_type": "code",
      "execution_count": 34,
      "id": "6d854bd0",
      "metadata": {
        "lines_to_next_cell": 0,
        "id": "6d854bd0",
        "outputId": "1c4cfe3d-acc9-48bb-c7c8-0f8c7a79584c",
        "colab": {
          "base_uri": "https://localhost:8080/"
        }
      },
      "outputs": [
        {
          "output_type": "stream",
          "name": "stdout",
          "text": [
            "40 40\n"
          ]
        }
      ],
      "source": [
        "x = y = z = 40\n",
        "print(x, y)"
      ]
    },
    {
      "cell_type": "code",
      "source": [
        "x, y, z = 40, 50, 60\n",
        "print(x, y)\n",
        "print(z)"
      ],
      "metadata": {
        "id": "yz86aZnLLQyM",
        "outputId": "7f6eea1e-0198-4e0c-b974-5c4b90a5771a",
        "colab": {
          "base_uri": "https://localhost:8080/"
        }
      },
      "id": "yz86aZnLLQyM",
      "execution_count": 36,
      "outputs": [
        {
          "output_type": "stream",
          "name": "stdout",
          "text": [
            "40 50\n",
            "60\n"
          ]
        }
      ]
    },
    {
      "cell_type": "markdown",
      "id": "e961b769",
      "metadata": {
        "id": "e961b769"
      },
      "source": [
        "---\n",
        "\n",
        "## More Formatting Strings\n",
        "\n",
        "We saw how to format strings earlier. Let's revit that year!"
      ]
    },
    {
      "cell_type": "code",
      "execution_count": 37,
      "id": "4a3b709b",
      "metadata": {
        "lines_to_next_cell": 2,
        "id": "4a3b709b"
      },
      "outputs": [],
      "source": [
        "Job = \"Professor\"\n",
        "Years = 10.23\n",
        "my_string = \"I am a {job} and I've been teaching for {years:d} years\""
      ]
    },
    {
      "cell_type": "markdown",
      "source": [
        "We can use the `.format()` method on the string to place values in the placeholders. The `years:d` above specifies the type of formatting to use on the number, `d` stands for integer"
      ],
      "metadata": {
        "id": "4w7Fdutt4nGr"
      },
      "id": "4w7Fdutt4nGr"
    },
    {
      "cell_type": "code",
      "source": [
        "my_string.format(job = Job, years = Years) #throws an error as it expects an integer for years"
      ],
      "metadata": {
        "colab": {
          "base_uri": "https://localhost:8080/",
          "height": 161
        },
        "id": "hbaADeyL4ztf",
        "outputId": "917480cd-cd81-48eb-ad80-e382d9273d95"
      },
      "id": "hbaADeyL4ztf",
      "execution_count": 41,
      "outputs": [
        {
          "output_type": "error",
          "ename": "ValueError",
          "evalue": "Unknown format code 'd' for object of type 'float'",
          "traceback": [
            "\u001b[0;31m---------------------------------------------------------------------------\u001b[0m",
            "\u001b[0;31mValueError\u001b[0m                                Traceback (most recent call last)",
            "\u001b[0;32m<ipython-input-41-7105395599c7>\u001b[0m in \u001b[0;36m<cell line: 1>\u001b[0;34m()\u001b[0m\n\u001b[0;32m----> 1\u001b[0;31m \u001b[0mmy_string\u001b[0m\u001b[0;34m.\u001b[0m\u001b[0mformat\u001b[0m\u001b[0;34m(\u001b[0m\u001b[0mjob\u001b[0m \u001b[0;34m=\u001b[0m \u001b[0mJob\u001b[0m\u001b[0;34m,\u001b[0m \u001b[0myears\u001b[0m \u001b[0;34m=\u001b[0m \u001b[0mYears\u001b[0m\u001b[0;34m)\u001b[0m \u001b[0;31m#throws an error as it expects an integer for years\u001b[0m\u001b[0;34m\u001b[0m\u001b[0;34m\u001b[0m\u001b[0m\n\u001b[0m",
            "\u001b[0;31mValueError\u001b[0m: Unknown format code 'd' for object of type 'float'"
          ]
        }
      ]
    },
    {
      "cell_type": "code",
      "source": [
        "my_string.format(job = Job, years = int(Years)) #cast years as an integer via int()"
      ],
      "metadata": {
        "id": "FECD4CF145Sx",
        "outputId": "80221a4c-81bc-4467-f30d-aaf0e5ea5a88",
        "colab": {
          "base_uri": "https://localhost:8080/",
          "height": 55
        }
      },
      "id": "FECD4CF145Sx",
      "execution_count": 42,
      "outputs": [
        {
          "output_type": "execute_result",
          "data": {
            "text/plain": [
              "\"I am a Professor and I've been teaching for 10 years\""
            ],
            "application/vnd.google.colaboratory.intrinsic+json": {
              "type": "string"
            }
          },
          "metadata": {},
          "execution_count": 42
        }
      ]
    },
    {
      "cell_type": "markdown",
      "id": "f55cb362",
      "metadata": {
        "id": "f55cb362"
      },
      "source": [
        "We can specify the type of number input for the `.format()` method to use via this `name:number_type` syntax:\n",
        "\n",
        "  - d - Integers\n",
        "  - f - Floating point numbers\n",
        "  - .<number of digits>f - Floating point numbers with a fixed amount of digits to the right of the dot."
      ]
    },
    {
      "cell_type": "code",
      "source": [
        "print(\"I am a {job} and I've been teaching for {years:f} years\".format(job = Job, years = Years))\n",
        "print(\"I am a {job} and I've been teaching for {years:.1f} years\".format(job = Job, years = Years))"
      ],
      "metadata": {
        "id": "8fpmRZPj5UmA",
        "outputId": "be7b1b91-6d8d-424d-a478-128b9ec3657b",
        "colab": {
          "base_uri": "https://localhost:8080/"
        }
      },
      "id": "8fpmRZPj5UmA",
      "execution_count": 44,
      "outputs": [
        {
          "output_type": "stream",
          "name": "stdout",
          "text": [
            "I am a Professor and I've been teaching for 10.230000 years\n",
            "I am a Professor and I've been teaching for 10.2 years\n"
          ]
        }
      ]
    },
    {
      "cell_type": "markdown",
      "source": [
        "Actually [four different ways](https://realpython.com/python-string-formatting/) to substitute into a string (if you are interested!)"
      ],
      "metadata": {
        "id": "V4jFT4MQ5e99"
      },
      "id": "V4jFT4MQ5e99"
    },
    {
      "cell_type": "markdown",
      "id": "c54e58dc",
      "metadata": {
        "id": "c54e58dc"
      },
      "source": [
        "---\n",
        "\n",
        "# Booleans\n",
        "\n",
        "- A `bool` is a `True` or `False` value (note the case of these two special terms)"
      ]
    },
    {
      "cell_type": "code",
      "execution_count": 45,
      "id": "d7622a17",
      "metadata": {
        "lines_to_next_cell": 0,
        "id": "d7622a17",
        "outputId": "884d1462-82df-43e5-f84e-689d14a63396",
        "colab": {
          "base_uri": "https://localhost:8080/"
        }
      },
      "outputs": [
        {
          "output_type": "execute_result",
          "data": {
            "text/plain": [
              "bool"
            ]
          },
          "metadata": {},
          "execution_count": 45
        }
      ],
      "source": [
        "x = True\n",
        "type(x)"
      ]
    },
    {
      "cell_type": "markdown",
      "source": [
        "Many functions and methods return a boolean. For instance, the `.is_integer()` method:"
      ],
      "metadata": {
        "id": "atxBIjNz5kSV"
      },
      "id": "atxBIjNz5kSV"
    },
    {
      "cell_type": "code",
      "source": [
        "y = 10.1\n",
        "y.is_integer()"
      ],
      "metadata": {
        "id": "VpvfsyIfLYZs",
        "outputId": "4bd9f69e-0887-40c4-b666-933d74257bd4",
        "colab": {
          "base_uri": "https://localhost:8080/"
        }
      },
      "id": "VpvfsyIfLYZs",
      "execution_count": 48,
      "outputs": [
        {
          "output_type": "execute_result",
          "data": {
            "text/plain": [
              "False"
            ]
          },
          "metadata": {},
          "execution_count": 48
        }
      ]
    },
    {
      "cell_type": "markdown",
      "source": [
        "For strings (and other objects we'll see) `in` and `not in` are useful operators that return a boolean"
      ],
      "metadata": {
        "id": "HMNKcUuW5tX6"
      },
      "id": "HMNKcUuW5tX6"
    },
    {
      "cell_type": "code",
      "source": [
        "\"an\" in \"banana\""
      ],
      "metadata": {
        "id": "HxSaod4zLfKs",
        "outputId": "9b9ad2f3-14e5-4412-d5fb-ac8c33232129",
        "colab": {
          "base_uri": "https://localhost:8080/"
        }
      },
      "id": "HxSaod4zLfKs",
      "execution_count": 49,
      "outputs": [
        {
          "output_type": "execute_result",
          "data": {
            "text/plain": [
              "True"
            ]
          },
          "metadata": {},
          "execution_count": 49
        }
      ]
    },
    {
      "cell_type": "code",
      "source": [
        "\"pa\" not in \"panama\""
      ],
      "metadata": {
        "id": "f-iZsJODLo4j",
        "outputId": "723694a9-1fe6-4b6d-bdee-ce80081d59e2",
        "colab": {
          "base_uri": "https://localhost:8080/"
        }
      },
      "id": "f-iZsJODLo4j",
      "execution_count": 50,
      "outputs": [
        {
          "output_type": "execute_result",
          "data": {
            "text/plain": [
              "False"
            ]
          },
          "metadata": {},
          "execution_count": 50
        }
      ]
    },
    {
      "cell_type": "markdown",
      "source": [
        "`isInstance()` is a useful function to determine if an object is a certain type!"
      ],
      "metadata": {
        "id": "gONHecS_5yw9"
      },
      "id": "gONHecS_5yw9"
    },
    {
      "cell_type": "code",
      "source": [
        "isinstance(10.4, float)"
      ],
      "metadata": {
        "id": "EQHIq5pyMVkC",
        "outputId": "965fd357-f455-4d75-abf2-ff62ee855e8c",
        "colab": {
          "base_uri": "https://localhost:8080/"
        }
      },
      "id": "EQHIq5pyMVkC",
      "execution_count": 51,
      "outputs": [
        {
          "output_type": "execute_result",
          "data": {
            "text/plain": [
              "True"
            ]
          },
          "metadata": {},
          "execution_count": 51
        }
      ]
    },
    {
      "cell_type": "markdown",
      "id": "38a0f77d",
      "metadata": {
        "lines_to_next_cell": 0,
        "id": "38a0f77d"
      },
      "source": [
        "- Booleans are very useful for control flow operators like `if/then/else` and `looping` (covered soon!)\n",
        "- You can use the `bool()` function on anything to get a `True` or `False`\n",
        "    + Any list, tuple, set, and dictionary are `True` except empty ones\n"
      ]
    },
    {
      "cell_type": "code",
      "execution_count": 52,
      "id": "149e44b9",
      "metadata": {
        "lines_to_next_cell": 0,
        "id": "149e44b9",
        "outputId": "5d682882-da62-4428-836f-e53214b778b5",
        "colab": {
          "base_uri": "https://localhost:8080/"
        }
      },
      "outputs": [
        {
          "output_type": "execute_result",
          "data": {
            "text/plain": [
              "True"
            ]
          },
          "metadata": {},
          "execution_count": 52
        }
      ],
      "source": [
        "bool(\"string\")"
      ]
    },
    {
      "cell_type": "code",
      "source": [
        "bool(\"\")"
      ],
      "metadata": {
        "id": "JUjeYUqBLzpj",
        "outputId": "7a3b63de-3838-42df-bf8d-dc6b6c295290",
        "colab": {
          "base_uri": "https://localhost:8080/"
        }
      },
      "id": "JUjeYUqBLzpj",
      "execution_count": 53,
      "outputs": [
        {
          "output_type": "execute_result",
          "data": {
            "text/plain": [
              "False"
            ]
          },
          "metadata": {},
          "execution_count": 53
        }
      ]
    },
    {
      "cell_type": "code",
      "source": [
        "bool(10)"
      ],
      "metadata": {
        "id": "gMf26MsdL0az",
        "outputId": "cc818ce2-7330-4310-ddde-89f56262451a",
        "colab": {
          "base_uri": "https://localhost:8080/"
        }
      },
      "id": "gMf26MsdL0az",
      "execution_count": 54,
      "outputs": [
        {
          "output_type": "execute_result",
          "data": {
            "text/plain": [
              "True"
            ]
          },
          "metadata": {},
          "execution_count": 54
        }
      ]
    },
    {
      "cell_type": "code",
      "source": [
        "bool(0)"
      ],
      "metadata": {
        "id": "YAT5nvIHL1Sz",
        "outputId": "14fa861d-a3a3-48aa-8ae4-89eb64af9070",
        "colab": {
          "base_uri": "https://localhost:8080/"
        }
      },
      "id": "YAT5nvIHL1Sz",
      "execution_count": 55,
      "outputs": [
        {
          "output_type": "execute_result",
          "data": {
            "text/plain": [
              "False"
            ]
          },
          "metadata": {},
          "execution_count": 55
        }
      ]
    },
    {
      "cell_type": "code",
      "execution_count": 56,
      "id": "18e38120",
      "metadata": {
        "lines_to_next_cell": 0,
        "id": "18e38120",
        "outputId": "eef8337d-0765-48d9-8040-dbf9ff1f00a3",
        "colab": {
          "base_uri": "https://localhost:8080/"
        }
      },
      "outputs": [
        {
          "output_type": "execute_result",
          "data": {
            "text/plain": [
              "False"
            ]
          },
          "metadata": {},
          "execution_count": 56
        }
      ],
      "source": [
        "#None is keyword to define a null value in python\n",
        "bool(None)"
      ]
    },
    {
      "cell_type": "code",
      "source": [
        "#not can be used to negate something and make it True\n",
        "bool(not None)"
      ],
      "metadata": {
        "id": "-wRl0kdpL377",
        "outputId": "13327564-d351-4fda-ee4c-d0cfd2dfc0fe",
        "colab": {
          "base_uri": "https://localhost:8080/"
        }
      },
      "id": "-wRl0kdpL377",
      "execution_count": 57,
      "outputs": [
        {
          "output_type": "execute_result",
          "data": {
            "text/plain": [
              "True"
            ]
          },
          "metadata": {},
          "execution_count": 57
        }
      ]
    },
    {
      "cell_type": "code",
      "source": [
        "bool(not 10)"
      ],
      "metadata": {
        "id": "q9MkvrkVMH1S",
        "outputId": "501f8b33-93db-4e36-8b3f-44168d15a399",
        "colab": {
          "base_uri": "https://localhost:8080/"
        }
      },
      "id": "q9MkvrkVMH1S",
      "execution_count": 58,
      "outputs": [
        {
          "output_type": "execute_result",
          "data": {
            "text/plain": [
              "False"
            ]
          },
          "metadata": {},
          "execution_count": 58
        }
      ]
    },
    {
      "cell_type": "markdown",
      "id": "4e228770",
      "metadata": {
        "id": "4e228770"
      },
      "source": [
        "---\n",
        "\n",
        "## Boolean/Integer Relationship\n",
        "\n",
        "- Booleans are actually a subtype of integers\n",
        "    + `True` treated as 1\n",
        "    + `False` treated as 0"
      ]
    },
    {
      "cell_type": "code",
      "execution_count": null,
      "id": "dd603a95",
      "metadata": {
        "id": "dd603a95",
        "outputId": "c5ec3ce4-5340-4bb8-dbff-2b3e355b9a09",
        "colab": {
          "base_uri": "https://localhost:8080/"
        }
      },
      "outputs": [
        {
          "output_type": "stream",
          "name": "stdout",
          "text": [
            "4 0\n"
          ]
        }
      ],
      "source": [
        "print(3 + True, 3 * False)"
      ]
    },
    {
      "cell_type": "markdown",
      "source": [
        "One thing of note is that when you do math on `True` or `False` it converts the result. Note the last computation result below."
      ],
      "metadata": {
        "id": "83dzpP1u6HSq"
      },
      "id": "83dzpP1u6HSq"
    },
    {
      "cell_type": "code",
      "execution_count": 60,
      "id": "76b8d38f",
      "metadata": {
        "lines_to_next_cell": 2,
        "id": "76b8d38f",
        "outputId": "024a54ea-a71d-4b69-92e2-d152276f1692",
        "colab": {
          "base_uri": "https://localhost:8080/"
        }
      },
      "outputs": [
        {
          "output_type": "stream",
          "name": "stdout",
          "text": [
            "True False 1\n"
          ]
        }
      ],
      "source": [
        "print(str(True), str(False), str(True + 0))"
      ]
    },
    {
      "cell_type": "markdown",
      "id": "303c2217",
      "metadata": {
        "id": "303c2217"
      },
      "source": [
        "---\n",
        "\n",
        "## Video Demo\n",
        "\n",
        "This quick video shows some useful functions from the `.math` module for dealing with integers, floats, and booleans. Remember to pop the video out into the full player.\n",
        "\n",
        "The notebook written in the video is [available here](https://colab.research.google.com/github/jbpost2/ST-554-Big-Data-with-Python/blob/main/01_Programming_in_python/Learning_Python.ipynb)."
      ]
    },
    {
      "cell_type": "code",
      "source": [
        "from IPython.display import IFrame\n",
        "IFrame(src=\"https://ncsu.hosted.panopto.com/Panopto/Pages/Embed.aspx?id=d59f4288-1a98-446e-a82f-b0f0013e8445&autoplay=false&offerviewer=true&showtitle=true&showbrand=true&captions=false&interactivity=all\", height=\"405\", width=\"720\")"
      ],
      "metadata": {
        "id": "BSz0SBQFaA0E",
        "outputId": "f523eaa8-1829-45c1-822f-223d7206a0db",
        "colab": {
          "base_uri": "https://localhost:8080/",
          "height": 446
        }
      },
      "id": "BSz0SBQFaA0E",
      "execution_count": 61,
      "outputs": [
        {
          "output_type": "execute_result",
          "data": {
            "text/plain": [
              "<IPython.lib.display.IFrame at 0x79e3c7845180>"
            ],
            "text/html": [
              "\n",
              "        <iframe\n",
              "            width=\"720\"\n",
              "            height=\"405\"\n",
              "            src=\"https://ncsu.hosted.panopto.com/Panopto/Pages/Embed.aspx?id=d59f4288-1a98-446e-a82f-b0f0013e8445&autoplay=false&offerviewer=true&showtitle=true&showbrand=true&captions=false&interactivity=all\"\n",
              "            frameborder=\"0\"\n",
              "            allowfullscreen\n",
              "            \n",
              "        ></iframe>\n",
              "        "
            ]
          },
          "metadata": {},
          "execution_count": 61
        }
      ]
    },
    {
      "cell_type": "markdown",
      "source": [
        "---\n",
        "\n",
        "# Recap\n",
        "\n",
        "- Numbers stored as ints or floats\n",
        "\n",
        "    + standard operations all available\n",
        "    + math module has more functionality\n",
        "    \n",
        "- Booleans are `True` or `False`\n",
        "\n",
        "    + Can be treated as 1 and 0\n",
        "    + Many functions to create bools (`.is_*()` methods, `bool()` function)\n",
        "\n",
        "If you are on the course website, use the table of contents on the left or the arrows at the bottom of this page to navigate to the next learning material!\n",
        "\n",
        "If you are on Google Colab, head back to our course website for [our next lesson](https://jbpost2.github.io/ST-554-Big-Data-with-Python/01_Programming_in_python/07-Common_Uses_For_Data_Landing.html)!"
      ],
      "metadata": {
        "id": "mO_0oiAlNIPv"
      },
      "id": "mO_0oiAlNIPv"
    }
  ],
  "metadata": {
    "jupytext": {
      "cell_metadata_filter": "message,tags,warning,-all",
      "main_language": "python",
      "notebook_metadata_filter": "-all"
    },
    "colab": {
      "provenance": [],
      "toc_visible": true,
      "include_colab_link": true
    },
    "language_info": {
      "name": "python"
    },
    "kernelspec": {
      "name": "python3",
      "display_name": "Python 3"
    }
  },
  "nbformat": 4,
  "nbformat_minor": 5
}